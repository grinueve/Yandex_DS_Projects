{
 "cells": [
  {
   "cell_type": "markdown",
   "metadata": {},
   "source": [
    "# Защита персональных данных клиентов"
   ]
  },
  {
   "cell_type": "markdown",
   "metadata": {},
   "source": [
    "Вам нужно защитить данные клиентов страховой компании «Хоть потоп». Разработайте такой метод преобразования данных, чтобы по ним было сложно восстановить персональную информацию. Обоснуйте корректность его работы.\n",
    "\n",
    "Нужно защитить данные, чтобы при преобразовании качество моделей машинного обучения не ухудшилось. Подбирать наилучшую модель не требуется."
   ]
  },
  {
   "cell_type": "markdown",
   "metadata": {},
   "source": [
    "## Загрузка данных"
   ]
  },
  {
   "cell_type": "code",
   "execution_count": 1,
   "metadata": {},
   "outputs": [],
   "source": [
    "#загрузим библиотеки Pandas и NumPy\n",
    "import pandas as pd\n",
    "import numpy as np\n",
    "import matplotlib.pyplot as plt\n",
    "#Из библиотеки scikit-learn загрузим необходимое для построения линейной регрессии\n",
    "from sklearn.model_selection import train_test_split\n",
    "from sklearn.preprocessing import StandardScaler\n",
    "from sklearn.linear_model import LinearRegression\n",
    "from sklearn.metrics import r2_score"
   ]
  },
  {
   "cell_type": "code",
   "execution_count": 2,
   "metadata": {},
   "outputs": [],
   "source": [
    "#откроем файл с данными страхования\n",
    "try:\n",
    "    data_insurance = pd.read_csv('insurance.csv')\n",
    "except:\n",
    "    data_insurance = pd.read_csv('https://code.s3.yandex.net/datasets/insurance.csv')"
   ]
  },
  {
   "cell_type": "markdown",
   "metadata": {},
   "source": [
    "Посмотрим на общие данные в файле"
   ]
  },
  {
   "cell_type": "code",
   "execution_count": 3,
   "metadata": {},
   "outputs": [
    {
     "name": "stdout",
     "output_type": "stream",
     "text": [
      "<class 'pandas.core.frame.DataFrame'>\n",
      "RangeIndex: 5000 entries, 0 to 4999\n",
      "Data columns (total 5 columns):\n",
      " #   Column             Non-Null Count  Dtype  \n",
      "---  ------             --------------  -----  \n",
      " 0   Пол                5000 non-null   int64  \n",
      " 1   Возраст            5000 non-null   float64\n",
      " 2   Зарплата           5000 non-null   float64\n",
      " 3   Члены семьи        5000 non-null   int64  \n",
      " 4   Страховые выплаты  5000 non-null   int64  \n",
      "dtypes: float64(2), int64(3)\n",
      "memory usage: 195.4 KB\n"
     ]
    },
    {
     "data": {
      "text/html": [
       "<div>\n",
       "<style scoped>\n",
       "    .dataframe tbody tr th:only-of-type {\n",
       "        vertical-align: middle;\n",
       "    }\n",
       "\n",
       "    .dataframe tbody tr th {\n",
       "        vertical-align: top;\n",
       "    }\n",
       "\n",
       "    .dataframe thead th {\n",
       "        text-align: right;\n",
       "    }\n",
       "</style>\n",
       "<table border=\"1\" class=\"dataframe\">\n",
       "  <thead>\n",
       "    <tr style=\"text-align: right;\">\n",
       "      <th></th>\n",
       "      <th>Пол</th>\n",
       "      <th>Возраст</th>\n",
       "      <th>Зарплата</th>\n",
       "      <th>Члены семьи</th>\n",
       "      <th>Страховые выплаты</th>\n",
       "    </tr>\n",
       "  </thead>\n",
       "  <tbody>\n",
       "    <tr>\n",
       "      <th>0</th>\n",
       "      <td>1</td>\n",
       "      <td>41.0</td>\n",
       "      <td>49600.0</td>\n",
       "      <td>1</td>\n",
       "      <td>0</td>\n",
       "    </tr>\n",
       "    <tr>\n",
       "      <th>1</th>\n",
       "      <td>0</td>\n",
       "      <td>46.0</td>\n",
       "      <td>38000.0</td>\n",
       "      <td>1</td>\n",
       "      <td>1</td>\n",
       "    </tr>\n",
       "    <tr>\n",
       "      <th>2</th>\n",
       "      <td>0</td>\n",
       "      <td>29.0</td>\n",
       "      <td>21000.0</td>\n",
       "      <td>0</td>\n",
       "      <td>0</td>\n",
       "    </tr>\n",
       "    <tr>\n",
       "      <th>3</th>\n",
       "      <td>0</td>\n",
       "      <td>21.0</td>\n",
       "      <td>41700.0</td>\n",
       "      <td>2</td>\n",
       "      <td>0</td>\n",
       "    </tr>\n",
       "    <tr>\n",
       "      <th>4</th>\n",
       "      <td>1</td>\n",
       "      <td>28.0</td>\n",
       "      <td>26100.0</td>\n",
       "      <td>0</td>\n",
       "      <td>0</td>\n",
       "    </tr>\n",
       "  </tbody>\n",
       "</table>\n",
       "</div>"
      ],
      "text/plain": [
       "   Пол  Возраст  Зарплата  Члены семьи  Страховые выплаты\n",
       "0    1     41.0   49600.0            1                  0\n",
       "1    0     46.0   38000.0            1                  1\n",
       "2    0     29.0   21000.0            0                  0\n",
       "3    0     21.0   41700.0            2                  0\n",
       "4    1     28.0   26100.0            0                  0"
      ]
     },
     "execution_count": 3,
     "metadata": {},
     "output_type": "execute_result"
    }
   ],
   "source": [
    "data_insurance.info()\n",
    "data_insurance.head()"
   ]
  },
  {
   "cell_type": "markdown",
   "metadata": {},
   "source": [
    "Посчитаем количество дубликатов и в случае обнаружения - удалим их"
   ]
  },
  {
   "cell_type": "code",
   "execution_count": 4,
   "metadata": {},
   "outputs": [
    {
     "data": {
      "text/plain": [
       "153"
      ]
     },
     "execution_count": 4,
     "metadata": {},
     "output_type": "execute_result"
    }
   ],
   "source": [
    "data_insurance.duplicated().sum()"
   ]
  },
  {
   "cell_type": "code",
   "execution_count": 5,
   "metadata": {},
   "outputs": [],
   "source": [
    "data_insurance.drop_duplicates(inplace=True)"
   ]
  },
  {
   "cell_type": "markdown",
   "metadata": {},
   "source": [
    "Посмотрим на пропуски"
   ]
  },
  {
   "cell_type": "code",
   "execution_count": 6,
   "metadata": {},
   "outputs": [
    {
     "data": {
      "text/plain": [
       "Пол                  0\n",
       "Возраст              0\n",
       "Зарплата             0\n",
       "Члены семьи          0\n",
       "Страховые выплаты    0\n",
       "dtype: int64"
      ]
     },
     "execution_count": 6,
     "metadata": {},
     "output_type": "execute_result"
    }
   ],
   "source": [
    "data_insurance.isnull().sum()"
   ]
  },
  {
   "cell_type": "markdown",
   "metadata": {},
   "source": [
    "Посмотрим на очищенные данные"
   ]
  },
  {
   "cell_type": "code",
   "execution_count": 7,
   "metadata": {},
   "outputs": [
    {
     "data": {
      "text/html": [
       "<div>\n",
       "<style scoped>\n",
       "    .dataframe tbody tr th:only-of-type {\n",
       "        vertical-align: middle;\n",
       "    }\n",
       "\n",
       "    .dataframe tbody tr th {\n",
       "        vertical-align: top;\n",
       "    }\n",
       "\n",
       "    .dataframe thead th {\n",
       "        text-align: right;\n",
       "    }\n",
       "</style>\n",
       "<table border=\"1\" class=\"dataframe\">\n",
       "  <thead>\n",
       "    <tr style=\"text-align: right;\">\n",
       "      <th></th>\n",
       "      <th>Пол</th>\n",
       "      <th>Возраст</th>\n",
       "      <th>Зарплата</th>\n",
       "      <th>Члены семьи</th>\n",
       "      <th>Страховые выплаты</th>\n",
       "    </tr>\n",
       "  </thead>\n",
       "  <tbody>\n",
       "    <tr>\n",
       "      <th>count</th>\n",
       "      <td>4847.000000</td>\n",
       "      <td>4847.000000</td>\n",
       "      <td>4847.000000</td>\n",
       "      <td>4847.000000</td>\n",
       "      <td>4847.000000</td>\n",
       "    </tr>\n",
       "    <tr>\n",
       "      <th>mean</th>\n",
       "      <td>0.498453</td>\n",
       "      <td>31.023932</td>\n",
       "      <td>39895.811842</td>\n",
       "      <td>1.203425</td>\n",
       "      <td>0.152259</td>\n",
       "    </tr>\n",
       "    <tr>\n",
       "      <th>std</th>\n",
       "      <td>0.500049</td>\n",
       "      <td>8.487995</td>\n",
       "      <td>9972.953985</td>\n",
       "      <td>1.098664</td>\n",
       "      <td>0.468934</td>\n",
       "    </tr>\n",
       "    <tr>\n",
       "      <th>min</th>\n",
       "      <td>0.000000</td>\n",
       "      <td>18.000000</td>\n",
       "      <td>5300.000000</td>\n",
       "      <td>0.000000</td>\n",
       "      <td>0.000000</td>\n",
       "    </tr>\n",
       "    <tr>\n",
       "      <th>25%</th>\n",
       "      <td>0.000000</td>\n",
       "      <td>24.000000</td>\n",
       "      <td>33200.000000</td>\n",
       "      <td>0.000000</td>\n",
       "      <td>0.000000</td>\n",
       "    </tr>\n",
       "    <tr>\n",
       "      <th>50%</th>\n",
       "      <td>0.000000</td>\n",
       "      <td>30.000000</td>\n",
       "      <td>40200.000000</td>\n",
       "      <td>1.000000</td>\n",
       "      <td>0.000000</td>\n",
       "    </tr>\n",
       "    <tr>\n",
       "      <th>75%</th>\n",
       "      <td>1.000000</td>\n",
       "      <td>37.000000</td>\n",
       "      <td>46600.000000</td>\n",
       "      <td>2.000000</td>\n",
       "      <td>0.000000</td>\n",
       "    </tr>\n",
       "    <tr>\n",
       "      <th>max</th>\n",
       "      <td>1.000000</td>\n",
       "      <td>65.000000</td>\n",
       "      <td>79000.000000</td>\n",
       "      <td>6.000000</td>\n",
       "      <td>5.000000</td>\n",
       "    </tr>\n",
       "  </tbody>\n",
       "</table>\n",
       "</div>"
      ],
      "text/plain": [
       "               Пол      Возраст      Зарплата  Члены семьи  Страховые выплаты\n",
       "count  4847.000000  4847.000000   4847.000000  4847.000000        4847.000000\n",
       "mean      0.498453    31.023932  39895.811842     1.203425           0.152259\n",
       "std       0.500049     8.487995   9972.953985     1.098664           0.468934\n",
       "min       0.000000    18.000000   5300.000000     0.000000           0.000000\n",
       "25%       0.000000    24.000000  33200.000000     0.000000           0.000000\n",
       "50%       0.000000    30.000000  40200.000000     1.000000           0.000000\n",
       "75%       1.000000    37.000000  46600.000000     2.000000           0.000000\n",
       "max       1.000000    65.000000  79000.000000     6.000000           5.000000"
      ]
     },
     "execution_count": 7,
     "metadata": {},
     "output_type": "execute_result"
    }
   ],
   "source": [
    "data_insurance.describe()"
   ]
  },
  {
   "cell_type": "markdown",
   "metadata": {},
   "source": [
    "Можно заметить отсутствие дисбаланса по полу, а также слабые отличия средних и медианных значений возраста и зарплаты "
   ]
  },
  {
   "cell_type": "markdown",
   "metadata": {},
   "source": [
    "Опишем взаимосвязь и построим матрицу диаграмм рассеяния для всех параметров в данных."
   ]
  },
  {
   "cell_type": "code",
   "execution_count": 8,
   "metadata": {},
   "outputs": [
    {
     "data": {
      "text/html": [
       "<div>\n",
       "<style scoped>\n",
       "    .dataframe tbody tr th:only-of-type {\n",
       "        vertical-align: middle;\n",
       "    }\n",
       "\n",
       "    .dataframe tbody tr th {\n",
       "        vertical-align: top;\n",
       "    }\n",
       "\n",
       "    .dataframe thead th {\n",
       "        text-align: right;\n",
       "    }\n",
       "</style>\n",
       "<table border=\"1\" class=\"dataframe\">\n",
       "  <thead>\n",
       "    <tr style=\"text-align: right;\">\n",
       "      <th></th>\n",
       "      <th>Пол</th>\n",
       "      <th>Возраст</th>\n",
       "      <th>Зарплата</th>\n",
       "      <th>Члены семьи</th>\n",
       "      <th>Страховые выплаты</th>\n",
       "    </tr>\n",
       "  </thead>\n",
       "  <tbody>\n",
       "    <tr>\n",
       "      <th>Пол</th>\n",
       "      <td>1.000000</td>\n",
       "      <td>0.001953</td>\n",
       "      <td>0.015456</td>\n",
       "      <td>-0.007315</td>\n",
       "      <td>0.011565</td>\n",
       "    </tr>\n",
       "    <tr>\n",
       "      <th>Возраст</th>\n",
       "      <td>0.001953</td>\n",
       "      <td>1.000000</td>\n",
       "      <td>-0.017386</td>\n",
       "      <td>-0.009064</td>\n",
       "      <td>0.654964</td>\n",
       "    </tr>\n",
       "    <tr>\n",
       "      <th>Зарплата</th>\n",
       "      <td>0.015456</td>\n",
       "      <td>-0.017386</td>\n",
       "      <td>1.000000</td>\n",
       "      <td>-0.031687</td>\n",
       "      <td>-0.013123</td>\n",
       "    </tr>\n",
       "    <tr>\n",
       "      <th>Члены семьи</th>\n",
       "      <td>-0.007315</td>\n",
       "      <td>-0.009064</td>\n",
       "      <td>-0.031687</td>\n",
       "      <td>1.000000</td>\n",
       "      <td>-0.039303</td>\n",
       "    </tr>\n",
       "    <tr>\n",
       "      <th>Страховые выплаты</th>\n",
       "      <td>0.011565</td>\n",
       "      <td>0.654964</td>\n",
       "      <td>-0.013123</td>\n",
       "      <td>-0.039303</td>\n",
       "      <td>1.000000</td>\n",
       "    </tr>\n",
       "  </tbody>\n",
       "</table>\n",
       "</div>"
      ],
      "text/plain": [
       "                        Пол   Возраст  Зарплата  Члены семьи  \\\n",
       "Пол                1.000000  0.001953  0.015456    -0.007315   \n",
       "Возраст            0.001953  1.000000 -0.017386    -0.009064   \n",
       "Зарплата           0.015456 -0.017386  1.000000    -0.031687   \n",
       "Члены семьи       -0.007315 -0.009064 -0.031687     1.000000   \n",
       "Страховые выплаты  0.011565  0.654964 -0.013123    -0.039303   \n",
       "\n",
       "                   Страховые выплаты  \n",
       "Пол                         0.011565  \n",
       "Возраст                     0.654964  \n",
       "Зарплата                   -0.013123  \n",
       "Члены семьи                -0.039303  \n",
       "Страховые выплаты           1.000000  "
      ]
     },
     "execution_count": 8,
     "metadata": {},
     "output_type": "execute_result"
    }
   ],
   "source": [
    "data_insurance.corr()"
   ]
  },
  {
   "cell_type": "code",
   "execution_count": 9,
   "metadata": {},
   "outputs": [
    {
     "data": {
      "image/png": "[encoded data removed]",
      "text/plain": [
       "<Figure size 864x864 with 25 Axes>"
      ]
     },
     "metadata": {
      "needs_background": "light"
     },
     "output_type": "display_data"
    }
   ],
   "source": [
    "pd.plotting.scatter_matrix(data_insurance, figsize=(12, 12));"
   ]
  },
  {
   "cell_type": "markdown",
   "metadata": {},
   "source": [
    "Можно заметить, что между признаками, кроме страховых выплат, отсутствует корреляция. \n",
    "\n",
    "На страховые выплаты же наиболее сильно влияет возраст."
   ]
  },
  {
   "cell_type": "code",
   "execution_count": 10,
   "metadata": {},
   "outputs": [
    {
     "data": {
      "image/png": "[encoded data removed]",
      "text/plain": [
       "<Figure size 432x288 with 1 Axes>"
      ]
     },
     "metadata": {
      "needs_background": "light"
     },
     "output_type": "display_data"
    }
   ],
   "source": [
    "plt.boxplot(data_insurance['Возраст']);"
   ]
  },
  {
   "cell_type": "code",
   "execution_count": 11,
   "metadata": {},
   "outputs": [
    {
     "data": {
      "image/png": "[encoded data removed]",
      "text/plain": [
       "<Figure size 432x288 with 1 Axes>"
      ]
     },
     "metadata": {
      "needs_background": "light"
     },
     "output_type": "display_data"
    }
   ],
   "source": [
    "plt.boxplot(data_insurance['Зарплата']);"
   ]
  },
  {
   "cell_type": "markdown",
   "metadata": {},
   "source": [
    "Выбросов немного и по зарплате и по возрасту немного"
   ]
  },
  {
   "cell_type": "markdown",
   "metadata": {},
   "source": [
    "## Умножение матриц"
   ]
  },
  {
   "cell_type": "markdown",
   "metadata": {},
   "source": [
    "В этом задании вы можете записывать формулы в *Jupyter Notebook.*\n",
    "\n",
    "Чтобы записать формулу внутри текста, окружите её символами доллара \\\\$; если снаружи —  двойными символами \\\\$\\\\$. Эти формулы записываются на языке вёрстки *LaTeX.* \n",
    "\n",
    "Для примера мы записали формулы линейной регрессии. Можете их скопировать и отредактировать, чтобы решить задачу.\n",
    "\n",
    "Работать в *LaTeX* необязательно."
   ]
  },
  {
   "cell_type": "markdown",
   "metadata": {},
   "source": [
    "Обозначения:\n",
    "\n",
    "- $X$ — матрица признаков (нулевой столбец состоит из единиц)\n",
    "\n",
    "- $y$ — вектор целевого признака\n",
    "\n",
    "- $P$ — матрица, на которую умножаются признаки\n",
    "\n",
    "- $w$ — вектор весов линейной регрессии (нулевой элемент равен сдвигу)"
   ]
  },
  {
   "cell_type": "markdown",
   "metadata": {},
   "source": [
    "Предсказания:\n",
    "\n",
    "$$\n",
    "a = Xw\n",
    "$$\n",
    "\n",
    "Задача обучения:\n",
    "\n",
    "$$\n",
    "w = \\arg\\min_w MSE(Xw, y)\n",
    "$$\n",
    "\n",
    "Формула обучения:\n",
    "\n",
    "$$\n",
    "w = (X^T X)^{-1} X^T y\n",
    "$$"
   ]
  },
  {
   "cell_type": "markdown",
   "metadata": {},
   "source": [
    "**Ответ:** \n",
    "При умножении на обратимую матрицу, качество линейной регресии не изменится.\n",
    "\n",
    "**Обоснование:** \n",
    "\n",
    "- Представим новую матрицу признаков $X1$ как произведение старой на обратимую матрицу $P$:\n",
    "\n",
    "$$X1 = X P$$\n",
    "\n",
    "- Подставим новое значение $X1$ в формулу обучения:\n",
    "\n",
    "$$w1 = ((X P)^T X P)^{-1} (X P)^T y$$\n",
    "\n",
    "- Раскроем первое произведение $(X P)^T$:\n",
    "\n",
    "$$w1 = (P^T X^T X P)^{-1} P^T X^T y$$\n",
    "\n",
    "- Множители в скобках привпедём к виду произведения трех множителей:\n",
    "\n",
    "$$w1 = (P^T (X^T X) P)^{-1} P^T X^T y$$\n",
    "\n",
    "- Раскроем скобки $(P^T (X^T X) P)^{-1}$:\n",
    "\n",
    "$$w1 = P^{-1} (X^T X)^{-1} (P^T)^{-1} P^T X^T y$$\n",
    "\n",
    "- По условию $P$ обратимая, а значит произведение матрицы $(P^T)^{-1} P^T$ на обратную равно единичной матрице $E$:\n",
    "\n",
    "\n",
    "$$w1 = P^{-1} (X^T X)^{-1} E X^T y = P^{-1} (X^T X)^{-1} X^T y$$\n",
    "\n",
    "\n",
    "- Получилась формула для $w1$:\n",
    "\n",
    "$$w1 = P^{-1} (X^T X)^{-1} X^T y = P^{-1} w$$\n",
    "\n",
    "- Подставим новое значение весов 𝑤1 в формулу для предсказаний линейной регрессии:\n",
    "\n",
    "$$a1 = X1w1 = XPP^{-1} w$$\n",
    "\n",
    "- По условию обратимая, значит произведение снова равно:\n",
    "\n",
    "$$a1 = XPP^{-1} w = X E w = X w = a$$\n",
    "\n",
    "Следовательно, предсказания для матрицы признаков, умноженных на обратимую матрицу равны исходным предсказаниям.\n",
    "\n",
    "Таким образом, при умножении признаков $X$ на обратимую матрицу $P$ - качество линейной регрессии не изменится. В данном случае, параметры линейной регрессии в исходной задаче $w$ и в преобразованной $w1$ связаны следующим образом:\n",
    "\n",
    "$$w1 = P^{-1} w$$"
   ]
  },
  {
   "cell_type": "markdown",
   "metadata": {},
   "source": [
    "## Алгоритм преобразования"
   ]
  },
  {
   "cell_type": "markdown",
   "metadata": {},
   "source": [
    "**Алгоритм**"
   ]
  },
  {
   "cell_type": "markdown",
   "metadata": {},
   "source": [
    "Для защиты информации на этапе поиска коэффициентов регрессии и предсказаний регрессии будем умножать матрицу признаков на обратимую матрицу, которая будет генерироваться случайным образом.\n",
    "\n",
    "1. Создать случайную квадратную матрицу размерности $n x n$, $n$ - число признаков регрессии.\n",
    "2. Проверить полученную матрицу на обратимость.\n",
    "3. Получить преобразованные матрицы признаков на выборках путём умножения исходных признаков на одну и ту же обратную случайную квадратную матрицу\n",
    "4. Найти метрики модели на исходных и преобразованных признаках.\n",
    "5. Сравнить метрики между собой. "
   ]
  },
  {
   "cell_type": "markdown",
   "metadata": {},
   "source": [
    "**Обоснование**\n",
    "\n",
    "Как было показано ранее: при умножении признаков на обратимую матрицу, качество линейной регрессии не изменится, значит мы можем записать данные в виде результата произведения признаков и обратимой матрицы.\n",
    "\n",
    "Матрица должна иметь размерность $n x n$, где $n$ - количество признаков для регрессии. Таким образом матрица имеет ту же размерность, что и обратная матрица. Обратная же матрица существует только для квадратных невырожденных матриц (определитель которых не равен нулю)."
   ]
  },
  {
   "cell_type": "markdown",
   "metadata": {},
   "source": [
    "## Проверка алгоритма"
   ]
  },
  {
   "cell_type": "markdown",
   "metadata": {},
   "source": [
    "Выделим выплаты в качестве целевого признака для линейной регрессии"
   ]
  },
  {
   "cell_type": "code",
   "execution_count": 12,
   "metadata": {},
   "outputs": [],
   "source": [
    "insurance_features = data_insurance.drop('Страховые выплаты', axis=1)\n",
    "insurance_target = data_insurance['Страховые выплаты']\n",
    "RANDOM_STATE=12345"
   ]
  },
  {
   "cell_type": "markdown",
   "metadata": {},
   "source": [
    "Разобьем датасет на обучающую (75%) и тестовую выборки (25%)."
   ]
  },
  {
   "cell_type": "code",
   "execution_count": 13,
   "metadata": {},
   "outputs": [
    {
     "data": {
      "text/plain": [
       "(3635, 4)"
      ]
     },
     "metadata": {},
     "output_type": "display_data"
    },
    {
     "data": {
      "text/plain": [
       "(1212, 4)"
      ]
     },
     "metadata": {},
     "output_type": "display_data"
    },
    {
     "data": {
      "text/plain": [
       "(3635,)"
      ]
     },
     "metadata": {},
     "output_type": "display_data"
    },
    {
     "data": {
      "text/plain": [
       "(1212,)"
      ]
     },
     "metadata": {},
     "output_type": "display_data"
    }
   ],
   "source": [
    "insurance_features_train, insurance_features_test, insurance_target_train, insurance_target_test = train_test_split(\n",
    "    insurance_features, insurance_target, test_size=0.25, random_state=RANDOM_STATE)\n",
    "\n",
    "insurance_list = [insurance_features_train, insurance_features_test, insurance_target_train, insurance_target_test]\n",
    "for i in insurance_list:\n",
    "    display(i.shape)"
   ]
  },
  {
   "cell_type": "markdown",
   "metadata": {},
   "source": [
    "Сгенерируем случайную квадратную матрицу размерности числа признаков линейной регрессии, обратим её и помножим признаки обучающей и тестовой выборок на полученную матрицу"
   ]
  },
  {
   "cell_type": "code",
   "execution_count": 16,
   "metadata": {},
   "outputs": [
    {
     "data": {
      "text/html": [
       "<div>\n",
       "<style scoped>\n",
       "    .dataframe tbody tr th:only-of-type {\n",
       "        vertical-align: middle;\n",
       "    }\n",
       "\n",
       "    .dataframe tbody tr th {\n",
       "        vertical-align: top;\n",
       "    }\n",
       "\n",
       "    .dataframe thead th {\n",
       "        text-align: right;\n",
       "    }\n",
       "</style>\n",
       "<table border=\"1\" class=\"dataframe\">\n",
       "  <thead>\n",
       "    <tr style=\"text-align: right;\">\n",
       "      <th></th>\n",
       "      <th>0</th>\n",
       "      <th>1</th>\n",
       "      <th>2</th>\n",
       "      <th>3</th>\n",
       "    </tr>\n",
       "  </thead>\n",
       "  <tbody>\n",
       "    <tr>\n",
       "      <th>0</th>\n",
       "      <td>1.000000e+00</td>\n",
       "      <td>1.028738e-15</td>\n",
       "      <td>-1.197049e-16</td>\n",
       "      <td>-2.719414e-16</td>\n",
       "    </tr>\n",
       "    <tr>\n",
       "      <th>1</th>\n",
       "      <td>-7.124591e-16</td>\n",
       "      <td>1.000000e+00</td>\n",
       "      <td>1.095663e-16</td>\n",
       "      <td>4.251963e-16</td>\n",
       "    </tr>\n",
       "    <tr>\n",
       "      <th>2</th>\n",
       "      <td>-3.601914e-15</td>\n",
       "      <td>-6.445587e-15</td>\n",
       "      <td>1.000000e+00</td>\n",
       "      <td>1.444767e-15</td>\n",
       "    </tr>\n",
       "    <tr>\n",
       "      <th>3</th>\n",
       "      <td>8.165486e-16</td>\n",
       "      <td>1.494251e-16</td>\n",
       "      <td>1.445213e-17</td>\n",
       "      <td>1.000000e+00</td>\n",
       "    </tr>\n",
       "  </tbody>\n",
       "</table>\n",
       "</div>"
      ],
      "text/plain": [
       "              0             1             2             3\n",
       "0  1.000000e+00  1.028738e-15 -1.197049e-16 -2.719414e-16\n",
       "1 -7.124591e-16  1.000000e+00  1.095663e-16  4.251963e-16\n",
       "2 -3.601914e-15 -6.445587e-15  1.000000e+00  1.444767e-15\n",
       "3  8.165486e-16  1.494251e-16  1.445213e-17  1.000000e+00"
      ]
     },
     "execution_count": 16,
     "metadata": {},
     "output_type": "execute_result"
    }
   ],
   "source": [
    "random_matrix = np.random.normal(size=(insurance_features.shape[1], insurance_features.shape[1]))\n",
    "inverse_random_matrix = np.linalg.inv(random_matrix)\n",
    "pd.DataFrame(inverse_random_matrix @ random_matrix)"
   ]
  },
  {
   "cell_type": "code",
   "execution_count": 17,
   "metadata": {},
   "outputs": [
    {
     "data": {
      "text/html": [
       "<div>\n",
       "<style scoped>\n",
       "    .dataframe tbody tr th:only-of-type {\n",
       "        vertical-align: middle;\n",
       "    }\n",
       "\n",
       "    .dataframe tbody tr th {\n",
       "        vertical-align: top;\n",
       "    }\n",
       "\n",
       "    .dataframe thead th {\n",
       "        text-align: right;\n",
       "    }\n",
       "</style>\n",
       "<table border=\"1\" class=\"dataframe\">\n",
       "  <thead>\n",
       "    <tr style=\"text-align: right;\">\n",
       "      <th></th>\n",
       "      <th>0</th>\n",
       "      <th>1</th>\n",
       "      <th>2</th>\n",
       "      <th>3</th>\n",
       "    </tr>\n",
       "  </thead>\n",
       "  <tbody>\n",
       "    <tr>\n",
       "      <th>0</th>\n",
       "      <td>1.000000e+00</td>\n",
       "      <td>-1.285054e-16</td>\n",
       "      <td>-8.776620e-16</td>\n",
       "      <td>-1.639511e-15</td>\n",
       "    </tr>\n",
       "    <tr>\n",
       "      <th>1</th>\n",
       "      <td>1.948388e-16</td>\n",
       "      <td>1.000000e+00</td>\n",
       "      <td>3.439412e-16</td>\n",
       "      <td>-3.449972e-15</td>\n",
       "    </tr>\n",
       "    <tr>\n",
       "      <th>2</th>\n",
       "      <td>1.593168e-17</td>\n",
       "      <td>-4.187119e-16</td>\n",
       "      <td>1.000000e+00</td>\n",
       "      <td>-1.065729e-15</td>\n",
       "    </tr>\n",
       "    <tr>\n",
       "      <th>3</th>\n",
       "      <td>1.237202e-16</td>\n",
       "      <td>-1.579370e-16</td>\n",
       "      <td>9.263571e-17</td>\n",
       "      <td>1.000000e+00</td>\n",
       "    </tr>\n",
       "  </tbody>\n",
       "</table>\n",
       "</div>"
      ],
      "text/plain": [
       "              0             1             2             3\n",
       "0  1.000000e+00 -1.285054e-16 -8.776620e-16 -1.639511e-15\n",
       "1  1.948388e-16  1.000000e+00  3.439412e-16 -3.449972e-15\n",
       "2  1.593168e-17 -4.187119e-16  1.000000e+00 -1.065729e-15\n",
       "3  1.237202e-16 -1.579370e-16  9.263571e-17  1.000000e+00"
      ]
     },
     "execution_count": 17,
     "metadata": {},
     "output_type": "execute_result"
    }
   ],
   "source": [
    "pd.DataFrame(random_matrix @ inverse_random_matrix)"
   ]
  },
  {
   "cell_type": "code",
   "execution_count": 18,
   "metadata": {},
   "outputs": [
    {
     "data": {
      "text/plain": [
       "(3635, 4)"
      ]
     },
     "metadata": {},
     "output_type": "display_data"
    },
    {
     "data": {
      "text/plain": [
       "(1212, 4)"
      ]
     },
     "metadata": {},
     "output_type": "display_data"
    }
   ],
   "source": [
    "randomized_features_train = insurance_features_train @ inverse_random_matrix\n",
    "randomized_features_test = insurance_features_test @ inverse_random_matrix\n",
    "\n",
    "display(randomized_features_train.shape)\n",
    "display(randomized_features_test.shape)"
   ]
  },
  {
   "cell_type": "code",
   "execution_count": 19,
   "metadata": {},
   "outputs": [],
   "source": [
    "def linear_r2_calculator(df_features_train, df_features_test):\n",
    "    scaler = StandardScaler()\n",
    "    scaler.fit(df_features_train)\n",
    "    df_features_train = scaler.transform(df_features_train)\n",
    "    df_features_test = scaler.transform(df_features_test)\n",
    "    pd.options.mode.chained_assignment=None\n",
    "    model = LinearRegression()\n",
    "    model.fit(df_features_train, insurance_target_train)\n",
    "    df_predictions = model.predict(df_features_test)\n",
    "    df_r2 = r2_score(insurance_target_test, df_predictions)\n",
    "    return df_r2"
   ]
  },
  {
   "cell_type": "code",
   "execution_count": 20,
   "metadata": {},
   "outputs": [],
   "source": [
    "insurance_r2 = linear_r2_calculator(insurance_features_train, insurance_features_test)\n",
    "randomized_r2 = linear_r2_calculator(randomized_features_train, randomized_features_test)"
   ]
  },
  {
   "cell_type": "code",
   "execution_count": 21,
   "metadata": {},
   "outputs": [
    {
     "name": "stdout",
     "output_type": "stream",
     "text": [
      "R2 на исходных признаках = 0.4231\n",
      "R2 на преобразованных признаках = 0.4231\n",
      "R2 до и после преобразований отличаются на 8.533174167268953e-13\n"
     ]
    }
   ],
   "source": [
    "print('R2 на исходных признаках =', round(insurance_r2, 4))\n",
    "print('R2 на преобразованных признаках =', round(randomized_r2, 4))\n",
    "print('R2 до и после преобразований отличаются на', insurance_r2 - randomized_r2)"
   ]
  },
  {
   "cell_type": "markdown",
   "metadata": {},
   "source": [
    "# Вывод\n",
    "- Данные по страхованию загружены и предварительно обработаны, выбросов по данным нет.\n",
    "- Написан и описан алгоритм преобразования исходных данных, чтобы по ним было сложно восстановить персональную информацию, без ухудшения качества моделей машинного обучения\n",
    "- Проверка пройдена успешно, качество модели до преобразований и после - не отличается. Метод умножения признаков на обратимую матрицу для защиты данных пользователей проверен, разработан и протестирован алгоритм."
   ]
  }
 ],
 "metadata": {
  "ExecuteTimeLog": [
   {
    "duration": 1679,
    "start_time": "2023-06-24T12:38:03.042Z"
   },
   {
    "duration": 155,
    "start_time": "2023-06-24T12:38:04.723Z"
   },
   {
    "duration": 27,
    "start_time": "2023-06-24T12:38:04.880Z"
   },
   {
    "duration": 6,
    "start_time": "2023-06-24T12:38:04.908Z"
   },
   {
    "duration": 14,
    "start_time": "2023-06-24T12:38:04.917Z"
   },
   {
    "duration": 8,
    "start_time": "2023-06-24T12:38:04.933Z"
   },
   {
    "duration": 47,
    "start_time": "2023-06-24T12:38:04.942Z"
   },
   {
    "duration": 10,
    "start_time": "2023-06-24T12:38:04.991Z"
   },
   {
    "duration": 1750,
    "start_time": "2023-06-24T12:38:05.003Z"
   },
   {
    "duration": 88,
    "start_time": "2023-06-24T12:38:06.756Z"
   },
   {
    "duration": 113,
    "start_time": "2023-06-24T12:38:06.846Z"
   },
   {
    "duration": 4,
    "start_time": "2023-06-24T12:38:06.967Z"
   },
   {
    "duration": 14,
    "start_time": "2023-06-24T12:38:06.972Z"
   },
   {
    "duration": 13,
    "start_time": "2023-06-24T12:38:29.065Z"
   },
   {
    "duration": 23,
    "start_time": "2023-06-24T12:38:56.074Z"
   },
   {
    "duration": 21,
    "start_time": "2023-06-24T12:48:55.560Z"
   },
   {
    "duration": 8,
    "start_time": "2023-06-24T12:49:00.145Z"
   },
   {
    "duration": 5,
    "start_time": "2023-06-24T12:49:05.044Z"
   },
   {
    "duration": 11,
    "start_time": "2023-06-24T12:50:48.190Z"
   },
   {
    "duration": 4,
    "start_time": "2023-06-24T12:53:04.671Z"
   },
   {
    "duration": 121,
    "start_time": "2023-06-24T12:53:41.991Z"
   },
   {
    "duration": 18,
    "start_time": "2023-06-24T12:54:01.335Z"
   },
   {
    "duration": 4,
    "start_time": "2023-06-24T12:54:03.758Z"
   },
   {
    "duration": 6,
    "start_time": "2023-06-24T12:54:31.219Z"
   },
   {
    "duration": 5,
    "start_time": "2023-06-24T12:55:36.549Z"
   },
   {
    "duration": 1614,
    "start_time": "2023-06-26T09:14:33.132Z"
   },
   {
    "duration": 290,
    "start_time": "2023-06-26T09:14:40.605Z"
   },
   {
    "duration": 23,
    "start_time": "2023-06-26T09:14:45.820Z"
   },
   {
    "duration": 6,
    "start_time": "2023-06-26T09:14:50.236Z"
   },
   {
    "duration": 5,
    "start_time": "2023-06-26T09:14:53.405Z"
   },
   {
    "duration": 9,
    "start_time": "2023-06-26T09:14:59.135Z"
   },
   {
    "duration": 24,
    "start_time": "2023-06-26T09:15:02.725Z"
   },
   {
    "duration": 10,
    "start_time": "2023-06-26T09:15:07.413Z"
   },
   {
    "duration": 1659,
    "start_time": "2023-06-26T09:15:11.828Z"
   },
   {
    "duration": 76,
    "start_time": "2023-06-26T09:15:18.389Z"
   },
   {
    "duration": 109,
    "start_time": "2023-06-26T09:15:21.458Z"
   },
   {
    "duration": 11,
    "start_time": "2023-06-26T09:15:44.556Z"
   },
   {
    "duration": 12,
    "start_time": "2023-06-26T09:15:48.429Z"
   },
   {
    "duration": 21,
    "start_time": "2023-06-26T09:16:18.244Z"
   },
   {
    "duration": 15,
    "start_time": "2023-06-26T09:16:39.853Z"
   },
   {
    "duration": 12,
    "start_time": "2023-06-26T09:16:43.801Z"
   },
   {
    "duration": 9,
    "start_time": "2023-06-26T09:16:47.638Z"
   },
   {
    "duration": 7,
    "start_time": "2023-06-26T09:16:54.622Z"
   },
   {
    "duration": 4,
    "start_time": "2023-06-26T09:17:04.598Z"
   },
   {
    "duration": 16,
    "start_time": "2023-06-26T09:17:08.213Z"
   },
   {
    "duration": 7,
    "start_time": "2023-06-26T09:17:11.234Z"
   }
  ],
  "kernelspec": {
   "display_name": "Python 3 (ipykernel)",
   "language": "python",
   "name": "python3"
  },
  "language_info": {
   "codemirror_mode": {
    "name": "ipython",
    "version": 3
   },
   "file_extension": ".py",
   "mimetype": "text/x-python",
   "name": "python",
   "nbconvert_exporter": "python",
   "pygments_lexer": "ipython3",
   "version": "3.10.9"
  },
  "toc": {
   "base_numbering": 1,
   "nav_menu": {},
   "number_sections": true,
   "sideBar": false,
   "skip_h1_title": true,
   "title_cell": "Содержание",
   "title_sidebar": "Contents",
   "toc_cell": true,
   "toc_position": {
    "height": "47.6875px",
    "left": "764px",
    "top": "149.125px",
    "width": "159px"
   },
   "toc_section_display": false,
   "toc_window_display": true
  }
 },
 "nbformat": 4,
 "nbformat_minor": 2
}
