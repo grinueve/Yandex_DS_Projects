{
 "cells": [
  {
   "cell_type": "markdown",
   "metadata": {
    "toc": true
   },
   "source": [
    "<h1>Содержание<span class=\"tocSkip\"></span></h1>\n",
    "<div class=\"toc\"><ul class=\"toc-item\"><li><span><a href=\"#Подготовка-данных\" data-toc-modified-id=\"Подготовка-данных-1\"><span class=\"toc-item-num\">1&nbsp;&nbsp;</span>Подготовка данных</a></span><ul class=\"toc-item\"><li><span><a href=\"#Общие-данные\" data-toc-modified-id=\"Общие-данные-1.1\"><span class=\"toc-item-num\">1.1&nbsp;&nbsp;</span>Общие данные</a></span></li><li><span><a href=\"#1.2.-Рассчёт-эффективности-обогащения\" data-toc-modified-id=\"1.2.-Рассчёт-эффективности-обогащения-1.2\"><span class=\"toc-item-num\">1.2&nbsp;&nbsp;</span>1.2. Рассчёт эффективности обогащения</a></span></li><li><span><a href=\"#1.3.-Предобработка-данных\" data-toc-modified-id=\"1.3.-Предобработка-данных-1.3\"><span class=\"toc-item-num\">1.3&nbsp;&nbsp;</span>1.3. Предобработка данных</a></span></li></ul></li><li><span><a href=\"#Анализ-данных\" data-toc-modified-id=\"Анализ-данных-2\"><span class=\"toc-item-num\">2&nbsp;&nbsp;</span>Анализ данных</a></span><ul class=\"toc-item\"><li><span><a href=\"#2.1.-Анализ-концентрации-металлов-на-различных-этапах-очистки.\" data-toc-modified-id=\"2.1.-Анализ-концентрации-металлов-на-различных-этапах-очистки.-2.1\"><span class=\"toc-item-num\">2.1&nbsp;&nbsp;</span>2.1. Анализ концентрации металлов на различных этапах очистки.</a></span></li><li><span><a href=\"#Распределения-размеров-гранул-сырья-на-обучающей-и-тестовой-выборках\" data-toc-modified-id=\"Распределения-размеров-гранул-сырья-на-обучающей-и-тестовой-выборках-2.2\"><span class=\"toc-item-num\">2.2&nbsp;&nbsp;</span>Распределения размеров гранул сырья на обучающей и тестовой выборках</a></span></li></ul></li><li><span><a href=\"#Модель\" data-toc-modified-id=\"Модель-3\"><span class=\"toc-item-num\">3&nbsp;&nbsp;</span>Модель</a></span><ul class=\"toc-item\"><li><span><a href=\"#Подготовка-признаков-к-регрессиям\" data-toc-modified-id=\"Подготовка-признаков-к-регрессиям-3.1\"><span class=\"toc-item-num\">3.1&nbsp;&nbsp;</span>Подготовка признаков к регрессиям</a></span></li><li><span><a href=\"#Составление-моделей-и-проверка-их-на-адекватность\" data-toc-modified-id=\"Составление-моделей-и-проверка-их-на-адекватность-3.2\"><span class=\"toc-item-num\">3.2&nbsp;&nbsp;</span>Составление моделей и проверка их на адекватность</a></span><ul class=\"toc-item\"><li><span><a href=\"#Посчитаем-sMAPE-у-лучшего-DummyRegressor\" data-toc-modified-id=\"Посчитаем-sMAPE-у-лучшего-DummyRegressor-3.2.1\"><span class=\"toc-item-num\">3.2.1&nbsp;&nbsp;</span>Посчитаем <strong>sMAPE</strong> у лучшего <strong>DummyRegressor</strong></a></span></li><li><span><a href=\"#Проверка-адекватности-линейной-модели-Lasso-на-обучающей-выборке\" data-toc-modified-id=\"Проверка-адекватности-линейной-модели-Lasso-на-обучающей-выборке-3.2.2\"><span class=\"toc-item-num\">3.2.2&nbsp;&nbsp;</span>Проверка адекватности линейной модели Lasso на обучающей выборке</a></span></li><li><span><a href=\"#Проверка-адекватности-модели-DecisionTreeRegressor-на-обучающей-выборке\" data-toc-modified-id=\"Проверка-адекватности-модели-DecisionTreeRegressor-на-обучающей-выборке-3.2.3\"><span class=\"toc-item-num\">3.2.3&nbsp;&nbsp;</span>Проверка адекватности модели DecisionTreeRegressor на обучающей выборке</a></span></li><li><span><a href=\"#Проверка-адекватности-модели-RandomForestRegressor-на-обучающей-выборке\" data-toc-modified-id=\"Проверка-адекватности-модели-RandomForestRegressor-на-обучающей-выборке-3.2.4\"><span class=\"toc-item-num\">3.2.4&nbsp;&nbsp;</span>Проверка адекватности модели RandomForestRegressor на обучающей выборке</a></span></li></ul></li><li><span><a href=\"#Проверка-лучшей-модели-на-тестовой-выборке.\" data-toc-modified-id=\"Проверка-лучшей-модели-на-тестовой-выборке.-3.3\"><span class=\"toc-item-num\">3.3&nbsp;&nbsp;</span>Проверка лучшей модели на тестовой выборке.</a></span></li></ul></li><li><span><a href=\"#Чек-лист-готовности-проекта\" data-toc-modified-id=\"Чек-лист-готовности-проекта-4\"><span class=\"toc-item-num\">4&nbsp;&nbsp;</span>Чек-лист готовности проекта</a></span></li></ul></div>"
   ]
  },
  {
   "cell_type": "markdown",
   "metadata": {},
   "source": [
    "# Восстановление золота из руды"
   ]
  },
  {
   "cell_type": "markdown",
   "metadata": {},
   "source": [
    "Подготовьте прототип модели машинного обучения для «Цифры». Компания разрабатывает решения для эффективной работы промышленных предприятий.\n",
    "\n",
    "Модель должна предсказать коэффициент восстановления золота из золотосодержащей руды. Используйте данные с параметрами добычи и очистки. \n",
    "\n",
    "Модель поможет оптимизировать производство, чтобы не запускать предприятие с убыточными характеристиками.\n",
    "\n",
    "Вам нужно:\n",
    "\n",
    "1. Подготовить данные;\n",
    "2. Провести исследовательский анализ данных;\n",
    "3. Построить и обучить модель.\n",
    "\n",
    "Чтобы выполнить проект, обращайтесь к библиотекам *pandas*, *matplotlib* и *sklearn.* Вам поможет их документация."
   ]
  },
  {
   "cell_type": "code",
   "execution_count": 1,
   "metadata": {},
   "outputs": [],
   "source": [
    "import pandas as pd\n",
    "import numpy as np\n",
    "import seaborn as sns\n",
    "import matplotlib.pyplot as plt\n",
    "%matplotlib inline\n",
    "\n",
    "from sklearn.metrics import mean_absolute_error as mae, make_scorer\n",
    "from sklearn.preprocessing import StandardScaler\n",
    "from sklearn.model_selection import GridSearchCV, cross_val_score\n",
    "from sklearn.linear_model import Lasso\n",
    "from sklearn.ensemble import RandomForestRegressor\n",
    "from sklearn.tree import DecisionTreeRegressor\n",
    "from sklearn.dummy import DummyRegressor\n",
    "\n",
    "import warnings\n",
    "warnings.filterwarnings('ignore')"
   ]
  },
  {
   "cell_type": "code",
   "execution_count": 2,
   "metadata": {
    "scrolled": true
   },
   "outputs": [],
   "source": [
    "try:\n",
    "    full_data = pd.read_csv('gold_industry_full.csv')\n",
    "    train_data = pd.read_csv('gold_industry_train.csv')\n",
    "    test_data = pd.read_csv('gold_industry_test.csv')\n",
    "except:\n",
    "    full_data = pd.read_csv('https://code.s3.yandex.net/datasets/gold_industry_full.csv')\n",
    "    train_data = pd.read_csv('https://code.s3.yandex.net/datasets/gold_industry_train.csv')\n",
    "    test_data = pd.read_csv('https://code.s3.yandex.net/datasets/gold_industry_test.csv')"
   ]
  },
  {
   "cell_type": "markdown",
   "metadata": {},
   "source": [
    "## Подготовка данных"
   ]
  },
  {
   "cell_type": "markdown",
   "metadata": {},
   "source": [
    "### Общие данные"
   ]
  },
  {
   "cell_type": "markdown",
   "metadata": {},
   "source": [
    "Напишем функцию, отображающую общие сведения и применим её к данным"
   ]
  },
  {
   "cell_type": "code",
   "execution_count": 3,
   "metadata": {},
   "outputs": [],
   "source": [
    "def print_info(df):\n",
    "    display(df.shape);\n",
    "    df.info()\n",
    "    print('Суммарное количество пропусков в датасете:', df.isnull().sum().sum());\n",
    "    display(df.describe());\n",
    "    pass"
   ]
  },
  {
   "cell_type": "code",
   "execution_count": 4,
   "metadata": {},
   "outputs": [
    {
     "data": {
      "text/plain": [
       "(19439, 87)"
      ]
     },
     "metadata": {},
     "output_type": "display_data"
    },
    {
     "name": "stdout",
     "output_type": "stream",
     "text": [
      "<class 'pandas.core.frame.DataFrame'>\n",
      "RangeIndex: 19439 entries, 0 to 19438\n",
      "Data columns (total 87 columns):\n",
      " #   Column                                              Non-Null Count  Dtype  \n",
      "---  ------                                              --------------  -----  \n",
      " 0   date                                                19439 non-null  object \n",
      " 1   rougher.input.feed_au                               19439 non-null  float64\n",
      " 2   rougher.input.feed_ag                               19439 non-null  float64\n",
      " 3   rougher.input.feed_pb                               19339 non-null  float64\n",
      " 4   rougher.input.feed_sol                              19340 non-null  float64\n",
      " 5   rougher.input.feed_rate                             19428 non-null  float64\n",
      " 6   rougher.input.feed_size                             19294 non-null  float64\n",
      " 7   rougher.input.floatbank10_sulfate                   19405 non-null  float64\n",
      " 8   rougher.input.floatbank10_xanthate                  19431 non-null  float64\n",
      " 9   rougher.state.floatbank10_a_air                     19438 non-null  float64\n",
      " 10  rougher.state.floatbank10_a_level                   19438 non-null  float64\n",
      " 11  rougher.state.floatbank10_b_air                     19438 non-null  float64\n",
      " 12  rougher.state.floatbank10_b_level                   19438 non-null  float64\n",
      " 13  rougher.state.floatbank10_c_air                     19438 non-null  float64\n",
      " 14  rougher.state.floatbank10_c_level                   19438 non-null  float64\n",
      " 15  rougher.state.floatbank10_d_air                     19439 non-null  float64\n",
      " 16  rougher.state.floatbank10_d_level                   19439 non-null  float64\n",
      " 17  rougher.state.floatbank10_e_air                     19003 non-null  float64\n",
      " 18  rougher.state.floatbank10_e_level                   19439 non-null  float64\n",
      " 19  rougher.state.floatbank10_f_air                     19439 non-null  float64\n",
      " 20  rougher.state.floatbank10_f_level                   19439 non-null  float64\n",
      " 21  rougher.input.floatbank11_sulfate                   19395 non-null  float64\n",
      " 22  rougher.input.floatbank11_xanthate                  18986 non-null  float64\n",
      " 23  rougher.calculation.sulfate_to_au_concentrate       19437 non-null  float64\n",
      " 24  rougher.calculation.floatbank10_sulfate_to_au_feed  19437 non-null  float64\n",
      " 25  rougher.calculation.floatbank11_sulfate_to_au_feed  19437 non-null  float64\n",
      " 26  rougher.calculation.au_pb_ratio                     19439 non-null  float64\n",
      " 27  rougher.output.concentrate_au                       19439 non-null  float64\n",
      " 28  rougher.output.concentrate_ag                       19439 non-null  float64\n",
      " 29  rougher.output.concentrate_pb                       19439 non-null  float64\n",
      " 30  rougher.output.concentrate_sol                      19416 non-null  float64\n",
      " 31  rougher.output.recovery                             19439 non-null  float64\n",
      " 32  rougher.output.tail_au                              19439 non-null  float64\n",
      " 33  rougher.output.tail_ag                              19438 non-null  float64\n",
      " 34  rougher.output.tail_pb                              19439 non-null  float64\n",
      " 35  rougher.output.tail_sol                             19439 non-null  float64\n",
      " 36  primary_cleaner.input.sulfate                       19415 non-null  float64\n",
      " 37  primary_cleaner.input.depressant                    19402 non-null  float64\n",
      " 38  primary_cleaner.input.feed_size                     19439 non-null  float64\n",
      " 39  primary_cleaner.input.xanthate                      19335 non-null  float64\n",
      " 40  primary_cleaner.state.floatbank8_a_air              19435 non-null  float64\n",
      " 41  primary_cleaner.state.floatbank8_a_level            19438 non-null  float64\n",
      " 42  primary_cleaner.state.floatbank8_b_air              19435 non-null  float64\n",
      " 43  primary_cleaner.state.floatbank8_b_level            19438 non-null  float64\n",
      " 44  primary_cleaner.state.floatbank8_c_air              19437 non-null  float64\n",
      " 45  primary_cleaner.state.floatbank8_c_level            19438 non-null  float64\n",
      " 46  primary_cleaner.state.floatbank8_d_air              19436 non-null  float64\n",
      " 47  primary_cleaner.state.floatbank8_d_level            19438 non-null  float64\n",
      " 48  primary_cleaner.output.concentrate_au               19439 non-null  float64\n",
      " 49  primary_cleaner.output.concentrate_ag               19439 non-null  float64\n",
      " 50  primary_cleaner.output.concentrate_pb               19323 non-null  float64\n",
      " 51  primary_cleaner.output.concentrate_sol              19069 non-null  float64\n",
      " 52  primary_cleaner.output.tail_au                      19439 non-null  float64\n",
      " 53  primary_cleaner.output.tail_ag                      19435 non-null  float64\n",
      " 54  primary_cleaner.output.tail_pb                      19418 non-null  float64\n",
      " 55  primary_cleaner.output.tail_sol                     19377 non-null  float64\n",
      " 56  secondary_cleaner.state.floatbank2_a_air            19219 non-null  float64\n",
      " 57  secondary_cleaner.state.floatbank2_a_level          19438 non-null  float64\n",
      " 58  secondary_cleaner.state.floatbank2_b_air            19416 non-null  float64\n",
      " 59  secondary_cleaner.state.floatbank2_b_level          19438 non-null  float64\n",
      " 60  secondary_cleaner.state.floatbank3_a_air            19426 non-null  float64\n",
      " 61  secondary_cleaner.state.floatbank3_a_level          19438 non-null  float64\n",
      " 62  secondary_cleaner.state.floatbank3_b_air            19438 non-null  float64\n",
      " 63  secondary_cleaner.state.floatbank3_b_level          19438 non-null  float64\n",
      " 64  secondary_cleaner.state.floatbank4_a_air            19433 non-null  float64\n",
      " 65  secondary_cleaner.state.floatbank4_a_level          19438 non-null  float64\n",
      " 66  secondary_cleaner.state.floatbank4_b_air            19438 non-null  float64\n",
      " 67  secondary_cleaner.state.floatbank4_b_level          19438 non-null  float64\n",
      " 68  secondary_cleaner.state.floatbank5_a_air            19438 non-null  float64\n",
      " 69  secondary_cleaner.state.floatbank5_a_level          19438 non-null  float64\n",
      " 70  secondary_cleaner.state.floatbank5_b_air            19438 non-null  float64\n",
      " 71  secondary_cleaner.state.floatbank5_b_level          19438 non-null  float64\n",
      " 72  secondary_cleaner.state.floatbank6_a_air            19437 non-null  float64\n",
      " 73  secondary_cleaner.state.floatbank6_a_level          19438 non-null  float64\n",
      " 74  secondary_cleaner.output.tail_au                    19439 non-null  float64\n",
      " 75  secondary_cleaner.output.tail_ag                    19437 non-null  float64\n",
      " 76  secondary_cleaner.output.tail_pb                    19427 non-null  float64\n",
      " 77  secondary_cleaner.output.tail_sol                   17691 non-null  float64\n",
      " 78  final.output.concentrate_au                         19439 non-null  float64\n",
      " 79  final.output.concentrate_ag                         19438 non-null  float64\n",
      " 80  final.output.concentrate_pb                         19438 non-null  float64\n",
      " 81  final.output.concentrate_sol                        19228 non-null  float64\n",
      " 82  final.output.recovery                               19439 non-null  float64\n",
      " 83  final.output.tail_au                                19439 non-null  float64\n",
      " 84  final.output.tail_ag                                19438 non-null  float64\n",
      " 85  final.output.tail_pb                                19338 non-null  float64\n",
      " 86  final.output.tail_sol                               19433 non-null  float64\n",
      "dtypes: float64(86), object(1)\n",
      "memory usage: 12.9+ MB\n",
      "Суммарное количество пропусков в датасете: 4481\n"
     ]
    },
    {
     "data": {
      "text/html": [
       "<div>\n",
       "<style scoped>\n",
       "    .dataframe tbody tr th:only-of-type {\n",
       "        vertical-align: middle;\n",
       "    }\n",
       "\n",
       "    .dataframe tbody tr th {\n",
       "        vertical-align: top;\n",
       "    }\n",
       "\n",
       "    .dataframe thead th {\n",
       "        text-align: right;\n",
       "    }\n",
       "</style>\n",
       "<table border=\"1\" class=\"dataframe\">\n",
       "  <thead>\n",
       "    <tr style=\"text-align: right;\">\n",
       "      <th></th>\n",
       "      <th>rougher.input.feed_au</th>\n",
       "      <th>rougher.input.feed_ag</th>\n",
       "      <th>rougher.input.feed_pb</th>\n",
       "      <th>rougher.input.feed_sol</th>\n",
       "      <th>rougher.input.feed_rate</th>\n",
       "      <th>rougher.input.feed_size</th>\n",
       "      <th>rougher.input.floatbank10_sulfate</th>\n",
       "      <th>rougher.input.floatbank10_xanthate</th>\n",
       "      <th>rougher.state.floatbank10_a_air</th>\n",
       "      <th>rougher.state.floatbank10_a_level</th>\n",
       "      <th>...</th>\n",
       "      <th>secondary_cleaner.output.tail_sol</th>\n",
       "      <th>final.output.concentrate_au</th>\n",
       "      <th>final.output.concentrate_ag</th>\n",
       "      <th>final.output.concentrate_pb</th>\n",
       "      <th>final.output.concentrate_sol</th>\n",
       "      <th>final.output.recovery</th>\n",
       "      <th>final.output.tail_au</th>\n",
       "      <th>final.output.tail_ag</th>\n",
       "      <th>final.output.tail_pb</th>\n",
       "      <th>final.output.tail_sol</th>\n",
       "    </tr>\n",
       "  </thead>\n",
       "  <tbody>\n",
       "    <tr>\n",
       "      <th>count</th>\n",
       "      <td>19439.000000</td>\n",
       "      <td>19439.000000</td>\n",
       "      <td>19339.000000</td>\n",
       "      <td>19340.000000</td>\n",
       "      <td>19428.000000</td>\n",
       "      <td>19294.000000</td>\n",
       "      <td>19405.000000</td>\n",
       "      <td>19431.000000</td>\n",
       "      <td>19438.000000</td>\n",
       "      <td>19438.000000</td>\n",
       "      <td>...</td>\n",
       "      <td>17691.000000</td>\n",
       "      <td>19439.000000</td>\n",
       "      <td>19438.000000</td>\n",
       "      <td>19438.000000</td>\n",
       "      <td>19228.000000</td>\n",
       "      <td>19439.000000</td>\n",
       "      <td>19439.000000</td>\n",
       "      <td>19438.000000</td>\n",
       "      <td>19338.000000</td>\n",
       "      <td>19433.000000</td>\n",
       "    </tr>\n",
       "    <tr>\n",
       "      <th>mean</th>\n",
       "      <td>8.266097</td>\n",
       "      <td>8.794927</td>\n",
       "      <td>3.598085</td>\n",
       "      <td>36.695114</td>\n",
       "      <td>478.320042</td>\n",
       "      <td>58.970310</td>\n",
       "      <td>12.334373</td>\n",
       "      <td>6.021474</td>\n",
       "      <td>1105.315068</td>\n",
       "      <td>-376.610690</td>\n",
       "      <td>...</td>\n",
       "      <td>7.167247</td>\n",
       "      <td>44.076513</td>\n",
       "      <td>5.168470</td>\n",
       "      <td>9.978895</td>\n",
       "      <td>9.501224</td>\n",
       "      <td>67.050208</td>\n",
       "      <td>3.042467</td>\n",
       "      <td>9.688589</td>\n",
       "      <td>2.705795</td>\n",
       "      <td>10.583728</td>\n",
       "    </tr>\n",
       "    <tr>\n",
       "      <th>std</th>\n",
       "      <td>1.955092</td>\n",
       "      <td>1.936847</td>\n",
       "      <td>1.049486</td>\n",
       "      <td>5.145445</td>\n",
       "      <td>105.373758</td>\n",
       "      <td>21.634478</td>\n",
       "      <td>3.427317</td>\n",
       "      <td>1.127263</td>\n",
       "      <td>160.826798</td>\n",
       "      <td>93.909667</td>\n",
       "      <td>...</td>\n",
       "      <td>3.916079</td>\n",
       "      <td>5.129784</td>\n",
       "      <td>1.372348</td>\n",
       "      <td>1.669240</td>\n",
       "      <td>2.787537</td>\n",
       "      <td>10.125840</td>\n",
       "      <td>0.922808</td>\n",
       "      <td>2.328642</td>\n",
       "      <td>0.949077</td>\n",
       "      <td>2.868782</td>\n",
       "    </tr>\n",
       "    <tr>\n",
       "      <th>min</th>\n",
       "      <td>0.010000</td>\n",
       "      <td>0.010000</td>\n",
       "      <td>0.010000</td>\n",
       "      <td>0.010000</td>\n",
       "      <td>0.002986</td>\n",
       "      <td>0.046369</td>\n",
       "      <td>0.001083</td>\n",
       "      <td>0.000568</td>\n",
       "      <td>-0.042069</td>\n",
       "      <td>-657.949759</td>\n",
       "      <td>...</td>\n",
       "      <td>0.000000</td>\n",
       "      <td>0.000000</td>\n",
       "      <td>0.000000</td>\n",
       "      <td>0.000000</td>\n",
       "      <td>0.000000</td>\n",
       "      <td>0.000000</td>\n",
       "      <td>0.000000</td>\n",
       "      <td>0.000000</td>\n",
       "      <td>0.000000</td>\n",
       "      <td>0.000000</td>\n",
       "    </tr>\n",
       "    <tr>\n",
       "      <th>25%</th>\n",
       "      <td>6.854384</td>\n",
       "      <td>7.237967</td>\n",
       "      <td>2.887280</td>\n",
       "      <td>34.207799</td>\n",
       "      <td>416.525453</td>\n",
       "      <td>47.435103</td>\n",
       "      <td>10.000362</td>\n",
       "      <td>5.398678</td>\n",
       "      <td>999.661867</td>\n",
       "      <td>-499.835165</td>\n",
       "      <td>...</td>\n",
       "      <td>3.845475</td>\n",
       "      <td>43.402215</td>\n",
       "      <td>4.251240</td>\n",
       "      <td>9.137262</td>\n",
       "      <td>7.722820</td>\n",
       "      <td>63.299712</td>\n",
       "      <td>2.461138</td>\n",
       "      <td>8.062878</td>\n",
       "      <td>2.040119</td>\n",
       "      <td>8.938947</td>\n",
       "    </tr>\n",
       "    <tr>\n",
       "      <th>50%</th>\n",
       "      <td>8.125839</td>\n",
       "      <td>8.593574</td>\n",
       "      <td>3.534895</td>\n",
       "      <td>37.202650</td>\n",
       "      <td>499.416120</td>\n",
       "      <td>54.610197</td>\n",
       "      <td>12.001174</td>\n",
       "      <td>6.008273</td>\n",
       "      <td>1001.072890</td>\n",
       "      <td>-300.263994</td>\n",
       "      <td>...</td>\n",
       "      <td>7.685827</td>\n",
       "      <td>45.011244</td>\n",
       "      <td>5.066094</td>\n",
       "      <td>10.102433</td>\n",
       "      <td>9.218961</td>\n",
       "      <td>68.172738</td>\n",
       "      <td>2.984909</td>\n",
       "      <td>9.743623</td>\n",
       "      <td>2.748730</td>\n",
       "      <td>10.622456</td>\n",
       "    </tr>\n",
       "    <tr>\n",
       "      <th>75%</th>\n",
       "      <td>9.769917</td>\n",
       "      <td>10.213771</td>\n",
       "      <td>4.244161</td>\n",
       "      <td>40.039133</td>\n",
       "      <td>550.172183</td>\n",
       "      <td>65.023044</td>\n",
       "      <td>14.716595</td>\n",
       "      <td>6.798051</td>\n",
       "      <td>1205.620588</td>\n",
       "      <td>-299.981998</td>\n",
       "      <td>...</td>\n",
       "      <td>10.411296</td>\n",
       "      <td>46.275313</td>\n",
       "      <td>5.895527</td>\n",
       "      <td>11.035769</td>\n",
       "      <td>10.947813</td>\n",
       "      <td>72.686642</td>\n",
       "      <td>3.571351</td>\n",
       "      <td>11.134294</td>\n",
       "      <td>3.333216</td>\n",
       "      <td>12.104271</td>\n",
       "    </tr>\n",
       "    <tr>\n",
       "      <th>max</th>\n",
       "      <td>13.731330</td>\n",
       "      <td>14.596026</td>\n",
       "      <td>7.142594</td>\n",
       "      <td>53.477742</td>\n",
       "      <td>717.508837</td>\n",
       "      <td>484.967466</td>\n",
       "      <td>36.118275</td>\n",
       "      <td>9.703448</td>\n",
       "      <td>1521.980372</td>\n",
       "      <td>-273.776101</td>\n",
       "      <td>...</td>\n",
       "      <td>26.000772</td>\n",
       "      <td>52.756638</td>\n",
       "      <td>16.001945</td>\n",
       "      <td>17.031899</td>\n",
       "      <td>19.615720</td>\n",
       "      <td>100.000000</td>\n",
       "      <td>8.245022</td>\n",
       "      <td>19.552149</td>\n",
       "      <td>5.804178</td>\n",
       "      <td>22.317730</td>\n",
       "    </tr>\n",
       "  </tbody>\n",
       "</table>\n",
       "<p>8 rows × 86 columns</p>\n",
       "</div>"
      ],
      "text/plain": [
       "       rougher.input.feed_au  rougher.input.feed_ag  rougher.input.feed_pb  \\\n",
       "count           19439.000000           19439.000000           19339.000000   \n",
       "mean                8.266097               8.794927               3.598085   \n",
       "std                 1.955092               1.936847               1.049486   \n",
       "min                 0.010000               0.010000               0.010000   \n",
       "25%                 6.854384               7.237967               2.887280   \n",
       "50%                 8.125839               8.593574               3.534895   \n",
       "75%                 9.769917              10.213771               4.244161   \n",
       "max                13.731330              14.596026               7.142594   \n",
       "\n",
       "       rougher.input.feed_sol  rougher.input.feed_rate  \\\n",
       "count            19340.000000             19428.000000   \n",
       "mean                36.695114               478.320042   \n",
       "std                  5.145445               105.373758   \n",
       "min                  0.010000                 0.002986   \n",
       "25%                 34.207799               416.525453   \n",
       "50%                 37.202650               499.416120   \n",
       "75%                 40.039133               550.172183   \n",
       "max                 53.477742               717.508837   \n",
       "\n",
       "       rougher.input.feed_size  rougher.input.floatbank10_sulfate  \\\n",
       "count             19294.000000                       19405.000000   \n",
       "mean                 58.970310                          12.334373   \n",
       "std                  21.634478                           3.427317   \n",
       "min                   0.046369                           0.001083   \n",
       "25%                  47.435103                          10.000362   \n",
       "50%                  54.610197                          12.001174   \n",
       "75%                  65.023044                          14.716595   \n",
       "max                 484.967466                          36.118275   \n",
       "\n",
       "       rougher.input.floatbank10_xanthate  rougher.state.floatbank10_a_air  \\\n",
       "count                        19431.000000                     19438.000000   \n",
       "mean                             6.021474                      1105.315068   \n",
       "std                              1.127263                       160.826798   \n",
       "min                              0.000568                        -0.042069   \n",
       "25%                              5.398678                       999.661867   \n",
       "50%                              6.008273                      1001.072890   \n",
       "75%                              6.798051                      1205.620588   \n",
       "max                              9.703448                      1521.980372   \n",
       "\n",
       "       rougher.state.floatbank10_a_level  ...  \\\n",
       "count                       19438.000000  ...   \n",
       "mean                         -376.610690  ...   \n",
       "std                            93.909667  ...   \n",
       "min                          -657.949759  ...   \n",
       "25%                          -499.835165  ...   \n",
       "50%                          -300.263994  ...   \n",
       "75%                          -299.981998  ...   \n",
       "max                          -273.776101  ...   \n",
       "\n",
       "       secondary_cleaner.output.tail_sol  final.output.concentrate_au  \\\n",
       "count                       17691.000000                 19439.000000   \n",
       "mean                            7.167247                    44.076513   \n",
       "std                             3.916079                     5.129784   \n",
       "min                             0.000000                     0.000000   \n",
       "25%                             3.845475                    43.402215   \n",
       "50%                             7.685827                    45.011244   \n",
       "75%                            10.411296                    46.275313   \n",
       "max                            26.000772                    52.756638   \n",
       "\n",
       "       final.output.concentrate_ag  final.output.concentrate_pb  \\\n",
       "count                 19438.000000                 19438.000000   \n",
       "mean                      5.168470                     9.978895   \n",
       "std                       1.372348                     1.669240   \n",
       "min                       0.000000                     0.000000   \n",
       "25%                       4.251240                     9.137262   \n",
       "50%                       5.066094                    10.102433   \n",
       "75%                       5.895527                    11.035769   \n",
       "max                      16.001945                    17.031899   \n",
       "\n",
       "       final.output.concentrate_sol  final.output.recovery  \\\n",
       "count                  19228.000000           19439.000000   \n",
       "mean                       9.501224              67.050208   \n",
       "std                        2.787537              10.125840   \n",
       "min                        0.000000               0.000000   \n",
       "25%                        7.722820              63.299712   \n",
       "50%                        9.218961              68.172738   \n",
       "75%                       10.947813              72.686642   \n",
       "max                       19.615720             100.000000   \n",
       "\n",
       "       final.output.tail_au  final.output.tail_ag  final.output.tail_pb  \\\n",
       "count          19439.000000          19438.000000          19338.000000   \n",
       "mean               3.042467              9.688589              2.705795   \n",
       "std                0.922808              2.328642              0.949077   \n",
       "min                0.000000              0.000000              0.000000   \n",
       "25%                2.461138              8.062878              2.040119   \n",
       "50%                2.984909              9.743623              2.748730   \n",
       "75%                3.571351             11.134294              3.333216   \n",
       "max                8.245022             19.552149              5.804178   \n",
       "\n",
       "       final.output.tail_sol  \n",
       "count           19433.000000  \n",
       "mean               10.583728  \n",
       "std                 2.868782  \n",
       "min                 0.000000  \n",
       "25%                 8.938947  \n",
       "50%                10.622456  \n",
       "75%                12.104271  \n",
       "max                22.317730  \n",
       "\n",
       "[8 rows x 86 columns]"
      ]
     },
     "metadata": {},
     "output_type": "display_data"
    }
   ],
   "source": [
    "print_info(full_data)"
   ]
  },
  {
   "cell_type": "code",
   "execution_count": 5,
   "metadata": {},
   "outputs": [
    {
     "data": {
      "text/plain": [
       "(14579, 87)"
      ]
     },
     "metadata": {},
     "output_type": "display_data"
    },
    {
     "name": "stdout",
     "output_type": "stream",
     "text": [
      "<class 'pandas.core.frame.DataFrame'>\n",
      "RangeIndex: 14579 entries, 0 to 14578\n",
      "Data columns (total 87 columns):\n",
      " #   Column                                              Non-Null Count  Dtype  \n",
      "---  ------                                              --------------  -----  \n",
      " 0   date                                                14579 non-null  object \n",
      " 1   rougher.input.feed_au                               14579 non-null  float64\n",
      " 2   rougher.input.feed_ag                               14579 non-null  float64\n",
      " 3   rougher.input.feed_pb                               14507 non-null  float64\n",
      " 4   rougher.input.feed_sol                              14502 non-null  float64\n",
      " 5   rougher.input.feed_rate                             14572 non-null  float64\n",
      " 6   rougher.input.feed_size                             14478 non-null  float64\n",
      " 7   rougher.input.floatbank10_sulfate                   14548 non-null  float64\n",
      " 8   rougher.input.floatbank10_xanthate                  14572 non-null  float64\n",
      " 9   rougher.state.floatbank10_a_air                     14579 non-null  float64\n",
      " 10  rougher.state.floatbank10_a_level                   14579 non-null  float64\n",
      " 11  rougher.state.floatbank10_b_air                     14579 non-null  float64\n",
      " 12  rougher.state.floatbank10_b_level                   14579 non-null  float64\n",
      " 13  rougher.state.floatbank10_c_air                     14579 non-null  float64\n",
      " 14  rougher.state.floatbank10_c_level                   14579 non-null  float64\n",
      " 15  rougher.state.floatbank10_d_air                     14579 non-null  float64\n",
      " 16  rougher.state.floatbank10_d_level                   14579 non-null  float64\n",
      " 17  rougher.state.floatbank10_e_air                     14150 non-null  float64\n",
      " 18  rougher.state.floatbank10_e_level                   14579 non-null  float64\n",
      " 19  rougher.state.floatbank10_f_air                     14579 non-null  float64\n",
      " 20  rougher.state.floatbank10_f_level                   14579 non-null  float64\n",
      " 21  rougher.input.floatbank11_sulfate                   14543 non-null  float64\n",
      " 22  rougher.input.floatbank11_xanthate                  14172 non-null  float64\n",
      " 23  rougher.calculation.sulfate_to_au_concentrate       14578 non-null  float64\n",
      " 24  rougher.calculation.floatbank10_sulfate_to_au_feed  14578 non-null  float64\n",
      " 25  rougher.calculation.floatbank11_sulfate_to_au_feed  14578 non-null  float64\n",
      " 26  rougher.calculation.au_pb_ratio                     14579 non-null  float64\n",
      " 27  rougher.output.concentrate_au                       14579 non-null  float64\n",
      " 28  rougher.output.concentrate_ag                       14579 non-null  float64\n",
      " 29  rougher.output.concentrate_pb                       14579 non-null  float64\n",
      " 30  rougher.output.concentrate_sol                      14561 non-null  float64\n",
      " 31  rougher.output.recovery                             14579 non-null  float64\n",
      " 32  rougher.output.tail_au                              14579 non-null  float64\n",
      " 33  rougher.output.tail_ag                              14578 non-null  float64\n",
      " 34  rougher.output.tail_pb                              14579 non-null  float64\n",
      " 35  rougher.output.tail_sol                             14579 non-null  float64\n",
      " 36  primary_cleaner.input.sulfate                       14556 non-null  float64\n",
      " 37  primary_cleaner.input.depressant                    14551 non-null  float64\n",
      " 38  primary_cleaner.input.feed_size                     14579 non-null  float64\n",
      " 39  primary_cleaner.input.xanthate                      14518 non-null  float64\n",
      " 40  primary_cleaner.state.floatbank8_a_air              14576 non-null  float64\n",
      " 41  primary_cleaner.state.floatbank8_a_level            14579 non-null  float64\n",
      " 42  primary_cleaner.state.floatbank8_b_air              14576 non-null  float64\n",
      " 43  primary_cleaner.state.floatbank8_b_level            14579 non-null  float64\n",
      " 44  primary_cleaner.state.floatbank8_c_air              14579 non-null  float64\n",
      " 45  primary_cleaner.state.floatbank8_c_level            14579 non-null  float64\n",
      " 46  primary_cleaner.state.floatbank8_d_air              14578 non-null  float64\n",
      " 47  primary_cleaner.state.floatbank8_d_level            14579 non-null  float64\n",
      " 48  primary_cleaner.output.concentrate_au               14579 non-null  float64\n",
      " 49  primary_cleaner.output.concentrate_ag               14579 non-null  float64\n",
      " 50  primary_cleaner.output.concentrate_pb               14491 non-null  float64\n",
      " 51  primary_cleaner.output.concentrate_sol              14314 non-null  float64\n",
      " 52  primary_cleaner.output.tail_au                      14579 non-null  float64\n",
      " 53  primary_cleaner.output.tail_ag                      14575 non-null  float64\n",
      " 54  primary_cleaner.output.tail_pb                      14573 non-null  float64\n",
      " 55  primary_cleaner.output.tail_sol                     14534 non-null  float64\n",
      " 56  secondary_cleaner.state.floatbank2_a_air            14485 non-null  float64\n",
      " 57  secondary_cleaner.state.floatbank2_a_level          14579 non-null  float64\n",
      " 58  secondary_cleaner.state.floatbank2_b_air            14557 non-null  float64\n",
      " 59  secondary_cleaner.state.floatbank2_b_level          14579 non-null  float64\n",
      " 60  secondary_cleaner.state.floatbank3_a_air            14567 non-null  float64\n",
      " 61  secondary_cleaner.state.floatbank3_a_level          14579 non-null  float64\n",
      " 62  secondary_cleaner.state.floatbank3_b_air            14579 non-null  float64\n",
      " 63  secondary_cleaner.state.floatbank3_b_level          14579 non-null  float64\n",
      " 64  secondary_cleaner.state.floatbank4_a_air            14574 non-null  float64\n",
      " 65  secondary_cleaner.state.floatbank4_a_level          14579 non-null  float64\n",
      " 66  secondary_cleaner.state.floatbank4_b_air            14579 non-null  float64\n",
      " 67  secondary_cleaner.state.floatbank4_b_level          14579 non-null  float64\n",
      " 68  secondary_cleaner.state.floatbank5_a_air            14579 non-null  float64\n",
      " 69  secondary_cleaner.state.floatbank5_a_level          14579 non-null  float64\n",
      " 70  secondary_cleaner.state.floatbank5_b_air            14579 non-null  float64\n",
      " 71  secondary_cleaner.state.floatbank5_b_level          14579 non-null  float64\n",
      " 72  secondary_cleaner.state.floatbank6_a_air            14578 non-null  float64\n",
      " 73  secondary_cleaner.state.floatbank6_a_level          14579 non-null  float64\n",
      " 74  secondary_cleaner.output.tail_au                    14579 non-null  float64\n",
      " 75  secondary_cleaner.output.tail_ag                    14578 non-null  float64\n",
      " 76  secondary_cleaner.output.tail_pb                    14575 non-null  float64\n",
      " 77  secondary_cleaner.output.tail_sol                   13659 non-null  float64\n",
      " 78  final.output.concentrate_au                         14579 non-null  float64\n",
      " 79  final.output.concentrate_ag                         14578 non-null  float64\n",
      " 80  final.output.concentrate_pb                         14578 non-null  float64\n",
      " 81  final.output.concentrate_sol                        14387 non-null  float64\n",
      " 82  final.output.recovery                               14579 non-null  float64\n",
      " 83  final.output.tail_au                                14579 non-null  float64\n",
      " 84  final.output.tail_ag                                14578 non-null  float64\n",
      " 85  final.output.tail_pb                                14504 non-null  float64\n",
      " 86  final.output.tail_sol                               14574 non-null  float64\n",
      "dtypes: float64(86), object(1)\n",
      "memory usage: 9.7+ MB\n",
      "Суммарное количество пропусков в датасете: 3050\n"
     ]
    },
    {
     "data": {
      "text/html": [
       "<div>\n",
       "<style scoped>\n",
       "    .dataframe tbody tr th:only-of-type {\n",
       "        vertical-align: middle;\n",
       "    }\n",
       "\n",
       "    .dataframe tbody tr th {\n",
       "        vertical-align: top;\n",
       "    }\n",
       "\n",
       "    .dataframe thead th {\n",
       "        text-align: right;\n",
       "    }\n",
       "</style>\n",
       "<table border=\"1\" class=\"dataframe\">\n",
       "  <thead>\n",
       "    <tr style=\"text-align: right;\">\n",
       "      <th></th>\n",
       "      <th>rougher.input.feed_au</th>\n",
       "      <th>rougher.input.feed_ag</th>\n",
       "      <th>rougher.input.feed_pb</th>\n",
       "      <th>rougher.input.feed_sol</th>\n",
       "      <th>rougher.input.feed_rate</th>\n",
       "      <th>rougher.input.feed_size</th>\n",
       "      <th>rougher.input.floatbank10_sulfate</th>\n",
       "      <th>rougher.input.floatbank10_xanthate</th>\n",
       "      <th>rougher.state.floatbank10_a_air</th>\n",
       "      <th>rougher.state.floatbank10_a_level</th>\n",
       "      <th>...</th>\n",
       "      <th>secondary_cleaner.output.tail_sol</th>\n",
       "      <th>final.output.concentrate_au</th>\n",
       "      <th>final.output.concentrate_ag</th>\n",
       "      <th>final.output.concentrate_pb</th>\n",
       "      <th>final.output.concentrate_sol</th>\n",
       "      <th>final.output.recovery</th>\n",
       "      <th>final.output.tail_au</th>\n",
       "      <th>final.output.tail_ag</th>\n",
       "      <th>final.output.tail_pb</th>\n",
       "      <th>final.output.tail_sol</th>\n",
       "    </tr>\n",
       "  </thead>\n",
       "  <tbody>\n",
       "    <tr>\n",
       "      <th>count</th>\n",
       "      <td>14579.000000</td>\n",
       "      <td>14579.000000</td>\n",
       "      <td>14507.000000</td>\n",
       "      <td>14502.000000</td>\n",
       "      <td>14572.000000</td>\n",
       "      <td>14478.000000</td>\n",
       "      <td>14548.000000</td>\n",
       "      <td>14572.000000</td>\n",
       "      <td>14579.000000</td>\n",
       "      <td>14579.000000</td>\n",
       "      <td>...</td>\n",
       "      <td>13659.000000</td>\n",
       "      <td>14579.000000</td>\n",
       "      <td>14578.000000</td>\n",
       "      <td>14578.000000</td>\n",
       "      <td>14387.000000</td>\n",
       "      <td>14579.000000</td>\n",
       "      <td>14579.000000</td>\n",
       "      <td>14578.000000</td>\n",
       "      <td>14504.000000</td>\n",
       "      <td>14574.000000</td>\n",
       "    </tr>\n",
       "    <tr>\n",
       "      <th>mean</th>\n",
       "      <td>8.352941</td>\n",
       "      <td>8.877460</td>\n",
       "      <td>3.604221</td>\n",
       "      <td>36.561420</td>\n",
       "      <td>474.332784</td>\n",
       "      <td>58.922712</td>\n",
       "      <td>12.427399</td>\n",
       "      <td>5.994854</td>\n",
       "      <td>1104.208278</td>\n",
       "      <td>-379.367166</td>\n",
       "      <td>...</td>\n",
       "      <td>7.111347</td>\n",
       "      <td>43.979499</td>\n",
       "      <td>5.192145</td>\n",
       "      <td>9.923809</td>\n",
       "      <td>9.566676</td>\n",
       "      <td>66.759066</td>\n",
       "      <td>3.087939</td>\n",
       "      <td>9.731972</td>\n",
       "      <td>2.719985</td>\n",
       "      <td>10.612745</td>\n",
       "    </tr>\n",
       "    <tr>\n",
       "      <th>std</th>\n",
       "      <td>1.934376</td>\n",
       "      <td>1.922536</td>\n",
       "      <td>1.056063</td>\n",
       "      <td>5.209823</td>\n",
       "      <td>108.503552</td>\n",
       "      <td>22.407410</td>\n",
       "      <td>3.428939</td>\n",
       "      <td>1.152873</td>\n",
       "      <td>162.235606</td>\n",
       "      <td>94.652311</td>\n",
       "      <td>...</td>\n",
       "      <td>3.909951</td>\n",
       "      <td>5.471437</td>\n",
       "      <td>1.388014</td>\n",
       "      <td>1.706976</td>\n",
       "      <td>2.805654</td>\n",
       "      <td>10.619709</td>\n",
       "      <td>0.915187</td>\n",
       "      <td>2.358143</td>\n",
       "      <td>0.958929</td>\n",
       "      <td>2.871075</td>\n",
       "    </tr>\n",
       "    <tr>\n",
       "      <th>min</th>\n",
       "      <td>0.010000</td>\n",
       "      <td>0.010000</td>\n",
       "      <td>0.010000</td>\n",
       "      <td>0.010000</td>\n",
       "      <td>0.002986</td>\n",
       "      <td>0.049194</td>\n",
       "      <td>0.001083</td>\n",
       "      <td>0.000568</td>\n",
       "      <td>-0.042069</td>\n",
       "      <td>-657.949759</td>\n",
       "      <td>...</td>\n",
       "      <td>0.000000</td>\n",
       "      <td>0.000000</td>\n",
       "      <td>0.000000</td>\n",
       "      <td>0.000000</td>\n",
       "      <td>0.000000</td>\n",
       "      <td>0.000000</td>\n",
       "      <td>0.000000</td>\n",
       "      <td>0.000000</td>\n",
       "      <td>0.000000</td>\n",
       "      <td>0.000000</td>\n",
       "    </tr>\n",
       "    <tr>\n",
       "      <th>25%</th>\n",
       "      <td>6.932996</td>\n",
       "      <td>7.341922</td>\n",
       "      <td>2.880490</td>\n",
       "      <td>34.093951</td>\n",
       "      <td>411.048483</td>\n",
       "      <td>47.278490</td>\n",
       "      <td>10.002832</td>\n",
       "      <td>5.304167</td>\n",
       "      <td>999.644856</td>\n",
       "      <td>-499.861797</td>\n",
       "      <td>...</td>\n",
       "      <td>3.784897</td>\n",
       "      <td>43.345906</td>\n",
       "      <td>4.283347</td>\n",
       "      <td>9.103183</td>\n",
       "      <td>7.860030</td>\n",
       "      <td>63.114596</td>\n",
       "      <td>2.505287</td>\n",
       "      <td>8.088928</td>\n",
       "      <td>2.036512</td>\n",
       "      <td>9.013412</td>\n",
       "    </tr>\n",
       "    <tr>\n",
       "      <th>50%</th>\n",
       "      <td>8.225284</td>\n",
       "      <td>8.715859</td>\n",
       "      <td>3.532399</td>\n",
       "      <td>37.097511</td>\n",
       "      <td>498.187968</td>\n",
       "      <td>54.361187</td>\n",
       "      <td>12.003320</td>\n",
       "      <td>6.003053</td>\n",
       "      <td>1000.982624</td>\n",
       "      <td>-300.314199</td>\n",
       "      <td>...</td>\n",
       "      <td>7.629968</td>\n",
       "      <td>44.975014</td>\n",
       "      <td>5.118647</td>\n",
       "      <td>10.046455</td>\n",
       "      <td>9.301970</td>\n",
       "      <td>67.962788</td>\n",
       "      <td>3.029238</td>\n",
       "      <td>9.818512</td>\n",
       "      <td>2.774847</td>\n",
       "      <td>10.670515</td>\n",
       "    </tr>\n",
       "    <tr>\n",
       "      <th>75%</th>\n",
       "      <td>9.832210</td>\n",
       "      <td>10.255843</td>\n",
       "      <td>4.257282</td>\n",
       "      <td>39.899799</td>\n",
       "      <td>549.586552</td>\n",
       "      <td>64.464926</td>\n",
       "      <td>14.929903</td>\n",
       "      <td>6.796632</td>\n",
       "      <td>1292.663971</td>\n",
       "      <td>-299.989315</td>\n",
       "      <td>...</td>\n",
       "      <td>10.367050</td>\n",
       "      <td>46.275153</td>\n",
       "      <td>5.925380</td>\n",
       "      <td>10.981203</td>\n",
       "      <td>11.001573</td>\n",
       "      <td>72.598187</td>\n",
       "      <td>3.614098</td>\n",
       "      <td>11.169187</td>\n",
       "      <td>3.353845</td>\n",
       "      <td>12.130827</td>\n",
       "    </tr>\n",
       "    <tr>\n",
       "      <th>max</th>\n",
       "      <td>13.731330</td>\n",
       "      <td>14.596026</td>\n",
       "      <td>7.052325</td>\n",
       "      <td>53.475325</td>\n",
       "      <td>717.508837</td>\n",
       "      <td>484.967466</td>\n",
       "      <td>36.118275</td>\n",
       "      <td>9.703448</td>\n",
       "      <td>1512.299531</td>\n",
       "      <td>-273.776101</td>\n",
       "      <td>...</td>\n",
       "      <td>26.000772</td>\n",
       "      <td>52.756638</td>\n",
       "      <td>16.001945</td>\n",
       "      <td>16.705297</td>\n",
       "      <td>19.423912</td>\n",
       "      <td>100.000000</td>\n",
       "      <td>8.245022</td>\n",
       "      <td>19.552149</td>\n",
       "      <td>5.804178</td>\n",
       "      <td>22.317730</td>\n",
       "    </tr>\n",
       "  </tbody>\n",
       "</table>\n",
       "<p>8 rows × 86 columns</p>\n",
       "</div>"
      ],
      "text/plain": [
       "       rougher.input.feed_au  rougher.input.feed_ag  rougher.input.feed_pb  \\\n",
       "count           14579.000000           14579.000000           14507.000000   \n",
       "mean                8.352941               8.877460               3.604221   \n",
       "std                 1.934376               1.922536               1.056063   \n",
       "min                 0.010000               0.010000               0.010000   \n",
       "25%                 6.932996               7.341922               2.880490   \n",
       "50%                 8.225284               8.715859               3.532399   \n",
       "75%                 9.832210              10.255843               4.257282   \n",
       "max                13.731330              14.596026               7.052325   \n",
       "\n",
       "       rougher.input.feed_sol  rougher.input.feed_rate  \\\n",
       "count            14502.000000             14572.000000   \n",
       "mean                36.561420               474.332784   \n",
       "std                  5.209823               108.503552   \n",
       "min                  0.010000                 0.002986   \n",
       "25%                 34.093951               411.048483   \n",
       "50%                 37.097511               498.187968   \n",
       "75%                 39.899799               549.586552   \n",
       "max                 53.475325               717.508837   \n",
       "\n",
       "       rougher.input.feed_size  rougher.input.floatbank10_sulfate  \\\n",
       "count             14478.000000                       14548.000000   \n",
       "mean                 58.922712                          12.427399   \n",
       "std                  22.407410                           3.428939   \n",
       "min                   0.049194                           0.001083   \n",
       "25%                  47.278490                          10.002832   \n",
       "50%                  54.361187                          12.003320   \n",
       "75%                  64.464926                          14.929903   \n",
       "max                 484.967466                          36.118275   \n",
       "\n",
       "       rougher.input.floatbank10_xanthate  rougher.state.floatbank10_a_air  \\\n",
       "count                        14572.000000                     14579.000000   \n",
       "mean                             5.994854                      1104.208278   \n",
       "std                              1.152873                       162.235606   \n",
       "min                              0.000568                        -0.042069   \n",
       "25%                              5.304167                       999.644856   \n",
       "50%                              6.003053                      1000.982624   \n",
       "75%                              6.796632                      1292.663971   \n",
       "max                              9.703448                      1512.299531   \n",
       "\n",
       "       rougher.state.floatbank10_a_level  ...  \\\n",
       "count                       14579.000000  ...   \n",
       "mean                         -379.367166  ...   \n",
       "std                            94.652311  ...   \n",
       "min                          -657.949759  ...   \n",
       "25%                          -499.861797  ...   \n",
       "50%                          -300.314199  ...   \n",
       "75%                          -299.989315  ...   \n",
       "max                          -273.776101  ...   \n",
       "\n",
       "       secondary_cleaner.output.tail_sol  final.output.concentrate_au  \\\n",
       "count                       13659.000000                 14579.000000   \n",
       "mean                            7.111347                    43.979499   \n",
       "std                             3.909951                     5.471437   \n",
       "min                             0.000000                     0.000000   \n",
       "25%                             3.784897                    43.345906   \n",
       "50%                             7.629968                    44.975014   \n",
       "75%                            10.367050                    46.275153   \n",
       "max                            26.000772                    52.756638   \n",
       "\n",
       "       final.output.concentrate_ag  final.output.concentrate_pb  \\\n",
       "count                 14578.000000                 14578.000000   \n",
       "mean                      5.192145                     9.923809   \n",
       "std                       1.388014                     1.706976   \n",
       "min                       0.000000                     0.000000   \n",
       "25%                       4.283347                     9.103183   \n",
       "50%                       5.118647                    10.046455   \n",
       "75%                       5.925380                    10.981203   \n",
       "max                      16.001945                    16.705297   \n",
       "\n",
       "       final.output.concentrate_sol  final.output.recovery  \\\n",
       "count                  14387.000000           14579.000000   \n",
       "mean                       9.566676              66.759066   \n",
       "std                        2.805654              10.619709   \n",
       "min                        0.000000               0.000000   \n",
       "25%                        7.860030              63.114596   \n",
       "50%                        9.301970              67.962788   \n",
       "75%                       11.001573              72.598187   \n",
       "max                       19.423912             100.000000   \n",
       "\n",
       "       final.output.tail_au  final.output.tail_ag  final.output.tail_pb  \\\n",
       "count          14579.000000          14578.000000          14504.000000   \n",
       "mean               3.087939              9.731972              2.719985   \n",
       "std                0.915187              2.358143              0.958929   \n",
       "min                0.000000              0.000000              0.000000   \n",
       "25%                2.505287              8.088928              2.036512   \n",
       "50%                3.029238              9.818512              2.774847   \n",
       "75%                3.614098             11.169187              3.353845   \n",
       "max                8.245022             19.552149              5.804178   \n",
       "\n",
       "       final.output.tail_sol  \n",
       "count           14574.000000  \n",
       "mean               10.612745  \n",
       "std                 2.871075  \n",
       "min                 0.000000  \n",
       "25%                 9.013412  \n",
       "50%                10.670515  \n",
       "75%                12.130827  \n",
       "max                22.317730  \n",
       "\n",
       "[8 rows x 86 columns]"
      ]
     },
     "metadata": {},
     "output_type": "display_data"
    }
   ],
   "source": [
    "print_info(train_data)"
   ]
  },
  {
   "cell_type": "code",
   "execution_count": 6,
   "metadata": {
    "collapsed": true
   },
   "outputs": [
    {
     "data": {
      "text/plain": [
       "(4860, 53)"
      ]
     },
     "metadata": {},
     "output_type": "display_data"
    },
    {
     "name": "stdout",
     "output_type": "stream",
     "text": [
      "<class 'pandas.core.frame.DataFrame'>\n",
      "RangeIndex: 4860 entries, 0 to 4859\n",
      "Data columns (total 53 columns):\n",
      " #   Column                                      Non-Null Count  Dtype  \n",
      "---  ------                                      --------------  -----  \n",
      " 0   date                                        4860 non-null   object \n",
      " 1   rougher.input.feed_au                       4860 non-null   float64\n",
      " 2   rougher.input.feed_ag                       4860 non-null   float64\n",
      " 3   rougher.input.feed_pb                       4832 non-null   float64\n",
      " 4   rougher.input.feed_sol                      4838 non-null   float64\n",
      " 5   rougher.input.feed_rate                     4856 non-null   float64\n",
      " 6   rougher.input.feed_size                     4816 non-null   float64\n",
      " 7   rougher.input.floatbank10_sulfate           4857 non-null   float64\n",
      " 8   rougher.input.floatbank10_xanthate          4859 non-null   float64\n",
      " 9   rougher.state.floatbank10_a_air             4859 non-null   float64\n",
      " 10  rougher.state.floatbank10_a_level           4859 non-null   float64\n",
      " 11  rougher.state.floatbank10_b_air             4859 non-null   float64\n",
      " 12  rougher.state.floatbank10_b_level           4859 non-null   float64\n",
      " 13  rougher.state.floatbank10_c_air             4859 non-null   float64\n",
      " 14  rougher.state.floatbank10_c_level           4859 non-null   float64\n",
      " 15  rougher.state.floatbank10_d_air             4860 non-null   float64\n",
      " 16  rougher.state.floatbank10_d_level           4860 non-null   float64\n",
      " 17  rougher.state.floatbank10_e_air             4853 non-null   float64\n",
      " 18  rougher.state.floatbank10_e_level           4860 non-null   float64\n",
      " 19  rougher.state.floatbank10_f_air             4860 non-null   float64\n",
      " 20  rougher.state.floatbank10_f_level           4860 non-null   float64\n",
      " 21  rougher.input.floatbank11_sulfate           4852 non-null   float64\n",
      " 22  rougher.input.floatbank11_xanthate          4814 non-null   float64\n",
      " 23  primary_cleaner.input.sulfate               4859 non-null   float64\n",
      " 24  primary_cleaner.input.depressant            4851 non-null   float64\n",
      " 25  primary_cleaner.input.feed_size             4860 non-null   float64\n",
      " 26  primary_cleaner.input.xanthate              4817 non-null   float64\n",
      " 27  primary_cleaner.state.floatbank8_a_air      4859 non-null   float64\n",
      " 28  primary_cleaner.state.floatbank8_a_level    4859 non-null   float64\n",
      " 29  primary_cleaner.state.floatbank8_b_air      4859 non-null   float64\n",
      " 30  primary_cleaner.state.floatbank8_b_level    4859 non-null   float64\n",
      " 31  primary_cleaner.state.floatbank8_c_air      4858 non-null   float64\n",
      " 32  primary_cleaner.state.floatbank8_c_level    4859 non-null   float64\n",
      " 33  primary_cleaner.state.floatbank8_d_air      4858 non-null   float64\n",
      " 34  primary_cleaner.state.floatbank8_d_level    4859 non-null   float64\n",
      " 35  secondary_cleaner.state.floatbank2_a_air    4734 non-null   float64\n",
      " 36  secondary_cleaner.state.floatbank2_a_level  4859 non-null   float64\n",
      " 37  secondary_cleaner.state.floatbank2_b_air    4859 non-null   float64\n",
      " 38  secondary_cleaner.state.floatbank2_b_level  4859 non-null   float64\n",
      " 39  secondary_cleaner.state.floatbank3_a_air    4859 non-null   float64\n",
      " 40  secondary_cleaner.state.floatbank3_a_level  4859 non-null   float64\n",
      " 41  secondary_cleaner.state.floatbank3_b_air    4859 non-null   float64\n",
      " 42  secondary_cleaner.state.floatbank3_b_level  4859 non-null   float64\n",
      " 43  secondary_cleaner.state.floatbank4_a_air    4859 non-null   float64\n",
      " 44  secondary_cleaner.state.floatbank4_a_level  4859 non-null   float64\n",
      " 45  secondary_cleaner.state.floatbank4_b_air    4859 non-null   float64\n",
      " 46  secondary_cleaner.state.floatbank4_b_level  4859 non-null   float64\n",
      " 47  secondary_cleaner.state.floatbank5_a_air    4859 non-null   float64\n",
      " 48  secondary_cleaner.state.floatbank5_a_level  4859 non-null   float64\n",
      " 49  secondary_cleaner.state.floatbank5_b_air    4859 non-null   float64\n",
      " 50  secondary_cleaner.state.floatbank5_b_level  4859 non-null   float64\n",
      " 51  secondary_cleaner.state.floatbank6_a_air    4859 non-null   float64\n",
      " 52  secondary_cleaner.state.floatbank6_a_level  4859 non-null   float64\n",
      "dtypes: float64(52), object(1)\n",
      "memory usage: 2.0+ MB\n",
      "Суммарное количество пропусков в датасете: 375\n"
     ]
    },
    {
     "data": {
      "text/html": [
       "<div>\n",
       "<style scoped>\n",
       "    .dataframe tbody tr th:only-of-type {\n",
       "        vertical-align: middle;\n",
       "    }\n",
       "\n",
       "    .dataframe tbody tr th {\n",
       "        vertical-align: top;\n",
       "    }\n",
       "\n",
       "    .dataframe thead th {\n",
       "        text-align: right;\n",
       "    }\n",
       "</style>\n",
       "<table border=\"1\" class=\"dataframe\">\n",
       "  <thead>\n",
       "    <tr style=\"text-align: right;\">\n",
       "      <th></th>\n",
       "      <th>rougher.input.feed_au</th>\n",
       "      <th>rougher.input.feed_ag</th>\n",
       "      <th>rougher.input.feed_pb</th>\n",
       "      <th>rougher.input.feed_sol</th>\n",
       "      <th>rougher.input.feed_rate</th>\n",
       "      <th>rougher.input.feed_size</th>\n",
       "      <th>rougher.input.floatbank10_sulfate</th>\n",
       "      <th>rougher.input.floatbank10_xanthate</th>\n",
       "      <th>rougher.state.floatbank10_a_air</th>\n",
       "      <th>rougher.state.floatbank10_a_level</th>\n",
       "      <th>...</th>\n",
       "      <th>secondary_cleaner.state.floatbank4_a_air</th>\n",
       "      <th>secondary_cleaner.state.floatbank4_a_level</th>\n",
       "      <th>secondary_cleaner.state.floatbank4_b_air</th>\n",
       "      <th>secondary_cleaner.state.floatbank4_b_level</th>\n",
       "      <th>secondary_cleaner.state.floatbank5_a_air</th>\n",
       "      <th>secondary_cleaner.state.floatbank5_a_level</th>\n",
       "      <th>secondary_cleaner.state.floatbank5_b_air</th>\n",
       "      <th>secondary_cleaner.state.floatbank5_b_level</th>\n",
       "      <th>secondary_cleaner.state.floatbank6_a_air</th>\n",
       "      <th>secondary_cleaner.state.floatbank6_a_level</th>\n",
       "    </tr>\n",
       "  </thead>\n",
       "  <tbody>\n",
       "    <tr>\n",
       "      <th>count</th>\n",
       "      <td>4860.000000</td>\n",
       "      <td>4860.000000</td>\n",
       "      <td>4832.000000</td>\n",
       "      <td>4838.000000</td>\n",
       "      <td>4856.000000</td>\n",
       "      <td>4816.000000</td>\n",
       "      <td>4857.000000</td>\n",
       "      <td>4859.000000</td>\n",
       "      <td>4859.000000</td>\n",
       "      <td>4859.000000</td>\n",
       "      <td>...</td>\n",
       "      <td>4.859000e+03</td>\n",
       "      <td>4859.000000</td>\n",
       "      <td>4.859000e+03</td>\n",
       "      <td>4859.000000</td>\n",
       "      <td>4859.000000</td>\n",
       "      <td>4859.000000</td>\n",
       "      <td>4859.000000</td>\n",
       "      <td>4859.000000</td>\n",
       "      <td>4859.000000</td>\n",
       "      <td>4859.000000</td>\n",
       "    </tr>\n",
       "    <tr>\n",
       "      <th>mean</th>\n",
       "      <td>8.005584</td>\n",
       "      <td>8.547348</td>\n",
       "      <td>3.579662</td>\n",
       "      <td>37.095864</td>\n",
       "      <td>490.285103</td>\n",
       "      <td>59.113400</td>\n",
       "      <td>12.055735</td>\n",
       "      <td>6.101308</td>\n",
       "      <td>1108.635895</td>\n",
       "      <td>-368.340127</td>\n",
       "      <td>...</td>\n",
       "      <td>1.985770e+01</td>\n",
       "      <td>-488.665140</td>\n",
       "      <td>1.557025e+01</td>\n",
       "      <td>-464.176507</td>\n",
       "      <td>16.594103</td>\n",
       "      <td>-490.815250</td>\n",
       "      <td>12.945971</td>\n",
       "      <td>-489.583564</td>\n",
       "      <td>19.053888</td>\n",
       "      <td>-504.678924</td>\n",
       "    </tr>\n",
       "    <tr>\n",
       "      <th>std</th>\n",
       "      <td>1.993590</td>\n",
       "      <td>1.958601</td>\n",
       "      <td>1.029377</td>\n",
       "      <td>4.926284</td>\n",
       "      <td>94.371623</td>\n",
       "      <td>19.125122</td>\n",
       "      <td>3.407642</td>\n",
       "      <td>1.042754</td>\n",
       "      <td>156.493143</td>\n",
       "      <td>91.155929</td>\n",
       "      <td>...</td>\n",
       "      <td>5.913105e+00</td>\n",
       "      <td>44.392714</td>\n",
       "      <td>4.927361e+00</td>\n",
       "      <td>65.706994</td>\n",
       "      <td>5.724305</td>\n",
       "      <td>32.258443</td>\n",
       "      <td>5.533176</td>\n",
       "      <td>37.084609</td>\n",
       "      <td>5.548996</td>\n",
       "      <td>38.690186</td>\n",
       "    </tr>\n",
       "    <tr>\n",
       "      <th>min</th>\n",
       "      <td>0.010000</td>\n",
       "      <td>0.010000</td>\n",
       "      <td>0.010000</td>\n",
       "      <td>0.010000</td>\n",
       "      <td>0.012786</td>\n",
       "      <td>0.046369</td>\n",
       "      <td>0.018907</td>\n",
       "      <td>0.015783</td>\n",
       "      <td>300.792494</td>\n",
       "      <td>-600.568138</td>\n",
       "      <td>...</td>\n",
       "      <td>1.079872e-16</td>\n",
       "      <td>-799.704969</td>\n",
       "      <td>2.489718e-17</td>\n",
       "      <td>-799.860767</td>\n",
       "      <td>-0.371498</td>\n",
       "      <td>-797.142475</td>\n",
       "      <td>1.358469</td>\n",
       "      <td>-800.006180</td>\n",
       "      <td>0.160386</td>\n",
       "      <td>-809.734800</td>\n",
       "    </tr>\n",
       "    <tr>\n",
       "      <th>25%</th>\n",
       "      <td>6.574363</td>\n",
       "      <td>6.975898</td>\n",
       "      <td>2.903612</td>\n",
       "      <td>34.510841</td>\n",
       "      <td>434.099695</td>\n",
       "      <td>47.596984</td>\n",
       "      <td>9.890429</td>\n",
       "      <td>5.499808</td>\n",
       "      <td>999.715729</td>\n",
       "      <td>-499.731972</td>\n",
       "      <td>...</td>\n",
       "      <td>1.501123e+01</td>\n",
       "      <td>-500.704004</td>\n",
       "      <td>1.202172e+01</td>\n",
       "      <td>-500.196517</td>\n",
       "      <td>11.073822</td>\n",
       "      <td>-500.483564</td>\n",
       "      <td>9.011890</td>\n",
       "      <td>-500.129913</td>\n",
       "      <td>14.963953</td>\n",
       "      <td>-500.668501</td>\n",
       "    </tr>\n",
       "    <tr>\n",
       "      <th>50%</th>\n",
       "      <td>7.812923</td>\n",
       "      <td>8.179714</td>\n",
       "      <td>3.540772</td>\n",
       "      <td>37.499761</td>\n",
       "      <td>502.118742</td>\n",
       "      <td>55.509481</td>\n",
       "      <td>11.997859</td>\n",
       "      <td>6.099805</td>\n",
       "      <td>1001.414798</td>\n",
       "      <td>-300.181367</td>\n",
       "      <td>...</td>\n",
       "      <td>1.996807e+01</td>\n",
       "      <td>-499.892919</td>\n",
       "      <td>1.501240e+01</td>\n",
       "      <td>-499.540776</td>\n",
       "      <td>16.631195</td>\n",
       "      <td>-499.873136</td>\n",
       "      <td>11.999417</td>\n",
       "      <td>-499.955304</td>\n",
       "      <td>19.960006</td>\n",
       "      <td>-500.033769</td>\n",
       "    </tr>\n",
       "    <tr>\n",
       "      <th>75%</th>\n",
       "      <td>9.556589</td>\n",
       "      <td>10.084339</td>\n",
       "      <td>4.199847</td>\n",
       "      <td>40.461315</td>\n",
       "      <td>555.596563</td>\n",
       "      <td>66.661547</td>\n",
       "      <td>14.496072</td>\n",
       "      <td>6.802101</td>\n",
       "      <td>1202.837565</td>\n",
       "      <td>-299.961547</td>\n",
       "      <td>...</td>\n",
       "      <td>2.498900e+01</td>\n",
       "      <td>-498.652030</td>\n",
       "      <td>1.999949e+01</td>\n",
       "      <td>-400.302329</td>\n",
       "      <td>19.983191</td>\n",
       "      <td>-498.852815</td>\n",
       "      <td>15.004198</td>\n",
       "      <td>-499.643776</td>\n",
       "      <td>24.974583</td>\n",
       "      <td>-499.460134</td>\n",
       "    </tr>\n",
       "    <tr>\n",
       "      <th>max</th>\n",
       "      <td>13.417156</td>\n",
       "      <td>14.533698</td>\n",
       "      <td>7.142594</td>\n",
       "      <td>53.477742</td>\n",
       "      <td>702.523396</td>\n",
       "      <td>363.989699</td>\n",
       "      <td>30.010759</td>\n",
       "      <td>9.396928</td>\n",
       "      <td>1521.980372</td>\n",
       "      <td>-281.039299</td>\n",
       "      <td>...</td>\n",
       "      <td>3.008450e+01</td>\n",
       "      <td>-383.373053</td>\n",
       "      <td>2.398898e+01</td>\n",
       "      <td>-114.250832</td>\n",
       "      <td>33.215996</td>\n",
       "      <td>-288.963521</td>\n",
       "      <td>24.177106</td>\n",
       "      <td>-141.934397</td>\n",
       "      <td>32.028529</td>\n",
       "      <td>-104.427459</td>\n",
       "    </tr>\n",
       "  </tbody>\n",
       "</table>\n",
       "<p>8 rows × 52 columns</p>\n",
       "</div>"
      ],
      "text/plain": [
       "       rougher.input.feed_au  rougher.input.feed_ag  rougher.input.feed_pb  \\\n",
       "count            4860.000000            4860.000000            4832.000000   \n",
       "mean                8.005584               8.547348               3.579662   \n",
       "std                 1.993590               1.958601               1.029377   \n",
       "min                 0.010000               0.010000               0.010000   \n",
       "25%                 6.574363               6.975898               2.903612   \n",
       "50%                 7.812923               8.179714               3.540772   \n",
       "75%                 9.556589              10.084339               4.199847   \n",
       "max                13.417156              14.533698               7.142594   \n",
       "\n",
       "       rougher.input.feed_sol  rougher.input.feed_rate  \\\n",
       "count             4838.000000              4856.000000   \n",
       "mean                37.095864               490.285103   \n",
       "std                  4.926284                94.371623   \n",
       "min                  0.010000                 0.012786   \n",
       "25%                 34.510841               434.099695   \n",
       "50%                 37.499761               502.118742   \n",
       "75%                 40.461315               555.596563   \n",
       "max                 53.477742               702.523396   \n",
       "\n",
       "       rougher.input.feed_size  rougher.input.floatbank10_sulfate  \\\n",
       "count              4816.000000                        4857.000000   \n",
       "mean                 59.113400                          12.055735   \n",
       "std                  19.125122                           3.407642   \n",
       "min                   0.046369                           0.018907   \n",
       "25%                  47.596984                           9.890429   \n",
       "50%                  55.509481                          11.997859   \n",
       "75%                  66.661547                          14.496072   \n",
       "max                 363.989699                          30.010759   \n",
       "\n",
       "       rougher.input.floatbank10_xanthate  rougher.state.floatbank10_a_air  \\\n",
       "count                         4859.000000                      4859.000000   \n",
       "mean                             6.101308                      1108.635895   \n",
       "std                              1.042754                       156.493143   \n",
       "min                              0.015783                       300.792494   \n",
       "25%                              5.499808                       999.715729   \n",
       "50%                              6.099805                      1001.414798   \n",
       "75%                              6.802101                      1202.837565   \n",
       "max                              9.396928                      1521.980372   \n",
       "\n",
       "       rougher.state.floatbank10_a_level  ...  \\\n",
       "count                        4859.000000  ...   \n",
       "mean                         -368.340127  ...   \n",
       "std                            91.155929  ...   \n",
       "min                          -600.568138  ...   \n",
       "25%                          -499.731972  ...   \n",
       "50%                          -300.181367  ...   \n",
       "75%                          -299.961547  ...   \n",
       "max                          -281.039299  ...   \n",
       "\n",
       "       secondary_cleaner.state.floatbank4_a_air  \\\n",
       "count                              4.859000e+03   \n",
       "mean                               1.985770e+01   \n",
       "std                                5.913105e+00   \n",
       "min                                1.079872e-16   \n",
       "25%                                1.501123e+01   \n",
       "50%                                1.996807e+01   \n",
       "75%                                2.498900e+01   \n",
       "max                                3.008450e+01   \n",
       "\n",
       "       secondary_cleaner.state.floatbank4_a_level  \\\n",
       "count                                 4859.000000   \n",
       "mean                                  -488.665140   \n",
       "std                                     44.392714   \n",
       "min                                   -799.704969   \n",
       "25%                                   -500.704004   \n",
       "50%                                   -499.892919   \n",
       "75%                                   -498.652030   \n",
       "max                                   -383.373053   \n",
       "\n",
       "       secondary_cleaner.state.floatbank4_b_air  \\\n",
       "count                              4.859000e+03   \n",
       "mean                               1.557025e+01   \n",
       "std                                4.927361e+00   \n",
       "min                                2.489718e-17   \n",
       "25%                                1.202172e+01   \n",
       "50%                                1.501240e+01   \n",
       "75%                                1.999949e+01   \n",
       "max                                2.398898e+01   \n",
       "\n",
       "       secondary_cleaner.state.floatbank4_b_level  \\\n",
       "count                                 4859.000000   \n",
       "mean                                  -464.176507   \n",
       "std                                     65.706994   \n",
       "min                                   -799.860767   \n",
       "25%                                   -500.196517   \n",
       "50%                                   -499.540776   \n",
       "75%                                   -400.302329   \n",
       "max                                   -114.250832   \n",
       "\n",
       "       secondary_cleaner.state.floatbank5_a_air  \\\n",
       "count                               4859.000000   \n",
       "mean                                  16.594103   \n",
       "std                                    5.724305   \n",
       "min                                   -0.371498   \n",
       "25%                                   11.073822   \n",
       "50%                                   16.631195   \n",
       "75%                                   19.983191   \n",
       "max                                   33.215996   \n",
       "\n",
       "       secondary_cleaner.state.floatbank5_a_level  \\\n",
       "count                                 4859.000000   \n",
       "mean                                  -490.815250   \n",
       "std                                     32.258443   \n",
       "min                                   -797.142475   \n",
       "25%                                   -500.483564   \n",
       "50%                                   -499.873136   \n",
       "75%                                   -498.852815   \n",
       "max                                   -288.963521   \n",
       "\n",
       "       secondary_cleaner.state.floatbank5_b_air  \\\n",
       "count                               4859.000000   \n",
       "mean                                  12.945971   \n",
       "std                                    5.533176   \n",
       "min                                    1.358469   \n",
       "25%                                    9.011890   \n",
       "50%                                   11.999417   \n",
       "75%                                   15.004198   \n",
       "max                                   24.177106   \n",
       "\n",
       "       secondary_cleaner.state.floatbank5_b_level  \\\n",
       "count                                 4859.000000   \n",
       "mean                                  -489.583564   \n",
       "std                                     37.084609   \n",
       "min                                   -800.006180   \n",
       "25%                                   -500.129913   \n",
       "50%                                   -499.955304   \n",
       "75%                                   -499.643776   \n",
       "max                                   -141.934397   \n",
       "\n",
       "       secondary_cleaner.state.floatbank6_a_air  \\\n",
       "count                               4859.000000   \n",
       "mean                                  19.053888   \n",
       "std                                    5.548996   \n",
       "min                                    0.160386   \n",
       "25%                                   14.963953   \n",
       "50%                                   19.960006   \n",
       "75%                                   24.974583   \n",
       "max                                   32.028529   \n",
       "\n",
       "       secondary_cleaner.state.floatbank6_a_level  \n",
       "count                                 4859.000000  \n",
       "mean                                  -504.678924  \n",
       "std                                     38.690186  \n",
       "min                                   -809.734800  \n",
       "25%                                   -500.668501  \n",
       "50%                                   -500.033769  \n",
       "75%                                   -499.460134  \n",
       "max                                   -104.427459  \n",
       "\n",
       "[8 rows x 52 columns]"
      ]
     },
     "metadata": {},
     "output_type": "display_data"
    }
   ],
   "source": [
    "print_info(test_data)"
   ]
  },
  {
   "cell_type": "markdown",
   "metadata": {},
   "source": [
    "### 1.2. Рассчёт эффективности обогащения"
   ]
  },
  {
   "cell_type": "markdown",
   "metadata": {},
   "source": [
    "Проверим рассчёты эффективности обогащения в обучающей выборке из столбца train_data['rougher.output.recovery']. \n",
    "\n",
    "Расчитаем эффективность обогащенияпо формуле:\n",
    "\n",
    "recovery = C * (F - T) / (F * (C - T)) * 100\n",
    "\n",
    "**Где:**\n",
    "\n",
    "C — доля золота в концентрате после флотации/очистки\n",
    "F — доля золота в сырье/концентрате до флотации/очистки\n",
    "T — доля золота в отвальных хвостах после флотации/очистки\n",
    "Найдём cреднюю абсолютную ошибку между нашими расчётами и значением признака в столбце. Так мы узнаем верно ли рассчитана эффективность обогащения в нашем признаке."
   ]
  },
  {
   "cell_type": "code",
   "execution_count": 7,
   "metadata": {},
   "outputs": [],
   "source": [
    "C = train_data['rougher.output.concentrate_au']\n",
    "F = train_data['rougher.input.feed_au']\n",
    "T = train_data['rougher.output.tail_au']\n",
    "recovery = C * (F - T) / (F * (C - T)) * 100"
   ]
  },
  {
   "cell_type": "code",
   "execution_count": 8,
   "metadata": {
    "scrolled": true
   },
   "outputs": [
    {
     "name": "stdout",
     "output_type": "stream",
     "text": [
      "MAE: 9.83758577644259e-15\n"
     ]
    }
   ],
   "source": [
    "ma_error = mae(train_data['rougher.output.recovery'], recovery)\n",
    "print('MAE:', ma_error)"
   ]
  },
  {
   "cell_type": "code",
   "execution_count": 9,
   "metadata": {
    "scrolled": true
   },
   "outputs": [
    {
     "data": {
      "text/plain": [
       "['rougher.calculation.sulfate_to_au_concentrate',\n",
       " 'rougher.calculation.floatbank10_sulfate_to_au_feed',\n",
       " 'rougher.calculation.floatbank11_sulfate_to_au_feed',\n",
       " 'rougher.calculation.au_pb_ratio',\n",
       " 'rougher.output.concentrate_au',\n",
       " 'rougher.output.concentrate_ag',\n",
       " 'rougher.output.concentrate_pb',\n",
       " 'rougher.output.concentrate_sol',\n",
       " 'rougher.output.recovery',\n",
       " 'rougher.output.tail_au',\n",
       " 'rougher.output.tail_ag',\n",
       " 'rougher.output.tail_pb',\n",
       " 'rougher.output.tail_sol',\n",
       " 'primary_cleaner.output.concentrate_au',\n",
       " 'primary_cleaner.output.concentrate_ag',\n",
       " 'primary_cleaner.output.concentrate_pb',\n",
       " 'primary_cleaner.output.concentrate_sol',\n",
       " 'primary_cleaner.output.tail_au',\n",
       " 'primary_cleaner.output.tail_ag',\n",
       " 'primary_cleaner.output.tail_pb',\n",
       " 'primary_cleaner.output.tail_sol',\n",
       " 'secondary_cleaner.output.tail_au',\n",
       " 'secondary_cleaner.output.tail_ag',\n",
       " 'secondary_cleaner.output.tail_pb',\n",
       " 'secondary_cleaner.output.tail_sol',\n",
       " 'final.output.concentrate_au',\n",
       " 'final.output.concentrate_ag',\n",
       " 'final.output.concentrate_pb',\n",
       " 'final.output.concentrate_sol',\n",
       " 'final.output.recovery',\n",
       " 'final.output.tail_au',\n",
       " 'final.output.tail_ag',\n",
       " 'final.output.tail_pb',\n",
       " 'final.output.tail_sol']"
      ]
     },
     "execution_count": 9,
     "metadata": {},
     "output_type": "execute_result"
    }
   ],
   "source": [
    "drop_columns_list= [i for i in train_data.columns if i not in test_data.columns]\n",
    "drop_columns_list"
   ]
  },
  {
   "cell_type": "markdown",
   "metadata": {},
   "source": [
    "В тестовой выборке у нас отсутствуют все этапы с характеристиками продукта из сырья. Это говорит нам о том, что на этапе разбивки обучающего датасета нужно удалить из train_data все остуствующие в test_data признаки, иначе мы не построим проверяемую модель, но сделаем это после очистки train_data, непосредственно на этапе выделения целевых признаков."
   ]
  },
  {
   "cell_type": "markdown",
   "metadata": {},
   "source": [
    "### 1.3. Предобработка данных\n",
    "\n",
    "- сортировка данных по столбцам **'date'**\n",
    "- восстановление пропусков в full_data, train_data"
   ]
  },
  {
   "cell_type": "code",
   "execution_count": 10,
   "metadata": {},
   "outputs": [],
   "source": [
    "filled_full_data = full_data.sort_values(by='date').ffill()\n",
    "filled_train_data = train_data.sort_values(by='date').ffill()\n",
    "filled_test_data = test_data.sort_values(by='date').ffill()"
   ]
  },
  {
   "cell_type": "code",
   "execution_count": 11,
   "metadata": {},
   "outputs": [
    {
     "name": "stdout",
     "output_type": "stream",
     "text": [
      "Количество пропусков до обработки данных в тестовой выборке: 375\n",
      "Количество пропусков после обработки данных в тестовой выборке: 0\n",
      "Количество пропусков до обработки данных в обучающей выборке: 3050\n",
      "Количество пропусков после обработки данных в обучающей выборке: 0\n",
      "Количество пропусков до обработки данных в полном датасете: 4481\n",
      "Количество пропусков после обработки данны в полном датасете: 0\n"
     ]
    }
   ],
   "source": [
    "print('Количество пропусков до обработки данных в тестовой выборке:', test_data.isnull().sum().sum())\n",
    "print('Количество пропусков после обработки данных в тестовой выборке:', filled_test_data.isnull().sum().sum())\n",
    "print('Количество пропусков до обработки данных в обучающей выборке:', train_data.isnull().sum().sum())\n",
    "print('Количество пропусков после обработки данных в обучающей выборке:', filled_train_data.isnull().sum().sum())\n",
    "print('Количество пропусков до обработки данных в полном датасете:', full_data.isnull().sum().sum())\n",
    "print('Количество пропусков после обработки данны в полном датасете:', filled_full_data.isnull().sum().sum())"
   ]
  },
  {
   "cell_type": "markdown",
   "metadata": {},
   "source": [
    "## Анализ данных"
   ]
  },
  {
   "cell_type": "markdown",
   "metadata": {},
   "source": [
    "### 2.1. Анализ концентрации металлов на различных этапах очистки.\n",
    "\n",
    "Чтобы вручную не искать по 87 столбцам нужные нам значения, напишем функцию отбора нужных нам столбцов по фрагментам в названиях столбцов."
   ]
  },
  {
   "cell_type": "code",
   "execution_count": 12,
   "metadata": {},
   "outputs": [],
   "source": [
    "def metal_tag_function(df, metal, tag):\n",
    "    tag_list = df.columns.str.contains(tag)\n",
    "    metal_tag_list = df.columns[tag_list].str.contains(metal)\n",
    "    final_list = df.columns[tag_list][metal_tag_list]\n",
    "    return df[final_list] \n",
    "\n",
    "metal_list = ['au', 'pb', 'ag']\n",
    "stage_list = ['input', 'rougher.output.conc', 'cleaner.output.conc', 'final.output.conc']"
   ]
  },
  {
   "cell_type": "code",
   "execution_count": 13,
   "metadata": {},
   "outputs": [
    {
     "data": {
      "image/png": "[encoded data removed]",
      "text/plain": [
       "<Figure size 432x288 with 1 Axes>"
      ]
     },
     "metadata": {
      "needs_background": "light"
     },
     "output_type": "display_data"
    }
   ],
   "source": [
    "for stage in stage_list:\n",
    "    stage_concent = 0\n",
    "    for metal in metal_list:\n",
    "        metal_stage_list = metal_tag_function(filled_train_data, metal, stage)\n",
    "        stage_concent = np.add(stage_concent, metal_stage_list)\n",
    "    bins = 100\n",
    "    plt.hist(stage_concent, bins, alpha=0.5)\n",
    "    \n",
    "plt.legend(['cырьё', 'черновой концентрат', 'концентрат после первой очистки', 'финальный концентрат'], loc='upper left')\n",
    "plt.title('Суммарная концентрация всех веществ на разных стадиях')\n",
    "plt.xlabel('суммарная концентрация металлов')\n",
    "plt.ylabel('соотношение')\n",
    "plt.show()"
   ]
  },
  {
   "cell_type": "code",
   "execution_count": 14,
   "metadata": {},
   "outputs": [
    {
     "name": "stdout",
     "output_type": "stream",
     "text": [
      "Концентрация металла au в процессе очистки по стадиям:\n"
     ]
    },
    {
     "data": {
      "text/plain": [
       "0                                         0.000000\n",
       "rougher.input.feed_au                     8.125839\n",
       "rougher.output.concentrate_au            20.280214\n",
       "primary_cleaner.output.concentrate_au    32.841295\n",
       "final.output.concentrate_au              45.011244\n",
       "dtype: float64"
      ]
     },
     "metadata": {},
     "output_type": "display_data"
    },
    {
     "name": "stdout",
     "output_type": "stream",
     "text": [
      "Концентрация металла pb в процессе очистки по стадиям:\n"
     ]
    },
    {
     "data": {
      "text/plain": [
       "0                                         0.000000\n",
       "rougher.input.feed_pb                     3.528235\n",
       "rougher.output.concentrate_pb             7.742580\n",
       "primary_cleaner.output.concentrate_pb    10.142270\n",
       "final.output.concentrate_pb              10.102264\n",
       "dtype: float64"
      ]
     },
     "metadata": {},
     "output_type": "display_data"
    },
    {
     "name": "stdout",
     "output_type": "stream",
     "text": [
      "Концентрация металла ag в процессе очистки по стадиям:\n"
     ]
    },
    {
     "data": {
      "text/plain": [
       "0                                         0.000000\n",
       "rougher.input.feed_ag                     8.593574\n",
       "rougher.output.concentrate_ag            12.098115\n",
       "primary_cleaner.output.concentrate_ag     8.507298\n",
       "final.output.concentrate_ag               5.066039\n",
       "dtype: float64"
      ]
     },
     "metadata": {},
     "output_type": "display_data"
    },
    {
     "data": {
      "image/png": "[encoded data removed]",
      "text/plain": [
       "<Figure size 360x360 with 1 Axes>"
      ]
     },
     "metadata": {
      "needs_background": "light"
     },
     "output_type": "display_data"
    },
    {
     "data": {
      "image/png": "[encoded data removed]",
      "text/plain": [
       "<Figure size 360x360 with 1 Axes>"
      ]
     },
     "metadata": {
      "needs_background": "light"
     },
     "output_type": "display_data"
    },
    {
     "data": {
      "image/png": "[encoded data removed]",
      "text/plain": [
       "<Figure size 360x360 with 1 Axes>"
      ]
     },
     "metadata": {
      "needs_background": "light"
     },
     "output_type": "display_data"
    }
   ],
   "source": [
    "for metal in metal_list:\n",
    "    metal_data = pd.Series([0])\n",
    "    for stage in stage_list:\n",
    "        metal_stage_list = metal_tag_function(filled_full_data, metal, stage)\n",
    "        metal_data = pd.concat((metal_data, metal_stage_list), axis=1)\n",
    "        \n",
    "    print('Концентрация металла '+ metal + ' в процессе очистки по стадиям:')\n",
    "    display(metal_data.median());\n",
    "    \n",
    "    sns.displot(metal_data, legend=False, kind='kde')\n",
    "    \n",
    "    plt.legend(['финальный концентрат', 'первичная очистка', 'после флотации', 'сырье'], fontsize=10)\n",
    "    plt.title('Изменение концентрации ' + metal +' после разных этапов обработки')"
   ]
  },
  {
   "cell_type": "markdown",
   "metadata": {},
   "source": [
    "Видим, что аномальные значения лежат где-то возле нуля. Так что где-то до 25 можно смело удалить для построения более точной модели, но для сырья поставим значение меньше 1, т.к. мы не знаем в каком виде может поступать сырьё на производство."
   ]
  },
  {
   "cell_type": "code",
   "execution_count": 15,
   "metadata": {},
   "outputs": [
    {
     "name": "stdout",
     "output_type": "stream",
     "text": [
      "Осталось % данных в обучающей выборке: 94.77\n"
     ]
    }
   ],
   "source": [
    "#correct_train_data = filled_train_data[filled_train_data['rougher.input.feed_au'] >= 2]\n",
    "correct_train_data = filled_train_data[filled_train_data['rougher.output.concentrate_au'] >= 5]\n",
    "correct_train_data = correct_train_data[filled_train_data['primary_cleaner.output.concentrate_au'] >= 8]\n",
    "correct_train_data = correct_train_data[filled_train_data['final.output.concentrate_au'] >= 11]\n",
    "\n",
    "print('Осталось % данных в обучающей выборке:', \n",
    "      round(100*correct_train_data.shape[0]/filled_train_data.shape[0], 2)) "
   ]
  },
  {
   "cell_type": "markdown",
   "metadata": {},
   "source": [
    "Удалили около 5.2% данных в обучающей выборке"
   ]
  },
  {
   "cell_type": "markdown",
   "metadata": {},
   "source": [
    "Проверим распределение концентраций металлов после каждой стадии на очищенной обучающей выборке"
   ]
  },
  {
   "cell_type": "code",
   "execution_count": 16,
   "metadata": {},
   "outputs": [
    {
     "data": {
      "image/png": "[encoded data removed]",
      "text/plain": [
       "<Figure size 432x288 with 1 Axes>"
      ]
     },
     "metadata": {
      "needs_background": "light"
     },
     "output_type": "display_data"
    }
   ],
   "source": [
    "for stage in stage_list:\n",
    "    stage_concent = 0\n",
    "    for metal in metal_list:\n",
    "        metal_stage_list = metal_tag_function(correct_train_data, metal, stage)\n",
    "        stage_concent = np.add(stage_concent, metal_stage_list)\n",
    "    bins = 100\n",
    "    plt.hist(stage_concent, bins, alpha=0.5)\n",
    "    \n",
    "plt.legend(['cырьё', 'черновой концентрат', 'концентрат после первой очистки', 'финальный концентрат'], loc='upper left')\n",
    "plt.title('Суммарная концентрация всех веществ на разных стадиях')\n",
    "plt.xlabel('суммарная концентрация металлов')\n",
    "plt.ylabel('соотношение')\n",
    "plt.show()"
   ]
  },
  {
   "cell_type": "markdown",
   "metadata": {},
   "source": [
    "После примененения фильтров нулевых значений золота на каждой стадии, выбросов суммарной концентрации не стало, значит удаления околонулевых значений золота оказалось достаточным для удаления других нулевых значений металлов на всех стадиях"
   ]
  },
  {
   "cell_type": "markdown",
   "metadata": {},
   "source": [
    "### Распределения размеров гранул сырья на обучающей и тестовой выборках"
   ]
  },
  {
   "cell_type": "code",
   "execution_count": 17,
   "metadata": {},
   "outputs": [
    {
     "data": {
      "image/png": "[encoded data removed]",
      "text/plain": [
       "<Figure size 720x432 with 1 Axes>"
      ]
     },
     "metadata": {
      "needs_background": "light"
     },
     "output_type": "display_data"
    }
   ],
   "source": [
    "#Распределения размеров гранул сырья на обучающей и тестовой выборках до флотации\n",
    "plt.figure(figsize=(10,6))\n",
    "sns.distplot(correct_train_data['rougher.input.feed_size'], hist=False, kde=True, label = 'train')\n",
    "sns.distplot(filled_test_data['rougher.input.feed_size'], hist=False, kde=True,label = 'test')\n",
    "plt.title('Размер гранул')\n",
    "plt.legend(prop={'size': 14}, title = 'Frame')\n",
    "plt.show()"
   ]
  },
  {
   "cell_type": "code",
   "execution_count": 18,
   "metadata": {},
   "outputs": [
    {
     "data": {
      "image/png": "[encoded data removed]",
      "text/plain": [
       "<Figure size 720x432 with 1 Axes>"
      ]
     },
     "metadata": {
      "needs_background": "light"
     },
     "output_type": "display_data"
    }
   ],
   "source": [
    "#Распределения размеров гранул сырья на обучающей и тестовой выборках перед первой очисткой\n",
    "plt.figure(figsize=(10,6))\n",
    "sns.distplot(correct_train_data['primary_cleaner.input.feed_size'], hist = False, kde = True, label = 'train')\n",
    "sns.distplot(filled_test_data['primary_cleaner.input.feed_size'], hist = False, kde = True,label = 'test')\n",
    "plt.title('Размер гранул')\n",
    "plt.legend(prop={'size': 14}, title = 'Frame')\n",
    "plt.show()"
   ]
  },
  {
   "cell_type": "markdown",
   "metadata": {},
   "source": [
    "Размеры гранул в очищенной обучающей и сырой тестовой выборках на двух этапах очистки распределены практически одинаково, значит можно приступать к обучению моделей. "
   ]
  },
  {
   "cell_type": "markdown",
   "metadata": {},
   "source": [
    "## Модель"
   ]
  },
  {
   "cell_type": "markdown",
   "metadata": {},
   "source": [
    "### Подготовка признаков к регрессиям"
   ]
  },
  {
   "cell_type": "markdown",
   "metadata": {},
   "source": [
    "Выделим признаки в обучающей и тестовой выборках, целевых признака будет два - 'rougher.output.recovery', 'final.output.recovery', рассчёт итоговой оценки будет представлен функцией ниже."
   ]
  },
  {
   "cell_type": "code",
   "execution_count": 19,
   "metadata": {},
   "outputs": [
    {
     "name": "stdout",
     "output_type": "stream",
     "text": [
      "Обучающая выборка:\n"
     ]
    },
    {
     "data": {
      "text/plain": [
       "(13816, 52)"
      ]
     },
     "metadata": {},
     "output_type": "display_data"
    },
    {
     "data": {
      "text/plain": [
       "(13816,)"
      ]
     },
     "metadata": {},
     "output_type": "display_data"
    },
    {
     "data": {
      "text/plain": [
       "(13816,)"
      ]
     },
     "metadata": {},
     "output_type": "display_data"
    },
    {
     "name": "stdout",
     "output_type": "stream",
     "text": [
      "Тестовая выборка:\n"
     ]
    },
    {
     "data": {
      "text/plain": [
       "(4860, 52)"
      ]
     },
     "metadata": {},
     "output_type": "display_data"
    },
    {
     "data": {
      "text/plain": [
       "(4860,)"
      ]
     },
     "metadata": {},
     "output_type": "display_data"
    },
    {
     "data": {
      "text/plain": [
       "(4860,)"
      ]
     },
     "metadata": {},
     "output_type": "display_data"
    },
    {
     "name": "stdout",
     "output_type": "stream",
     "text": [
      "Коэффициент (test_size) разбиения выборок: 0.26\n"
     ]
    }
   ],
   "source": [
    "train = correct_train_data.copy()\n",
    "train_features = train.drop('date', axis = 1)\n",
    "train_features = train_features.drop(drop_columns_list, axis = 1)\n",
    "train_target_raw = train['rougher.output.recovery']\n",
    "train_target_final = train['final.output.recovery']\n",
    "print('Обучающая выборка:')\n",
    "display(train_features.shape)\n",
    "display(train_target_raw.shape)\n",
    "display(train_target_final.shape)\n",
    "#Добавление в test целевых признаков\n",
    "test = filled_test_data.merge(filled_full_data[['date', 'rougher.output.recovery', 'final.output.recovery']],\n",
    "                               on='date', how='left')\n",
    "test_features = test.drop(['date', 'rougher.output.recovery', 'final.output.recovery'], axis = 1)\n",
    "test_target_raw = test['rougher.output.recovery']\n",
    "test_target_final = test['final.output.recovery']\n",
    "print('Тестовая выборка:')\n",
    "display(test_features.shape)\n",
    "display(test_target_raw.shape)\n",
    "display(test_target_final.shape)\n",
    "\n",
    "print('Коэффициент (test_size) разбиения выборок:', round(test.shape[0]/(train.shape[0]+test.shape[0]), 2))"
   ]
  },
  {
   "cell_type": "markdown",
   "metadata": {},
   "source": [
    "Значение **аналога test_size в train_test_split()** близко к класическому диапазону 0.20-0.25."
   ]
  },
  {
   "cell_type": "markdown",
   "metadata": {},
   "source": [
    "Подготовим критерии оценки моделей с помощью функций SMAPE, final_SMAPE. Зададим постоянные значения для random_state, cv."
   ]
  },
  {
   "cell_type": "code",
   "execution_count": 20,
   "metadata": {},
   "outputs": [],
   "source": [
    "def SMAPE(x, y):\n",
    "    return abs(200*np.sum(np.abs(y-x)/(np.abs(x) + np.abs(y)))/len(x))\n",
    "smape_scorer = make_scorer(SMAPE, greater_is_better=False)\n",
    "\n",
    "RANDOM_STATE=12345\n",
    "CV=5"
   ]
  },
  {
   "cell_type": "markdown",
   "metadata": {},
   "source": [
    "Все признаки количественные (**float64**), масшатибуем их."
   ]
  },
  {
   "cell_type": "code",
   "execution_count": 21,
   "metadata": {},
   "outputs": [],
   "source": [
    "scaler = StandardScaler()\n",
    "scaler.fit(train_features)\n",
    "train_features = scaler.transform(train_features)\n",
    "test_features = scaler.transform(test_features)\n",
    "pd.options.mode.chained_assignment=None"
   ]
  },
  {
   "cell_type": "markdown",
   "metadata": {},
   "source": [
    "### Составление моделей и проверка их на адекватность"
   ]
  },
  {
   "cell_type": "markdown",
   "metadata": {},
   "source": [
    "Рассмотрим три класса простых регрессий: \n",
    "1) линейная **Lasso**\n",
    "2) случайный лес **RandomForestRegressor**\n",
    "3) решающее дерево **DecisionTreeRegressor**\n",
    "\n",
    "и для оценки адекватности моделей будем использовать - \n",
    "\n",
    "4) константную модель **DummyRegressor**"
   ]
  },
  {
   "cell_type": "code",
   "execution_count": 22,
   "metadata": {},
   "outputs": [],
   "source": [
    "lasso_model = Lasso(random_state=RANDOM_STATE)\n",
    "rfreg_model = RandomForestRegressor(random_state=RANDOM_STATE)\n",
    "dtreg_model = DecisionTreeRegressor(random_state=RANDOM_STATE)\n",
    "dummy_model = DummyRegressor()"
   ]
  },
  {
   "cell_type": "markdown",
   "metadata": {},
   "source": [
    "Отметим для себя ключевые гиперпараметры всех четырёх регрессоров"
   ]
  },
  {
   "cell_type": "code",
   "execution_count": 23,
   "metadata": {},
   "outputs": [
    {
     "data": {
      "text/plain": [
       "dict_keys(['alpha', 'copy_X', 'fit_intercept', 'max_iter', 'normalize', 'positive', 'precompute', 'random_state', 'selection', 'tol', 'warm_start'])"
      ]
     },
     "execution_count": 23,
     "metadata": {},
     "output_type": "execute_result"
    }
   ],
   "source": [
    "lasso_model.get_params().keys()"
   ]
  },
  {
   "cell_type": "code",
   "execution_count": 24,
   "metadata": {},
   "outputs": [
    {
     "data": {
      "text/plain": [
       "dict_keys(['bootstrap', 'ccp_alpha', 'criterion', 'max_depth', 'max_features', 'max_leaf_nodes', 'max_samples', 'min_impurity_decrease', 'min_impurity_split', 'min_samples_leaf', 'min_samples_split', 'min_weight_fraction_leaf', 'n_estimators', 'n_jobs', 'oob_score', 'random_state', 'verbose', 'warm_start'])"
      ]
     },
     "execution_count": 24,
     "metadata": {},
     "output_type": "execute_result"
    }
   ],
   "source": [
    "rfreg_model.get_params().keys()"
   ]
  },
  {
   "cell_type": "code",
   "execution_count": 25,
   "metadata": {},
   "outputs": [
    {
     "data": {
      "text/plain": [
       "dict_keys(['ccp_alpha', 'criterion', 'max_depth', 'max_features', 'max_leaf_nodes', 'min_impurity_decrease', 'min_impurity_split', 'min_samples_leaf', 'min_samples_split', 'min_weight_fraction_leaf', 'random_state', 'splitter'])"
      ]
     },
     "execution_count": 25,
     "metadata": {},
     "output_type": "execute_result"
    }
   ],
   "source": [
    "dtreg_model.get_params().keys()"
   ]
  },
  {
   "cell_type": "markdown",
   "metadata": {},
   "source": [
    "#### Посчитаем **sMAPE** у лучшего **DummyRegressor**"
   ]
  },
  {
   "cell_type": "code",
   "execution_count": 26,
   "metadata": {},
   "outputs": [
    {
     "data": {
      "text/plain": [
       "dict_keys(['constant', 'quantile', 'strategy'])"
      ]
     },
     "execution_count": 26,
     "metadata": {},
     "output_type": "execute_result"
    }
   ],
   "source": [
    "dummy_model.get_params().keys()"
   ]
  },
  {
   "cell_type": "code",
   "execution_count": 27,
   "metadata": {
    "scrolled": true
   },
   "outputs": [
    {
     "data": {
      "text/plain": [
       "{'strategy': 'median'}"
      ]
     },
     "metadata": {},
     "output_type": "display_data"
    },
    {
     "data": {
      "text/plain": [
       "{'strategy': 'median'}"
      ]
     },
     "metadata": {},
     "output_type": "display_data"
    },
    {
     "name": "stdout",
     "output_type": "stream",
     "text": [
      "sMAPE лучшей модели Dummy: -9.16\n",
      "CPU times: user 99.8 ms, sys: 608 µs, total: 100 ms\n",
      "Wall time: 121 ms\n"
     ]
    }
   ],
   "source": [
    "%%time\n",
    "\n",
    "dummy_params = dict(strategy=['mean', 'median'])\n",
    "\n",
    "dummy_gscv_raw = GridSearchCV(dummy_model, dummy_params, cv=CV, scoring=smape_scorer)\n",
    "dummy_gscv_raw.fit(train_features, train_target_raw)\n",
    "dummy_best_raw = dummy_gscv_raw.best_params_\n",
    "dummy_gscv_final = GridSearchCV(dummy_model, dummy_params, cv=CV, scoring=smape_scorer)\n",
    "dummy_gscv_final.fit(train_features, train_target_final)\n",
    "dummy_best_final = dummy_gscv_final.best_params_\n",
    "\n",
    "display(dummy_best_raw, dummy_best_final)\n",
    "dummy_final_SMAPE = dummy_gscv_raw.best_score_*0.25+dummy_gscv_final.best_score_*0.75\n",
    "print('sMAPE лучшей модели Dummy:', round(dummy_final_SMAPE, 2))"
   ]
  },
  {
   "cell_type": "markdown",
   "metadata": {},
   "source": [
    "#### Проверка адекватности линейной модели Lasso на обучающей выборке"
   ]
  },
  {
   "cell_type": "code",
   "execution_count": 28,
   "metadata": {},
   "outputs": [
    {
     "data": {
      "text/plain": [
       "{'alpha': 0.1, 'copy_X': True}"
      ]
     },
     "metadata": {},
     "output_type": "display_data"
    },
    {
     "data": {
      "text/plain": [
       "{'alpha': 0.1, 'copy_X': True}"
      ]
     },
     "metadata": {},
     "output_type": "display_data"
    },
    {
     "name": "stdout",
     "output_type": "stream",
     "text": [
      "sMAPE лучшей модели Lasso: -8.39\n",
      "CPU times: user 42.5 s, sys: 1min 22s, total: 2min 4s\n",
      "Wall time: 2min 5s\n"
     ]
    }
   ],
   "source": [
    "%%time\n",
    "\n",
    "lasso_params = dict(alpha=[0.01, 0.02, 0.03, 0.05, 0.1],\n",
    "                    copy_X=[True, False],\n",
    "                    #fit_intercept=[True, False],\n",
    "                    #max_iter=[1, 5, 10, 50, 100]\n",
    "                   )\n",
    "\n",
    "lasso_gscv_raw = GridSearchCV(lasso_model, lasso_params, cv=CV, scoring=smape_scorer)\n",
    "lasso_gscv_raw.fit(train_features, train_target_raw)\n",
    "lasso_best_raw = lasso_gscv_raw.best_params_\n",
    "lasso_gscv_final = GridSearchCV(lasso_model, lasso_params, cv=CV, scoring=smape_scorer)\n",
    "lasso_gscv_final.fit(train_features, train_target_final)\n",
    "lasso_best_final = lasso_gscv_final.best_params_\n",
    "\n",
    "display(lasso_best_raw, lasso_best_final)\n",
    "lasso_final_SMAPE = lasso_gscv_raw.best_score_*0.25+lasso_gscv_final.best_score_*0.75\n",
    "print('sMAPE лучшей модели Lasso:', round(lasso_final_SMAPE, 2))"
   ]
  },
  {
   "cell_type": "markdown",
   "metadata": {},
   "source": [
    "sMAPE lasso = -8.39 меньше -9.16 **по модулю**. Регрессия **Lasso** адекватна."
   ]
  },
  {
   "cell_type": "markdown",
   "metadata": {},
   "source": [
    "#### Проверка адекватности модели DecisionTreeRegressor на обучающей выборке"
   ]
  },
  {
   "cell_type": "code",
   "execution_count": 29,
   "metadata": {},
   "outputs": [
    {
     "data": {
      "text/plain": [
       "{'max_depth': 5, 'min_samples_split': 10}"
      ]
     },
     "metadata": {},
     "output_type": "display_data"
    },
    {
     "data": {
      "text/plain": [
       "{'max_depth': 5, 'min_samples_split': 2}"
      ]
     },
     "metadata": {},
     "output_type": "display_data"
    },
    {
     "name": "stdout",
     "output_type": "stream",
     "text": [
      "sMAPE лучшей модели DecisionTree: -9.32\n",
      "CPU times: user 41.7 s, sys: 1.12 s, total: 42.9 s\n",
      "Wall time: 43 s\n"
     ]
    }
   ],
   "source": [
    "%%time\n",
    "\n",
    "dtreg_params = dict(#splitter=['random', 'best'],\n",
    "                    max_depth=[5, 10, 20],\n",
    "                    min_samples_split=[2, 5, 10],\n",
    "                    #criterion=['squared_error', 'absolute_error'] #- очень долгая проверка  \n",
    "                   )\n",
    "\n",
    "dtreg_gscv_raw = GridSearchCV(dtreg_model, dtreg_params, cv=CV, scoring=smape_scorer)\n",
    "dtreg_gscv_raw.fit(train_features, train_target_raw)\n",
    "dtreg_best_raw = dtreg_gscv_raw.best_params_\n",
    "dtreg_gscv_final = GridSearchCV(dtreg_model, dtreg_params, cv=CV, scoring=smape_scorer)\n",
    "dtreg_gscv_final.fit(train_features, train_target_final)\n",
    "dtreg_best_final = dtreg_gscv_final.best_params_\n",
    "\n",
    "display(dtreg_best_raw, dtreg_best_final)\n",
    "dtreg_final_SMAPE = dtreg_gscv_raw.best_score_*0.25+dtreg_gscv_final.best_score_*0.75\n",
    "print('sMAPE лучшей модели DecisionTree:', round(dtreg_final_SMAPE, 2))"
   ]
  },
  {
   "cell_type": "markdown",
   "metadata": {},
   "source": [
    "sMAPE of DecisionTreeRegressor = -9.32 **по модулю** больше -9.16. Регрессия **DecisionTree** неадекватна."
   ]
  },
  {
   "cell_type": "markdown",
   "metadata": {},
   "source": [
    "#### Проверка адекватности модели RandomForestRegressor на обучающей выборке"
   ]
  },
  {
   "cell_type": "markdown",
   "metadata": {},
   "source": [
    "В регрессии  по умолчанию n_estimators=100, очень долго считает. Взяли **n_estimators=10**, для ускорения рассчётов."
   ]
  },
  {
   "cell_type": "code",
   "execution_count": 30,
   "metadata": {},
   "outputs": [
    {
     "data": {
      "text/plain": [
       "{'max_depth': 5, 'min_samples_split': 5, 'n_estimators': 10}"
      ]
     },
     "metadata": {},
     "output_type": "display_data"
    },
    {
     "data": {
      "text/plain": [
       "{'max_depth': 5, 'min_samples_split': 5, 'n_estimators': 10}"
      ]
     },
     "metadata": {},
     "output_type": "display_data"
    },
    {
     "name": "stdout",
     "output_type": "stream",
     "text": [
      "sMAPE лучшей модели RandomForest: -8.36\n",
      "CPU times: user 1min 30s, sys: 1.3 s, total: 1min 31s\n",
      "Wall time: 1min 31s\n"
     ]
    }
   ],
   "source": [
    "%%time\n",
    "\n",
    "rfreg_params = dict(#criterion=['squared_error', 'absolute_error'], \n",
    "                    n_estimators=[10],# 100] - сильно долго 100,\n",
    "                    max_depth=[5, 10],\n",
    "                    min_samples_split=[2, 5],\n",
    "                    )\n",
    "\n",
    "rfreg_gscv_raw = GridSearchCV(rfreg_model, rfreg_params, cv=CV, scoring=smape_scorer)\n",
    "rfreg_gscv_raw.fit(train_features, train_target_raw)\n",
    "rfreg_best_raw = rfreg_gscv_raw.best_params_\n",
    "rfreg_gscv_final = GridSearchCV(rfreg_model, rfreg_params, cv=CV, scoring=smape_scorer)\n",
    "rfreg_gscv_final.fit(train_features, train_target_final)\n",
    "rfreg_best_final = rfreg_gscv_final.best_params_\n",
    "\n",
    "display(rfreg_best_raw, rfreg_best_final)\n",
    "rfreg_final_SMAPE = rfreg_gscv_raw.best_score_*0.25+rfreg_gscv_final.best_score_*0.75\n",
    "print('sMAPE лучшей модели RandomForest:', round(rfreg_final_SMAPE, 2))"
   ]
  },
  {
   "cell_type": "markdown",
   "metadata": {},
   "source": [
    "sMAPE of RandomForestRegressor = -8.36 по модулю меньше -9.16. Регрессия адекватна. \n",
    "\n",
    "8.5 мин с n_estimator=10, 16.5 мин с n_estimator=20"
   ]
  },
  {
   "cell_type": "markdown",
   "metadata": {},
   "source": [
    "### Проверка лучшей модели на тестовой выборке."
   ]
  },
  {
   "cell_type": "code",
   "execution_count": 31,
   "metadata": {},
   "outputs": [
    {
     "data": {
      "text/plain": [
       "{'max_depth': 5, 'min_samples_split': 5, 'n_estimators': 10}"
      ]
     },
     "metadata": {},
     "output_type": "display_data"
    },
    {
     "data": {
      "text/plain": [
       "{'max_depth': 5, 'min_samples_split': 5, 'n_estimators': 10}"
      ]
     },
     "metadata": {},
     "output_type": "display_data"
    }
   ],
   "source": [
    "display(rfreg_best_raw)\n",
    "display(rfreg_best_final)"
   ]
  },
  {
   "cell_type": "code",
   "execution_count": 32,
   "metadata": {},
   "outputs": [],
   "source": [
    "rfreg_prediction_raw = rfreg_gscv_raw.predict(test_features)\n",
    "rfreg_prediction_final = rfreg_gscv_final.predict(test_features)\n",
    "dummy_prediction_raw = dummy_gscv_raw.predict(test_features)\n",
    "dummy_prediction_final = dummy_gscv_final.predict(test_features)"
   ]
  },
  {
   "cell_type": "code",
   "execution_count": 33,
   "metadata": {},
   "outputs": [
    {
     "name": "stdout",
     "output_type": "stream",
     "text": [
      "sMAPE Dummy на тестовой выборке: 8.3\n",
      "sMAPE RandomForrest на тестовой выборке: 6.54\n",
      "CPU times: user 8.82 ms, sys: 527 µs, total: 9.35 ms\n",
      "Wall time: 7.43 ms\n"
     ]
    }
   ],
   "source": [
    "%%time\n",
    "\n",
    "dummy_SMAPE_raw = SMAPE(dummy_prediction_raw, test_target_raw)\n",
    "best_SMAPE_raw = SMAPE(rfreg_prediction_raw, test_target_raw)\n",
    "dummy_SMAPE_final = SMAPE(dummy_prediction_final, test_target_final)\n",
    "best_SMAPE_final = SMAPE(rfreg_prediction_final, test_target_final)\n",
    "\n",
    "dummy_SMAPE = 0.25*dummy_SMAPE_raw + 0.75*dummy_SMAPE_final\n",
    "best_SMAPE = 0.25*best_SMAPE_raw + 0.75*best_SMAPE_final\n",
    "\n",
    "print('sMAPE Dummy на тестовой выборке:', round(dummy_SMAPE, 2))\n",
    "print('sMAPE RandomForrest на тестовой выборке:', round(best_SMAPE, 2)) "
   ]
  },
  {
   "cell_type": "code",
   "execution_count": 35,
   "metadata": {},
   "outputs": [],
   "source": [
    "lasso_prediction_raw = lasso_gscv_raw.predict(test_features)\n",
    "lasso_prediction_final = lasso_gscv_final.predict(test_features)"
   ]
  },
  {
   "cell_type": "code",
   "execution_count": 37,
   "metadata": {
    "scrolled": true
   },
   "outputs": [
    {
     "name": "stdout",
     "output_type": "stream",
     "text": [
      "sMAPE Lasso на тестовой выборке: 7.09\n",
      "CPU times: user 4.6 ms, sys: 337 µs, total: 4.93 ms\n",
      "Wall time: 3.69 ms\n"
     ]
    }
   ],
   "source": [
    "%%time\n",
    "\n",
    "best_SMAPE_raw = SMAPE(lasso_prediction_raw, test_target_raw)\n",
    "best_SMAPE_final = SMAPE(lasso_prediction_final, test_target_final)\n",
    "\n",
    "best_SMAPE = 0.25*best_SMAPE_raw + 0.75*best_SMAPE_final\n",
    "print('sMAPE Lasso на тестовой выборке:', round(best_SMAPE, 2)) "
   ]
  },
  {
   "cell_type": "markdown",
   "metadata": {},
   "source": [
    "На тестовой выборке оказалocь: sMAPE RandomForrest <  sMAPE Lasso < sMAPE Dummy. Для наглядности построим графики предсказаний **RandomForrest** модели и сравним с реальными данными."
   ]
  },
  {
   "cell_type": "code",
   "execution_count": 38,
   "metadata": {},
   "outputs": [
    {
     "data": {
      "image/png": "[encoded data removed]",
      "text/plain": [
       "<Figure size 720x432 with 1 Axes>"
      ]
     },
     "metadata": {
      "needs_background": "light"
     },
     "output_type": "display_data"
    }
   ],
   "source": [
    "plt.figure(figsize=(10,6))\n",
    "sns.distplot(test_target_raw, hist=False, kde=True, label='target_raw')\n",
    "sns.distplot(test_target_final, hist=False, kde=True, label='target_final')\n",
    "sns.distplot(rfreg_prediction_raw, hist=False, kde=True, label='prediction_raw')\n",
    "sns.distplot(rfreg_prediction_final, hist=False, kde=True, label='prediction_final')\n",
    "plt.title('Предсказания и практика')\n",
    "plt.legend(prop={'size': 14}, title = 'Легенда')\n",
    "plt.show()"
   ]
  },
  {
   "cell_type": "markdown",
   "metadata": {},
   "source": [
    "**Вывод:**\n",
    "- Значение sMAPE по модулю для DummyRegressor: 9.2 - на обучающей, 8.3 - на тестовой выборке\n",
    "- Значение sMAPE для Lasso и RandomForestRegressor на обучающей выборке: ~8.4. Модели адекватны.\n",
    "- Значение sMAPE для Lasso и RandomForestRegressor на тестовой выборке равны соответственно 7.1  и 6.5\n",
    "- Наибольшее по модулю значение sMAPE для DecisionTreeRegressor: 9.3. Модель неадекватна.\n",
    "- Проверены модели Lasso и RandomForestRegressor на тестовых данных. Посчитаны sMAPE этих моделей и полученые значения сравнили со значением sMAPE константной модели. \n",
    "- Графики целевых признаков и их предсказаний лучшей модели (RandomForestRegressor) представлены в одном поле для визуальной оценки адекватности прогноза."
   ]
  },
  {
   "cell_type": "markdown",
   "metadata": {},
   "source": [
    "# Вывод\n",
    "\n",
    "- Исследованы данные. Написана функиция поиска столбцов по двум тегам. Был заполнены пропуски методом **ffill**, то есть значением из предыдущей ячейки. \n",
    "- С помощью функции поиска и циклов были исследовано распределение суммарной концентрации металлов на всех стадиях очистки. Вид: - нормальное сужающееся распределение в сторону увеличения концентраций.\n",
    "- Концентрация золота увеличивается на всех этапах обработки. Максимальная концентрация свинца достигается после стадии первичной очистки. Максимальная концентрация серебра - после флотации.\n",
    "- По признаку концентрации золота на первых двух этапах, были выявлены и удалены аномально низкие значения концентрации золота на всех этапах. Удалено примерно 5.2% в данных обучающей выборки.\n",
    "- Были выделены признаки в обучающей выборке, остуствующие в тестовой. На основе содержания данных столбцах из полной выборки были выделены и добавлены в тестовую целевые признаки.\n",
    "- Размеры гранул сырья на всех стадиях в обучающей и тестовой выборках распределены почти одинаково.\n",
    "- Была написана функция рассчёта sMAPE, и этот показатель был применён в качестве оценки исследуемых моделей.\n",
    "- Было проведено исследование трёх моделей регрессий и подобраны, исходя из минимизации sMAPE, гиперпараметры этих моделей\n",
    "- С помощью константной модели, все другие были проверены на адекватность, а также была выявлена лучшая модель по признаку наименьшего значения sMAPE. Этой моделью оказалась регрессия Случайный Лес. \n",
    "- Была почитана метрика sMAPE лучшей модели на тестовых данных, её значение сравнили со значением sMAPE константной модели на тех же тестовых данных. Были построены графики реальных значений и аппроксимаций."
   ]
  }
 ],
 "metadata": {
  "ExecuteTimeLog": [
   {
    "duration": 6127,
    "start_time": "2023-06-08T07:31:20.239Z"
   },
   {
    "duration": 217,
    "start_time": "2023-06-08T07:31:26.370Z"
   },
   {
    "duration": 0,
    "start_time": "2023-06-08T07:31:26.589Z"
   },
   {
    "duration": 0,
    "start_time": "2023-06-08T07:31:26.590Z"
   },
   {
    "duration": 0,
    "start_time": "2023-06-08T07:31:26.592Z"
   },
   {
    "duration": 0,
    "start_time": "2023-06-08T07:31:26.593Z"
   },
   {
    "duration": 0,
    "start_time": "2023-06-08T07:31:26.594Z"
   },
   {
    "duration": 0,
    "start_time": "2023-06-08T07:31:26.595Z"
   },
   {
    "duration": 2355,
    "start_time": "2023-06-08T07:32:54.162Z"
   },
   {
    "duration": 5,
    "start_time": "2023-06-08T07:33:01.737Z"
   },
   {
    "duration": 442,
    "start_time": "2023-06-08T07:33:05.220Z"
   },
   {
    "duration": 362,
    "start_time": "2023-06-08T07:33:06.124Z"
   },
   {
    "duration": 217,
    "start_time": "2023-06-08T07:33:06.758Z"
   },
   {
    "duration": 8,
    "start_time": "2023-06-08T07:33:09.202Z"
   },
   {
    "duration": 6,
    "start_time": "2023-06-08T07:33:11.330Z"
   },
   {
    "duration": 47,
    "start_time": "2023-06-08T07:50:25.942Z"
   },
   {
    "duration": 23,
    "start_time": "2023-06-08T07:50:26.720Z"
   },
   {
    "duration": 4,
    "start_time": "2023-06-08T07:50:27.677Z"
   },
   {
    "duration": 776,
    "start_time": "2023-06-08T07:50:27.885Z"
   },
   {
    "duration": 4129,
    "start_time": "2023-06-08T07:50:28.663Z"
   },
   {
    "duration": 32,
    "start_time": "2023-06-08T07:50:32.794Z"
   },
   {
    "duration": 13,
    "start_time": "2023-06-08T07:50:32.829Z"
   },
   {
    "duration": 32,
    "start_time": "2023-06-08T07:50:32.843Z"
   },
   {
    "duration": 823,
    "start_time": "2023-06-08T07:50:32.877Z"
   },
   {
    "duration": 391,
    "start_time": "2023-06-08T07:50:33.850Z"
   },
   {
    "duration": 588,
    "start_time": "2023-06-08T07:50:34.588Z"
   },
   {
    "duration": 7,
    "start_time": "2023-06-08T07:50:38.157Z"
   },
   {
    "duration": 40,
    "start_time": "2023-06-08T07:50:41.936Z"
   },
   {
    "duration": 4,
    "start_time": "2023-06-08T07:50:44.449Z"
   },
   {
    "duration": 19,
    "start_time": "2023-06-08T07:50:46.150Z"
   },
   {
    "duration": 28,
    "start_time": "2023-06-08T07:51:10.818Z"
   },
   {
    "duration": 4,
    "start_time": "2023-06-08T07:51:12.007Z"
   },
   {
    "duration": 8,
    "start_time": "2023-06-08T07:51:13.035Z"
   },
   {
    "duration": 4,
    "start_time": "2023-06-08T07:51:13.573Z"
   },
   {
    "duration": 5,
    "start_time": "2023-06-08T07:51:14.111Z"
   },
   {
    "duration": 5,
    "start_time": "2023-06-08T07:51:15.706Z"
   },
   {
    "duration": 110,
    "start_time": "2023-06-08T07:51:16.277Z"
   },
   {
    "duration": 2087,
    "start_time": "2023-06-09T09:35:24.717Z"
   },
   {
    "duration": 2238,
    "start_time": "2023-06-09T09:35:26.806Z"
   },
   {
    "duration": 3,
    "start_time": "2023-06-09T09:35:29.046Z"
   },
   {
    "duration": 308,
    "start_time": "2023-06-09T09:35:29.051Z"
   },
   {
    "duration": 239,
    "start_time": "2023-06-09T09:35:29.360Z"
   },
   {
    "duration": 144,
    "start_time": "2023-06-09T09:35:29.601Z"
   },
   {
    "duration": 5,
    "start_time": "2023-06-09T09:35:29.747Z"
   },
   {
    "duration": 9,
    "start_time": "2023-06-09T09:35:29.753Z"
   },
   {
    "duration": 9,
    "start_time": "2023-06-09T09:35:29.764Z"
   },
   {
    "duration": 48,
    "start_time": "2023-06-09T09:35:29.775Z"
   },
   {
    "duration": 36,
    "start_time": "2023-06-09T09:35:29.825Z"
   },
   {
    "duration": 3,
    "start_time": "2023-06-09T09:35:29.863Z"
   },
   {
    "duration": 759,
    "start_time": "2023-06-09T09:35:29.867Z"
   },
   {
    "duration": 3864,
    "start_time": "2023-06-09T09:35:30.628Z"
   },
   {
    "duration": 22,
    "start_time": "2023-06-09T09:35:34.494Z"
   },
   {
    "duration": 725,
    "start_time": "2023-06-09T09:35:34.517Z"
   },
   {
    "duration": 420,
    "start_time": "2023-06-09T09:35:35.244Z"
   },
   {
    "duration": 608,
    "start_time": "2023-06-09T09:35:35.665Z"
   },
   {
    "duration": 37,
    "start_time": "2023-06-09T09:35:36.275Z"
   },
   {
    "duration": 4,
    "start_time": "2023-06-09T09:35:36.313Z"
   },
   {
    "duration": 20,
    "start_time": "2023-06-09T09:35:36.341Z"
   },
   {
    "duration": 3,
    "start_time": "2023-06-09T09:35:36.363Z"
   },
   {
    "duration": 9,
    "start_time": "2023-06-09T09:35:36.367Z"
   },
   {
    "duration": 6,
    "start_time": "2023-06-09T09:35:36.378Z"
   },
   {
    "duration": 6,
    "start_time": "2023-06-09T09:35:36.386Z"
   },
   {
    "duration": 8,
    "start_time": "2023-06-09T09:35:36.394Z"
   },
   {
    "duration": 127,
    "start_time": "2023-06-09T09:35:36.403Z"
   },
   {
    "duration": 125014,
    "start_time": "2023-06-09T09:35:36.533Z"
   },
   {
    "duration": 42959,
    "start_time": "2023-06-09T09:37:41.549Z"
   },
   {
    "duration": 91673,
    "start_time": "2023-06-09T09:38:24.510Z"
   },
   {
    "duration": 5,
    "start_time": "2023-06-09T09:39:56.185Z"
   },
   {
    "duration": 15,
    "start_time": "2023-06-09T09:39:56.192Z"
   },
   {
    "duration": 12,
    "start_time": "2023-06-09T09:46:48.492Z"
   },
   {
    "duration": 353,
    "start_time": "2023-06-09T09:48:01.120Z"
   },
   {
    "duration": 5,
    "start_time": "2023-06-09T09:48:18.422Z"
   },
   {
    "duration": 9,
    "start_time": "2023-06-09T09:48:21.929Z"
   },
   {
    "duration": 8,
    "start_time": "2023-06-09T09:48:37.256Z"
   },
   {
    "duration": 295,
    "start_time": "2023-06-09T09:51:29.118Z"
   }
  ],
  "kernelspec": {
   "display_name": "Python 3 (ipykernel)",
   "language": "python",
   "name": "python3"
  },
  "language_info": {
   "codemirror_mode": {
    "name": "ipython",
    "version": 3
   },
   "file_extension": ".py",
   "mimetype": "text/x-python",
   "name": "python",
   "nbconvert_exporter": "python",
   "pygments_lexer": "ipython3",
   "version": "3.10.9"
  },
  "toc": {
   "base_numbering": 1,
   "nav_menu": {},
   "number_sections": true,
   "sideBar": true,
   "skip_h1_title": true,
   "title_cell": "Содержание",
   "title_sidebar": "Contents",
   "toc_cell": true,
   "toc_position": {},
   "toc_section_display": true,
   "toc_window_display": true
  }
 },
 "nbformat": 4,
 "nbformat_minor": 2
}
