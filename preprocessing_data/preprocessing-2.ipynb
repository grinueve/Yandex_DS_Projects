{
 "cells": [
  {
   "cell_type": "markdown",
   "id": "f397369f",
   "metadata": {
    "deletable": false,
    "editable": false,
    "id": "c81daeeb"
   },
   "source": [
    "# Исследование надежности заемщиков\n"
   ]
  },
  {
   "cell_type": "markdown",
   "id": "14b94f73",
   "metadata": {
    "deletable": false,
    "editable": false,
    "id": "827c20bf"
   },
   "source": [
    "Во второй части проекта вы выполните шаги 3 и 4. Их вручную проверит ревьюер.\n",
    "Чтобы вам не пришлось писать код заново для шагов 1 и 2, мы добавили авторские решения в ячейки с кодом. \n",
    "\n"
   ]
  },
  {
   "cell_type": "markdown",
   "id": "f371c696",
   "metadata": {
    "deletable": false,
    "editable": false,
    "id": "744d7639"
   },
   "source": [
    "## Откройте таблицу и изучите общую информацию о данных"
   ]
  },
  {
   "cell_type": "markdown",
   "id": "7915894e",
   "metadata": {
    "deletable": false,
    "editable": false,
    "id": "e7a14c31"
   },
   "source": [
    "**Задание 1. Импортируйте библиотеку pandas. Считайте данные из csv-файла в датафрейм и сохраните в переменную `data`. Путь к файлу:**\n",
    "\n",
    "`/datasets/data.csv`"
   ]
  },
  {
   "cell_type": "code",
   "execution_count": 1,
   "id": "a12ffa5e",
   "metadata": {
    "deletable": false,
    "id": "7bcf75c9"
   },
   "outputs": [],
   "source": [
    "import pandas as pd\n",
    "\n",
    "try:\n",
    "    data = pd.read_csv('/datasets/data.csv')\n",
    "except:\n",
    "    data = pd.read_csv('https://code.s3.yandex.net/datasets/data.csv')"
   ]
  },
  {
   "cell_type": "markdown",
   "id": "39eb96f5",
   "metadata": {
    "deletable": false,
    "editable": false,
    "id": "b8038fe3"
   },
   "source": [
    "**Задание 2. Выведите первые 20 строчек датафрейма `data` на экран.**"
   ]
  },
  {
   "cell_type": "code",
   "execution_count": 2,
   "id": "f346686c",
   "metadata": {
    "deletable": false,
    "id": "2a7cab99",
    "outputId": "1a8f3ef2-d323-4ec2-ddf7-89670b5944c4"
   },
   "outputs": [
    {
     "data": {
      "text/html": [
       "<div>\n",
       "<style scoped>\n",
       "    .dataframe tbody tr th:only-of-type {\n",
       "        vertical-align: middle;\n",
       "    }\n",
       "\n",
       "    .dataframe tbody tr th {\n",
       "        vertical-align: top;\n",
       "    }\n",
       "\n",
       "    .dataframe thead th {\n",
       "        text-align: right;\n",
       "    }\n",
       "</style>\n",
       "<table border=\"1\" class=\"dataframe\">\n",
       "  <thead>\n",
       "    <tr style=\"text-align: right;\">\n",
       "      <th></th>\n",
       "      <th>children</th>\n",
       "      <th>days_employed</th>\n",
       "      <th>dob_years</th>\n",
       "      <th>education</th>\n",
       "      <th>education_id</th>\n",
       "      <th>family_status</th>\n",
       "      <th>family_status_id</th>\n",
       "      <th>gender</th>\n",
       "      <th>income_type</th>\n",
       "      <th>debt</th>\n",
       "      <th>total_income</th>\n",
       "      <th>purpose</th>\n",
       "    </tr>\n",
       "  </thead>\n",
       "  <tbody>\n",
       "    <tr>\n",
       "      <th>0</th>\n",
       "      <td>1</td>\n",
       "      <td>-8437.673028</td>\n",
       "      <td>42</td>\n",
       "      <td>высшее</td>\n",
       "      <td>0</td>\n",
       "      <td>женат / замужем</td>\n",
       "      <td>0</td>\n",
       "      <td>F</td>\n",
       "      <td>сотрудник</td>\n",
       "      <td>0</td>\n",
       "      <td>253875.639453</td>\n",
       "      <td>покупка жилья</td>\n",
       "    </tr>\n",
       "    <tr>\n",
       "      <th>1</th>\n",
       "      <td>1</td>\n",
       "      <td>-4024.803754</td>\n",
       "      <td>36</td>\n",
       "      <td>среднее</td>\n",
       "      <td>1</td>\n",
       "      <td>женат / замужем</td>\n",
       "      <td>0</td>\n",
       "      <td>F</td>\n",
       "      <td>сотрудник</td>\n",
       "      <td>0</td>\n",
       "      <td>112080.014102</td>\n",
       "      <td>приобретение автомобиля</td>\n",
       "    </tr>\n",
       "    <tr>\n",
       "      <th>2</th>\n",
       "      <td>0</td>\n",
       "      <td>-5623.422610</td>\n",
       "      <td>33</td>\n",
       "      <td>Среднее</td>\n",
       "      <td>1</td>\n",
       "      <td>женат / замужем</td>\n",
       "      <td>0</td>\n",
       "      <td>M</td>\n",
       "      <td>сотрудник</td>\n",
       "      <td>0</td>\n",
       "      <td>145885.952297</td>\n",
       "      <td>покупка жилья</td>\n",
       "    </tr>\n",
       "    <tr>\n",
       "      <th>3</th>\n",
       "      <td>3</td>\n",
       "      <td>-4124.747207</td>\n",
       "      <td>32</td>\n",
       "      <td>среднее</td>\n",
       "      <td>1</td>\n",
       "      <td>женат / замужем</td>\n",
       "      <td>0</td>\n",
       "      <td>M</td>\n",
       "      <td>сотрудник</td>\n",
       "      <td>0</td>\n",
       "      <td>267628.550329</td>\n",
       "      <td>дополнительное образование</td>\n",
       "    </tr>\n",
       "    <tr>\n",
       "      <th>4</th>\n",
       "      <td>0</td>\n",
       "      <td>340266.072047</td>\n",
       "      <td>53</td>\n",
       "      <td>среднее</td>\n",
       "      <td>1</td>\n",
       "      <td>гражданский брак</td>\n",
       "      <td>1</td>\n",
       "      <td>F</td>\n",
       "      <td>пенсионер</td>\n",
       "      <td>0</td>\n",
       "      <td>158616.077870</td>\n",
       "      <td>сыграть свадьбу</td>\n",
       "    </tr>\n",
       "    <tr>\n",
       "      <th>5</th>\n",
       "      <td>0</td>\n",
       "      <td>-926.185831</td>\n",
       "      <td>27</td>\n",
       "      <td>высшее</td>\n",
       "      <td>0</td>\n",
       "      <td>гражданский брак</td>\n",
       "      <td>1</td>\n",
       "      <td>M</td>\n",
       "      <td>компаньон</td>\n",
       "      <td>0</td>\n",
       "      <td>255763.565419</td>\n",
       "      <td>покупка жилья</td>\n",
       "    </tr>\n",
       "    <tr>\n",
       "      <th>6</th>\n",
       "      <td>0</td>\n",
       "      <td>-2879.202052</td>\n",
       "      <td>43</td>\n",
       "      <td>высшее</td>\n",
       "      <td>0</td>\n",
       "      <td>женат / замужем</td>\n",
       "      <td>0</td>\n",
       "      <td>F</td>\n",
       "      <td>компаньон</td>\n",
       "      <td>0</td>\n",
       "      <td>240525.971920</td>\n",
       "      <td>операции с жильем</td>\n",
       "    </tr>\n",
       "    <tr>\n",
       "      <th>7</th>\n",
       "      <td>0</td>\n",
       "      <td>-152.779569</td>\n",
       "      <td>50</td>\n",
       "      <td>СРЕДНЕЕ</td>\n",
       "      <td>1</td>\n",
       "      <td>женат / замужем</td>\n",
       "      <td>0</td>\n",
       "      <td>M</td>\n",
       "      <td>сотрудник</td>\n",
       "      <td>0</td>\n",
       "      <td>135823.934197</td>\n",
       "      <td>образование</td>\n",
       "    </tr>\n",
       "    <tr>\n",
       "      <th>8</th>\n",
       "      <td>2</td>\n",
       "      <td>-6929.865299</td>\n",
       "      <td>35</td>\n",
       "      <td>ВЫСШЕЕ</td>\n",
       "      <td>0</td>\n",
       "      <td>гражданский брак</td>\n",
       "      <td>1</td>\n",
       "      <td>F</td>\n",
       "      <td>сотрудник</td>\n",
       "      <td>0</td>\n",
       "      <td>95856.832424</td>\n",
       "      <td>на проведение свадьбы</td>\n",
       "    </tr>\n",
       "    <tr>\n",
       "      <th>9</th>\n",
       "      <td>0</td>\n",
       "      <td>-2188.756445</td>\n",
       "      <td>41</td>\n",
       "      <td>среднее</td>\n",
       "      <td>1</td>\n",
       "      <td>женат / замужем</td>\n",
       "      <td>0</td>\n",
       "      <td>M</td>\n",
       "      <td>сотрудник</td>\n",
       "      <td>0</td>\n",
       "      <td>144425.938277</td>\n",
       "      <td>покупка жилья для семьи</td>\n",
       "    </tr>\n",
       "    <tr>\n",
       "      <th>10</th>\n",
       "      <td>2</td>\n",
       "      <td>-4171.483647</td>\n",
       "      <td>36</td>\n",
       "      <td>высшее</td>\n",
       "      <td>0</td>\n",
       "      <td>женат / замужем</td>\n",
       "      <td>0</td>\n",
       "      <td>M</td>\n",
       "      <td>компаньон</td>\n",
       "      <td>0</td>\n",
       "      <td>113943.491460</td>\n",
       "      <td>покупка недвижимости</td>\n",
       "    </tr>\n",
       "    <tr>\n",
       "      <th>11</th>\n",
       "      <td>0</td>\n",
       "      <td>-792.701887</td>\n",
       "      <td>40</td>\n",
       "      <td>среднее</td>\n",
       "      <td>1</td>\n",
       "      <td>женат / замужем</td>\n",
       "      <td>0</td>\n",
       "      <td>F</td>\n",
       "      <td>сотрудник</td>\n",
       "      <td>0</td>\n",
       "      <td>77069.234271</td>\n",
       "      <td>покупка коммерческой недвижимости</td>\n",
       "    </tr>\n",
       "    <tr>\n",
       "      <th>12</th>\n",
       "      <td>0</td>\n",
       "      <td>NaN</td>\n",
       "      <td>65</td>\n",
       "      <td>среднее</td>\n",
       "      <td>1</td>\n",
       "      <td>гражданский брак</td>\n",
       "      <td>1</td>\n",
       "      <td>M</td>\n",
       "      <td>пенсионер</td>\n",
       "      <td>0</td>\n",
       "      <td>NaN</td>\n",
       "      <td>сыграть свадьбу</td>\n",
       "    </tr>\n",
       "    <tr>\n",
       "      <th>13</th>\n",
       "      <td>0</td>\n",
       "      <td>-1846.641941</td>\n",
       "      <td>54</td>\n",
       "      <td>неоконченное высшее</td>\n",
       "      <td>2</td>\n",
       "      <td>женат / замужем</td>\n",
       "      <td>0</td>\n",
       "      <td>F</td>\n",
       "      <td>сотрудник</td>\n",
       "      <td>0</td>\n",
       "      <td>130458.228857</td>\n",
       "      <td>приобретение автомобиля</td>\n",
       "    </tr>\n",
       "    <tr>\n",
       "      <th>14</th>\n",
       "      <td>0</td>\n",
       "      <td>-1844.956182</td>\n",
       "      <td>56</td>\n",
       "      <td>высшее</td>\n",
       "      <td>0</td>\n",
       "      <td>гражданский брак</td>\n",
       "      <td>1</td>\n",
       "      <td>F</td>\n",
       "      <td>компаньон</td>\n",
       "      <td>1</td>\n",
       "      <td>165127.911772</td>\n",
       "      <td>покупка жилой недвижимости</td>\n",
       "    </tr>\n",
       "    <tr>\n",
       "      <th>15</th>\n",
       "      <td>1</td>\n",
       "      <td>-972.364419</td>\n",
       "      <td>26</td>\n",
       "      <td>среднее</td>\n",
       "      <td>1</td>\n",
       "      <td>женат / замужем</td>\n",
       "      <td>0</td>\n",
       "      <td>F</td>\n",
       "      <td>сотрудник</td>\n",
       "      <td>0</td>\n",
       "      <td>116820.904450</td>\n",
       "      <td>строительство собственной недвижимости</td>\n",
       "    </tr>\n",
       "    <tr>\n",
       "      <th>16</th>\n",
       "      <td>0</td>\n",
       "      <td>-1719.934226</td>\n",
       "      <td>35</td>\n",
       "      <td>среднее</td>\n",
       "      <td>1</td>\n",
       "      <td>женат / замужем</td>\n",
       "      <td>0</td>\n",
       "      <td>F</td>\n",
       "      <td>сотрудник</td>\n",
       "      <td>0</td>\n",
       "      <td>289202.704229</td>\n",
       "      <td>недвижимость</td>\n",
       "    </tr>\n",
       "    <tr>\n",
       "      <th>17</th>\n",
       "      <td>0</td>\n",
       "      <td>-2369.999720</td>\n",
       "      <td>33</td>\n",
       "      <td>высшее</td>\n",
       "      <td>0</td>\n",
       "      <td>гражданский брак</td>\n",
       "      <td>1</td>\n",
       "      <td>M</td>\n",
       "      <td>сотрудник</td>\n",
       "      <td>0</td>\n",
       "      <td>90410.586745</td>\n",
       "      <td>строительство недвижимости</td>\n",
       "    </tr>\n",
       "    <tr>\n",
       "      <th>18</th>\n",
       "      <td>0</td>\n",
       "      <td>400281.136913</td>\n",
       "      <td>53</td>\n",
       "      <td>среднее</td>\n",
       "      <td>1</td>\n",
       "      <td>вдовец / вдова</td>\n",
       "      <td>2</td>\n",
       "      <td>F</td>\n",
       "      <td>пенсионер</td>\n",
       "      <td>0</td>\n",
       "      <td>56823.777243</td>\n",
       "      <td>на покупку подержанного автомобиля</td>\n",
       "    </tr>\n",
       "    <tr>\n",
       "      <th>19</th>\n",
       "      <td>0</td>\n",
       "      <td>-10038.818549</td>\n",
       "      <td>48</td>\n",
       "      <td>СРЕДНЕЕ</td>\n",
       "      <td>1</td>\n",
       "      <td>в разводе</td>\n",
       "      <td>3</td>\n",
       "      <td>F</td>\n",
       "      <td>сотрудник</td>\n",
       "      <td>0</td>\n",
       "      <td>242831.107982</td>\n",
       "      <td>на покупку своего автомобиля</td>\n",
       "    </tr>\n",
       "  </tbody>\n",
       "</table>\n",
       "</div>"
      ],
      "text/plain": [
       "    children  days_employed  dob_years            education  education_id  \\\n",
       "0          1   -8437.673028         42               высшее             0   \n",
       "1          1   -4024.803754         36              среднее             1   \n",
       "2          0   -5623.422610         33              Среднее             1   \n",
       "3          3   -4124.747207         32              среднее             1   \n",
       "4          0  340266.072047         53              среднее             1   \n",
       "5          0    -926.185831         27               высшее             0   \n",
       "6          0   -2879.202052         43               высшее             0   \n",
       "7          0    -152.779569         50              СРЕДНЕЕ             1   \n",
       "8          2   -6929.865299         35               ВЫСШЕЕ             0   \n",
       "9          0   -2188.756445         41              среднее             1   \n",
       "10         2   -4171.483647         36               высшее             0   \n",
       "11         0    -792.701887         40              среднее             1   \n",
       "12         0            NaN         65              среднее             1   \n",
       "13         0   -1846.641941         54  неоконченное высшее             2   \n",
       "14         0   -1844.956182         56               высшее             0   \n",
       "15         1    -972.364419         26              среднее             1   \n",
       "16         0   -1719.934226         35              среднее             1   \n",
       "17         0   -2369.999720         33               высшее             0   \n",
       "18         0  400281.136913         53              среднее             1   \n",
       "19         0  -10038.818549         48              СРЕДНЕЕ             1   \n",
       "\n",
       "       family_status  family_status_id gender income_type  debt  \\\n",
       "0    женат / замужем                 0      F   сотрудник     0   \n",
       "1    женат / замужем                 0      F   сотрудник     0   \n",
       "2    женат / замужем                 0      M   сотрудник     0   \n",
       "3    женат / замужем                 0      M   сотрудник     0   \n",
       "4   гражданский брак                 1      F   пенсионер     0   \n",
       "5   гражданский брак                 1      M   компаньон     0   \n",
       "6    женат / замужем                 0      F   компаньон     0   \n",
       "7    женат / замужем                 0      M   сотрудник     0   \n",
       "8   гражданский брак                 1      F   сотрудник     0   \n",
       "9    женат / замужем                 0      M   сотрудник     0   \n",
       "10   женат / замужем                 0      M   компаньон     0   \n",
       "11   женат / замужем                 0      F   сотрудник     0   \n",
       "12  гражданский брак                 1      M   пенсионер     0   \n",
       "13   женат / замужем                 0      F   сотрудник     0   \n",
       "14  гражданский брак                 1      F   компаньон     1   \n",
       "15   женат / замужем                 0      F   сотрудник     0   \n",
       "16   женат / замужем                 0      F   сотрудник     0   \n",
       "17  гражданский брак                 1      M   сотрудник     0   \n",
       "18    вдовец / вдова                 2      F   пенсионер     0   \n",
       "19         в разводе                 3      F   сотрудник     0   \n",
       "\n",
       "     total_income                                 purpose  \n",
       "0   253875.639453                           покупка жилья  \n",
       "1   112080.014102                 приобретение автомобиля  \n",
       "2   145885.952297                           покупка жилья  \n",
       "3   267628.550329              дополнительное образование  \n",
       "4   158616.077870                         сыграть свадьбу  \n",
       "5   255763.565419                           покупка жилья  \n",
       "6   240525.971920                       операции с жильем  \n",
       "7   135823.934197                             образование  \n",
       "8    95856.832424                   на проведение свадьбы  \n",
       "9   144425.938277                 покупка жилья для семьи  \n",
       "10  113943.491460                    покупка недвижимости  \n",
       "11   77069.234271       покупка коммерческой недвижимости  \n",
       "12            NaN                         сыграть свадьбу  \n",
       "13  130458.228857                 приобретение автомобиля  \n",
       "14  165127.911772              покупка жилой недвижимости  \n",
       "15  116820.904450  строительство собственной недвижимости  \n",
       "16  289202.704229                            недвижимость  \n",
       "17   90410.586745              строительство недвижимости  \n",
       "18   56823.777243      на покупку подержанного автомобиля  \n",
       "19  242831.107982            на покупку своего автомобиля  "
      ]
     },
     "execution_count": 2,
     "metadata": {},
     "output_type": "execute_result"
    }
   ],
   "source": [
    "data.head(20)"
   ]
  },
  {
   "cell_type": "markdown",
   "id": "3b4e79d3",
   "metadata": {
    "deletable": false,
    "editable": false,
    "id": "1c12e233"
   },
   "source": [
    "**Задание 3. Выведите основную информацию о датафрейме с помощью метода `info()`.**"
   ]
  },
  {
   "cell_type": "code",
   "execution_count": 3,
   "id": "69282f86",
   "metadata": {
    "deletable": false,
    "id": "2b757bca",
    "outputId": "15376089-8dad-46c9-b520-c05248d43158"
   },
   "outputs": [
    {
     "name": "stdout",
     "output_type": "stream",
     "text": [
      "<class 'pandas.core.frame.DataFrame'>\n",
      "RangeIndex: 21525 entries, 0 to 21524\n",
      "Data columns (total 12 columns):\n",
      " #   Column            Non-Null Count  Dtype  \n",
      "---  ------            --------------  -----  \n",
      " 0   children          21525 non-null  int64  \n",
      " 1   days_employed     19351 non-null  float64\n",
      " 2   dob_years         21525 non-null  int64  \n",
      " 3   education         21525 non-null  object \n",
      " 4   education_id      21525 non-null  int64  \n",
      " 5   family_status     21525 non-null  object \n",
      " 6   family_status_id  21525 non-null  int64  \n",
      " 7   gender            21525 non-null  object \n",
      " 8   income_type       21525 non-null  object \n",
      " 9   debt              21525 non-null  int64  \n",
      " 10  total_income      19351 non-null  float64\n",
      " 11  purpose           21525 non-null  object \n",
      "dtypes: float64(2), int64(5), object(5)\n",
      "memory usage: 2.0+ MB\n"
     ]
    }
   ],
   "source": [
    "data.info()"
   ]
  },
  {
   "cell_type": "markdown",
   "id": "387860c4",
   "metadata": {
    "deletable": false,
    "editable": false,
    "id": "333ec665"
   },
   "source": [
    "## Предобработка данных"
   ]
  },
  {
   "cell_type": "markdown",
   "id": "31786645",
   "metadata": {
    "deletable": false,
    "editable": false,
    "id": "02d92d53"
   },
   "source": [
    "### Удаление пропусков"
   ]
  },
  {
   "cell_type": "markdown",
   "id": "cc7d5c6c",
   "metadata": {
    "deletable": false,
    "editable": false,
    "id": "cd84967c"
   },
   "source": [
    "**Задание 4. Выведите количество пропущенных значений для каждого столбца. Используйте комбинацию двух методов.**"
   ]
  },
  {
   "cell_type": "code",
   "execution_count": 4,
   "id": "a774f8cd",
   "metadata": {
    "deletable": false,
    "id": "7f9b2309",
    "outputId": "81f4d817-781c-465c-ed15-91ce4446810d"
   },
   "outputs": [
    {
     "data": {
      "text/plain": [
       "children               0\n",
       "days_employed       2174\n",
       "dob_years              0\n",
       "education              0\n",
       "education_id           0\n",
       "family_status          0\n",
       "family_status_id       0\n",
       "gender                 0\n",
       "income_type            0\n",
       "debt                   0\n",
       "total_income        2174\n",
       "purpose                0\n",
       "dtype: int64"
      ]
     },
     "execution_count": 4,
     "metadata": {},
     "output_type": "execute_result"
    }
   ],
   "source": [
    "data.isna().sum()"
   ]
  },
  {
   "cell_type": "markdown",
   "id": "a8cef513",
   "metadata": {
    "deletable": false,
    "editable": false,
    "id": "db86e27b"
   },
   "source": [
    "**Задание 5. В двух столбцах есть пропущенные значения. Один из них — `days_employed`. Пропуски в этом столбце вы обработаете на следующем этапе. Другой столбец с пропущенными значениями — `total_income` — хранит данные о доходах. На сумму дохода сильнее всего влияет тип занятости, поэтому заполнить пропуски в этом столбце нужно медианным значением по каждому типу из столбца `income_type`. Например, у человека с типом занятости `сотрудник` пропуск в столбце `total_income` должен быть заполнен медианным доходом среди всех записей с тем же типом.**"
   ]
  },
  {
   "cell_type": "code",
   "execution_count": 5,
   "id": "6552d4af",
   "metadata": {
    "deletable": false,
    "id": "42006a93"
   },
   "outputs": [],
   "source": [
    "for t in data['income_type'].unique():\n",
    "    data.loc[(data['income_type'] == t) & (data['total_income'].isna()), 'total_income'] = \\\n",
    "    data.loc[(data['income_type'] == t), 'total_income'].median()"
   ]
  },
  {
   "cell_type": "markdown",
   "id": "36db349e",
   "metadata": {
    "deletable": false,
    "editable": false,
    "id": "89da5ece"
   },
   "source": [
    "### Обработка аномальных значений"
   ]
  },
  {
   "cell_type": "markdown",
   "id": "ed0f2a17",
   "metadata": {
    "deletable": false,
    "editable": false,
    "id": "57964554"
   },
   "source": [
    "**Задание 6. В данных могут встречаться артефакты (аномалии) — значения, которые не отражают действительность и появились по какой-то ошибке. таким артефактом будет отрицательное количество дней трудового стажа в столбце `days_employed`. Для реальных данных это нормально. Обработайте значения в этом столбце: замените все отрицательные значения положительными с помощью метода `abs()`.**"
   ]
  },
  {
   "cell_type": "code",
   "execution_count": 6,
   "id": "66a958ae",
   "metadata": {
    "deletable": false,
    "id": "f6f055bf"
   },
   "outputs": [],
   "source": [
    "data['days_employed'] = data['days_employed'].abs()"
   ]
  },
  {
   "cell_type": "markdown",
   "id": "68fc54b9",
   "metadata": {
    "deletable": false,
    "editable": false,
    "id": "6107dd2f"
   },
   "source": [
    "**Задание 7. Для каждого типа занятости выведите медианное значение трудового стажа `days_employed` в днях.**"
   ]
  },
  {
   "cell_type": "code",
   "execution_count": 7,
   "id": "eff7b120",
   "metadata": {
    "deletable": false,
    "id": "85a5faf6",
    "outputId": "801ef80e-522b-4668-f34e-565af7432bcf"
   },
   "outputs": [
    {
     "data": {
      "text/plain": [
       "income_type\n",
       "безработный        366413.652744\n",
       "в декрете            3296.759962\n",
       "госслужащий          2689.368353\n",
       "компаньон            1547.382223\n",
       "пенсионер          365213.306266\n",
       "предприниматель       520.848083\n",
       "сотрудник            1574.202821\n",
       "студент               578.751554\n",
       "Name: days_employed, dtype: float64"
      ]
     },
     "execution_count": 7,
     "metadata": {},
     "output_type": "execute_result"
    }
   ],
   "source": [
    "data.groupby('income_type')['days_employed'].agg('median')"
   ]
  },
  {
   "cell_type": "markdown",
   "id": "c99d743d",
   "metadata": {
    "deletable": false,
    "editable": false,
    "id": "38d1a030"
   },
   "source": [
    "У двух типов (безработные и пенсионеры) получатся аномально большие значения. Исправить такие значения сложно, поэтому оставьте их как есть. Тем более этот столбец не понадобится вам для исследования."
   ]
  },
  {
   "cell_type": "markdown",
   "id": "a428cc1d",
   "metadata": {
    "deletable": false,
    "editable": false,
    "id": "d8a9f147"
   },
   "source": [
    "**Задание 8. Выведите перечень уникальных значений столбца `children`.**"
   ]
  },
  {
   "cell_type": "code",
   "execution_count": 8,
   "id": "210232f5",
   "metadata": {
    "deletable": false,
    "id": "ef5056eb",
    "outputId": "6975b15c-7f95-4697-d16d-a0c79b657b03"
   },
   "outputs": [
    {
     "data": {
      "text/plain": [
       "array([ 1,  0,  3,  2, -1,  4, 20,  5])"
      ]
     },
     "execution_count": 8,
     "metadata": {},
     "output_type": "execute_result"
    }
   ],
   "source": [
    "data['children'].unique()"
   ]
  },
  {
   "cell_type": "markdown",
   "id": "09399a91",
   "metadata": {
    "deletable": false,
    "editable": false,
    "id": "40b9ebf2"
   },
   "source": [
    "**Задание 9. В столбце `children` есть два аномальных значения. Удалите строки, в которых встречаются такие аномальные значения из датафрейма `data`.**"
   ]
  },
  {
   "cell_type": "code",
   "execution_count": 9,
   "id": "1a738be0",
   "metadata": {
    "deletable": false,
    "id": "3ff9801d"
   },
   "outputs": [],
   "source": [
    "data = data[(data['children'] != -1) & (data['children'] != 20)]"
   ]
  },
  {
   "cell_type": "markdown",
   "id": "d944efd2",
   "metadata": {
    "deletable": false,
    "editable": false,
    "id": "bbc4d0ce"
   },
   "source": [
    "**Задание 10. Ещё раз выведите перечень уникальных значений столбца `children`, чтобы убедиться, что артефакты удалены.**"
   ]
  },
  {
   "cell_type": "code",
   "execution_count": 10,
   "id": "81fb93a9",
   "metadata": {
    "deletable": false,
    "id": "ad4fa8b7",
    "outputId": "b2097101-d49d-44d9-901b-32a65c9463d1"
   },
   "outputs": [
    {
     "data": {
      "text/plain": [
       "array([1, 0, 3, 2, 4, 5])"
      ]
     },
     "execution_count": 10,
     "metadata": {},
     "output_type": "execute_result"
    }
   ],
   "source": [
    "data['children'].unique()"
   ]
  },
  {
   "cell_type": "markdown",
   "id": "935ddafe",
   "metadata": {
    "deletable": false,
    "editable": false,
    "id": "75440b63"
   },
   "source": [
    "### Удаление пропусков (продолжение)"
   ]
  },
  {
   "cell_type": "markdown",
   "id": "75f29d81",
   "metadata": {
    "deletable": false,
    "editable": false,
    "id": "f4ea573f"
   },
   "source": [
    "**Задание 11. Заполните пропуски в столбце `days_employed` медианными значениями по каждого типа занятости `income_type`.**"
   ]
  },
  {
   "cell_type": "code",
   "execution_count": 11,
   "id": "7254b4eb",
   "metadata": {
    "deletable": false,
    "id": "af6b1a7e"
   },
   "outputs": [],
   "source": [
    "for t in data['income_type'].unique():\n",
    "    data.loc[(data['income_type'] == t) & (data['days_employed'].isna()), 'days_employed'] = \\\n",
    "    data.loc[(data['income_type'] == t), 'days_employed'].median()"
   ]
  },
  {
   "cell_type": "markdown",
   "id": "b8100e06",
   "metadata": {
    "deletable": false,
    "editable": false,
    "id": "2753f40d"
   },
   "source": [
    "**Задание 12. Убедитесь, что все пропуски заполнены. Проверьте себя и ещё раз выведите количество пропущенных значений для каждого столбца с помощью двух методов.**"
   ]
  },
  {
   "cell_type": "code",
   "execution_count": 12,
   "id": "82461bf6",
   "metadata": {
    "deletable": false,
    "id": "55f78bc2",
    "outputId": "8da1e4e1-358e-4e87-98c9-f261bce0a7b2"
   },
   "outputs": [
    {
     "data": {
      "text/plain": [
       "children            0\n",
       "days_employed       0\n",
       "dob_years           0\n",
       "education           0\n",
       "education_id        0\n",
       "family_status       0\n",
       "family_status_id    0\n",
       "gender              0\n",
       "income_type         0\n",
       "debt                0\n",
       "total_income        0\n",
       "purpose             0\n",
       "dtype: int64"
      ]
     },
     "execution_count": 12,
     "metadata": {},
     "output_type": "execute_result"
    }
   ],
   "source": [
    "data.isna().sum()"
   ]
  },
  {
   "cell_type": "markdown",
   "id": "34639423",
   "metadata": {
    "deletable": false,
    "editable": false,
    "id": "ddc81e43"
   },
   "source": [
    "### Изменение типов данных"
   ]
  },
  {
   "cell_type": "markdown",
   "id": "3b5c8391",
   "metadata": {
    "deletable": false,
    "editable": false,
    "id": "42d19d24"
   },
   "source": [
    "**Задание 13. Замените вещественный тип данных в столбце `total_income` на целочисленный с помощью метода `astype()`.**"
   ]
  },
  {
   "cell_type": "code",
   "execution_count": 13,
   "id": "7e47f730",
   "metadata": {
    "deletable": false,
    "id": "920b65ad"
   },
   "outputs": [],
   "source": [
    "data['total_income'] = data['total_income'].astype(int)"
   ]
  },
  {
   "cell_type": "markdown",
   "id": "3cf7591a",
   "metadata": {
    "deletable": false,
    "editable": false,
    "id": "80c420ba"
   },
   "source": [
    "### Обработка дубликатов"
   ]
  },
  {
   "cell_type": "markdown",
   "id": "44ed2527",
   "metadata": {
    "deletable": false,
    "editable": false
   },
   "source": [
    "**Задание 14. Обработайте неявные дубликаты в столбце `education`. В этом столбце есть одни и те же значения, но записанные по-разному: с использованием заглавных и строчных букв. Приведите их к нижнему регистру. Проверьте остальные столбцы.**"
   ]
  },
  {
   "cell_type": "code",
   "execution_count": 14,
   "id": "fead2592",
   "metadata": {
    "deletable": false
   },
   "outputs": [],
   "source": [
    "data['education'] = data['education'].str.lower()"
   ]
  },
  {
   "cell_type": "markdown",
   "id": "33324aac",
   "metadata": {
    "deletable": false,
    "editable": false,
    "id": "dc587695"
   },
   "source": [
    "**Задание 15. Выведите на экран количество строк-дубликатов в данных. Если такие строки присутствуют, удалите их.**"
   ]
  },
  {
   "cell_type": "code",
   "execution_count": 15,
   "id": "49e449d4",
   "metadata": {
    "deletable": false,
    "id": "3ee445e4",
    "outputId": "9684deba-1934-42d1-99e1-cda61740f822"
   },
   "outputs": [
    {
     "data": {
      "text/plain": [
       "71"
      ]
     },
     "execution_count": 15,
     "metadata": {},
     "output_type": "execute_result"
    }
   ],
   "source": [
    "data.duplicated().sum()"
   ]
  },
  {
   "cell_type": "code",
   "execution_count": 16,
   "id": "e83f9bbf",
   "metadata": {
    "deletable": false,
    "id": "8575fe05"
   },
   "outputs": [],
   "source": [
    "data = data.drop_duplicates()"
   ]
  },
  {
   "cell_type": "markdown",
   "id": "e62d7b51",
   "metadata": {
    "deletable": false,
    "editable": false,
    "id": "9904cf55"
   },
   "source": [
    "### Категоризация данных"
   ]
  },
  {
   "cell_type": "markdown",
   "id": "4abe0c36",
   "metadata": {
    "deletable": false,
    "editable": false,
    "id": "72fcc8a2"
   },
   "source": [
    "**Задание 16. На основании диапазонов, указанных ниже, создайте в датафрейме `data` столбец `total_income_category` с категориями:**\n",
    "\n",
    "- 0–30000 — `'E'`;\n",
    "- 30001–50000 — `'D'`;\n",
    "- 50001–200000 — `'C'`;\n",
    "- 200001–1000000 — `'B'`;\n",
    "- 1000001 и выше — `'A'`.\n",
    "\n",
    "\n",
    "**Например, кредитополучателю с доходом 25000 нужно назначить категорию `'E'`, а клиенту, получающему 235000, — `'B'`. Используйте собственную функцию с именем `categorize_income()` и метод `apply()`.**"
   ]
  },
  {
   "cell_type": "code",
   "execution_count": 17,
   "id": "9eac941b",
   "metadata": {
    "deletable": false,
    "id": "e1771346"
   },
   "outputs": [],
   "source": [
    "def categorize_income(income):\n",
    "    try:\n",
    "        if 0 <= income <= 30000:\n",
    "            return 'E'\n",
    "        elif 30001 <= income <= 50000:\n",
    "            return 'D'\n",
    "        elif 50001 <= income <= 200000:\n",
    "            return 'C'\n",
    "        elif 200001 <= income <= 1000000:\n",
    "            return 'B'\n",
    "        elif income >= 1000001:\n",
    "            return 'A'\n",
    "    except:\n",
    "        pass"
   ]
  },
  {
   "cell_type": "code",
   "execution_count": 18,
   "id": "f90a362a",
   "metadata": {
    "deletable": false,
    "id": "d5f3586d"
   },
   "outputs": [],
   "source": [
    "data['total_income_category'] = data['total_income'].apply(categorize_income)"
   ]
  },
  {
   "cell_type": "markdown",
   "id": "9dfb2eb8",
   "metadata": {
    "deletable": false,
    "editable": false,
    "id": "dde49b5c"
   },
   "source": [
    "**Задание 17. Выведите на экран перечень уникальных целей взятия кредита из столбца `purpose`.**"
   ]
  },
  {
   "cell_type": "code",
   "execution_count": 19,
   "id": "b5a06a3f",
   "metadata": {
    "deletable": false,
    "id": "f67ce9b3",
    "outputId": "673c12d9-7d7e-4ae0-9812-c622c89dd244"
   },
   "outputs": [
    {
     "data": {
      "text/plain": [
       "array(['покупка жилья', 'приобретение автомобиля',\n",
       "       'дополнительное образование', 'сыграть свадьбу',\n",
       "       'операции с жильем', 'образование', 'на проведение свадьбы',\n",
       "       'покупка жилья для семьи', 'покупка недвижимости',\n",
       "       'покупка коммерческой недвижимости', 'покупка жилой недвижимости',\n",
       "       'строительство собственной недвижимости', 'недвижимость',\n",
       "       'строительство недвижимости', 'на покупку подержанного автомобиля',\n",
       "       'на покупку своего автомобиля',\n",
       "       'операции с коммерческой недвижимостью',\n",
       "       'строительство жилой недвижимости', 'жилье',\n",
       "       'операции со своей недвижимостью', 'автомобили',\n",
       "       'заняться образованием', 'сделка с подержанным автомобилем',\n",
       "       'получение образования', 'автомобиль', 'свадьба',\n",
       "       'получение дополнительного образования', 'покупка своего жилья',\n",
       "       'операции с недвижимостью', 'получение высшего образования',\n",
       "       'свой автомобиль', 'сделка с автомобилем',\n",
       "       'профильное образование', 'высшее образование',\n",
       "       'покупка жилья для сдачи', 'на покупку автомобиля', 'ремонт жилью',\n",
       "       'заняться высшим образованием'], dtype=object)"
      ]
     },
     "execution_count": 19,
     "metadata": {},
     "output_type": "execute_result"
    }
   ],
   "source": [
    "data['purpose'].unique()"
   ]
  },
  {
   "cell_type": "markdown",
   "id": "9058d274",
   "metadata": {
    "deletable": false,
    "editable": false,
    "id": "85d0aef0"
   },
   "source": [
    "**Задание 18. Создайте функцию, которая на основании данных из столбца `purpose` сформирует новый столбец `purpose_category`, в который войдут следующие категории:**\n",
    "\n",
    "- `'операции с автомобилем'`,\n",
    "- `'операции с недвижимостью'`,\n",
    "- `'проведение свадьбы'`,\n",
    "- `'получение образования'`.\n",
    "\n",
    "**Например, если в столбце `purpose` находится подстрока `'на покупку автомобиля'`, то в столбце `purpose_category` должна появиться строка `'операции с автомобилем'`.**\n",
    "\n",
    "**Используйте собственную функцию с именем `categorize_purpose()` и метод `apply()`. Изучите данные в столбце `purpose` и определите, какие подстроки помогут вам правильно определить категорию.**"
   ]
  },
  {
   "cell_type": "code",
   "execution_count": 20,
   "id": "c1da62f8",
   "metadata": {
    "deletable": false,
    "id": "e149fab4"
   },
   "outputs": [],
   "source": [
    "def categorize_purpose(row):\n",
    "    try:\n",
    "        if 'автом' in row:\n",
    "            return 'операции с автомобилем'\n",
    "        elif 'жил' in row or 'недвиж' in row:\n",
    "            return 'операции с недвижимостью'\n",
    "        elif 'свад' in row:\n",
    "            return 'проведение свадьбы'\n",
    "        elif 'образов' in row:\n",
    "            return 'получение образования'\n",
    "    except:\n",
    "        return 'нет категории'"
   ]
  },
  {
   "cell_type": "code",
   "execution_count": 21,
   "id": "f713eff0",
   "metadata": {
    "deletable": false,
    "id": "bf36e69b"
   },
   "outputs": [],
   "source": [
    "data['purpose_category'] = data['purpose'].apply(categorize_purpose)"
   ]
  },
  {
   "cell_type": "markdown",
   "id": "648143c5",
   "metadata": {
    "deletable": false,
    "editable": false,
    "id": "09b242bf"
   },
   "source": [
    "### Шаг 3. Исследуйте данные и ответьте на вопросы"
   ]
  },
  {
   "cell_type": "markdown",
   "id": "990e671c",
   "metadata": {
    "deletable": false,
    "editable": false,
    "id": "c5d66278"
   },
   "source": [
    "#### 3.1 Есть ли зависимость между количеством детей и возвратом кредита в срок?"
   ]
  },
  {
   "cell_type": "code",
   "execution_count": 22,
   "id": "273d62ed",
   "metadata": {},
   "outputs": [
    {
     "data": {
      "text/plain": [
       "array(['F', 'M', 'XNA'], dtype=object)"
      ]
     },
     "execution_count": 22,
     "metadata": {},
     "output_type": "execute_result"
    }
   ],
   "source": [
    "data['gender'].unique()\n",
    "#учтем в нашем исследовании пол, для этого выведем уникальные значения из соответствующего столбца"
   ]
  },
  {
   "cell_type": "code",
   "execution_count": 23,
   "id": "8ce2ab85",
   "metadata": {},
   "outputs": [
    {
     "data": {
      "text/plain": [
       "F      14092\n",
       "M       7238\n",
       "XNA        1\n",
       "Name: gender, dtype: int64"
      ]
     },
     "execution_count": 23,
     "metadata": {},
     "output_type": "execute_result"
    }
   ],
   "source": [
    "data['gender'].value_counts()#найдём количество тех, кто пол не указал или системную ошибку"
   ]
  },
  {
   "cell_type": "code",
   "execution_count": 24,
   "id": "3e93a3fa",
   "metadata": {},
   "outputs": [],
   "source": [
    "data = data[data['gender'] != 'XNA']#поскольку количество XNA (1) в таком массиве ни на что не повлияет, \n",
    "#то уберём эту строку"
   ]
  },
  {
   "cell_type": "markdown",
   "id": "5629e559",
   "metadata": {},
   "source": [
    "Исправил длинные строки здесь и далее внизу. Код работает, но читать разбитые строки, как в случае с формулой подсчета процента, общего для мужчин и женщин, не совсем удобно."
   ]
  },
  {
   "cell_type": "code",
   "execution_count": 25,
   "id": "cfbb3c42",
   "metadata": {
    "scrolled": true
   },
   "outputs": [
    {
     "name": "stdout",
     "output_type": "stream",
     "text": [
      "<class 'pandas.core.frame.DataFrame'>\n",
      "Int64Index: 21330 entries, 0 to 21524\n",
      "Data columns (total 14 columns):\n",
      " #   Column                 Non-Null Count  Dtype  \n",
      "---  ------                 --------------  -----  \n",
      " 0   children               21330 non-null  int64  \n",
      " 1   days_employed          21330 non-null  float64\n",
      " 2   dob_years              21330 non-null  int64  \n",
      " 3   education              21330 non-null  object \n",
      " 4   education_id           21330 non-null  int64  \n",
      " 5   family_status          21330 non-null  object \n",
      " 6   family_status_id       21330 non-null  int64  \n",
      " 7   gender                 21330 non-null  object \n",
      " 8   income_type            21330 non-null  object \n",
      " 9   debt                   21330 non-null  int64  \n",
      " 10  total_income           21330 non-null  int64  \n",
      " 11  purpose                21330 non-null  object \n",
      " 12  total_income_category  21330 non-null  object \n",
      " 13  purpose_category       21330 non-null  object \n",
      "dtypes: float64(1), int64(6), object(7)\n",
      "memory usage: 2.4+ MB\n"
     ]
    }
   ],
   "source": [
    "data.info()#проверим ещё раз на ошибки, количество данных соответствует \"M\" + \"F\""
   ]
  },
  {
   "cell_type": "code",
   "execution_count": 26,
   "id": "78bfff8f",
   "metadata": {
    "deletable": false,
    "id": "2cacfc4a",
    "scrolled": true
   },
   "outputs": [
    {
     "data": {
      "text/html": [
       "<div>\n",
       "<style scoped>\n",
       "    .dataframe tbody tr th:only-of-type {\n",
       "        vertical-align: middle;\n",
       "    }\n",
       "\n",
       "    .dataframe tbody tr th {\n",
       "        vertical-align: top;\n",
       "    }\n",
       "\n",
       "    .dataframe thead tr th {\n",
       "        text-align: left;\n",
       "    }\n",
       "\n",
       "    .dataframe thead tr:last-of-type th {\n",
       "        text-align: right;\n",
       "    }\n",
       "</style>\n",
       "<table border=\"1\" class=\"dataframe\">\n",
       "  <thead>\n",
       "    <tr>\n",
       "      <th></th>\n",
       "      <th colspan=\"2\" halign=\"left\">count</th>\n",
       "      <th colspan=\"2\" halign=\"left\">sum</th>\n",
       "    </tr>\n",
       "    <tr>\n",
       "      <th>gender</th>\n",
       "      <th>F</th>\n",
       "      <th>M</th>\n",
       "      <th>F</th>\n",
       "      <th>M</th>\n",
       "    </tr>\n",
       "    <tr>\n",
       "      <th>children</th>\n",
       "      <th></th>\n",
       "      <th></th>\n",
       "      <th></th>\n",
       "      <th></th>\n",
       "    </tr>\n",
       "  </thead>\n",
       "  <tbody>\n",
       "    <tr>\n",
       "      <th>0</th>\n",
       "      <td>9520</td>\n",
       "      <td>4570</td>\n",
       "      <td>592</td>\n",
       "      <td>471</td>\n",
       "    </tr>\n",
       "    <tr>\n",
       "      <th>1</th>\n",
       "      <td>3085</td>\n",
       "      <td>1723</td>\n",
       "      <td>245</td>\n",
       "      <td>199</td>\n",
       "    </tr>\n",
       "    <tr>\n",
       "      <th>2</th>\n",
       "      <td>1256</td>\n",
       "      <td>796</td>\n",
       "      <td>134</td>\n",
       "      <td>60</td>\n",
       "    </tr>\n",
       "    <tr>\n",
       "      <th>3</th>\n",
       "      <td>196</td>\n",
       "      <td>134</td>\n",
       "      <td>17</td>\n",
       "      <td>10</td>\n",
       "    </tr>\n",
       "    <tr>\n",
       "      <th>4</th>\n",
       "      <td>28</td>\n",
       "      <td>13</td>\n",
       "      <td>1</td>\n",
       "      <td>3</td>\n",
       "    </tr>\n",
       "    <tr>\n",
       "      <th>5</th>\n",
       "      <td>7</td>\n",
       "      <td>2</td>\n",
       "      <td>0</td>\n",
       "      <td>0</td>\n",
       "    </tr>\n",
       "  </tbody>\n",
       "</table>\n",
       "</div>"
      ],
      "text/plain": [
       "         count        sum     \n",
       "gender       F     M    F    M\n",
       "children                      \n",
       "0         9520  4570  592  471\n",
       "1         3085  1723  245  199\n",
       "2         1256   796  134   60\n",
       "3          196   134   17   10\n",
       "4           28    13    1    3\n",
       "5            7     2    0    0"
      ]
     },
     "metadata": {},
     "output_type": "display_data"
    }
   ],
   "source": [
    "data_pivot_children = data.pivot_table(index='children', columns='gender', values='debt', aggfunc=['count', 'sum'])\n",
    "display(data_pivot_children) # Сгруппируем в сводную таблицу очищенной data количество взятых кредитов ('count') \n",
    "#и просроченных ('sum') в зависимости от количества детей и пола "
   ]
  },
  {
   "cell_type": "markdown",
   "id": "ccf54ef4",
   "metadata": {},
   "source": [
    "При отображении с помощью функции display() ширина ячеек с названиями столбцов \"поплыла\". \n",
    "Еще проблема - появляется много свободного места в сводной таблице, и становится тяжело\n",
    "соотнести данные с названиями столбцов\n",
    "Я не до конца разобрался, как подстраивать ширину под содержимое и избавляться от пустых мест."
   ]
  },
  {
   "cell_type": "code",
   "execution_count": 27,
   "id": "012a5038",
   "metadata": {
    "scrolled": false
   },
   "outputs": [
    {
     "data": {
      "text/html": [
       "<div>\n",
       "<style scoped>\n",
       "    .dataframe tbody tr th:only-of-type {\n",
       "        vertical-align: middle;\n",
       "    }\n",
       "\n",
       "    .dataframe tbody tr th {\n",
       "        vertical-align: top;\n",
       "    }\n",
       "\n",
       "    .dataframe thead tr th {\n",
       "        text-align: left;\n",
       "    }\n",
       "\n",
       "    .dataframe thead tr:last-of-type th {\n",
       "        text-align: right;\n",
       "    }\n",
       "</style>\n",
       "<table border=\"1\" class=\"dataframe\">\n",
       "  <thead>\n",
       "    <tr>\n",
       "      <th></th>\n",
       "      <th colspan=\"2\" halign=\"left\">count</th>\n",
       "      <th colspan=\"2\" halign=\"left\">sum</th>\n",
       "      <th>avg_debt_F</th>\n",
       "      <th>avg_debt_M</th>\n",
       "      <th>avg_debt_FM</th>\n",
       "    </tr>\n",
       "    <tr>\n",
       "      <th>gender</th>\n",
       "      <th>F</th>\n",
       "      <th>M</th>\n",
       "      <th>F</th>\n",
       "      <th>M</th>\n",
       "      <th></th>\n",
       "      <th></th>\n",
       "      <th></th>\n",
       "    </tr>\n",
       "    <tr>\n",
       "      <th>children</th>\n",
       "      <th></th>\n",
       "      <th></th>\n",
       "      <th></th>\n",
       "      <th></th>\n",
       "      <th></th>\n",
       "      <th></th>\n",
       "      <th></th>\n",
       "    </tr>\n",
       "  </thead>\n",
       "  <tbody>\n",
       "    <tr>\n",
       "      <th>0</th>\n",
       "      <td>9520</td>\n",
       "      <td>4570</td>\n",
       "      <td>592</td>\n",
       "      <td>471</td>\n",
       "      <td>0.062185</td>\n",
       "      <td>0.103063</td>\n",
       "      <td>0.075444</td>\n",
       "    </tr>\n",
       "    <tr>\n",
       "      <th>1</th>\n",
       "      <td>3085</td>\n",
       "      <td>1723</td>\n",
       "      <td>245</td>\n",
       "      <td>199</td>\n",
       "      <td>0.079417</td>\n",
       "      <td>0.115496</td>\n",
       "      <td>0.092346</td>\n",
       "    </tr>\n",
       "    <tr>\n",
       "      <th>2</th>\n",
       "      <td>1256</td>\n",
       "      <td>796</td>\n",
       "      <td>134</td>\n",
       "      <td>60</td>\n",
       "      <td>0.106688</td>\n",
       "      <td>0.075377</td>\n",
       "      <td>0.094542</td>\n",
       "    </tr>\n",
       "    <tr>\n",
       "      <th>3</th>\n",
       "      <td>196</td>\n",
       "      <td>134</td>\n",
       "      <td>17</td>\n",
       "      <td>10</td>\n",
       "      <td>0.086735</td>\n",
       "      <td>0.074627</td>\n",
       "      <td>0.081818</td>\n",
       "    </tr>\n",
       "    <tr>\n",
       "      <th>4</th>\n",
       "      <td>28</td>\n",
       "      <td>13</td>\n",
       "      <td>1</td>\n",
       "      <td>3</td>\n",
       "      <td>0.035714</td>\n",
       "      <td>0.230769</td>\n",
       "      <td>0.097561</td>\n",
       "    </tr>\n",
       "    <tr>\n",
       "      <th>5</th>\n",
       "      <td>7</td>\n",
       "      <td>2</td>\n",
       "      <td>0</td>\n",
       "      <td>0</td>\n",
       "      <td>0.000000</td>\n",
       "      <td>0.000000</td>\n",
       "      <td>0.000000</td>\n",
       "    </tr>\n",
       "  </tbody>\n",
       "</table>\n",
       "</div>"
      ],
      "text/plain": [
       "         count        sum      avg_debt_F avg_debt_M avg_debt_FM\n",
       "gender       F     M    F    M                                  \n",
       "children                                                        \n",
       "0         9520  4570  592  471   0.062185   0.103063    0.075444\n",
       "1         3085  1723  245  199   0.079417   0.115496    0.092346\n",
       "2         1256   796  134   60   0.106688   0.075377    0.094542\n",
       "3          196   134   17   10   0.086735   0.074627    0.081818\n",
       "4           28    13    1    3   0.035714   0.230769    0.097561\n",
       "5            7     2    0    0   0.000000   0.000000    0.000000"
      ]
     },
     "metadata": {},
     "output_type": "display_data"
    }
   ],
   "source": [
    "#созадим и выведем на экран долю не возвратных кредитов отдельно для женщин и мужчин и общую долю просрочек\n",
    "#в зависимости от количества детей в семье\n",
    "data_pivot_children['avg_debt_F'] = data_pivot_children['sum']['F'] / data_pivot_children['count']['F']\n",
    "data_pivot_children['avg_debt_M'] = data_pivot_children['sum']['M'] / data_pivot_children['count']['M']\n",
    "data_pivot_children['avg_debt_FM'] = (data_pivot_children['sum']['M'] + \n",
    "        data_pivot_children['sum']['F']) / (data_pivot_children['count']['M'] + \n",
    "            data_pivot_children['count']['F'])\n",
    "display(data_pivot_children) "
   ]
  },
  {
   "cell_type": "markdown",
   "id": "ef9c5c88",
   "metadata": {
    "deletable": false,
    "id": "3a6b99ec"
   },
   "source": [
    "Вывод: С ростом числа детей количество просрочек ('debt') в целом падает, однако есть ряд нюансов.  \n",
    "1. Выборка женщин с 4 и 5 детьми, а у мужчин ещё и с 3-мя - нерепрезентативны.\n",
    "2. Cуммарно для женщин и мужчин (имеющих до 2х детей) доля невозрата немного возрастает с 7.5% до 9.5%\n",
    "2. Женщины берут кредиты чаще в 1.5 - 2 раза.\n",
    "3. Бездетных заёмщиков больше всего в выборке.\n",
    "4. Бездетные женщины или женщины с одним ребенком более ответственны к погашению кредита чем мужчины тех же категорий\n",
    "5. Отцы двух детей, наоборот, более ответственны, чем женщины."
   ]
  },
  {
   "cell_type": "markdown",
   "id": "69a34933",
   "metadata": {
    "deletable": false,
    "editable": false,
    "id": "97be82ca"
   },
   "source": [
    "#### 3.2 Есть ли зависимость между семейным положением и возвратом кредита в срок?"
   ]
  },
  {
   "cell_type": "code",
   "execution_count": 28,
   "id": "19af8c67",
   "metadata": {
    "deletable": false,
    "id": "dc3f7ee8"
   },
   "outputs": [
    {
     "data": {
      "text/plain": [
       "женат / замужем          12261\n",
       "гражданский брак          4133\n",
       "Не женат / не замужем     2796\n",
       "в разводе                 1189\n",
       "вдовец / вдова             951\n",
       "Name: family_status, dtype: int64"
      ]
     },
     "execution_count": 28,
     "metadata": {},
     "output_type": "execute_result"
    }
   ],
   "source": [
    "data['family_status'].unique()\n",
    "data['family_status'].value_counts()#найдем уникалные семейные статусы"
   ]
  },
  {
   "cell_type": "code",
   "execution_count": 29,
   "id": "97b6f214",
   "metadata": {},
   "outputs": [
    {
     "data": {
      "text/html": [
       "<div>\n",
       "<style scoped>\n",
       "    .dataframe tbody tr th:only-of-type {\n",
       "        vertical-align: middle;\n",
       "    }\n",
       "\n",
       "    .dataframe tbody tr th {\n",
       "        vertical-align: top;\n",
       "    }\n",
       "\n",
       "    .dataframe thead tr th {\n",
       "        text-align: left;\n",
       "    }\n",
       "\n",
       "    .dataframe thead tr:last-of-type th {\n",
       "        text-align: right;\n",
       "    }\n",
       "</style>\n",
       "<table border=\"1\" class=\"dataframe\">\n",
       "  <thead>\n",
       "    <tr>\n",
       "      <th></th>\n",
       "      <th colspan=\"2\" halign=\"left\">count</th>\n",
       "      <th colspan=\"2\" halign=\"left\">sum</th>\n",
       "    </tr>\n",
       "    <tr>\n",
       "      <th>gender</th>\n",
       "      <th>F</th>\n",
       "      <th>M</th>\n",
       "      <th>F</th>\n",
       "      <th>M</th>\n",
       "    </tr>\n",
       "    <tr>\n",
       "      <th>family_status</th>\n",
       "      <th></th>\n",
       "      <th></th>\n",
       "      <th></th>\n",
       "      <th></th>\n",
       "    </tr>\n",
       "  </thead>\n",
       "  <tbody>\n",
       "    <tr>\n",
       "      <th>Не женат / не замужем</th>\n",
       "      <td>1723</td>\n",
       "      <td>1073</td>\n",
       "      <td>118</td>\n",
       "      <td>155</td>\n",
       "    </tr>\n",
       "    <tr>\n",
       "      <th>в разводе</th>\n",
       "      <td>931</td>\n",
       "      <td>258</td>\n",
       "      <td>61</td>\n",
       "      <td>23</td>\n",
       "    </tr>\n",
       "    <tr>\n",
       "      <th>вдовец / вдова</th>\n",
       "      <td>896</td>\n",
       "      <td>55</td>\n",
       "      <td>52</td>\n",
       "      <td>11</td>\n",
       "    </tr>\n",
       "    <tr>\n",
       "      <th>гражданский брак</th>\n",
       "      <td>2832</td>\n",
       "      <td>1301</td>\n",
       "      <td>232</td>\n",
       "      <td>153</td>\n",
       "    </tr>\n",
       "    <tr>\n",
       "      <th>женат / замужем</th>\n",
       "      <td>7710</td>\n",
       "      <td>4551</td>\n",
       "      <td>526</td>\n",
       "      <td>401</td>\n",
       "    </tr>\n",
       "  </tbody>\n",
       "</table>\n",
       "</div>"
      ],
      "text/plain": [
       "                      count        sum     \n",
       "gender                    F     M    F    M\n",
       "family_status                              \n",
       "Не женат / не замужем  1723  1073  118  155\n",
       "в разводе               931   258   61   23\n",
       "вдовец / вдова          896    55   52   11\n",
       "гражданский брак       2832  1301  232  153\n",
       "женат / замужем        7710  4551  526  401"
      ]
     },
     "metadata": {},
     "output_type": "display_data"
    }
   ],
   "source": [
    "data_pivot_famstatus = data.pivot_table(index='family_status', columns='gender', values='debt', \n",
    "                                        aggfunc=['count', 'sum'])\n",
    "display(data_pivot_famstatus) # Сгруппируем в сводную таблицу очищенной data количество взятых кредитов ('count') \n",
    "#и просроченных ('sum') в зависимости от количества детей и пола"
   ]
  },
  {
   "cell_type": "code",
   "execution_count": 30,
   "id": "ac630503",
   "metadata": {},
   "outputs": [
    {
     "data": {
      "text/html": [
       "<div>\n",
       "<style scoped>\n",
       "    .dataframe tbody tr th:only-of-type {\n",
       "        vertical-align: middle;\n",
       "    }\n",
       "\n",
       "    .dataframe tbody tr th {\n",
       "        vertical-align: top;\n",
       "    }\n",
       "\n",
       "    .dataframe thead tr th {\n",
       "        text-align: left;\n",
       "    }\n",
       "\n",
       "    .dataframe thead tr:last-of-type th {\n",
       "        text-align: right;\n",
       "    }\n",
       "</style>\n",
       "<table border=\"1\" class=\"dataframe\">\n",
       "  <thead>\n",
       "    <tr>\n",
       "      <th></th>\n",
       "      <th colspan=\"2\" halign=\"left\">count</th>\n",
       "      <th colspan=\"2\" halign=\"left\">sum</th>\n",
       "      <th>avg_debt_F</th>\n",
       "      <th>avg_debt_M</th>\n",
       "      <th>avg_debt_FM</th>\n",
       "    </tr>\n",
       "    <tr>\n",
       "      <th>gender</th>\n",
       "      <th>F</th>\n",
       "      <th>M</th>\n",
       "      <th>F</th>\n",
       "      <th>M</th>\n",
       "      <th></th>\n",
       "      <th></th>\n",
       "      <th></th>\n",
       "    </tr>\n",
       "    <tr>\n",
       "      <th>family_status</th>\n",
       "      <th></th>\n",
       "      <th></th>\n",
       "      <th></th>\n",
       "      <th></th>\n",
       "      <th></th>\n",
       "      <th></th>\n",
       "      <th></th>\n",
       "    </tr>\n",
       "  </thead>\n",
       "  <tbody>\n",
       "    <tr>\n",
       "      <th>Не женат / не замужем</th>\n",
       "      <td>1723</td>\n",
       "      <td>1073</td>\n",
       "      <td>118</td>\n",
       "      <td>155</td>\n",
       "      <td>0.068485</td>\n",
       "      <td>0.144455</td>\n",
       "      <td>0.097639</td>\n",
       "    </tr>\n",
       "    <tr>\n",
       "      <th>в разводе</th>\n",
       "      <td>931</td>\n",
       "      <td>258</td>\n",
       "      <td>61</td>\n",
       "      <td>23</td>\n",
       "      <td>0.065521</td>\n",
       "      <td>0.089147</td>\n",
       "      <td>0.070648</td>\n",
       "    </tr>\n",
       "    <tr>\n",
       "      <th>вдовец / вдова</th>\n",
       "      <td>896</td>\n",
       "      <td>55</td>\n",
       "      <td>52</td>\n",
       "      <td>11</td>\n",
       "      <td>0.058036</td>\n",
       "      <td>0.200000</td>\n",
       "      <td>0.066246</td>\n",
       "    </tr>\n",
       "    <tr>\n",
       "      <th>гражданский брак</th>\n",
       "      <td>2832</td>\n",
       "      <td>1301</td>\n",
       "      <td>232</td>\n",
       "      <td>153</td>\n",
       "      <td>0.081921</td>\n",
       "      <td>0.117602</td>\n",
       "      <td>0.093153</td>\n",
       "    </tr>\n",
       "    <tr>\n",
       "      <th>женат / замужем</th>\n",
       "      <td>7710</td>\n",
       "      <td>4551</td>\n",
       "      <td>526</td>\n",
       "      <td>401</td>\n",
       "      <td>0.068223</td>\n",
       "      <td>0.088113</td>\n",
       "      <td>0.075606</td>\n",
       "    </tr>\n",
       "  </tbody>\n",
       "</table>\n",
       "</div>"
      ],
      "text/plain": [
       "                      count        sum      avg_debt_F avg_debt_M avg_debt_FM\n",
       "gender                    F     M    F    M                                  \n",
       "family_status                                                                \n",
       "Не женат / не замужем  1723  1073  118  155   0.068485   0.144455    0.097639\n",
       "в разводе               931   258   61   23   0.065521   0.089147    0.070648\n",
       "вдовец / вдова          896    55   52   11   0.058036   0.200000    0.066246\n",
       "гражданский брак       2832  1301  232  153   0.081921   0.117602    0.093153\n",
       "женат / замужем        7710  4551  526  401   0.068223   0.088113    0.075606"
      ]
     },
     "metadata": {},
     "output_type": "display_data"
    }
   ],
   "source": [
    "#созадим и выведем на экран долю не возвратных кредитов отдельно для женщин и мужчин и общую долю для всех\n",
    "#категорий семейного положения\n",
    "data_pivot_famstatus['avg_debt_F'] = data_pivot_famstatus['sum']['F'] / data_pivot_famstatus['count']['F']\n",
    "data_pivot_famstatus['avg_debt_M'] = data_pivot_famstatus['sum']['M'] / data_pivot_famstatus['count']['M']\n",
    "data_pivot_famstatus['avg_debt_FM'] = (data_pivot_famstatus['sum']['M'] + \n",
    "        data_pivot_famstatus['sum']['F']) / (data_pivot_famstatus['count']['M'] + \n",
    "            data_pivot_famstatus['count']['F'])\n",
    "display(data_pivot_famstatus) "
   ]
  },
  {
   "cell_type": "markdown",
   "id": "82a00c1e",
   "metadata": {
    "deletable": false,
    "id": "1cef7837"
   },
   "source": [
    "Вывод: Люди состоящие в браке более ответственные заёмщики, чем не состоящие в браке или не зарегистрировавшие брак. Однако и в этих данных есть особенности.  \n",
    "1. Если учесть, что выборка вдовцов - нерепрезентативна, самыми безотстветственными заёмщиками следует признать неженатых мужчин.\n",
    "2. Женщины в разводе и вдовы берут кредитов сильно больше, мужчин, и при этом являются одними из самых ответственных заемщиков судя по представленным данным. \n",
    "3. Как мужчины так женщины состоящие в неузаконенном (гражданском) браке - одни из наименее добросовестностных заёмщиков, исходя из полученных данных.\n",
    "4. Регистрация брака практически не сказвается на добросоветность заемщиц, а у мужчин процент просрочки, наоборот, падает более чем в 1.5 раза."
   ]
  },
  {
   "cell_type": "markdown",
   "id": "188eea46",
   "metadata": {
    "deletable": false,
    "editable": false,
    "id": "1e8b2fca"
   },
   "source": [
    "#### 3.3 Есть ли зависимость между уровнем дохода и возвратом кредита в срок?"
   ]
  },
  {
   "cell_type": "code",
   "execution_count": 31,
   "id": "0cc39570",
   "metadata": {
    "deletable": false,
    "id": "cd7e3720"
   },
   "outputs": [
    {
     "data": {
      "text/html": [
       "<div>\n",
       "<style scoped>\n",
       "    .dataframe tbody tr th:only-of-type {\n",
       "        vertical-align: middle;\n",
       "    }\n",
       "\n",
       "    .dataframe tbody tr th {\n",
       "        vertical-align: top;\n",
       "    }\n",
       "\n",
       "    .dataframe thead tr th {\n",
       "        text-align: left;\n",
       "    }\n",
       "\n",
       "    .dataframe thead tr:last-of-type th {\n",
       "        text-align: right;\n",
       "    }\n",
       "</style>\n",
       "<table border=\"1\" class=\"dataframe\">\n",
       "  <thead>\n",
       "    <tr>\n",
       "      <th></th>\n",
       "      <th colspan=\"2\" halign=\"left\">count</th>\n",
       "      <th colspan=\"2\" halign=\"left\">sum</th>\n",
       "    </tr>\n",
       "    <tr>\n",
       "      <th>gender</th>\n",
       "      <th>F</th>\n",
       "      <th>M</th>\n",
       "      <th>F</th>\n",
       "      <th>M</th>\n",
       "    </tr>\n",
       "    <tr>\n",
       "      <th>total_income_category</th>\n",
       "      <th></th>\n",
       "      <th></th>\n",
       "      <th></th>\n",
       "      <th></th>\n",
       "    </tr>\n",
       "  </thead>\n",
       "  <tbody>\n",
       "    <tr>\n",
       "      <th>A</th>\n",
       "      <td>10</td>\n",
       "      <td>15</td>\n",
       "      <td>0</td>\n",
       "      <td>2</td>\n",
       "    </tr>\n",
       "    <tr>\n",
       "      <th>B</th>\n",
       "      <td>2695</td>\n",
       "      <td>2318</td>\n",
       "      <td>162</td>\n",
       "      <td>192</td>\n",
       "    </tr>\n",
       "    <tr>\n",
       "      <th>C</th>\n",
       "      <td>11063</td>\n",
       "      <td>4858</td>\n",
       "      <td>810</td>\n",
       "      <td>543</td>\n",
       "    </tr>\n",
       "    <tr>\n",
       "      <th>D</th>\n",
       "      <td>308</td>\n",
       "      <td>41</td>\n",
       "      <td>15</td>\n",
       "      <td>6</td>\n",
       "    </tr>\n",
       "    <tr>\n",
       "      <th>E</th>\n",
       "      <td>16</td>\n",
       "      <td>6</td>\n",
       "      <td>2</td>\n",
       "      <td>0</td>\n",
       "    </tr>\n",
       "  </tbody>\n",
       "</table>\n",
       "</div>"
      ],
      "text/plain": [
       "                       count        sum     \n",
       "gender                     F     M    F    M\n",
       "total_income_category                       \n",
       "A                         10    15    0    2\n",
       "B                       2695  2318  162  192\n",
       "C                      11063  4858  810  543\n",
       "D                        308    41   15    6\n",
       "E                         16     6    2    0"
      ]
     },
     "metadata": {},
     "output_type": "display_data"
    }
   ],
   "source": [
    "data_pivot_incomecat = data.pivot_table(index='total_income_category', columns='gender', values='debt', \n",
    "                                        aggfunc=['count', 'sum'])\n",
    "display(data_pivot_incomecat) # Сгруппируем в сводную таблицу очищенной data количество взятых кредитов ('count') \n",
    "#и просроченных ('sum') в зависимости от уровня дохода"
   ]
  },
  {
   "cell_type": "code",
   "execution_count": 32,
   "id": "b90f83b7",
   "metadata": {},
   "outputs": [
    {
     "data": {
      "text/html": [
       "<div>\n",
       "<style scoped>\n",
       "    .dataframe tbody tr th:only-of-type {\n",
       "        vertical-align: middle;\n",
       "    }\n",
       "\n",
       "    .dataframe tbody tr th {\n",
       "        vertical-align: top;\n",
       "    }\n",
       "\n",
       "    .dataframe thead tr th {\n",
       "        text-align: left;\n",
       "    }\n",
       "\n",
       "    .dataframe thead tr:last-of-type th {\n",
       "        text-align: right;\n",
       "    }\n",
       "</style>\n",
       "<table border=\"1\" class=\"dataframe\">\n",
       "  <thead>\n",
       "    <tr>\n",
       "      <th></th>\n",
       "      <th colspan=\"2\" halign=\"left\">count</th>\n",
       "      <th colspan=\"2\" halign=\"left\">sum</th>\n",
       "      <th>avg_debt_F</th>\n",
       "      <th>avg_debt_M</th>\n",
       "      <th>avg_debt_FM</th>\n",
       "    </tr>\n",
       "    <tr>\n",
       "      <th>gender</th>\n",
       "      <th>F</th>\n",
       "      <th>M</th>\n",
       "      <th>F</th>\n",
       "      <th>M</th>\n",
       "      <th></th>\n",
       "      <th></th>\n",
       "      <th></th>\n",
       "    </tr>\n",
       "    <tr>\n",
       "      <th>total_income_category</th>\n",
       "      <th></th>\n",
       "      <th></th>\n",
       "      <th></th>\n",
       "      <th></th>\n",
       "      <th></th>\n",
       "      <th></th>\n",
       "      <th></th>\n",
       "    </tr>\n",
       "  </thead>\n",
       "  <tbody>\n",
       "    <tr>\n",
       "      <th>A</th>\n",
       "      <td>10</td>\n",
       "      <td>15</td>\n",
       "      <td>0</td>\n",
       "      <td>2</td>\n",
       "      <td>0.000000</td>\n",
       "      <td>0.133333</td>\n",
       "      <td>0.080000</td>\n",
       "    </tr>\n",
       "    <tr>\n",
       "      <th>B</th>\n",
       "      <td>2695</td>\n",
       "      <td>2318</td>\n",
       "      <td>162</td>\n",
       "      <td>192</td>\n",
       "      <td>0.060111</td>\n",
       "      <td>0.082830</td>\n",
       "      <td>0.070616</td>\n",
       "    </tr>\n",
       "    <tr>\n",
       "      <th>C</th>\n",
       "      <td>11063</td>\n",
       "      <td>4858</td>\n",
       "      <td>810</td>\n",
       "      <td>543</td>\n",
       "      <td>0.073217</td>\n",
       "      <td>0.111774</td>\n",
       "      <td>0.084982</td>\n",
       "    </tr>\n",
       "    <tr>\n",
       "      <th>D</th>\n",
       "      <td>308</td>\n",
       "      <td>41</td>\n",
       "      <td>15</td>\n",
       "      <td>6</td>\n",
       "      <td>0.048701</td>\n",
       "      <td>0.146341</td>\n",
       "      <td>0.060172</td>\n",
       "    </tr>\n",
       "    <tr>\n",
       "      <th>E</th>\n",
       "      <td>16</td>\n",
       "      <td>6</td>\n",
       "      <td>2</td>\n",
       "      <td>0</td>\n",
       "      <td>0.125000</td>\n",
       "      <td>0.000000</td>\n",
       "      <td>0.090909</td>\n",
       "    </tr>\n",
       "  </tbody>\n",
       "</table>\n",
       "</div>"
      ],
      "text/plain": [
       "                       count        sum      avg_debt_F avg_debt_M avg_debt_FM\n",
       "gender                     F     M    F    M                                  \n",
       "total_income_category                                                         \n",
       "A                         10    15    0    2   0.000000   0.133333    0.080000\n",
       "B                       2695  2318  162  192   0.060111   0.082830    0.070616\n",
       "C                      11063  4858  810  543   0.073217   0.111774    0.084982\n",
       "D                        308    41   15    6   0.048701   0.146341    0.060172\n",
       "E                         16     6    2    0   0.125000   0.000000    0.090909"
      ]
     },
     "metadata": {},
     "output_type": "display_data"
    }
   ],
   "source": [
    "#созадим и выведем на экран долю не возвратных кредитов отдельно для женщин и мужчин и общую долю для всех\n",
    "#категорий доходов\n",
    "data_pivot_incomecat['avg_debt_F'] = data_pivot_incomecat['sum']['F'] / data_pivot_incomecat['count']['F']\n",
    "data_pivot_incomecat['avg_debt_M'] = data_pivot_incomecat['sum']['M'] / data_pivot_incomecat['count']['M']\n",
    "data_pivot_incomecat['avg_debt_FM'] = (data_pivot_incomecat['sum']['M'] + \n",
    "        data_pivot_incomecat['sum']['F']) / (data_pivot_incomecat['count']['M'] + \n",
    "                data_pivot_incomecat['count']['F'])\n",
    "display(data_pivot_incomecat) "
   ]
  },
  {
   "cell_type": "markdown",
   "id": "b29431f6",
   "metadata": {
    "deletable": false,
    "id": "e8593def"
   },
   "source": [
    "Вывод: С ростом уровнем дохода (те категории которые можно достоверно анализировать) количество просрочек ('debt') в целом меняется несущественно, хотя и \n",
    "1. В категории С можно заметить больше всего просрочек,\n",
    "2. Судя по категориям В и С можно заметить, что мужчины - менее добросовестные заёмщики.  "
   ]
  },
  {
   "cell_type": "markdown",
   "id": "f4cef24b",
   "metadata": {
    "deletable": false,
    "editable": false,
    "id": "99ecbd1f"
   },
   "source": [
    "#### 3.4 Как разные цели кредита влияют на его возврат в срок?"
   ]
  },
  {
   "cell_type": "code",
   "execution_count": 33,
   "id": "c2ad1394",
   "metadata": {
    "deletable": false,
    "id": "2b687290"
   },
   "outputs": [
    {
     "data": {
      "text/html": [
       "<div>\n",
       "<style scoped>\n",
       "    .dataframe tbody tr th:only-of-type {\n",
       "        vertical-align: middle;\n",
       "    }\n",
       "\n",
       "    .dataframe tbody tr th {\n",
       "        vertical-align: top;\n",
       "    }\n",
       "\n",
       "    .dataframe thead tr th {\n",
       "        text-align: left;\n",
       "    }\n",
       "\n",
       "    .dataframe thead tr:last-of-type th {\n",
       "        text-align: right;\n",
       "    }\n",
       "</style>\n",
       "<table border=\"1\" class=\"dataframe\">\n",
       "  <thead>\n",
       "    <tr>\n",
       "      <th></th>\n",
       "      <th colspan=\"2\" halign=\"left\">count</th>\n",
       "      <th colspan=\"2\" halign=\"left\">sum</th>\n",
       "    </tr>\n",
       "    <tr>\n",
       "      <th>gender</th>\n",
       "      <th>F</th>\n",
       "      <th>M</th>\n",
       "      <th>F</th>\n",
       "      <th>M</th>\n",
       "    </tr>\n",
       "    <tr>\n",
       "      <th>purpose_category</th>\n",
       "      <th></th>\n",
       "      <th></th>\n",
       "      <th></th>\n",
       "      <th></th>\n",
       "    </tr>\n",
       "  </thead>\n",
       "  <tbody>\n",
       "    <tr>\n",
       "      <th>операции с автомобилем</th>\n",
       "      <td>2843</td>\n",
       "      <td>1436</td>\n",
       "      <td>232</td>\n",
       "      <td>168</td>\n",
       "    </tr>\n",
       "    <tr>\n",
       "      <th>операции с недвижимостью</th>\n",
       "      <td>7046</td>\n",
       "      <td>3704</td>\n",
       "      <td>444</td>\n",
       "      <td>336</td>\n",
       "    </tr>\n",
       "    <tr>\n",
       "      <th>получение образования</th>\n",
       "      <td>2649</td>\n",
       "      <td>1339</td>\n",
       "      <td>206</td>\n",
       "      <td>163</td>\n",
       "    </tr>\n",
       "    <tr>\n",
       "      <th>проведение свадьбы</th>\n",
       "      <td>1554</td>\n",
       "      <td>759</td>\n",
       "      <td>107</td>\n",
       "      <td>76</td>\n",
       "    </tr>\n",
       "  </tbody>\n",
       "</table>\n",
       "</div>"
      ],
      "text/plain": [
       "                         count        sum     \n",
       "gender                       F     M    F    M\n",
       "purpose_category                              \n",
       "операции с автомобилем    2843  1436  232  168\n",
       "операции с недвижимостью  7046  3704  444  336\n",
       "получение образования     2649  1339  206  163\n",
       "проведение свадьбы        1554   759  107   76"
      ]
     },
     "metadata": {},
     "output_type": "display_data"
    }
   ],
   "source": [
    "data_pivot_purposecat = data.pivot_table(index='purpose_category', columns='gender', values='debt', \n",
    "                                         aggfunc=['count', 'sum'])\n",
    "display(data_pivot_purposecat) # Сгруппируем в сводную таблицу очищенной data количество взятых кредитов ('count') \n",
    "#и просроченных ('sum') в зависимости от уровня дохода"
   ]
  },
  {
   "cell_type": "code",
   "execution_count": 34,
   "id": "b03db9d4",
   "metadata": {
    "scrolled": true
   },
   "outputs": [
    {
     "data": {
      "text/html": [
       "<div>\n",
       "<style scoped>\n",
       "    .dataframe tbody tr th:only-of-type {\n",
       "        vertical-align: middle;\n",
       "    }\n",
       "\n",
       "    .dataframe tbody tr th {\n",
       "        vertical-align: top;\n",
       "    }\n",
       "\n",
       "    .dataframe thead tr th {\n",
       "        text-align: left;\n",
       "    }\n",
       "\n",
       "    .dataframe thead tr:last-of-type th {\n",
       "        text-align: right;\n",
       "    }\n",
       "</style>\n",
       "<table border=\"1\" class=\"dataframe\">\n",
       "  <thead>\n",
       "    <tr>\n",
       "      <th></th>\n",
       "      <th colspan=\"2\" halign=\"left\">count</th>\n",
       "      <th colspan=\"2\" halign=\"left\">sum</th>\n",
       "      <th>avg_debt_F</th>\n",
       "      <th>avg_debt_M</th>\n",
       "      <th>avg_debt_FM</th>\n",
       "    </tr>\n",
       "    <tr>\n",
       "      <th>gender</th>\n",
       "      <th>F</th>\n",
       "      <th>M</th>\n",
       "      <th>F</th>\n",
       "      <th>M</th>\n",
       "      <th></th>\n",
       "      <th></th>\n",
       "      <th></th>\n",
       "    </tr>\n",
       "    <tr>\n",
       "      <th>purpose_category</th>\n",
       "      <th></th>\n",
       "      <th></th>\n",
       "      <th></th>\n",
       "      <th></th>\n",
       "      <th></th>\n",
       "      <th></th>\n",
       "      <th></th>\n",
       "    </tr>\n",
       "  </thead>\n",
       "  <tbody>\n",
       "    <tr>\n",
       "      <th>операции с автомобилем</th>\n",
       "      <td>2843</td>\n",
       "      <td>1436</td>\n",
       "      <td>232</td>\n",
       "      <td>168</td>\n",
       "      <td>0.081604</td>\n",
       "      <td>0.116992</td>\n",
       "      <td>0.093480</td>\n",
       "    </tr>\n",
       "    <tr>\n",
       "      <th>операции с недвижимостью</th>\n",
       "      <td>7046</td>\n",
       "      <td>3704</td>\n",
       "      <td>444</td>\n",
       "      <td>336</td>\n",
       "      <td>0.063014</td>\n",
       "      <td>0.090713</td>\n",
       "      <td>0.072558</td>\n",
       "    </tr>\n",
       "    <tr>\n",
       "      <th>получение образования</th>\n",
       "      <td>2649</td>\n",
       "      <td>1339</td>\n",
       "      <td>206</td>\n",
       "      <td>163</td>\n",
       "      <td>0.077765</td>\n",
       "      <td>0.121733</td>\n",
       "      <td>0.092528</td>\n",
       "    </tr>\n",
       "    <tr>\n",
       "      <th>проведение свадьбы</th>\n",
       "      <td>1554</td>\n",
       "      <td>759</td>\n",
       "      <td>107</td>\n",
       "      <td>76</td>\n",
       "      <td>0.068855</td>\n",
       "      <td>0.100132</td>\n",
       "      <td>0.079118</td>\n",
       "    </tr>\n",
       "  </tbody>\n",
       "</table>\n",
       "</div>"
      ],
      "text/plain": [
       "                         count        sum      avg_debt_F avg_debt_M  \\\n",
       "gender                       F     M    F    M                         \n",
       "purpose_category                                                       \n",
       "операции с автомобилем    2843  1436  232  168   0.081604   0.116992   \n",
       "операции с недвижимостью  7046  3704  444  336   0.063014   0.090713   \n",
       "получение образования     2649  1339  206  163   0.077765   0.121733   \n",
       "проведение свадьбы        1554   759  107   76   0.068855   0.100132   \n",
       "\n",
       "                         avg_debt_FM  \n",
       "gender                                \n",
       "purpose_category                      \n",
       "операции с автомобилем      0.093480  \n",
       "операции с недвижимостью    0.072558  \n",
       "получение образования       0.092528  \n",
       "проведение свадьбы          0.079118  "
      ]
     },
     "metadata": {},
     "output_type": "display_data"
    }
   ],
   "source": [
    "#созадим и выведем на экран долю не возвратных кредитов отдельно для женщин и мужчин и общую долю для всех\n",
    "#категорий по целям кредита\n",
    "data_pivot_purposecat['avg_debt_F'] = data_pivot_purposecat['sum']['F'] / data_pivot_purposecat['count']['F']\n",
    "data_pivot_purposecat['avg_debt_M'] = data_pivot_purposecat['sum']['M'] / data_pivot_purposecat['count']['M']\n",
    "data_pivot_purposecat['avg_debt_FM'] = (data_pivot_purposecat['sum']['M'] + \n",
    "        data_pivot_purposecat['sum']['F']) / (data_pivot_purposecat['count']['M'] + \n",
    "            data_pivot_purposecat['count']['F'])\n",
    "display(data_pivot_purposecat) "
   ]
  },
  {
   "cell_type": "markdown",
   "id": "c62205e0",
   "metadata": {
    "deletable": false,
    "id": "b4bb2ce6"
   },
   "source": [
    "Вывод: Наименьший процент просрочек наблюдается в случае если заемщик берет кредит на операции с недвижимостью или на проведение свадьбы. Поскольку после анализа по полу все выборки остаются репрезентативные, то в анализе по эти параметрам можно заключить, что мужчины в среднем в 1,5 раза чаще имеют просрочки."
   ]
  },
  {
   "cell_type": "markdown",
   "id": "bf81f56d",
   "metadata": {
    "deletable": false,
    "editable": false,
    "id": "09c3ac4c"
   },
   "source": [
    "#### 3.5 Приведите возможные причины появления пропусков в исходных данных."
   ]
  },
  {
   "cell_type": "markdown",
   "id": "7ec9f5dc",
   "metadata": {
    "deletable": false,
    "id": "9da2ceda"
   },
   "source": [
    "Ответ: Пропуски могут возникнуть из-за человеческого фактора: при внесении данных пользователь может не указать некоторые данные, особенно если поля не являются обязательными для заполнения. Пропуски также часто возникают из-за техничесих неисправностей, например при выгрузке/копировании данных может возникнуть сбой конечный массив будет неполным, с многочисленными \n",
    "пропусками. "
   ]
  },
  {
   "cell_type": "markdown",
   "id": "c45be805",
   "metadata": {
    "deletable": false,
    "editable": false,
    "id": "7b0487d6"
   },
   "source": [
    "#### 3.6 Объясните, почему заполнить пропуски медианным значением — лучшее решение для количественных переменных."
   ]
  },
  {
   "cell_type": "markdown",
   "id": "c4206f1a",
   "metadata": {
    "deletable": false,
    "id": "7ecf2b8e"
   },
   "source": [
    "Ответ: поскольку медианное значение лучше характеризует выборку (её центр) чем среднее (особенно при наличии аномально больших/малых значений), поэтому логичнее заполнять пропуски значениями, которые не сместят центр выборки"
   ]
  },
  {
   "cell_type": "markdown",
   "id": "2dd1310a",
   "metadata": {
    "deletable": false,
    "editable": false,
    "id": "6db5255a"
   },
   "source": [
    "### Шаг 4: общий вывод."
   ]
  },
  {
   "cell_type": "markdown",
   "id": "8d65498d",
   "metadata": {
    "deletable": false,
    "id": "bad65432"
   },
   "source": [
    "Напишите ваш общий вывод. Судя по имеющимся данным:\n",
    "1. Женщины в 1,5 - 2 раза чаще берут кредиты\n",
    "2. Наличие детей в целом плохо сказывается на доле погашения кредита без просрочек\n",
    "3. Процент просрочек больше и у людей, не зарегистрировавших свой брак официально\n",
    "4. Уровень дохода слабо влияет на % просрочек, и наиболее богатые и наиболее бедные категории в данных представлены нерепрезентативно.\n",
    "5. Наименьший процент просрочек у клиентов, берущих деньги на операции с недвижимостью и на проведение свадеб."
   ]
  },
  {
   "cell_type": "markdown",
   "id": "117fa81d",
   "metadata": {},
   "source": [
    "До конца не понял что нужно сделать, но что-то похожее на красивый отчет оформить в самой последней ячейке этой тетради."
   ]
  },
  {
   "cell_type": "markdown",
   "id": "673cb994",
   "metadata": {},
   "source": [
    "# Исследование надежности заёмщиков\n",
    "\n",
    "В данной работе проводилось исследование надежности заёмщиков в зависимости от уровня доходов, целей займа\n",
    "семейного положения и количества детей. Были получены результаты для женщин и мужчин, а также общие данные.\n",
    "\n",
    "## По результатам исследования были выявлены следующие закономерности\n",
    "\n",
    "#### Зависимость доли просроченных кредитов от уровня дохода:\n",
    "    - Наиболее число просрочек наблюдается у заёмщиков с уровнем дохода 50000 - 200000\n",
    "    - При этом мужчины менее добросоветные заёмщики\n",
    "        \n",
    "#### Зависимость доли просроченных кредитов от целей займа:\n",
    "    - Наименьший процент просрочек наблюдается в случае если заемщик берет кредит на операции с недвижимостью \n",
    "    или на проведение свадьбы. \n",
    "    - Наибольший процент просрочек в категории \"операции с авто\".\n",
    "    Разница просроченных займов достигает 2% в абсолютном выражении и до 20% относительно займов, связанных с\n",
    "    недвижимостью\n",
    "        \n",
    "#### Зависимость доли просроченных кредитов от семейного положения заёмщика:\n",
    "    - Как мужчины так женщины состоящие в неузаконенном (гражданском) браке - одни из наименее \n",
    "    добросовестностных заёмщиков.\n",
    "    - Регистрация брака слабо сказвается на добросоветность заемщиц (% невозврата падает с 8.2 до 6.8), \n",
    "    а у официально женатых мужчин процент просрочки падает более чем в 1.5 раза по сравнению с официально \n",
    "    неженатыми мужчинами (с 12.5 до 8.8%). Отдельно выделяются холостяки, процент просрочек достигает 14.5%\n",
    "    - Женщины в разводе и вдовы берут кредитов сильно больше, мужчин того же положения, но при этом являются\n",
    "    одними из самых ответственных заемщиков.\n",
    "        \n",
    "#### Зависимость доли просроченных кредитов от семейного положения заёмщика:\n",
    "    - В целом наибольшая доля просрочек наблюдается у заёмщиков с двумя детьми. \n",
    "    Доля невозрата у клиентов с 2 детьми заметно возрастает до 9.5%, против 7.5% у бездетных. \n",
    "    - Если же разделить заёмщиков по полу наблюдаются более интересные зависимости:\n",
    "    \n",
    "        - Бездетные женщины или женщины с одним ребенком более ответственны к погашению кредита, чем \n",
    "        мужчины тех же категорий\n",
    "        - Отцы двух детей, наоборот, более ответственны, чем женщины.\n"
   ]
  }
 ],
 "metadata": {
  "ExecuteTimeLog": [
   {
    "duration": 49,
    "start_time": "2023-01-24T19:45:24.100Z"
   },
   {
    "duration": 6,
    "start_time": "2023-01-24T19:46:05.759Z"
   },
   {
    "duration": 530,
    "start_time": "2023-01-24T19:47:07.585Z"
   },
   {
    "duration": 25,
    "start_time": "2023-01-24T19:47:11.495Z"
   },
   {
    "duration": 15,
    "start_time": "2023-01-24T19:47:17.852Z"
   },
   {
    "duration": 10,
    "start_time": "2023-01-24T19:47:23.033Z"
   },
   {
    "duration": 33,
    "start_time": "2023-01-24T19:47:27.699Z"
   },
   {
    "duration": 4,
    "start_time": "2023-01-24T19:47:30.584Z"
   },
   {
    "duration": 8,
    "start_time": "2023-01-24T19:47:33.944Z"
   },
   {
    "duration": 5,
    "start_time": "2023-01-24T19:47:39.110Z"
   },
   {
    "duration": 9,
    "start_time": "2023-01-24T19:47:41.629Z"
   },
   {
    "duration": 5,
    "start_time": "2023-01-24T19:47:44.202Z"
   },
   {
    "duration": 33,
    "start_time": "2023-01-24T19:47:49.146Z"
   },
   {
    "duration": 9,
    "start_time": "2023-01-24T19:47:51.684Z"
   },
   {
    "duration": 4,
    "start_time": "2023-01-24T19:47:55.609Z"
   },
   {
    "duration": 11,
    "start_time": "2023-01-24T19:47:58.092Z"
   },
   {
    "duration": 21,
    "start_time": "2023-01-24T19:48:00.481Z"
   },
   {
    "duration": 18,
    "start_time": "2023-01-24T19:48:03.153Z"
   },
   {
    "duration": 4,
    "start_time": "2023-01-24T19:48:10.312Z"
   },
   {
    "duration": 10,
    "start_time": "2023-01-24T19:48:12.785Z"
   },
   {
    "duration": 6,
    "start_time": "2023-01-24T19:48:18.238Z"
   },
   {
    "duration": 3,
    "start_time": "2023-01-24T19:48:25.355Z"
   },
   {
    "duration": 8,
    "start_time": "2023-01-24T19:48:27.110Z"
   },
   {
    "duration": 4,
    "start_time": "2023-01-24T19:48:32.254Z"
   },
   {
    "duration": 5,
    "start_time": "2023-01-24T19:48:49.087Z"
   },
   {
    "duration": 6,
    "start_time": "2023-01-24T19:54:49.851Z"
   },
   {
    "duration": 6,
    "start_time": "2023-01-24T19:55:35.634Z"
   },
   {
    "duration": 7,
    "start_time": "2023-01-24T19:58:41.102Z"
   },
   {
    "duration": 11,
    "start_time": "2023-01-24T20:05:26.772Z"
   },
   {
    "duration": 8,
    "start_time": "2023-01-24T20:06:33.690Z"
   },
   {
    "duration": 69,
    "start_time": "2023-01-24T20:18:34.579Z"
   },
   {
    "duration": 1001,
    "start_time": "2023-01-24T20:22:25.133Z"
   },
   {
    "duration": 708,
    "start_time": "2023-01-24T20:24:18.111Z"
   },
   {
    "duration": 889,
    "start_time": "2023-01-24T20:24:27.933Z"
   },
   {
    "duration": 9,
    "start_time": "2023-01-24T20:27:22.076Z"
   },
   {
    "duration": 720,
    "start_time": "2023-01-24T20:29:21.511Z"
   },
   {
    "duration": 48,
    "start_time": "2023-01-24T20:36:25.956Z"
   },
   {
    "duration": 74,
    "start_time": "2023-01-24T20:37:00.432Z"
   },
   {
    "duration": 17,
    "start_time": "2023-01-24T20:37:34.643Z"
   },
   {
    "duration": 14,
    "start_time": "2023-01-24T20:38:51.721Z"
   },
   {
    "duration": 15,
    "start_time": "2023-01-24T20:40:03.581Z"
   },
   {
    "duration": 11,
    "start_time": "2023-01-24T20:41:24.581Z"
   },
   {
    "duration": 18,
    "start_time": "2023-01-24T20:41:36.579Z"
   },
   {
    "duration": 27,
    "start_time": "2023-01-24T20:44:00.989Z"
   },
   {
    "duration": 24,
    "start_time": "2023-01-24T20:45:05.646Z"
   },
   {
    "duration": 10,
    "start_time": "2023-01-24T20:45:53.919Z"
   },
   {
    "duration": 11,
    "start_time": "2023-01-24T20:46:03.767Z"
   },
   {
    "duration": 35,
    "start_time": "2023-01-24T20:47:49.177Z"
   },
   {
    "duration": 29,
    "start_time": "2023-01-24T20:48:23.080Z"
   },
   {
    "duration": 7,
    "start_time": "2023-01-24T20:49:51.238Z"
   },
   {
    "duration": 7,
    "start_time": "2023-01-24T20:50:39.412Z"
   },
   {
    "duration": 27,
    "start_time": "2023-01-24T20:50:41.380Z"
   },
   {
    "duration": 16,
    "start_time": "2023-01-24T20:51:42.927Z"
   },
   {
    "duration": 799,
    "start_time": "2023-01-24T20:53:00.402Z"
   },
   {
    "duration": 752,
    "start_time": "2023-01-24T20:54:06.582Z"
   },
   {
    "duration": 7,
    "start_time": "2023-01-24T20:54:36.079Z"
   },
   {
    "duration": 8,
    "start_time": "2023-01-24T20:54:46.233Z"
   },
   {
    "duration": 16,
    "start_time": "2023-01-24T20:55:44.996Z"
   },
   {
    "duration": 6,
    "start_time": "2023-01-24T20:58:09.017Z"
   },
   {
    "duration": 6,
    "start_time": "2023-01-24T20:58:45.367Z"
   },
   {
    "duration": 5,
    "start_time": "2023-01-24T20:58:48.869Z"
   },
   {
    "duration": 7,
    "start_time": "2023-01-24T20:58:56.363Z"
   },
   {
    "duration": 68,
    "start_time": "2023-01-24T20:59:09.623Z"
   },
   {
    "duration": 15,
    "start_time": "2023-01-24T20:59:09.693Z"
   },
   {
    "duration": 15,
    "start_time": "2023-01-24T20:59:09.710Z"
   },
   {
    "duration": 8,
    "start_time": "2023-01-24T20:59:09.727Z"
   },
   {
    "duration": 32,
    "start_time": "2023-01-24T20:59:09.737Z"
   },
   {
    "duration": 4,
    "start_time": "2023-01-24T20:59:09.792Z"
   },
   {
    "duration": 14,
    "start_time": "2023-01-24T20:59:09.798Z"
   },
   {
    "duration": 3,
    "start_time": "2023-01-24T20:59:09.814Z"
   },
   {
    "duration": 8,
    "start_time": "2023-01-24T20:59:09.819Z"
   },
   {
    "duration": 4,
    "start_time": "2023-01-24T20:59:10.143Z"
   },
   {
    "duration": 35,
    "start_time": "2023-01-24T20:59:10.149Z"
   },
   {
    "duration": 10,
    "start_time": "2023-01-24T20:59:10.185Z"
   },
   {
    "duration": 4,
    "start_time": "2023-01-24T20:59:10.197Z"
   },
   {
    "duration": 16,
    "start_time": "2023-01-24T20:59:10.204Z"
   },
   {
    "duration": 23,
    "start_time": "2023-01-24T20:59:10.223Z"
   },
   {
    "duration": 17,
    "start_time": "2023-01-24T20:59:10.248Z"
   },
   {
    "duration": 4,
    "start_time": "2023-01-24T20:59:10.292Z"
   },
   {
    "duration": 16,
    "start_time": "2023-01-24T20:59:10.298Z"
   },
   {
    "duration": 9,
    "start_time": "2023-01-24T20:59:10.316Z"
   },
   {
    "duration": 5,
    "start_time": "2023-01-24T20:59:10.327Z"
   },
   {
    "duration": 17,
    "start_time": "2023-01-24T20:59:10.333Z"
   },
   {
    "duration": 6,
    "start_time": "2023-01-24T20:59:16.870Z"
   },
   {
    "duration": 6,
    "start_time": "2023-01-24T20:59:21.871Z"
   },
   {
    "duration": 11,
    "start_time": "2023-01-24T21:01:22.913Z"
   },
   {
    "duration": 18,
    "start_time": "2023-01-24T21:01:28.304Z"
   },
   {
    "duration": 24,
    "start_time": "2023-01-24T21:02:57.964Z"
   },
   {
    "duration": 26,
    "start_time": "2023-01-24T21:04:43.252Z"
   },
   {
    "duration": 6,
    "start_time": "2023-01-24T21:23:51.785Z"
   },
   {
    "duration": 28,
    "start_time": "2023-01-24T21:23:56.588Z"
   },
   {
    "duration": 25,
    "start_time": "2023-01-24T21:24:29.828Z"
   },
   {
    "duration": 14,
    "start_time": "2023-01-24T21:24:33.168Z"
   },
   {
    "duration": 11,
    "start_time": "2023-01-24T21:25:26.164Z"
   },
   {
    "duration": 14,
    "start_time": "2023-01-24T21:27:14.896Z"
   },
   {
    "duration": 25,
    "start_time": "2023-01-24T21:30:28.917Z"
   },
   {
    "duration": 24,
    "start_time": "2023-01-24T21:31:07.784Z"
   },
   {
    "duration": 25,
    "start_time": "2023-01-24T21:36:17.174Z"
   },
   {
    "duration": 25,
    "start_time": "2023-01-24T21:55:28.584Z"
   },
   {
    "duration": 26,
    "start_time": "2023-01-24T21:55:43.875Z"
   },
   {
    "duration": 23,
    "start_time": "2023-01-24T21:57:48.745Z"
   },
   {
    "duration": 28,
    "start_time": "2023-01-24T21:58:04.341Z"
   },
   {
    "duration": 38,
    "start_time": "2023-01-24T22:00:16.171Z"
   },
   {
    "duration": 9,
    "start_time": "2023-01-24T22:02:20.869Z"
   },
   {
    "duration": 25,
    "start_time": "2023-01-24T22:02:55.972Z"
   },
   {
    "duration": 458,
    "start_time": "2023-01-26T22:03:47.684Z"
   },
   {
    "duration": 23,
    "start_time": "2023-01-26T22:03:48.144Z"
   },
   {
    "duration": 13,
    "start_time": "2023-01-26T22:03:48.168Z"
   },
   {
    "duration": 8,
    "start_time": "2023-01-26T22:03:48.184Z"
   },
   {
    "duration": 34,
    "start_time": "2023-01-26T22:03:48.193Z"
   },
   {
    "duration": 4,
    "start_time": "2023-01-26T22:03:48.229Z"
   },
   {
    "duration": 15,
    "start_time": "2023-01-26T22:03:48.234Z"
   },
   {
    "duration": 7,
    "start_time": "2023-01-26T22:03:48.251Z"
   },
   {
    "duration": 12,
    "start_time": "2023-01-26T22:03:48.260Z"
   },
   {
    "duration": 4,
    "start_time": "2023-01-26T22:03:48.287Z"
   },
   {
    "duration": 33,
    "start_time": "2023-01-26T22:03:48.292Z"
   },
   {
    "duration": 9,
    "start_time": "2023-01-26T22:03:48.326Z"
   },
   {
    "duration": 6,
    "start_time": "2023-01-26T22:03:48.336Z"
   },
   {
    "duration": 12,
    "start_time": "2023-01-26T22:03:48.343Z"
   },
   {
    "duration": 40,
    "start_time": "2023-01-26T22:03:48.357Z"
   },
   {
    "duration": 15,
    "start_time": "2023-01-26T22:03:48.399Z"
   },
   {
    "duration": 3,
    "start_time": "2023-01-26T22:03:48.416Z"
   },
   {
    "duration": 16,
    "start_time": "2023-01-26T22:03:48.420Z"
   },
   {
    "duration": 5,
    "start_time": "2023-01-26T22:03:48.438Z"
   },
   {
    "duration": 4,
    "start_time": "2023-01-26T22:03:48.444Z"
   },
   {
    "duration": 13,
    "start_time": "2023-01-26T22:03:48.449Z"
   },
   {
    "duration": 26,
    "start_time": "2023-01-26T22:03:48.463Z"
   },
   {
    "duration": 21,
    "start_time": "2023-01-26T22:03:48.490Z"
   },
   {
    "duration": 11,
    "start_time": "2023-01-26T22:03:48.513Z"
   },
   {
    "duration": 14,
    "start_time": "2023-01-26T22:03:48.525Z"
   },
   {
    "duration": 23,
    "start_time": "2023-01-26T22:03:48.540Z"
   },
   {
    "duration": 32,
    "start_time": "2023-01-26T22:03:48.564Z"
   },
   {
    "duration": 7,
    "start_time": "2023-01-26T22:03:48.599Z"
   },
   {
    "duration": 27,
    "start_time": "2023-01-26T22:03:48.607Z"
   },
   {
    "duration": 19,
    "start_time": "2023-01-26T22:03:48.635Z"
   },
   {
    "duration": 47,
    "start_time": "2023-01-26T22:03:48.655Z"
   },
   {
    "duration": 19,
    "start_time": "2023-01-26T22:03:48.704Z"
   },
   {
    "duration": 27,
    "start_time": "2023-01-26T22:03:48.725Z"
   },
   {
    "duration": 41,
    "start_time": "2023-01-26T22:03:48.754Z"
   },
   {
    "duration": 27,
    "start_time": "2023-01-26T22:04:57.978Z"
   },
   {
    "duration": 39,
    "start_time": "2023-01-26T22:05:01.018Z"
   },
   {
    "duration": 26,
    "start_time": "2023-01-27T03:26:49.140Z"
   },
   {
    "duration": 24,
    "start_time": "2023-01-27T03:32:22.582Z"
   },
   {
    "duration": 34,
    "start_time": "2023-01-27T03:41:05.771Z"
   },
   {
    "duration": 23,
    "start_time": "2023-01-27T03:41:39.151Z"
   },
   {
    "duration": 91,
    "start_time": "2023-01-27T03:42:22.564Z"
   },
   {
    "duration": 1149,
    "start_time": "2023-01-27T03:42:42.940Z"
   },
   {
    "duration": 27,
    "start_time": "2023-01-27T03:42:50.327Z"
   },
   {
    "duration": 30,
    "start_time": "2023-01-27T03:45:43.293Z"
   },
   {
    "duration": 33,
    "start_time": "2023-01-27T03:46:11.049Z"
   },
   {
    "duration": 30,
    "start_time": "2023-01-27T03:46:51.242Z"
   },
   {
    "duration": 29,
    "start_time": "2023-01-27T03:47:26.177Z"
   },
   {
    "duration": 32,
    "start_time": "2023-01-27T03:48:22.699Z"
   },
   {
    "duration": 26,
    "start_time": "2023-01-27T03:48:45.666Z"
   },
   {
    "duration": 5,
    "start_time": "2023-01-27T04:00:34.886Z"
   },
   {
    "duration": 4,
    "start_time": "2023-01-27T04:00:50.466Z"
   },
   {
    "duration": 8,
    "start_time": "2023-01-27T04:00:50.474Z"
   },
   {
    "duration": 11,
    "start_time": "2023-01-27T04:00:50.484Z"
   },
   {
    "duration": 20,
    "start_time": "2023-01-27T04:00:50.497Z"
   },
   {
    "duration": 38,
    "start_time": "2023-01-27T04:00:50.525Z"
   },
   {
    "duration": 28,
    "start_time": "2023-01-27T04:00:50.565Z"
   },
   {
    "duration": 10,
    "start_time": "2023-01-27T04:00:50.595Z"
   },
   {
    "duration": 68,
    "start_time": "2023-01-27T04:00:50.607Z"
   },
   {
    "duration": 24,
    "start_time": "2023-01-27T04:00:50.677Z"
   },
   {
    "duration": 51,
    "start_time": "2023-01-27T04:00:50.703Z"
   },
   {
    "duration": 24,
    "start_time": "2023-01-27T04:00:50.756Z"
   },
   {
    "duration": 29,
    "start_time": "2023-01-27T04:00:50.781Z"
   },
   {
    "duration": 49,
    "start_time": "2023-01-27T04:00:50.812Z"
   },
   {
    "duration": 28,
    "start_time": "2023-01-27T04:15:05.734Z"
   },
   {
    "duration": 8,
    "start_time": "2023-01-27T04:15:05.764Z"
   },
   {
    "duration": 33,
    "start_time": "2023-01-27T04:15:05.773Z"
   },
   {
    "duration": 46,
    "start_time": "2023-01-27T04:15:05.808Z"
   },
   {
    "duration": 27,
    "start_time": "2023-01-27T04:15:05.856Z"
   },
   {
    "duration": 21,
    "start_time": "2023-01-27T04:15:05.884Z"
   },
   {
    "duration": 52,
    "start_time": "2023-01-27T04:15:05.907Z"
   },
   {
    "duration": 22,
    "start_time": "2023-01-27T04:15:05.960Z"
   },
   {
    "duration": 3,
    "start_time": "2023-01-27T05:21:07.962Z"
   },
   {
    "duration": 428,
    "start_time": "2023-01-27T19:44:54.674Z"
   },
   {
    "duration": 41,
    "start_time": "2023-01-27T19:44:55.104Z"
   },
   {
    "duration": 21,
    "start_time": "2023-01-27T19:44:55.147Z"
   },
   {
    "duration": 15,
    "start_time": "2023-01-27T19:44:55.170Z"
   },
   {
    "duration": 40,
    "start_time": "2023-01-27T19:44:55.187Z"
   },
   {
    "duration": 8,
    "start_time": "2023-01-27T19:44:55.233Z"
   },
   {
    "duration": 26,
    "start_time": "2023-01-27T19:44:55.243Z"
   },
   {
    "duration": 21,
    "start_time": "2023-01-27T19:44:55.271Z"
   },
   {
    "duration": 11,
    "start_time": "2023-01-27T19:44:55.294Z"
   },
   {
    "duration": 5,
    "start_time": "2023-01-27T19:44:55.310Z"
   },
   {
    "duration": 44,
    "start_time": "2023-01-27T19:44:55.317Z"
   },
   {
    "duration": 9,
    "start_time": "2023-01-27T19:44:55.363Z"
   },
   {
    "duration": 13,
    "start_time": "2023-01-27T19:44:55.374Z"
   },
   {
    "duration": 19,
    "start_time": "2023-01-27T19:44:55.389Z"
   },
   {
    "duration": 35,
    "start_time": "2023-01-27T19:44:55.410Z"
   },
   {
    "duration": 23,
    "start_time": "2023-01-27T19:44:55.446Z"
   },
   {
    "duration": 19,
    "start_time": "2023-01-27T19:44:55.471Z"
   },
   {
    "duration": 20,
    "start_time": "2023-01-27T19:44:55.492Z"
   },
   {
    "duration": 11,
    "start_time": "2023-01-27T19:44:55.513Z"
   },
   {
    "duration": 21,
    "start_time": "2023-01-27T19:44:55.525Z"
   },
   {
    "duration": 18,
    "start_time": "2023-01-27T19:44:55.548Z"
   },
   {
    "duration": 8,
    "start_time": "2023-01-27T19:44:55.568Z"
   },
   {
    "duration": 8,
    "start_time": "2023-01-27T19:44:55.578Z"
   },
   {
    "duration": 13,
    "start_time": "2023-01-27T19:44:55.588Z"
   },
   {
    "duration": 18,
    "start_time": "2023-01-27T19:44:55.602Z"
   },
   {
    "duration": 50,
    "start_time": "2023-01-27T19:44:55.633Z"
   },
   {
    "duration": 29,
    "start_time": "2023-01-27T19:44:55.685Z"
   },
   {
    "duration": 34,
    "start_time": "2023-01-27T19:44:55.717Z"
   },
   {
    "duration": 43,
    "start_time": "2023-01-27T19:44:55.753Z"
   },
   {
    "duration": 37,
    "start_time": "2023-01-27T19:44:55.798Z"
   },
   {
    "duration": 33,
    "start_time": "2023-01-27T19:44:55.836Z"
   },
   {
    "duration": 26,
    "start_time": "2023-01-27T19:44:55.871Z"
   },
   {
    "duration": 49,
    "start_time": "2023-01-27T19:44:55.899Z"
   },
   {
    "duration": 29,
    "start_time": "2023-01-27T19:44:55.951Z"
   }
  ],
  "colab": {
   "name": "dpp_template_part2.ipynb",
   "provenance": []
  },
  "kernelspec": {
   "display_name": "Python 3 (ipykernel)",
   "language": "python",
   "name": "python3"
  },
  "language_info": {
   "codemirror_mode": {
    "name": "ipython",
    "version": 3
   },
   "file_extension": ".py",
   "mimetype": "text/x-python",
   "name": "python",
   "nbconvert_exporter": "python",
   "pygments_lexer": "ipython3",
   "version": "3.10.9"
  },
  "toc": {
   "base_numbering": 1,
   "nav_menu": {},
   "number_sections": true,
   "sideBar": true,
   "skip_h1_title": true,
   "title_cell": "Table of Contents",
   "title_sidebar": "Contents",
   "toc_cell": false,
   "toc_position": {
    "height": "calc(100% - 180px)",
    "left": "10px",
    "top": "150px",
    "width": "165px"
   },
   "toc_section_display": true,
   "toc_window_display": true
  }
 },
 "nbformat": 4,
 "nbformat_minor": 5
}
