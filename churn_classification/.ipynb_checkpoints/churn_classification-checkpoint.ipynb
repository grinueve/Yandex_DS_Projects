{
 "cells": [
  {
   "cell_type": "markdown",
   "metadata": {},
   "source": [
    "# Отток клиентов"
   ]
  },
  {
   "cell_type": "markdown",
   "metadata": {},
   "source": [
    "Из «Бета-Банка» стали уходить клиенты. Каждый месяц. Немного, но заметно. Банковские маркетологи посчитали: сохранять текущих клиентов дешевле, чем привлекать новых.\n",
    "\n",
    "Нужно спрогнозировать, уйдёт клиент из банка в ближайшее время или нет. Вам предоставлены исторические данные о поведении клиентов и расторжении договоров с банком. \n",
    "\n",
    "Постройте модель с предельно большим значением *F1*-меры. Чтобы сдать проект успешно, нужно довести метрику до 0.59. Проверьте *F1*-меру на тестовой выборке самостоятельно.\n",
    "\n",
    "Дополнительно измеряйте *AUC-ROC*, сравнивайте её значение с *F1*-мерой.\n",
    "\n",
    "Источник данных: [https://www.kaggle.com/barelydedicated/bank-customer-churn-modeling](https://www.kaggle.com/barelydedicated/bank-customer-churn-modeling)"
   ]
  },
  {
   "cell_type": "markdown",
   "metadata": {},
   "source": [
    "## Подготовка данных"
   ]
  },
  {
   "cell_type": "markdown",
   "metadata": {},
   "source": [
    "### Загрузка данных\n",
    "\n",
    "Подключаем библиотеки:\n",
    "\n",
    "- **pandas** - для работы с таблицами\n",
    "- **seaborn** и **matplotlib** - для визуализации данных\n",
    "- **numpy** - для получения последовательностей дробных чисел \n",
    "- **sklearn** - инструменты машинного обучения (модели классификации, метрики для исследования качества моделей, разделение данных на тренировочные, валидационные, тестовые выборки)"
   ]
  },
  {
   "cell_type": "code",
   "execution_count": 3,
   "metadata": {},
   "outputs": [],
   "source": [
    "import pandas as pd\n",
    "import matplotlib.pyplot as plt\n",
    "import seaborn as sns\n",
    "import numpy as np\n",
    "\n",
    "from sklearn.preprocessing import StandardScaler, OneHotEncoder\n",
    "from sklearn.model_selection import train_test_split, GridSearchCV, KFold\n",
    "from sklearn.utils import shuffle\n",
    "from sklearn.metrics import f1_score, roc_auc_score, roc_curve\n",
    "from sklearn.linear_model import LogisticRegression\n",
    "from sklearn.ensemble import RandomForestClassifier\n",
    "from sklearn.tree import DecisionTreeClassifier\n",
    "from sklearn.dummy import DummyClassifier\n",
    "\n",
    "import warnings\n",
    "warnings.filterwarnings(\"ignore\")"
   ]
  },
  {
   "cell_type": "markdown",
   "metadata": {},
   "source": [
    "Загрузим данные из файла **Churn.csv**, выведем первые 5 строк таблицы для визуального анализа."
   ]
  },
  {
   "cell_type": "code",
   "execution_count": 4,
   "metadata": {},
   "outputs": [
    {
     "data": {
      "text/html": [
       "<div>\n",
       "<style scoped>\n",
       "    .dataframe tbody tr th:only-of-type {\n",
       "        vertical-align: middle;\n",
       "    }\n",
       "\n",
       "    .dataframe tbody tr th {\n",
       "        vertical-align: top;\n",
       "    }\n",
       "\n",
       "    .dataframe thead th {\n",
       "        text-align: right;\n",
       "    }\n",
       "</style>\n",
       "<table border=\"1\" class=\"dataframe\">\n",
       "  <thead>\n",
       "    <tr style=\"text-align: right;\">\n",
       "      <th></th>\n",
       "      <th>RowNumber</th>\n",
       "      <th>CustomerId</th>\n",
       "      <th>Surname</th>\n",
       "      <th>CreditScore</th>\n",
       "      <th>Geography</th>\n",
       "      <th>Gender</th>\n",
       "      <th>Age</th>\n",
       "      <th>Tenure</th>\n",
       "      <th>Balance</th>\n",
       "      <th>NumOfProducts</th>\n",
       "      <th>HasCrCard</th>\n",
       "      <th>IsActiveMember</th>\n",
       "      <th>EstimatedSalary</th>\n",
       "      <th>Exited</th>\n",
       "    </tr>\n",
       "  </thead>\n",
       "  <tbody>\n",
       "    <tr>\n",
       "      <th>0</th>\n",
       "      <td>1</td>\n",
       "      <td>15634602</td>\n",
       "      <td>Hargrave</td>\n",
       "      <td>619</td>\n",
       "      <td>France</td>\n",
       "      <td>Female</td>\n",
       "      <td>42</td>\n",
       "      <td>2.0</td>\n",
       "      <td>0.00</td>\n",
       "      <td>1</td>\n",
       "      <td>1</td>\n",
       "      <td>1</td>\n",
       "      <td>101348.88</td>\n",
       "      <td>1</td>\n",
       "    </tr>\n",
       "    <tr>\n",
       "      <th>1</th>\n",
       "      <td>2</td>\n",
       "      <td>15647311</td>\n",
       "      <td>Hill</td>\n",
       "      <td>608</td>\n",
       "      <td>Spain</td>\n",
       "      <td>Female</td>\n",
       "      <td>41</td>\n",
       "      <td>1.0</td>\n",
       "      <td>83807.86</td>\n",
       "      <td>1</td>\n",
       "      <td>0</td>\n",
       "      <td>1</td>\n",
       "      <td>112542.58</td>\n",
       "      <td>0</td>\n",
       "    </tr>\n",
       "    <tr>\n",
       "      <th>2</th>\n",
       "      <td>3</td>\n",
       "      <td>15619304</td>\n",
       "      <td>Onio</td>\n",
       "      <td>502</td>\n",
       "      <td>France</td>\n",
       "      <td>Female</td>\n",
       "      <td>42</td>\n",
       "      <td>8.0</td>\n",
       "      <td>159660.80</td>\n",
       "      <td>3</td>\n",
       "      <td>1</td>\n",
       "      <td>0</td>\n",
       "      <td>113931.57</td>\n",
       "      <td>1</td>\n",
       "    </tr>\n",
       "    <tr>\n",
       "      <th>3</th>\n",
       "      <td>4</td>\n",
       "      <td>15701354</td>\n",
       "      <td>Boni</td>\n",
       "      <td>699</td>\n",
       "      <td>France</td>\n",
       "      <td>Female</td>\n",
       "      <td>39</td>\n",
       "      <td>1.0</td>\n",
       "      <td>0.00</td>\n",
       "      <td>2</td>\n",
       "      <td>0</td>\n",
       "      <td>0</td>\n",
       "      <td>93826.63</td>\n",
       "      <td>0</td>\n",
       "    </tr>\n",
       "    <tr>\n",
       "      <th>4</th>\n",
       "      <td>5</td>\n",
       "      <td>15737888</td>\n",
       "      <td>Mitchell</td>\n",
       "      <td>850</td>\n",
       "      <td>Spain</td>\n",
       "      <td>Female</td>\n",
       "      <td>43</td>\n",
       "      <td>2.0</td>\n",
       "      <td>125510.82</td>\n",
       "      <td>1</td>\n",
       "      <td>1</td>\n",
       "      <td>1</td>\n",
       "      <td>79084.10</td>\n",
       "      <td>0</td>\n",
       "    </tr>\n",
       "  </tbody>\n",
       "</table>\n",
       "</div>"
      ],
      "text/plain": [
       "   RowNumber  CustomerId   Surname  CreditScore Geography  Gender  Age  \\\n",
       "0          1    15634602  Hargrave          619    France  Female   42   \n",
       "1          2    15647311      Hill          608     Spain  Female   41   \n",
       "2          3    15619304      Onio          502    France  Female   42   \n",
       "3          4    15701354      Boni          699    France  Female   39   \n",
       "4          5    15737888  Mitchell          850     Spain  Female   43   \n",
       "\n",
       "   Tenure    Balance  NumOfProducts  HasCrCard  IsActiveMember  \\\n",
       "0     2.0       0.00              1          1               1   \n",
       "1     1.0   83807.86              1          0               1   \n",
       "2     8.0  159660.80              3          1               0   \n",
       "3     1.0       0.00              2          0               0   \n",
       "4     2.0  125510.82              1          1               1   \n",
       "\n",
       "   EstimatedSalary  Exited  \n",
       "0        101348.88       1  \n",
       "1        112542.58       0  \n",
       "2        113931.57       1  \n",
       "3         93826.63       0  \n",
       "4         79084.10       0  "
      ]
     },
     "metadata": {},
     "output_type": "display_data"
    }
   ],
   "source": [
    "data_churn = pd.read_csv('/datasets/Churn.csv')\n",
    "display(data_churn.head())"
   ]
  },
  {
   "cell_type": "markdown",
   "metadata": {},
   "source": [
    "### Подготовка признаков\n",
    "Признаки **RowNumber**, **CustomerId** и **Surname** не несут в себе информации, необходимой для дальнейшей классификации. \n",
    "- Удалим несмысловые признаки\n",
    "- Приведём названия столбцов к нижнему регистру."
   ]
  },
  {
   "cell_type": "code",
   "execution_count": 5,
   "metadata": {},
   "outputs": [
    {
     "data": {
      "text/plain": [
       "Index(['creditscore', 'geography', 'gender', 'age', 'tenure', 'balance',\n",
       "       'numofproducts', 'hascrcard', 'isactivemember', 'estimatedsalary',\n",
       "       'exited'],\n",
       "      dtype='object')"
      ]
     },
     "execution_count": 5,
     "metadata": {},
     "output_type": "execute_result"
    }
   ],
   "source": [
    "data_churn.drop([\"RowNumber\", \"CustomerId\", \"Surname\"], axis=1, inplace=True)\n",
    "#Приведение столбцов к нижнему регистру\n",
    "data_churn.columns = data_churn.columns.str.lower()\n",
    "data_churn.columns"
   ]
  },
  {
   "cell_type": "markdown",
   "metadata": {},
   "source": [
    "- С помощью методов **info()**  изучим структуру таблицы: типы данных, количество строк, столбцов, пропущенных данных.\n",
    "- С помощью **describe()** посмотрим на общие числовые показатели."
   ]
  },
  {
   "cell_type": "code",
   "execution_count": 6,
   "metadata": {},
   "outputs": [
    {
     "name": "stdout",
     "output_type": "stream",
     "text": [
      "<class 'pandas.core.frame.DataFrame'>\n",
      "RangeIndex: 10000 entries, 0 to 9999\n",
      "Data columns (total 11 columns):\n",
      " #   Column           Non-Null Count  Dtype  \n",
      "---  ------           --------------  -----  \n",
      " 0   creditscore      10000 non-null  int64  \n",
      " 1   geography        10000 non-null  object \n",
      " 2   gender           10000 non-null  object \n",
      " 3   age              10000 non-null  int64  \n",
      " 4   tenure           9091 non-null   float64\n",
      " 5   balance          10000 non-null  float64\n",
      " 6   numofproducts    10000 non-null  int64  \n",
      " 7   hascrcard        10000 non-null  int64  \n",
      " 8   isactivemember   10000 non-null  int64  \n",
      " 9   estimatedsalary  10000 non-null  float64\n",
      " 10  exited           10000 non-null  int64  \n",
      "dtypes: float64(3), int64(6), object(2)\n",
      "memory usage: 859.5+ KB\n"
     ]
    },
    {
     "data": {
      "text/plain": [
       "None"
      ]
     },
     "metadata": {},
     "output_type": "display_data"
    },
    {
     "data": {
      "text/html": [
       "<div>\n",
       "<style scoped>\n",
       "    .dataframe tbody tr th:only-of-type {\n",
       "        vertical-align: middle;\n",
       "    }\n",
       "\n",
       "    .dataframe tbody tr th {\n",
       "        vertical-align: top;\n",
       "    }\n",
       "\n",
       "    .dataframe thead th {\n",
       "        text-align: right;\n",
       "    }\n",
       "</style>\n",
       "<table border=\"1\" class=\"dataframe\">\n",
       "  <thead>\n",
       "    <tr style=\"text-align: right;\">\n",
       "      <th></th>\n",
       "      <th>creditscore</th>\n",
       "      <th>age</th>\n",
       "      <th>tenure</th>\n",
       "      <th>balance</th>\n",
       "      <th>numofproducts</th>\n",
       "      <th>hascrcard</th>\n",
       "      <th>isactivemember</th>\n",
       "      <th>estimatedsalary</th>\n",
       "      <th>exited</th>\n",
       "    </tr>\n",
       "  </thead>\n",
       "  <tbody>\n",
       "    <tr>\n",
       "      <th>count</th>\n",
       "      <td>10000.000000</td>\n",
       "      <td>10000.000000</td>\n",
       "      <td>9091.000000</td>\n",
       "      <td>10000.000000</td>\n",
       "      <td>10000.000000</td>\n",
       "      <td>10000.00000</td>\n",
       "      <td>10000.000000</td>\n",
       "      <td>10000.000000</td>\n",
       "      <td>10000.000000</td>\n",
       "    </tr>\n",
       "    <tr>\n",
       "      <th>mean</th>\n",
       "      <td>650.528800</td>\n",
       "      <td>38.921800</td>\n",
       "      <td>4.997690</td>\n",
       "      <td>76485.889288</td>\n",
       "      <td>1.530200</td>\n",
       "      <td>0.70550</td>\n",
       "      <td>0.515100</td>\n",
       "      <td>100090.239881</td>\n",
       "      <td>0.203700</td>\n",
       "    </tr>\n",
       "    <tr>\n",
       "      <th>std</th>\n",
       "      <td>96.653299</td>\n",
       "      <td>10.487806</td>\n",
       "      <td>2.894723</td>\n",
       "      <td>62397.405202</td>\n",
       "      <td>0.581654</td>\n",
       "      <td>0.45584</td>\n",
       "      <td>0.499797</td>\n",
       "      <td>57510.492818</td>\n",
       "      <td>0.402769</td>\n",
       "    </tr>\n",
       "    <tr>\n",
       "      <th>min</th>\n",
       "      <td>350.000000</td>\n",
       "      <td>18.000000</td>\n",
       "      <td>0.000000</td>\n",
       "      <td>0.000000</td>\n",
       "      <td>1.000000</td>\n",
       "      <td>0.00000</td>\n",
       "      <td>0.000000</td>\n",
       "      <td>11.580000</td>\n",
       "      <td>0.000000</td>\n",
       "    </tr>\n",
       "    <tr>\n",
       "      <th>25%</th>\n",
       "      <td>584.000000</td>\n",
       "      <td>32.000000</td>\n",
       "      <td>2.000000</td>\n",
       "      <td>0.000000</td>\n",
       "      <td>1.000000</td>\n",
       "      <td>0.00000</td>\n",
       "      <td>0.000000</td>\n",
       "      <td>51002.110000</td>\n",
       "      <td>0.000000</td>\n",
       "    </tr>\n",
       "    <tr>\n",
       "      <th>50%</th>\n",
       "      <td>652.000000</td>\n",
       "      <td>37.000000</td>\n",
       "      <td>5.000000</td>\n",
       "      <td>97198.540000</td>\n",
       "      <td>1.000000</td>\n",
       "      <td>1.00000</td>\n",
       "      <td>1.000000</td>\n",
       "      <td>100193.915000</td>\n",
       "      <td>0.000000</td>\n",
       "    </tr>\n",
       "    <tr>\n",
       "      <th>75%</th>\n",
       "      <td>718.000000</td>\n",
       "      <td>44.000000</td>\n",
       "      <td>7.000000</td>\n",
       "      <td>127644.240000</td>\n",
       "      <td>2.000000</td>\n",
       "      <td>1.00000</td>\n",
       "      <td>1.000000</td>\n",
       "      <td>149388.247500</td>\n",
       "      <td>0.000000</td>\n",
       "    </tr>\n",
       "    <tr>\n",
       "      <th>max</th>\n",
       "      <td>850.000000</td>\n",
       "      <td>92.000000</td>\n",
       "      <td>10.000000</td>\n",
       "      <td>250898.090000</td>\n",
       "      <td>4.000000</td>\n",
       "      <td>1.00000</td>\n",
       "      <td>1.000000</td>\n",
       "      <td>199992.480000</td>\n",
       "      <td>1.000000</td>\n",
       "    </tr>\n",
       "  </tbody>\n",
       "</table>\n",
       "</div>"
      ],
      "text/plain": [
       "        creditscore           age       tenure        balance  numofproducts  \\\n",
       "count  10000.000000  10000.000000  9091.000000   10000.000000   10000.000000   \n",
       "mean     650.528800     38.921800     4.997690   76485.889288       1.530200   \n",
       "std       96.653299     10.487806     2.894723   62397.405202       0.581654   \n",
       "min      350.000000     18.000000     0.000000       0.000000       1.000000   \n",
       "25%      584.000000     32.000000     2.000000       0.000000       1.000000   \n",
       "50%      652.000000     37.000000     5.000000   97198.540000       1.000000   \n",
       "75%      718.000000     44.000000     7.000000  127644.240000       2.000000   \n",
       "max      850.000000     92.000000    10.000000  250898.090000       4.000000   \n",
       "\n",
       "         hascrcard  isactivemember  estimatedsalary        exited  \n",
       "count  10000.00000    10000.000000     10000.000000  10000.000000  \n",
       "mean       0.70550        0.515100    100090.239881      0.203700  \n",
       "std        0.45584        0.499797     57510.492818      0.402769  \n",
       "min        0.00000        0.000000        11.580000      0.000000  \n",
       "25%        0.00000        0.000000     51002.110000      0.000000  \n",
       "50%        1.00000        1.000000    100193.915000      0.000000  \n",
       "75%        1.00000        1.000000    149388.247500      0.000000  \n",
       "max        1.00000        1.000000    199992.480000      1.000000  "
      ]
     },
     "metadata": {},
     "output_type": "display_data"
    }
   ],
   "source": [
    "display(data_churn.info())\n",
    "display(data_churn.describe())"
   ]
  },
  {
   "cell_type": "markdown",
   "metadata": {},
   "source": [
    "- Проверим на дубликаты и пропуски"
   ]
  },
  {
   "cell_type": "code",
   "execution_count": 7,
   "metadata": {},
   "outputs": [
    {
     "name": "stdout",
     "output_type": "stream",
     "text": [
      "Количество дубликатов:  0\n",
      "\n",
      "Количество пропусков\n"
     ]
    },
    {
     "data": {
      "text/plain": [
       "creditscore          0\n",
       "geography            0\n",
       "gender               0\n",
       "age                  0\n",
       "tenure             909\n",
       "balance              0\n",
       "numofproducts        0\n",
       "hascrcard            0\n",
       "isactivemember       0\n",
       "estimatedsalary      0\n",
       "exited               0\n",
       "dtype: int64"
      ]
     },
     "execution_count": 7,
     "metadata": {},
     "output_type": "execute_result"
    }
   ],
   "source": [
    "#Количество дупликатов и пропусков\n",
    "print('Количество дубликатов: ', data_churn.duplicated().sum())\n",
    "print()\n",
    "print('Количество пропусков')\n",
    "data_churn.isna().sum()"
   ]
  },
  {
   "cell_type": "markdown",
   "metadata": {},
   "source": [
    "- Подсчитем долю положительных и отрицательных классов в целевом признаке."
   ]
  },
  {
   "cell_type": "code",
   "execution_count": 8,
   "metadata": {},
   "outputs": [
    {
     "name": "stdout",
     "output_type": "stream",
     "text": [
      "Доля объектов положительного класса:  0.2037\n",
      "Доля объектов отрицательного класса:  0.7963\n"
     ]
    }
   ],
   "source": [
    "positive_share = len(data_churn[data_churn[\"exited\"] == 1])/len(data_churn)\n",
    "negative_share = len(data_churn[data_churn[\"exited\"] == 0])/len(data_churn)\n",
    "print('Доля объектов положительного класса: ', positive_share)\n",
    "print('Доля объектов отрицательного класса: ', negative_share)"
   ]
  },
  {
   "cell_type": "markdown",
   "metadata": {},
   "source": [
    "Целевой признак Exited распределён в соотношении примерно 4:1."
   ]
  },
  {
   "cell_type": "markdown",
   "metadata": {},
   "source": [
    "### Вывод\n",
    "- Данные успешно загружены и проверены на соответствие описанию. Дубликатов нет. Типы данных преобразованы в соответствии с хранимой информацией\n",
    "- Признаки RowNumber, CustomerId и Surname удалены, так как целевой признак от них никак не зависит.\n",
    "- Категориальные признаки преобразованы методом One-Hot Encoder.\n",
    "- Целевой признак распределён в сооотношении примерно 4:1"
   ]
  },
  {
   "cell_type": "markdown",
   "metadata": {},
   "source": [
    "## Исследование задачи"
   ]
  },
  {
   "cell_type": "markdown",
   "metadata": {},
   "source": [
    "### Раздение данных на признаки и выборки и их масштабирование\n",
    "\n",
    "- Ввделим целевой признак\n",
    "- Так как датасет - один, то разделим данные на обучающую, валидационную и тестовую выборки в пропорции 3:1:1."
   ]
  },
  {
   "cell_type": "code",
   "execution_count": 37,
   "metadata": {},
   "outputs": [],
   "source": [
    "features = data_churn.drop(\"exited\", axis=1)\n",
    "target = data_churn[\"exited\"]\n",
    "RANDOM_STATE = 12345"
   ]
  },
  {
   "cell_type": "code",
   "execution_count": 38,
   "metadata": {},
   "outputs": [],
   "source": [
    "#Отделение тестовой части\n",
    "data_x, features_test, data_y, target_test = train_test_split(features, target, \n",
    "                                                              test_size=0.2, train_size=0.8, \n",
    "                                                              stratify=target, random_state=RANDOM_STATE)\n",
    "#Отделения валидационной и обучающей выборки\n",
    "features_train, features_valid, target_train, target_valid = train_test_split(data_x, data_y, \n",
    "                                                                              test_size = 0.25, train_size =0.75,\n",
    "                                                                              random_state=RANDOM_STATE,\n",
    "                                                                              stratify=data_y)"
   ]
  },
  {
   "cell_type": "markdown",
   "metadata": {},
   "source": [
    "Применяем OHE для выборок"
   ]
  },
  {
   "cell_type": "code",
   "execution_count": 39,
   "metadata": {},
   "outputs": [],
   "source": [
    "categorials = ['gender', 'geography', 'tenure']\n",
    "numerics = ['creditscore', 'age', 'balance', 'estimatedsalary']\n",
    "#Применяем OHE на обучающей, валидационной и тестовой выборках\n",
    "encoder = OneHotEncoder(drop='first', handle_unknown='error')\n",
    "encoder.fit(features_train[categorials])\n",
    "\n",
    "features_train_ohe = pd.DataFrame(\n",
    "            encoder.transform(features_train[categorials]).toarray(),\n",
    "            columns=encoder.get_feature_names(categorials),\n",
    "            index=features_train.index\n",
    "        )\n",
    "features_train = pd.concat((features_train[numerics], features_train_ohe), axis=1)\n",
    "\n",
    "features_valid_ohe = pd.DataFrame(\n",
    "            encoder.transform(features_valid[categorials]).toarray(),\n",
    "            columns=encoder.get_feature_names(categorials),\n",
    "            index=features_valid.index\n",
    "        )\n",
    "features_valid = pd.concat((features_valid[numerics], features_valid_ohe), axis=1)\n",
    "\n",
    "data_x_ohe = pd.DataFrame(\n",
    "            encoder.transform(data_x[categorials]).toarray(),\n",
    "            columns=encoder.get_feature_names(categorials),\n",
    "            index=data_x.index\n",
    "        )\n",
    "\n",
    "data_x = pd.concat((data_x[numerics], data_x_ohe), axis=1)\n",
    "\n",
    "features_test_ohe = pd.DataFrame(\n",
    "            encoder.transform(features_test[categorials]).toarray(),\n",
    "            columns=encoder.get_feature_names(categorials),\n",
    "            index=features_test.index\n",
    "        )\n",
    "features_test = pd.concat((features_test[numerics], features_test_ohe), axis=1)"
   ]
  },
  {
   "cell_type": "code",
   "execution_count": 40,
   "metadata": {},
   "outputs": [],
   "source": [
    "#Маcсштабируем обучающую, валидационную и тестовую выборки\n",
    "#numerics = ['creditscore', 'age', 'balance', 'estimatedsalary', 'gender', 'geography']\n",
    "scaler = StandardScaler()\n",
    "scaler.fit(features_train[numerics])\n",
    "features_train[numerics] = scaler.transform(features_train[numerics])\n",
    "features_valid[numerics] = scaler.transform(features_valid[numerics])\n",
    "scaler.fit(data_x[numerics])\n",
    "data_x[numerics] = scaler.transform(data_x[numerics])\n",
    "features_test[numerics] = scaler.transform(features_test[numerics])\n",
    "pd.options.mode.chained_assignment = None"
   ]
  },
  {
   "cell_type": "markdown",
   "metadata": {},
   "source": [
    "- Проверка разделения"
   ]
  },
  {
   "cell_type": "code",
   "execution_count": 41,
   "metadata": {
    "scrolled": true
   },
   "outputs": [
    {
     "name": "stdout",
     "output_type": "stream",
     "text": [
      "Процент выборки: 0.6 , Количество строк и столбцов: (6000, 18)\n",
      "Процент выборки: 0.6 , Количество строк и столбцов: (6000,)\n",
      "Процент выборки: 0.2 , Количество строк и столбцов: (2000, 18)\n",
      "Процент выборки: 0.2 , Количество строк и столбцов: (2000,)\n",
      "Процент выборки: 0.2 , Количество строк и столбцов: (2000, 18)\n",
      "Процент выборки: 0.2 , Количество строк и столбцов: (2000,)\n",
      "Процент выборки: 0.8 , Количество строк и столбцов: (8000, 18)\n",
      "Процент выборки: 0.8 , Количество строк и столбцов: (8000,)\n"
     ]
    }
   ],
   "source": [
    "#Проверка разделения\n",
    "data_list = [features_train, target_train, features_valid, target_valid, features_test, target_test, data_x, data_y]\n",
    "for i in data_list:\n",
    "    res = len(i)/len(data_churn)\n",
    "    print('Процент выборки:', res, ', Количество строк и столбцов:', i.shape)"
   ]
  },
  {
   "cell_type": "markdown",
   "metadata": {},
   "source": [
    "### Обучение моделей без учёта дисбаланса классов.\n",
    "\n",
    "#### Модель решающего дерева **DecisionTreeClassifier**\n",
    "\n",
    "- Для удобства кода завернём все возможные циклы подбора наилучших гиперпарметров в **GridSearchCV** из **sklearn.model_selection**\n",
    "- Убедимся в том, что каждый раз у нас одни и те же разбиения данных. Для этого создадим объект **KFold (kf)** и передим его значение значению кросс-валидации в **GridSearchCV** (cv=kf, вместо более распространенного cv=5)."
   ]
  },
  {
   "cell_type": "code",
   "execution_count": 42,
   "metadata": {},
   "outputs": [],
   "source": [
    "kf = KFold(n_splits=5, shuffle=False) #Оставлю объект KFold, с числовыми значениями буду экспериментировать далее"
   ]
  },
  {
   "cell_type": "code",
   "execution_count": 43,
   "metadata": {},
   "outputs": [
    {
     "data": {
      "text/plain": [
       "dict_keys(['ccp_alpha', 'class_weight', 'criterion', 'max_depth', 'max_features', 'max_leaf_nodes', 'min_impurity_decrease', 'min_impurity_split', 'min_samples_leaf', 'min_samples_split', 'min_weight_fraction_leaf', 'random_state', 'splitter'])"
      ]
     },
     "execution_count": 43,
     "metadata": {},
     "output_type": "execute_result"
    }
   ],
   "source": [
    "#уточним все возможные параметры DecisionTreeClassifier\n",
    "model_dtc = DecisionTreeClassifier()\n",
    "model_dtc.get_params().keys()"
   ]
  },
  {
   "cell_type": "markdown",
   "metadata": {},
   "source": [
    "**Выделим гиперпараметры для настройки модели:**\n",
    "- max_depth - максимальная глубина древа\n",
    "- min_samples_split - минимальное количество объектов в узле\n",
    "- min_samples_leaf - минимальное количество объектов в листе\n",
    "- criterion (\"gini\" или \"entropy\") - функция измерения качества разделения\n",
    "- splitter (\"random\" или \"best\") - тип разделения\n",
    "\n",
    "Критерием проверки качества модели будет метрика **f1** и **auc_roc**."
   ]
  },
  {
   "cell_type": "code",
   "execution_count": 44,
   "metadata": {},
   "outputs": [
    {
     "name": "stdout",
     "output_type": "stream",
     "text": [
      "Гиперпараметры модели с наилучшим f1:\n",
      "{'criterion': 'entropy', 'max_depth': 25, 'min_samples_leaf': 5, 'min_samples_split': 20, 'splitter': 'random'}\n",
      "Наилучшая метрика f1: 0.357\n",
      "Метрика roc_auc наилучшей модели: 0.707\n"
     ]
    }
   ],
   "source": [
    "#выберем наиболее значимые гиперпараметры и запишем их в словарь dtc_parameters\n",
    "dtc_parameters = { \n",
    "                  'max_depth': range(5, 30, 5),\n",
    "                  'min_samples_split': range(5, 30, 5),\n",
    "                  'criterion': ['gini', 'entropy'],\n",
    "                  'min_samples_leaf': range (5, 30, 5),\n",
    "                  'splitter': ['best', 'random']\n",
    "                    }\n",
    "\n",
    "model_dtc = DecisionTreeClassifier(random_state=RANDOM_STATE)\n",
    "#оптимизируем DecisionTreeClassifier перебирая гиперпараметры из dtc_parameters \n",
    "#сv - количество разбиений на кросс-валидацию (меньше трёх делать не рекомендуют) \n",
    "#scoring - параметр оценки нашей модели, в данном случае - бинарной классификации, \n",
    "# \"The scoring parameter: defining model evaluation rules\" - f1_score, \n",
    "#переберём 5х5х2х5х2=500 параметров:\n",
    "dtc_gscv = GridSearchCV(model_dtc, dtc_parameters, cv=kf, scoring='f1')            \n",
    "dtc_gscv.fit(features_train, target_train)\n",
    "#выведем гиперпараметры обученной модели с наилучшим f1\n",
    "print('Гиперпараметры модели с наилучшим f1:') \n",
    "print(dtc_gscv.best_params_)\n",
    "\n",
    "dtc_predictions = dtc_gscv.predict(features_valid)\n",
    "dtc_f1 = f1_score(target_valid, dtc_predictions)\n",
    "dtc_probabilities_valid = dtc_gscv.predict_proba(features_valid)\n",
    "dtc_probabilities_one_valid = dtc_probabilities_valid[:, 1]\n",
    "dtc_ra = roc_auc_score(target_valid, dtc_probabilities_one_valid)\n",
    "\n",
    "# вывод наилучшей точности и параметров модели.\n",
    "print('Наилучшая метрика f1:', round(dtc_f1, 3))\n",
    "print('Метрика roc_auc наилучшей модели:', round(dtc_ra, 3)) "
   ]
  },
  {
   "cell_type": "markdown",
   "metadata": {},
   "source": [
    "**f1 = 0.357**, **roc_auc = 0.707**.\n",
    "\n",
    "**Параметры модели:**\n",
    "- criterion = 'entropy'\n",
    "- max_depth = 25\n",
    "- min_samples_leaf = 5\n",
    "- min_samples_split = 20\n",
    "- splitter = 'random'\n",
    "\n",
    "Попробуем улучшить результат на других моделях"
   ]
  },
  {
   "cell_type": "markdown",
   "metadata": {},
   "source": [
    "#### Модель случайного леса **RandomForestClassifier**"
   ]
  },
  {
   "cell_type": "code",
   "execution_count": 45,
   "metadata": {},
   "outputs": [
    {
     "data": {
      "text/plain": [
       "dict_keys(['bootstrap', 'ccp_alpha', 'class_weight', 'criterion', 'max_depth', 'max_features', 'max_leaf_nodes', 'max_samples', 'min_impurity_decrease', 'min_impurity_split', 'min_samples_leaf', 'min_samples_split', 'min_weight_fraction_leaf', 'n_estimators', 'n_jobs', 'oob_score', 'random_state', 'verbose', 'warm_start'])"
      ]
     },
     "execution_count": 45,
     "metadata": {},
     "output_type": "execute_result"
    }
   ],
   "source": [
    "#уточним все возможные параметры RandomForestClassifier\n",
    "model_rfc = RandomForestClassifier()\n",
    "model_rfc.get_params().keys()"
   ]
  },
  {
   "cell_type": "markdown",
   "metadata": {},
   "source": [
    "**Выделим гиперпараметры для настройки модели:**\n",
    "- criterion (\"gini\" или \"entropy\") - функция измерения качества разделения\n",
    "- max_depth - максимальная глубина древа\n",
    "- min_samples_split - минимальное количество объектов в узле\n",
    "- min_samples_leaf - минимальное количество объектов в листе\n",
    "- n_estimators - количество деревьев\n",
    "\n",
    "Критерием адекватностей других модели будет **f1** и **auc_roc**."
   ]
  },
  {
   "cell_type": "code",
   "execution_count": 46,
   "metadata": {},
   "outputs": [
    {
     "name": "stdout",
     "output_type": "stream",
     "text": [
      "Гиперпараметры модели с наилучшим f1:\n",
      "{'criterion': 'gini', 'max_depth': 25, 'min_samples_leaf': 5, 'min_samples_split': 5, 'n_estimators': 5}\n",
      "Наилучшая метрика f1: 0.385\n",
      "Метрика roc_auc наилучшей модели: 0.754\n"
     ]
    }
   ],
   "source": [
    "#выберем наиболее значимые гиперпараметры и запишем их в словарь rfc_parameters\n",
    "rfc_parameters = {\n",
    "                  'max_depth': range(5, 30, 5), \n",
    "                  'n_estimators': range(5, 30, 5),\n",
    "                  'criterion': ['gini', 'entropy'],\n",
    "                  'min_samples_split': range (5, 30, 5),\n",
    "                  'min_samples_leaf': range (5, 30, 5)\n",
    "                 }\n",
    "\n",
    "model_rfc = RandomForestClassifier(random_state=RANDOM_STATE)\n",
    "#оптимизируем RandomForestClassifier перебирая гиперпараметры из rfc_parameters \n",
    "#сv - количество разбиений на кросс-валидацию (меньше трёх делать не рекомендуют) \n",
    "#scoring - параметр оценки нашей модели, в данном случае - бинарной классификации, \n",
    "# \"The scoring parameter: defining model evaluation rules\" - f1_score, \n",
    "# переберём 5х5х2х5х5=1250 параметров:\n",
    "rfc_gscv = GridSearchCV(model_rfc, rfc_parameters, cv=kf, scoring='f1')            \n",
    "rfc_gscv.fit(features_train, target_train)\n",
    "#выведем гиперпараметры обученной модели с наилучшим f1\n",
    "print('Гиперпараметры модели с наилучшим f1:') \n",
    "print(rfc_gscv.best_params_)\n",
    "\n",
    "rfc_predictions = rfc_gscv.predict(features_valid)\n",
    "rfc_f1 = f1_score(target_valid, rfc_predictions)\n",
    "rfc_probabilities_valid = rfc_gscv.predict_proba(features_valid)\n",
    "rfc_probabilities_one_valid = rfc_probabilities_valid[:, 1]\n",
    "rfc_ra = roc_auc_score(target_valid, rfc_probabilities_one_valid)\n",
    "\n",
    "# вывод наилучшей точности и параметров модели.\n",
    "print('Наилучшая метрика f1:', round(rfc_f1, 3))\n",
    "print('Метрика roc_auc наилучшей модели:', round(rfc_ra, 3)) "
   ]
  },
  {
   "cell_type": "markdown",
   "metadata": {},
   "source": [
    "**f1 = 0.385** (хуже и медленнее модели решающего дерева) значение **auc_roc = 0.754** (лучше решающего дерева).\n",
    "\n",
    "**Параметры модели:**\n",
    "  - criterion = 'gini'\n",
    "  - max_depth = 25\n",
    "  - min_samples_split = 5\n",
    "  - min_samples_leaf = 5\n",
    "  - n_estimators = 5"
   ]
  },
  {
   "cell_type": "markdown",
   "metadata": {},
   "source": [
    "#### Модель **DummyClassifier**"
   ]
  },
  {
   "cell_type": "markdown",
   "metadata": {},
   "source": [
    "Критерием адекватностей других моделей будут наилучшие значения **f1** и **auc_roc**, полученные при обучении этой модели."
   ]
  },
  {
   "cell_type": "code",
   "execution_count": 47,
   "metadata": {},
   "outputs": [
    {
     "data": {
      "text/plain": [
       "dict_keys(['constant', 'random_state', 'strategy'])"
      ]
     },
     "execution_count": 47,
     "metadata": {},
     "output_type": "execute_result"
    }
   ],
   "source": [
    "#уточним все возможные параметры RandomForestClassifier\n",
    "model_dc = DummyClassifier()\n",
    "model_dc.get_params().keys()"
   ]
  },
  {
   "cell_type": "code",
   "execution_count": 48,
   "metadata": {},
   "outputs": [
    {
     "name": "stdout",
     "output_type": "stream",
     "text": [
      "Гиперпараметры модели с наилучшим f1:\n",
      "{'strategy': 'uniform'}\n"
     ]
    }
   ],
   "source": [
    "#выберем наиболее значимые гиперпараметры и запишем их в словарь rfc_parameters\n",
    "dc_parameters = {'strategy': ['most_frequent', 'prior', 'stratified', 'uniform', 'constant']}\n",
    "\n",
    "model_dc = DummyClassifier(random_state=RANDOM_STATE)\n",
    "#оптимизируем RandomForestClassifier перебирая гиперпараметры из rfc_parameters \n",
    "#сv - количество разбиений на кросс-валидацию (меньше трёх делать не рекомендуют) \n",
    "#scoring - параметр оценки нашей модели, в данном случае - бинарной классификации, \n",
    "# \"The scoring parameter: defining model evaluation rules\" - f1_score, \n",
    "# переберём 2х5х5х5х4=1000 параметров:\n",
    "dc_gscv = GridSearchCV(model_dc, dc_parameters, cv=kf, scoring='f1')            \n",
    "dc_gscv.fit(features_train, target_train)\n",
    "#выведем гиперпараметры обученной модели с наилучшим f1\n",
    "print('Гиперпараметры модели с наилучшим f1:') \n",
    "print(dc_gscv.best_params_)"
   ]
  },
  {
   "cell_type": "code",
   "execution_count": 49,
   "metadata": {},
   "outputs": [
    {
     "name": "stdout",
     "output_type": "stream",
     "text": [
      "Наилучшая метрика f1: 0.303\n",
      "Метрика roc_auc наилучшей модели: 0.5\n"
     ]
    }
   ],
   "source": [
    "dc_predictions = dc_gscv.predict(features_valid) \n",
    "dc_f1 = f1_score(target_valid, dc_predictions)\n",
    "dc_probabilities_valid = dc_gscv.predict_proba(features_valid)\n",
    "dc_probabilities_one_valid = dc_probabilities_valid[:, 1]\n",
    "dc_ra = roc_auc_score(target_valid, dc_probabilities_one_valid)\n",
    "\n",
    "# вывод наилучшей точности и параметров модели.\n",
    "print('Наилучшая метрика f1:', round(dc_f1, 3))\n",
    "print('Метрика roc_auc наилучшей модели:', round(dc_ra, 3))"
   ]
  },
  {
   "cell_type": "markdown",
   "metadata": {},
   "source": [
    "Наилучшая метрика f1 со стратегией 'uniform': 0.303 - это и будет точкой опоры для проверки моделей на адеквтность\n",
    "\n",
    "Все предыдущие модели адекватны, тк их **f1 больше 0.3**."
   ]
  },
  {
   "cell_type": "markdown",
   "metadata": {},
   "source": [
    "#### Модель логистической регрессии **LogisticRegression**\n",
    "\n",
    "Критерием проверки качества модели будет **f1** и **auc_roc**."
   ]
  },
  {
   "cell_type": "code",
   "execution_count": 50,
   "metadata": {},
   "outputs": [
    {
     "data": {
      "text/plain": [
       "dict_keys(['C', 'class_weight', 'dual', 'fit_intercept', 'intercept_scaling', 'l1_ratio', 'max_iter', 'multi_class', 'n_jobs', 'penalty', 'random_state', 'solver', 'tol', 'verbose', 'warm_start'])"
      ]
     },
     "execution_count": 50,
     "metadata": {},
     "output_type": "execute_result"
    }
   ],
   "source": [
    "model_logr = LogisticRegression()\n",
    "model_logr.get_params().keys()"
   ]
  },
  {
   "cell_type": "code",
   "execution_count": 52,
   "metadata": {},
   "outputs": [
    {
     "name": "stdout",
     "output_type": "stream",
     "text": [
      "Гиперпараметры модели с наилучшим f1:\n",
      "{'C': 10, 'max_iter': 10, 'solver': 'liblinear'}\n",
      "Наилучшая метрика f1: 0.178\n",
      "Метрика roc_auc наилучшей модели: 0.769\n"
     ]
    }
   ],
   "source": [
    "#выберем наиболее значимые гиперпараметры и запишем их в словарь logr_parameters\n",
    "logr_parameters = {\n",
    "                  'solver': ['lbfgs', 'liblinear'],\n",
    "                  'C': [0.01, 0.1, 1, 10, 100],\n",
    "                  'max_iter': range(10, 101, 10)\n",
    "                 }\n",
    "\n",
    "model_logr = LogisticRegression(random_state=RANDOM_STATE)\n",
    "#оптимизируем RandomForestClassifier перебирая гиперпараметры из rfc_parameters \n",
    "#сv - количество разбиений на кросс-валидацию (меньше трёх делать не рекомендуют) \n",
    "#scoring - параметр оценки нашей модели, в данном случае - бинарной классификации, \n",
    "# \"The scoring parameter: defining model evaluation rules\" - f1_score, \n",
    "# переберём 2х10х20=400 параметров:\n",
    "logr_gscv = GridSearchCV(model_logr, logr_parameters, cv=kf, scoring='f1')            \n",
    "logr_gscv.fit(features_train, target_train)\n",
    "#выведем гиперпараметры обученной модели с наилучшим f1\n",
    "print('Гиперпараметры модели с наилучшим f1:') \n",
    "print(logr_gscv.best_params_)\n",
    "logr_predictions = logr_gscv.predict(features_valid) \n",
    "logr_f1 = f1_score(target_valid, logr_predictions)\n",
    "logr_probabilities_valid = logr_gscv.predict_proba(features_valid)\n",
    "logr_probabilities_one_valid = logr_probabilities_valid[:, 1]\n",
    "logr_ra = roc_auc_score(target_valid, logr_probabilities_one_valid)\n",
    "\n",
    "# вывод наилучшей точности и параметров модели.\n",
    "print('Наилучшая метрика f1:', round(logr_f1, 3))\n",
    "print('Метрика roc_auc наилучшей модели:', round(logr_ra, 3)) "
   ]
  },
  {
   "cell_type": "markdown",
   "metadata": {},
   "source": [
    "Наилучшая метрика **f1 = 0.178**; **roc_auc = 0.77**. Сильное различие.\n",
    "\n",
    "**Параметры модели:**\n",
    "  - C = 10\n",
    "  - max_iter = 10\n",
    "  - solver = 'liblinear'"
   ]
  },
  {
   "cell_type": "markdown",
   "metadata": {},
   "source": [
    "### Выводы\n",
    "\n",
    "- Исходные данные разделены на обучающую, валидационную и тестовую выборки в соотношении 3:1:1 соответственно\n",
    "- Обучены модели \"Решающее Дерево\", \"Случайный лес\", \"Логистическая Регрессия\" без учёта дисбаланса классов, но **с учётом стратификации** при делении датасета. \n",
    "- Максимальное значение метрики **f1 = 0.584** получено при обучении модели \"Решающее Дерево\". \n",
    "- Максимальное значение метрики **auc_roc = 0.87** получено при обучении модели \"Случайный Лес\"\n",
    "- Значение f1 логистической регрессии не намного выше значения f1 DummyClassifier, однако значение auc_roc у логистической регрессии сильно выше и ближе уже к моделям \"Решающее Дерево\", \"Случайный лес\"!\n",
    "- Качество моделей **без балансировки классов** по параметру f1 не удовлетворяют условию технического задания."
   ]
  },
  {
   "cell_type": "markdown",
   "metadata": {},
   "source": [
    "## Борьба с дисбалансом"
   ]
  },
  {
   "cell_type": "markdown",
   "metadata": {},
   "source": [
    "Соотношение значений целевого признака 4:1 (для классов 0 и 1 соответственно)\n",
    "    \n",
    "Для борьбы с дисбалансом классов попробуем:\n",
    "- измененить выборки копированием объектов \n",
    "- либо дроблением"
   ]
  },
  {
   "cell_type": "markdown",
   "metadata": {},
   "source": [
    "- Напишем функцию, исправляющую дисбаланс классов выборки, содержащую одновременно возможности для upsampling и downsapling."
   ]
  },
  {
   "cell_type": "code",
   "execution_count": 53,
   "metadata": {},
   "outputs": [],
   "source": [
    "def re_sample(features, target, down, up):\n",
    "    features_zeros = features[target == 0]\n",
    "    features_ones = features[target == 1]\n",
    "    target_zeros = target[target == 0]\n",
    "    target_ones = target[target == 1]\n",
    "\n",
    "    features_resampled = pd.concat(\n",
    "        [features_zeros.sample(frac=down, random_state=12345)] + [features_ones]*up)\n",
    "    target_resampled = pd.concat(\n",
    "        [target_zeros.sample(frac=down, random_state=12345)]+ [target_ones]*up)\n",
    "    \n",
    "    features_resampled, target_resampled = shuffle(\n",
    "        features_resampled, target_resampled, random_state=12345)\n",
    "    \n",
    "    return features_resampled, target_resampled"
   ]
  },
  {
   "cell_type": "markdown",
   "metadata": {},
   "source": [
    "- Проверим действие функции на **DecisionTreeClassifier** и **RandomForestClassifier**\n",
    "\n",
    "### Upsampling"
   ]
  },
  {
   "cell_type": "code",
   "execution_count": 54,
   "metadata": {},
   "outputs": [
    {
     "name": "stdout",
     "output_type": "stream",
     "text": [
      "Количество строк и столбцов в сбалансированных признаках: (9669, 18)\n",
      "Количество строк и столбцов в сбалансированной цели:model (9669,)\n"
     ]
    }
   ],
   "source": [
    "features_train_upsampled, target_train_upsampled = re_sample(features_train, target_train, 1, 4)\n",
    "#Проверка разделения\n",
    "print('Количество строк и столбцов в сбалансированных признаках:', features_train_upsampled.shape)\n",
    "print('Количество строк и столбцов в сбалансированной цели:model', target_train_upsampled.shape)"
   ]
  },
  {
   "cell_type": "markdown",
   "metadata": {},
   "source": [
    "**действуем лобовым перебором параметров**"
   ]
  },
  {
   "cell_type": "code",
   "execution_count": 57,
   "metadata": {},
   "outputs": [
    {
     "name": "stdout",
     "output_type": "stream",
     "text": [
      "Наилучший f1: 0.517\n",
      "Параметры модели:\n",
      "   max_depth = 5\n",
      "   min_samples_split = 5\n",
      "   criterion = entropy\n",
      "   min_samples_leaf = 5\n",
      "   splitter = best \n",
      "   auc_roc = 0.781\n"
     ]
    }
   ],
   "source": [
    "best_dtc_params_up = []\n",
    "best_dtc_f1 = 0\n",
    "best_dtc_ra = 0\n",
    "for max_depth in dtc_parameters['max_depth']:\n",
    "    for min_samples_split in dtc_parameters['min_samples_split']:\n",
    "        for criterion in dtc_parameters['criterion']:\n",
    "            for min_samples_leaf in dtc_parameters['min_samples_leaf']:\n",
    "                for splitter in dtc_parameters['splitter']:\n",
    "                    model_dtc = DecisionTreeClassifier(random_state=RANDOM_STATE,\n",
    "                                                       max_depth=max_depth,\n",
    "                                                       min_samples_split=min_samples_split,\n",
    "                                                       criterion=criterion,\n",
    "                                                       min_samples_leaf=min_samples_leaf,\n",
    "                                                       splitter=splitter)\n",
    "                    \n",
    "                    model_dtc.fit(features_train_upsampled, target_train_upsampled)\n",
    "                    dtc_predictions = model_dtc.predict(features_valid)\n",
    "                    dtc_f1 = f1_score(target_valid, dtc_predictions)\n",
    "                    dtc_probabilities_valid = model_dtc.predict_proba(features_valid)\n",
    "                    dtc_probabilities_one_valid = dtc_probabilities_valid[:, 1]\n",
    "                    dtc_ra = roc_auc_score(target_valid, dtc_probabilities_one_valid)\n",
    "                    if dtc_f1 > best_dtc_f1:\n",
    "                        best_dtc_f1 = dtc_f1\n",
    "                        best_dtc_params_up = model_dtc.get_params()\n",
    "                        best_dtc_ra = dtc_ra\n",
    "                    else:\n",
    "                        best_dtc_f1 = best_dtc_f1\n",
    "                        best_dtc_ra = best_dtc_ra\n",
    "                        best_dtc_params_up = best_dtc_params_up \n",
    "# вывод наилучшей точности и параметров модели.\n",
    "print('''Наилучший f1: {}\n",
    "Параметры модели:\n",
    "   max_depth = {}\n",
    "   min_samples_split = {}\n",
    "   criterion = {}\n",
    "   min_samples_leaf = {}\n",
    "   splitter = {} \n",
    "   auc_roc = {}'''.format(round(best_dtc_f1, 3),\n",
    "                             best_dtc_params_up['max_depth'], best_dtc_params_up['min_samples_split'],\n",
    "                             best_dtc_params_up['criterion'], best_dtc_params_up['min_samples_leaf'],\n",
    "                             best_dtc_params_up['splitter'], round(best_dtc_ra, 3)\n",
    "                            ))"
   ]
  },
  {
   "cell_type": "code",
   "execution_count": 58,
   "metadata": {},
   "outputs": [
    {
     "name": "stdout",
     "output_type": "stream",
     "text": [
      "Наилучший f1: 0.554\n",
      "Параметры модели:\n",
      "   max_depth = 10\n",
      "   n_estimators =  25\n",
      "   criterion = gini\n",
      "   min_samples_split = 15\n",
      "   min_samples_leaf = 5\n",
      "   auc_roc = 0.732\n"
     ]
    }
   ],
   "source": [
    "best_rfc_params_up = []\n",
    "best_rfc_f1 = 0\n",
    "best_rfc_ra = 0\n",
    "for max_depth in rfc_parameters['max_depth']:\n",
    "    for n_estimators in rfc_parameters['n_estimators']:\n",
    "        for criterion in rfc_parameters['criterion']:\n",
    "            for min_samples_split in rfc_parameters['min_samples_split']:\n",
    "                for min_samples_leaf in rfc_parameters['min_samples_leaf']:\n",
    "                    model_rfc = RandomForestClassifier(random_state=RANDOM_STATE,\n",
    "                                                       max_depth=max_depth,\n",
    "                                                       n_estimators=n_estimators,\n",
    "                                                       criterion=criterion,\n",
    "                                                       min_samples_split=min_samples_split,\n",
    "                                                       min_samples_leaf=min_samples_leaf)\n",
    "                    \n",
    "                    model_rfc.fit(features_train_upsampled, target_train_upsampled)\n",
    "                    rfc_predictions = model_rfc.predict(features_valid)\n",
    "                    rfc_f1 = f1_score(target_valid, rfc_predictions)\n",
    "                    rfc_probabilities_valid = model_dtc.predict_proba(features_valid)\n",
    "                    rfc_probabilities_one_valid = rfc_probabilities_valid[:, 1]\n",
    "                    rfc_ra = roc_auc_score(target_valid, rfc_probabilities_one_valid)\n",
    "                    if rfc_f1 > best_rfc_f1:\n",
    "                        best_rfc_f1 = rfc_f1\n",
    "                        best_rfc_params_up = model_rfc.get_params()\n",
    "                        best_rfc_ra = rfc_ra\n",
    "                    else:\n",
    "                        best_rfc_f1 = best_rfc_f1\n",
    "                        best_rfc_ra = best_rfc_ra\n",
    "                        best_rfc_params_up = best_rfc_params_up \n",
    "# вывод наилучшей точности и параметров модели.\n",
    "\n",
    "print('''Наилучший f1: {}\n",
    "Параметры модели:\n",
    "   max_depth = {}\n",
    "   n_estimators =  {}\n",
    "   criterion = {}\n",
    "   min_samples_split = {}\n",
    "   min_samples_leaf = {}\n",
    "   auc_roc = {}'''.format(round(best_rfc_f1, 3),\n",
    "                          best_rfc_params_up['max_depth'], best_rfc_params_up['n_estimators'],\n",
    "                          best_rfc_params_up['criterion'], best_rfc_params_up['min_samples_split'],\n",
    "                          best_rfc_params_up['min_samples_leaf'], round(best_rfc_ra, 3)\n",
    "                            ))"
   ]
  },
  {
   "cell_type": "markdown",
   "metadata": {},
   "source": [
    "**Увеличение выборки без кросс-валидации сработало на \"ура\"**"
   ]
  },
  {
   "cell_type": "markdown",
   "metadata": {},
   "source": [
    "### Downsampling"
   ]
  },
  {
   "cell_type": "code",
   "execution_count": 59,
   "metadata": {},
   "outputs": [
    {
     "name": "stdout",
     "output_type": "stream",
     "text": [
      "Количество строк и столбцов в сбалансированных признаках: (2417, 18)\n",
      "Количество строк и столбцов в сбалансированной цели: (2417,)\n"
     ]
    }
   ],
   "source": [
    "features_train_downsampled, target_train_downsampled = re_sample(features_train, target_train, 0.25, 1)\n",
    "#Проверка разделения\n",
    "print('Количество строк и столбцов в сбалансированных признаках:', features_train_downsampled.shape)\n",
    "print('Количество строк и столбцов в сбалансированной цели:', target_train_downsampled.shape)"
   ]
  },
  {
   "cell_type": "code",
   "execution_count": 60,
   "metadata": {},
   "outputs": [
    {
     "name": "stdout",
     "output_type": "stream",
     "text": [
      "Наилучший f1: 0.533\n",
      "Параметры модели:\n",
      "   max_depth = 5\n",
      "   min_samples_split = 5\n",
      "   criterion = gini\n",
      "   min_samples_leaf = 15\n",
      "   splitter = best \n",
      "   auc_roc = 0.793\n"
     ]
    }
   ],
   "source": [
    "best_dtc_params_down = []\n",
    "best_dtc_f1 = 0\n",
    "best_dtc_ra = 0\n",
    "for max_depth in dtc_parameters['max_depth']:\n",
    "    for min_samples_split in dtc_parameters['min_samples_split']:\n",
    "        for criterion in dtc_parameters['criterion']:\n",
    "            for min_samples_leaf in dtc_parameters['min_samples_leaf']:\n",
    "                for splitter in dtc_parameters['splitter']:\n",
    "                    model_dtc = DecisionTreeClassifier(random_state=RANDOM_STATE,\n",
    "                                                       max_depth=max_depth,\n",
    "                                                       min_samples_split=min_samples_split,\n",
    "                                                       criterion=criterion,\n",
    "                                                       min_samples_leaf=min_samples_leaf,\n",
    "                                                       splitter=splitter)\n",
    "                    \n",
    "                    model_dtc.fit(features_train_downsampled, target_train_downsampled)\n",
    "                    dtc_predictions = model_dtc.predict(features_valid)\n",
    "                    dtc_f1 = f1_score(target_valid, dtc_predictions)\n",
    "                    dtc_probabilities_valid = model_dtc.predict_proba(features_valid)\n",
    "                    dtc_probabilities_one_valid = dtc_probabilities_valid[:, 1]\n",
    "                    dtc_ra = roc_auc_score(target_valid, dtc_probabilities_one_valid)\n",
    "                    if dtc_f1 > best_dtc_f1:\n",
    "                        best_dtc_params_down = model_dtc.get_params()\n",
    "                        best_dtc_f1 = dtc_f1\n",
    "                        best_dtc_ra = dtc_ra\n",
    "                    else:\n",
    "                        best_dtc_f1 = best_dtc_f1\n",
    "                        best_dtc_ra = best_dtc_ra\n",
    "                        best_dtc_params_down = best_dtc_params_down \n",
    "# вывод наилучшей точности и параметров модели.\n",
    "print('''Наилучший f1: {}\n",
    "Параметры модели:\n",
    "   max_depth = {}\n",
    "   min_samples_split = {}\n",
    "   criterion = {}\n",
    "   min_samples_leaf = {}\n",
    "   splitter = {} \n",
    "   auc_roc = {}'''.format(round(best_dtc_f1, 3),\n",
    "                             best_dtc_params_down['max_depth'], best_dtc_params_down['min_samples_split'],\n",
    "                             best_dtc_params_down['criterion'], best_dtc_params_down['min_samples_leaf'],\n",
    "                             best_dtc_params_down['splitter'], round(best_dtc_ra, 3)\n",
    "                            ))"
   ]
  },
  {
   "cell_type": "code",
   "execution_count": 61,
   "metadata": {},
   "outputs": [
    {
     "name": "stdout",
     "output_type": "stream",
     "text": [
      "Наилучший f1: 0.545\n",
      "Параметры модели:\n",
      "   max_depth = 10\n",
      "   n_estimators =  10\n",
      "   criterion = gini\n",
      "   min_samples_split = 25\n",
      "   min_samples_leaf = 10\n",
      "   auc_roc = 0.771\n"
     ]
    }
   ],
   "source": [
    "best_rfc_params_down = []\n",
    "best_rfc_f1 = 0\n",
    "best_rfc_ra = 0\n",
    "for max_depth in rfc_parameters['max_depth']:\n",
    "    for n_estimators in rfc_parameters['n_estimators']:\n",
    "        for criterion in rfc_parameters['criterion']:\n",
    "            for min_samples_split in rfc_parameters['min_samples_split']:\n",
    "                for min_samples_leaf in rfc_parameters['min_samples_leaf']:\n",
    "                    model_rfc = RandomForestClassifier(random_state=RANDOM_STATE,\n",
    "                                                       max_depth=max_depth,\n",
    "                                                       n_estimators=n_estimators,\n",
    "                                                       criterion=criterion,\n",
    "                                                       min_samples_split=min_samples_split,\n",
    "                                                       min_samples_leaf=min_samples_leaf)\n",
    "                    \n",
    "                    model_rfc.fit(features_train_downsampled, target_train_downsampled)\n",
    "                    rfc_predictions = model_rfc.predict(features_valid)\n",
    "                    rfc_f1 = f1_score(target_valid, rfc_predictions)\n",
    "                    rfc_probabilities_valid = model_dtc.predict_proba(features_valid)\n",
    "                    rfc_probabilities_one_valid = rfc_probabilities_valid[:, 1]\n",
    "                    rfc_ra = roc_auc_score(target_valid, rfc_probabilities_one_valid)\n",
    "                    if rfc_f1 > best_rfc_f1:\n",
    "                        best_rfc_f1 = rfc_f1\n",
    "                        best_rfc_params_down = model_rfc.get_params()\n",
    "                        best_rfc_ra = rfc_ra\n",
    "                    else:\n",
    "                        best_rfc_f1 = best_rfc_f1\n",
    "                        best_rfc_ra = best_rfc_ra\n",
    "                        best_rfc_params_down = best_rfc_params_down \n",
    "# вывод наилучшей точности и параметров модели.\n",
    "print('''Наилучший f1: {}\n",
    "Параметры модели:\n",
    "   max_depth = {}\n",
    "   n_estimators =  {}\n",
    "   criterion = {}\n",
    "   min_samples_split = {}\n",
    "   min_samples_leaf = {}\n",
    "   auc_roc = {}'''.format(round(best_rfc_f1, 3), \n",
    "                          best_rfc_params_down['max_depth'], best_rfc_params_down['n_estimators'],\n",
    "                          best_rfc_params_down['criterion'], best_rfc_params_down['min_samples_split'],\n",
    "                          best_rfc_params_down['min_samples_leaf'], round(best_rfc_ra, 3)\n",
    "                         ))"
   ]
  },
  {
   "cell_type": "markdown",
   "metadata": {},
   "source": [
    "**Наилучшая метрика f1: 0.643**\n",
    "**Параметры модели RandomForestClassifier:**"
   ]
  },
  {
   "cell_type": "code",
   "execution_count": 62,
   "metadata": {},
   "outputs": [
    {
     "data": {
      "text/plain": [
       "{'bootstrap': True,\n",
       " 'ccp_alpha': 0.0,\n",
       " 'class_weight': None,\n",
       " 'criterion': 'gini',\n",
       " 'max_depth': 10,\n",
       " 'max_features': 'auto',\n",
       " 'max_leaf_nodes': None,\n",
       " 'max_samples': None,\n",
       " 'min_impurity_decrease': 0.0,\n",
       " 'min_impurity_split': None,\n",
       " 'min_samples_leaf': 5,\n",
       " 'min_samples_split': 15,\n",
       " 'min_weight_fraction_leaf': 0.0,\n",
       " 'n_estimators': 25,\n",
       " 'n_jobs': None,\n",
       " 'oob_score': False,\n",
       " 'random_state': 12345,\n",
       " 'verbose': 0,\n",
       " 'warm_start': False}"
      ]
     },
     "execution_count": 62,
     "metadata": {},
     "output_type": "execute_result"
    }
   ],
   "source": [
    "best_rfc_params_up"
   ]
  },
  {
   "cell_type": "markdown",
   "metadata": {},
   "source": [
    "### Выводы\n",
    "- Балансирование класса в сторону увеличения обучающей выборки с коэффициентом ~4 без кросс-валидации дало даже небольшое уменьшение значения **f1** Решающего дерева и резкое увеличение **f1** для Случайного леса.\n",
    "- Балансирование класса в сторону уменьшения обучающей выборки с коэффициентом ~1/4 без кросс-валидации дало небольшое увеличение значения **f1** Решающего дерева и заметно большее увеличение **f1** для Случайного леса.\n",
    "- Уменьшение обучающей выборки позволило преодолеть заданное значение f1, а увеличение сработало только для Случайного леса"
   ]
  },
  {
   "cell_type": "markdown",
   "metadata": {},
   "source": [
    "## Тестирование модели"
   ]
  },
  {
   "cell_type": "markdown",
   "metadata": {},
   "source": [
    "Проведём обучение лучшей (**по f1**) модели RandomForestClassifier c фиксированными гиперпараметрами и обучением на сбалансированных доступных данных (обучающие + валидационные).\n",
    "Вычислим метрики **f1, auc_roc** на тестовой выборке. Построим **кривую roc**."
   ]
  },
  {
   "cell_type": "code",
   "execution_count": 63,
   "metadata": {},
   "outputs": [
    {
     "name": "stdout",
     "output_type": "stream",
     "text": [
      "Количество строк и столбцов в сбалансированных признаках: (12890, 18)\n",
      "Количество строк и столбцов в сбалансированной цели: (12890,)\n"
     ]
    }
   ],
   "source": [
    "data_x_upsampled, data_y_upsampled = re_sample(data_x, data_y, 1, 4)\n",
    "#Проверка разделения\n",
    "print('Количество строк и столбцов в сбалансированных признаках:', data_x_upsampled.shape)\n",
    "print('Количество строк и столбцов в сбалансированной цели:', data_y_upsampled.shape)"
   ]
  },
  {
   "cell_type": "code",
   "execution_count": 64,
   "metadata": {
    "scrolled": true
   },
   "outputs": [
    {
     "data": {
      "image/png": "[encoded data removed]",
      "text/plain": [
       "<Figure size 432x288 with 1 Axes>"
      ]
     },
     "metadata": {
      "needs_background": "light"
     },
     "output_type": "display_data"
    },
    {
     "name": "stdout",
     "output_type": "stream",
     "text": [
      "Метрики f1 для RFC-downsample: 0.524 для RFC-upsample: 0.547\n",
      "Метрики auc_roc для RFC-downsample: 0.792 для RFC-upsample: 0.808\n"
     ]
    }
   ],
   "source": [
    "model_rfc_up = RandomForestClassifier().set_params(**best_rfc_params_up)\n",
    "model_rfc_down = RandomForestClassifier().set_params(**best_rfc_params_down)\n",
    "#model_dtc_down =  DecisionTreeClassifier.set_params(**best_dtc_params_down)\n",
    "\n",
    "model_rfc_up.fit(data_x_upsampled, data_y_upsampled)\n",
    "model_rfc_down.fit(data_x_upsampled, data_y_upsampled)\n",
    "#model_dtc_down.fit(data_x_upsampled, data_y_upsampled)\n",
    "\n",
    "rfc_predictions_up = model_rfc_up.predict(features_test)\n",
    "rfc_predictions_down = model_rfc_down.predict(features_test)\n",
    "#dtc_predictions_down = model_dtc_down.predict(features_test)\n",
    "\n",
    "rfc_f1_up = f1_score(target_test, rfc_predictions_up)\n",
    "rfc_f1_down = f1_score(target_test, rfc_predictions_down)\n",
    "#dtc_f1_down = f1_score(target_test, dtc_predictions_down)\n",
    "\n",
    "rfc_probabilities_up = model_rfc_up.predict_proba(features_test)\n",
    "rfc_probabilities_one_up = rfc_probabilities_up[:, 1]\n",
    "auc_roc_rfc_up = roc_auc_score(target_test, rfc_probabilities_one_up)\n",
    "rfc_fpr_up, rfc_tpr_up, rfc_thresholds_up = roc_curve(target_test, rfc_probabilities_one_up)\n",
    "\n",
    "rfc_probabilities_down = model_rfc_down.predict_proba(features_test)\n",
    "rfc_probabilities_one_down = rfc_probabilities_down[:, 1]\n",
    "auc_roc_rfc_down = roc_auc_score(target_test, rfc_probabilities_one_down)\n",
    "rfc_fpr_down, rfc_tpr_down, rfc_thresholds_down = roc_curve(target_test, rfc_probabilities_one_down)\n",
    "\n",
    "\n",
    "plt.figure()\n",
    "plt.plot(rfc_fpr_up, rfc_tpr_up)\n",
    "plt.plot(rfc_fpr_down, rfc_tpr_down)\n",
    "plt.xlim([0.0, 1.0])\n",
    "plt.ylim([0.0, 1.0])\n",
    "plt.xlabel('False Positive Rate')\n",
    "plt.ylabel('True Positive Rate')\n",
    "plt.title('ROC-кривые')\n",
    "plt.show() \n",
    "\n",
    "print('Метрики f1 для RFC-downsample:', round(rfc_f1_down, 3), 'для RFC-upsample:',  round(rfc_f1_up, 3))\n",
    "print('Метрики auc_roc для RFC-downsample:', round(auc_roc_rfc_down, 3), 'для RFC-upsample:', round(auc_roc_rfc_up, 3))"
   ]
  },
  {
   "cell_type": "markdown",
   "metadata": {},
   "source": [
    "Наилучшие значения метрик классификатора \"Cлучайный лес\" на тестовой выборке удалось достичь на увеличении объеденённой выборки. Значения параметров: **f1 = 0.638; AUC-ROC = 0.866**."
   ]
  },
  {
   "cell_type": "markdown",
   "metadata": {},
   "source": [
    "## Общий вывод\n",
    "* Произведена предобработка данных.\n",
    "* Числовые признаки приведены к стандартному виду (среднее = 0, стандартное отклонение = 1). \n",
    "* Категориальные признаки преобразованы методом One-Hot Encoder.\n",
    "* Целевой признак распределён в сооотношении примерно 4:1.\n",
    "* Исходные данные разделены на обучающую, валидационную и тестовую выборки в соотношении 3:1:1 соответственно\n",
    "* Обучены модели \"Решающее Дерево\", \"Случайный лес\", \"Dummy\" c использованием GridSearchCV. \n",
    "* Проведён анализ моделей с кросс-валидацией без учёта дисбаланса классов. Ни в одной из модей не было достигнуто пороговое значение f1.\n",
    "* **Upsampling-downsampling** обучающей выборки дали необходимый прирост точности и для моделей Случайный лес (**до соответственно 0.641 и 0.628**).\n",
    "* Значение метрики f1 классификатора \"Cлучайный лес\" на тестовой выборке при увеличении обучающей выборки: **f1 = 0.638 и AUC-ROC = 0.866**; при уменьшении: **f1 = 0.609 и AUC-ROC = 0.863**. Построены в сравнении кривые ROC для моделей **RFC**, обученных на сокращенной и увевеличенной выборках."
   ]
  }
 ],
 "metadata": {
  "ExecuteTimeLog": [
   {
    "duration": 1437,
    "start_time": "2023-05-15T18:24:42.480Z"
   },
   {
    "duration": 161,
    "start_time": "2023-05-15T18:25:24.108Z"
   },
   {
    "duration": 51,
    "start_time": "2023-05-15T18:25:54.093Z"
   },
   {
    "duration": 7,
    "start_time": "2023-05-15T18:27:23.084Z"
   },
   {
    "duration": 44,
    "start_time": "2023-05-15T18:28:31.829Z"
   },
   {
    "duration": 10,
    "start_time": "2023-05-15T18:30:17.592Z"
   },
   {
    "duration": 10,
    "start_time": "2023-05-15T18:30:35.299Z"
   },
   {
    "duration": 12,
    "start_time": "2023-05-15T18:31:18.682Z"
   },
   {
    "duration": 12,
    "start_time": "2023-05-15T18:31:59.325Z"
   },
   {
    "duration": 9,
    "start_time": "2023-05-15T18:34:01.705Z"
   },
   {
    "duration": 5,
    "start_time": "2023-05-15T18:34:58.624Z"
   },
   {
    "duration": 10,
    "start_time": "2023-05-15T18:36:42.498Z"
   },
   {
    "duration": 1372,
    "start_time": "2023-05-15T18:37:19.884Z"
   },
   {
    "duration": 1236,
    "start_time": "2023-05-15T18:37:29.625Z"
   },
   {
    "duration": 1566,
    "start_time": "2023-05-15T18:38:08.506Z"
   },
   {
    "duration": 1257,
    "start_time": "2023-05-15T18:38:32.247Z"
   },
   {
    "duration": 1409,
    "start_time": "2023-05-15T18:38:58.453Z"
   },
   {
    "duration": 23,
    "start_time": "2023-05-15T18:42:40.339Z"
   },
   {
    "duration": 9,
    "start_time": "2023-05-15T18:44:23.267Z"
   },
   {
    "duration": 27,
    "start_time": "2023-05-15T18:46:47.118Z"
   },
   {
    "duration": 20,
    "start_time": "2023-05-15T18:48:42.048Z"
   },
   {
    "duration": 1151,
    "start_time": "2023-05-15T19:31:05.316Z"
   },
   {
    "duration": 54,
    "start_time": "2023-05-15T19:31:13.882Z"
   },
   {
    "duration": 47,
    "start_time": "2023-05-15T19:31:13.938Z"
   },
   {
    "duration": 7,
    "start_time": "2023-05-15T19:31:13.986Z"
   },
   {
    "duration": 39,
    "start_time": "2023-05-15T19:31:13.995Z"
   },
   {
    "duration": 11,
    "start_time": "2023-05-15T19:31:14.036Z"
   },
   {
    "duration": 5,
    "start_time": "2023-05-15T19:31:14.049Z"
   },
   {
    "duration": 9,
    "start_time": "2023-05-15T19:31:14.055Z"
   },
   {
    "duration": 42,
    "start_time": "2023-05-15T19:31:14.065Z"
   },
   {
    "duration": 7,
    "start_time": "2023-05-15T19:31:14.109Z"
   },
   {
    "duration": 19,
    "start_time": "2023-05-15T19:31:14.117Z"
   },
   {
    "duration": 93,
    "start_time": "2023-05-15T19:46:19.617Z"
   },
   {
    "duration": 16,
    "start_time": "2023-05-15T19:46:35.229Z"
   },
   {
    "duration": 20,
    "start_time": "2023-05-15T19:46:46.213Z"
   },
   {
    "duration": 7687,
    "start_time": "2023-05-15T19:47:23.215Z"
   },
   {
    "duration": 213655,
    "start_time": "2023-05-15T19:48:35.562Z"
   },
   {
    "duration": 114,
    "start_time": "2023-05-16T18:53:41.227Z"
   },
   {
    "duration": 1898,
    "start_time": "2023-05-16T19:11:50.101Z"
   },
   {
    "duration": 359,
    "start_time": "2023-05-16T19:11:52.001Z"
   },
   {
    "duration": 7,
    "start_time": "2023-05-16T19:11:52.361Z"
   },
   {
    "duration": 49,
    "start_time": "2023-05-16T19:11:52.371Z"
   },
   {
    "duration": 16,
    "start_time": "2023-05-16T19:11:52.421Z"
   },
   {
    "duration": 11,
    "start_time": "2023-05-16T19:11:52.439Z"
   },
   {
    "duration": 12,
    "start_time": "2023-05-16T19:11:52.452Z"
   },
   {
    "duration": 43,
    "start_time": "2023-05-16T19:11:52.488Z"
   },
   {
    "duration": 15,
    "start_time": "2023-05-16T19:11:52.533Z"
   },
   {
    "duration": 56,
    "start_time": "2023-05-16T19:11:52.551Z"
   },
   {
    "duration": 186,
    "start_time": "2023-05-16T19:11:52.609Z"
   },
   {
    "duration": 0,
    "start_time": "2023-05-16T19:11:52.797Z"
   },
   {
    "duration": 0,
    "start_time": "2023-05-16T19:11:52.798Z"
   },
   {
    "duration": 0,
    "start_time": "2023-05-16T19:11:52.799Z"
   },
   {
    "duration": 0,
    "start_time": "2023-05-16T19:11:52.802Z"
   },
   {
    "duration": 0,
    "start_time": "2023-05-16T19:11:52.804Z"
   },
   {
    "duration": 1,
    "start_time": "2023-05-16T19:11:52.805Z"
   },
   {
    "duration": 0,
    "start_time": "2023-05-16T19:11:52.807Z"
   },
   {
    "duration": 0,
    "start_time": "2023-05-16T19:11:52.809Z"
   },
   {
    "duration": 0,
    "start_time": "2023-05-16T19:11:52.811Z"
   },
   {
    "duration": 0,
    "start_time": "2023-05-16T19:11:52.812Z"
   },
   {
    "duration": 0,
    "start_time": "2023-05-16T19:11:52.814Z"
   },
   {
    "duration": 9248,
    "start_time": "2023-05-16T19:12:08.713Z"
   },
   {
    "duration": 52442,
    "start_time": "2023-05-16T19:12:22.778Z"
   },
   {
    "duration": 10,
    "start_time": "2023-05-16T19:13:22.736Z"
   },
   {
    "duration": 11159,
    "start_time": "2023-05-16T19:13:29.230Z"
   },
   {
    "duration": 9,
    "start_time": "2023-05-16T19:13:48.581Z"
   },
   {
    "duration": 38806,
    "start_time": "2023-05-16T19:13:50.544Z"
   },
   {
    "duration": 13,
    "start_time": "2023-05-16T19:14:33.404Z"
   },
   {
    "duration": 16623,
    "start_time": "2023-05-16T19:14:35.105Z"
   },
   {
    "duration": 284,
    "start_time": "2023-05-16T19:14:57.138Z"
   },
   {
    "duration": 14,
    "start_time": "2023-05-16T19:15:04.932Z"
   },
   {
    "duration": 13,
    "start_time": "2023-05-16T19:15:09.345Z"
   },
   {
    "duration": 7,
    "start_time": "2023-05-16T19:15:12.384Z"
   },
   {
    "duration": 1866,
    "start_time": "2023-05-17T12:11:26.991Z"
   },
   {
    "duration": 504,
    "start_time": "2023-05-17T12:11:28.859Z"
   },
   {
    "duration": 8,
    "start_time": "2023-05-17T12:11:29.364Z"
   },
   {
    "duration": 78,
    "start_time": "2023-05-17T12:11:29.375Z"
   },
   {
    "duration": 28,
    "start_time": "2023-05-17T12:11:29.454Z"
   },
   {
    "duration": 12,
    "start_time": "2023-05-17T12:11:29.485Z"
   },
   {
    "duration": 13,
    "start_time": "2023-05-17T12:11:29.499Z"
   },
   {
    "duration": 38,
    "start_time": "2023-05-17T12:11:29.515Z"
   },
   {
    "duration": 26,
    "start_time": "2023-05-17T12:11:29.554Z"
   },
   {
    "duration": 132,
    "start_time": "2023-05-17T12:11:35.961Z"
   },
   {
    "duration": 7,
    "start_time": "2023-05-17T12:12:05.019Z"
   },
   {
    "duration": 6,
    "start_time": "2023-05-17T12:12:40.553Z"
   },
   {
    "duration": 120,
    "start_time": "2023-05-17T12:22:21.447Z"
   },
   {
    "duration": 107,
    "start_time": "2023-05-17T12:22:37.001Z"
   },
   {
    "duration": 35,
    "start_time": "2023-05-17T12:22:59.517Z"
   },
   {
    "duration": 36702,
    "start_time": "2023-05-17T12:23:12.219Z"
   },
   {
    "duration": 12795,
    "start_time": "2023-05-17T12:27:27.659Z"
   },
   {
    "duration": 25072,
    "start_time": "2023-05-17T12:27:59.221Z"
   },
   {
    "duration": 25499,
    "start_time": "2023-05-17T12:29:00.758Z"
   },
   {
    "duration": 88,
    "start_time": "2023-05-17T12:31:38.948Z"
   },
   {
    "duration": 19,
    "start_time": "2023-05-17T12:31:49.821Z"
   },
   {
    "duration": 3875,
    "start_time": "2023-05-17T12:32:20.825Z"
   },
   {
    "duration": 5181,
    "start_time": "2023-05-17T12:34:54.674Z"
   },
   {
    "duration": 4886,
    "start_time": "2023-05-17T12:44:08.431Z"
   },
   {
    "duration": 4914,
    "start_time": "2023-05-17T12:44:41.530Z"
   },
   {
    "duration": 4746,
    "start_time": "2023-05-17T12:44:59.717Z"
   },
   {
    "duration": 4707,
    "start_time": "2023-05-17T12:45:22.598Z"
   },
   {
    "duration": 4712,
    "start_time": "2023-05-17T12:45:36.036Z"
   },
   {
    "duration": 4799,
    "start_time": "2023-05-17T12:45:47.920Z"
   },
   {
    "duration": 65,
    "start_time": "2023-05-17T12:50:09.607Z"
   },
   {
    "duration": 11604,
    "start_time": "2023-05-17T12:50:18.820Z"
   },
   {
    "duration": 10,
    "start_time": "2023-05-17T13:00:34.854Z"
   },
   {
    "duration": 6,
    "start_time": "2023-05-17T13:00:45.923Z"
   },
   {
    "duration": 70,
    "start_time": "2023-05-17T13:00:45.931Z"
   },
   {
    "duration": 8,
    "start_time": "2023-05-17T13:00:46.003Z"
   },
   {
    "duration": 46,
    "start_time": "2023-05-17T13:00:46.012Z"
   },
   {
    "duration": 35,
    "start_time": "2023-05-17T13:00:46.060Z"
   },
   {
    "duration": 9,
    "start_time": "2023-05-17T13:00:46.097Z"
   },
   {
    "duration": 17,
    "start_time": "2023-05-17T13:00:46.108Z"
   },
   {
    "duration": 34,
    "start_time": "2023-05-17T13:00:46.127Z"
   },
   {
    "duration": 17,
    "start_time": "2023-05-17T13:00:46.175Z"
   },
   {
    "duration": 14,
    "start_time": "2023-05-17T13:00:46.194Z"
   },
   {
    "duration": 83291,
    "start_time": "2023-05-17T13:01:01.334Z"
   },
   {
    "duration": 13,
    "start_time": "2023-05-17T13:07:09.517Z"
   },
   {
    "duration": 16,
    "start_time": "2023-05-17T13:08:01.113Z"
   },
   {
    "duration": 5,
    "start_time": "2023-05-17T13:12:18.047Z"
   },
   {
    "duration": 72,
    "start_time": "2023-05-17T13:18:28.816Z"
   },
   {
    "duration": 81,
    "start_time": "2023-05-17T13:19:35.420Z"
   },
   {
    "duration": 74148,
    "start_time": "2023-05-17T13:21:16.840Z"
   },
   {
    "duration": 14,
    "start_time": "2023-05-17T13:22:45.908Z"
   },
   {
    "duration": 274285,
    "start_time": "2023-05-17T13:24:04.274Z"
   },
   {
    "duration": 13,
    "start_time": "2023-05-17T13:31:43.102Z"
   },
   {
    "duration": 12,
    "start_time": "2023-05-17T13:32:12.095Z"
   },
   {
    "duration": 11,
    "start_time": "2023-05-17T13:32:22.599Z"
   },
   {
    "duration": 277897,
    "start_time": "2023-05-17T13:33:24.357Z"
   },
   {
    "duration": 12,
    "start_time": "2023-05-17T13:38:11.200Z"
   },
   {
    "duration": 0,
    "start_time": "2023-05-17T13:40:02.190Z"
   },
   {
    "duration": 0,
    "start_time": "2023-05-17T13:40:02.191Z"
   },
   {
    "duration": 0,
    "start_time": "2023-05-17T13:40:02.192Z"
   },
   {
    "duration": 0,
    "start_time": "2023-05-17T13:40:02.193Z"
   },
   {
    "duration": 0,
    "start_time": "2023-05-17T13:40:02.194Z"
   },
   {
    "duration": 0,
    "start_time": "2023-05-17T13:40:02.195Z"
   },
   {
    "duration": 0,
    "start_time": "2023-05-17T13:40:02.196Z"
   },
   {
    "duration": 0,
    "start_time": "2023-05-17T13:40:02.198Z"
   },
   {
    "duration": 0,
    "start_time": "2023-05-17T13:40:02.198Z"
   },
   {
    "duration": 0,
    "start_time": "2023-05-17T13:40:02.200Z"
   },
   {
    "duration": 0,
    "start_time": "2023-05-17T13:40:02.201Z"
   },
   {
    "duration": 0,
    "start_time": "2023-05-17T13:40:02.202Z"
   },
   {
    "duration": 0,
    "start_time": "2023-05-17T13:40:02.203Z"
   },
   {
    "duration": 4,
    "start_time": "2023-05-17T13:42:26.380Z"
   },
   {
    "duration": 583342,
    "start_time": "2023-05-17T13:43:09.091Z"
   },
   {
    "duration": 15450,
    "start_time": "2023-05-17T13:53:05.798Z"
   },
   {
    "duration": 13,
    "start_time": "2023-05-17T13:53:35.976Z"
   },
   {
    "duration": 30188,
    "start_time": "2023-05-17T13:59:36.176Z"
   },
   {
    "duration": 36842,
    "start_time": "2023-05-17T14:02:12.955Z"
   },
   {
    "duration": 11,
    "start_time": "2023-05-17T14:02:59.700Z"
   },
   {
    "duration": 5,
    "start_time": "2023-05-17T14:07:19.008Z"
   },
   {
    "duration": 22,
    "start_time": "2023-05-17T14:11:36.736Z"
   },
   {
    "duration": 23,
    "start_time": "2023-05-17T14:12:30.419Z"
   },
   {
    "duration": 23,
    "start_time": "2023-05-17T14:13:13.440Z"
   },
   {
    "duration": 9,
    "start_time": "2023-05-17T14:13:48.098Z"
   },
   {
    "duration": 5,
    "start_time": "2023-05-17T14:13:58.743Z"
   },
   {
    "duration": 36,
    "start_time": "2023-05-17T14:15:00.171Z"
   },
   {
    "duration": 25,
    "start_time": "2023-05-17T14:15:12.303Z"
   },
   {
    "duration": 13154,
    "start_time": "2023-05-17T14:15:31.919Z"
   },
   {
    "duration": 74217,
    "start_time": "2023-05-17T14:17:52.330Z"
   },
   {
    "duration": 16,
    "start_time": "2023-05-17T14:19:27.508Z"
   },
   {
    "duration": 23,
    "start_time": "2023-05-17T14:21:12.542Z"
   },
   {
    "duration": 24,
    "start_time": "2023-05-17T14:22:42.904Z"
   },
   {
    "duration": 22,
    "start_time": "2023-05-17T14:22:52.520Z"
   },
   {
    "duration": 23,
    "start_time": "2023-05-17T14:23:12.012Z"
   },
   {
    "duration": 230350,
    "start_time": "2023-05-17T14:24:01.741Z"
   },
   {
    "duration": 56908,
    "start_time": "2023-05-17T14:29:05.745Z"
   },
   {
    "duration": 12,
    "start_time": "2023-05-17T14:30:08.987Z"
   },
   {
    "duration": 25869,
    "start_time": "2023-05-17T14:31:43.819Z"
   },
   {
    "duration": 33944,
    "start_time": "2023-05-17T14:32:20.687Z"
   },
   {
    "duration": 11,
    "start_time": "2023-05-17T14:33:03.323Z"
   },
   {
    "duration": 19,
    "start_time": "2023-05-17T14:35:09.796Z"
   },
   {
    "duration": 267538,
    "start_time": "2023-05-17T14:35:59.306Z"
   },
   {
    "duration": 23,
    "start_time": "2023-05-17T14:40:36.792Z"
   },
   {
    "duration": 25,
    "start_time": "2023-05-17T14:40:57.476Z"
   },
   {
    "duration": 38721,
    "start_time": "2023-05-17T14:42:22.400Z"
   },
   {
    "duration": 15,
    "start_time": "2023-05-17T14:43:11.278Z"
   },
   {
    "duration": 36776,
    "start_time": "2023-05-17T14:43:29.397Z"
   },
   {
    "duration": 16,
    "start_time": "2023-05-17T14:44:32.552Z"
   },
   {
    "duration": 224528,
    "start_time": "2023-05-17T14:44:47.740Z"
   },
   {
    "duration": 20,
    "start_time": "2023-05-17T14:48:40.244Z"
   },
   {
    "duration": 5,
    "start_time": "2023-05-17T14:53:14.344Z"
   },
   {
    "duration": 41396,
    "start_time": "2023-05-17T14:55:12.116Z"
   },
   {
    "duration": 448171,
    "start_time": "2023-05-17T14:59:36.508Z"
   },
   {
    "duration": 21,
    "start_time": "2023-05-17T15:09:26.724Z"
   },
   {
    "duration": 25,
    "start_time": "2023-05-17T15:10:17.312Z"
   },
   {
    "duration": 18,
    "start_time": "2023-05-17T15:10:30.401Z"
   },
   {
    "duration": 12,
    "start_time": "2023-05-17T15:10:39.840Z"
   },
   {
    "duration": 22,
    "start_time": "2023-05-17T15:14:13.604Z"
   },
   {
    "duration": 23,
    "start_time": "2023-05-17T15:16:06.625Z"
   },
   {
    "duration": 15,
    "start_time": "2023-05-17T15:16:44.431Z"
   },
   {
    "duration": 14,
    "start_time": "2023-05-17T15:16:51.904Z"
   },
   {
    "duration": 20,
    "start_time": "2023-05-17T15:17:11.344Z"
   },
   {
    "duration": 13,
    "start_time": "2023-05-17T15:17:17.736Z"
   },
   {
    "duration": 5,
    "start_time": "2023-05-17T15:18:55.928Z"
   },
   {
    "duration": 72,
    "start_time": "2023-05-17T16:19:27.292Z"
   },
   {
    "duration": 13,
    "start_time": "2023-05-17T16:19:52.590Z"
   },
   {
    "duration": 6,
    "start_time": "2023-05-17T16:20:41.098Z"
   },
   {
    "duration": 46,
    "start_time": "2023-05-17T16:20:41.111Z"
   },
   {
    "duration": 7,
    "start_time": "2023-05-17T16:20:41.158Z"
   },
   {
    "duration": 55,
    "start_time": "2023-05-17T16:20:41.167Z"
   },
   {
    "duration": 12,
    "start_time": "2023-05-17T16:20:41.225Z"
   },
   {
    "duration": 6,
    "start_time": "2023-05-17T16:20:41.239Z"
   },
   {
    "duration": 11,
    "start_time": "2023-05-17T16:20:41.291Z"
   },
   {
    "duration": 28,
    "start_time": "2023-05-17T16:20:41.304Z"
   },
   {
    "duration": 10,
    "start_time": "2023-05-17T16:20:41.343Z"
   },
   {
    "duration": 16,
    "start_time": "2023-05-17T16:20:41.356Z"
   },
   {
    "duration": 7,
    "start_time": "2023-05-17T16:20:41.374Z"
   },
   {
    "duration": 38031,
    "start_time": "2023-05-17T16:20:41.397Z"
   },
   {
    "duration": 15,
    "start_time": "2023-05-17T16:21:19.433Z"
   },
   {
    "duration": 4,
    "start_time": "2023-05-17T16:21:19.450Z"
   },
   {
    "duration": 245567,
    "start_time": "2023-05-17T16:21:19.456Z"
   },
   {
    "duration": 20,
    "start_time": "2023-05-17T16:25:25.025Z"
   },
   {
    "duration": 4,
    "start_time": "2023-05-17T16:25:25.047Z"
   },
   {
    "duration": 14,
    "start_time": "2023-05-17T16:25:50.411Z"
   },
   {
    "duration": 13,
    "start_time": "2023-05-17T16:26:48.438Z"
   },
   {
    "duration": 18,
    "start_time": "2023-05-17T16:26:53.693Z"
   },
   {
    "duration": 109407,
    "start_time": "2023-05-17T16:29:04.486Z"
   },
   {
    "duration": 692330,
    "start_time": "2023-05-17T16:32:10.772Z"
   },
   {
    "duration": 0,
    "start_time": "2023-05-17T16:43:43.104Z"
   },
   {
    "duration": 167529,
    "start_time": "2023-05-17T16:43:56.660Z"
   },
   {
    "duration": 46492,
    "start_time": "2023-05-17T16:47:38.717Z"
   },
   {
    "duration": 7,
    "start_time": "2023-05-17T16:48:39.516Z"
   },
   {
    "duration": 17,
    "start_time": "2023-05-17T16:55:09.916Z"
   },
   {
    "duration": 188,
    "start_time": "2023-05-17T16:55:22.401Z"
   },
   {
    "duration": 98,
    "start_time": "2023-05-17T16:55:36.195Z"
   },
   {
    "duration": 1072,
    "start_time": "2023-05-17T16:55:59.632Z"
   },
   {
    "duration": 1096,
    "start_time": "2023-05-17T16:56:49.203Z"
   },
   {
    "duration": 1091,
    "start_time": "2023-05-17T16:57:54.204Z"
   },
   {
    "duration": 784,
    "start_time": "2023-05-17T17:00:09.717Z"
   },
   {
    "duration": 1110,
    "start_time": "2023-05-17T17:00:30.291Z"
   },
   {
    "duration": 390207,
    "start_time": "2023-05-17T17:01:11.000Z"
   },
   {
    "duration": 15,
    "start_time": "2023-05-17T17:13:36.740Z"
   },
   {
    "duration": 148744,
    "start_time": "2023-05-17T17:14:27.245Z"
   },
   {
    "duration": 13849,
    "start_time": "2023-05-17T17:22:24.428Z"
   },
   {
    "duration": 17,
    "start_time": "2023-05-17T17:23:58.525Z"
   },
   {
    "duration": 13136,
    "start_time": "2023-05-17T17:24:14.243Z"
   },
   {
    "duration": 12,
    "start_time": "2023-05-17T17:24:36.829Z"
   },
   {
    "duration": 13436,
    "start_time": "2023-05-17T17:25:08.445Z"
   },
   {
    "duration": 14,
    "start_time": "2023-05-17T17:25:41.402Z"
   },
   {
    "duration": 12300,
    "start_time": "2023-05-17T17:26:08.303Z"
   },
   {
    "duration": 19,
    "start_time": "2023-05-17T17:26:28.258Z"
   },
   {
    "duration": 458584,
    "start_time": "2023-05-17T17:27:11.220Z"
   },
   {
    "duration": 18,
    "start_time": "2023-05-17T17:34:56.711Z"
   },
   {
    "duration": 20,
    "start_time": "2023-05-17T17:36:19.100Z"
   },
   {
    "duration": 318158,
    "start_time": "2023-05-17T17:38:14.006Z"
   },
   {
    "duration": 5,
    "start_time": "2023-05-17T17:48:01.511Z"
   },
   {
    "duration": 284258,
    "start_time": "2023-05-17T17:48:16.404Z"
   },
   {
    "duration": 332266,
    "start_time": "2023-05-17T17:59:37.553Z"
   },
   {
    "duration": 6,
    "start_time": "2023-05-17T18:08:41.101Z"
   },
   {
    "duration": 257815,
    "start_time": "2023-05-17T18:09:46.426Z"
   },
   {
    "duration": 45,
    "start_time": "2023-05-17T18:16:39.522Z"
   },
   {
    "duration": 21,
    "start_time": "2023-05-17T18:17:28.619Z"
   },
   {
    "duration": 28,
    "start_time": "2023-05-17T18:18:03.906Z"
   },
   {
    "duration": 28760,
    "start_time": "2023-05-17T18:18:16.910Z"
   },
   {
    "duration": 25,
    "start_time": "2023-05-17T18:19:01.108Z"
   },
   {
    "duration": 23,
    "start_time": "2023-05-17T18:19:41.826Z"
   },
   {
    "duration": 5,
    "start_time": "2023-05-17T18:19:47.206Z"
   },
   {
    "duration": 30670,
    "start_time": "2023-05-17T18:19:53.402Z"
   },
   {
    "duration": 24,
    "start_time": "2023-05-17T18:20:43.837Z"
   },
   {
    "duration": 12,
    "start_time": "2023-05-17T18:23:57.108Z"
   },
   {
    "duration": 6,
    "start_time": "2023-05-17T18:24:09.533Z"
   },
   {
    "duration": 41006,
    "start_time": "2023-05-17T18:24:14.647Z"
   },
   {
    "duration": 22,
    "start_time": "2023-05-17T18:25:16.131Z"
   },
   {
    "duration": 9,
    "start_time": "2023-05-17T18:25:23.513Z"
   },
   {
    "duration": 40751,
    "start_time": "2023-05-17T18:25:27.462Z"
   },
   {
    "duration": 36,
    "start_time": "2023-05-17T18:26:16.712Z"
   },
   {
    "duration": 13,
    "start_time": "2023-05-17T18:28:27.276Z"
   },
   {
    "duration": 17,
    "start_time": "2023-05-17T18:28:30.096Z"
   },
   {
    "duration": 41324,
    "start_time": "2023-05-17T18:28:33.551Z"
   },
   {
    "duration": 12,
    "start_time": "2023-05-17T18:30:46.109Z"
   },
   {
    "duration": 472063,
    "start_time": "2023-05-17T18:32:17.399Z"
   },
   {
    "duration": 15,
    "start_time": "2023-05-17T18:41:19.562Z"
   },
   {
    "duration": 205,
    "start_time": "2023-05-17T18:41:19.580Z"
   },
   {
    "duration": 38,
    "start_time": "2023-05-17T18:41:19.791Z"
   },
   {
    "duration": 165,
    "start_time": "2023-05-17T18:41:19.836Z"
   },
   {
    "duration": 50,
    "start_time": "2023-05-17T18:41:20.011Z"
   },
   {
    "duration": 22,
    "start_time": "2023-05-17T18:41:20.067Z"
   },
   {
    "duration": 26,
    "start_time": "2023-05-17T18:41:20.095Z"
   },
   {
    "duration": 110,
    "start_time": "2023-05-17T18:41:20.135Z"
   },
   {
    "duration": 33,
    "start_time": "2023-05-17T18:41:20.252Z"
   },
   {
    "duration": 25,
    "start_time": "2023-05-17T18:41:20.296Z"
   },
   {
    "duration": 26,
    "start_time": "2023-05-17T18:41:20.327Z"
   },
   {
    "duration": 74395,
    "start_time": "2023-05-17T18:41:20.362Z"
   },
   {
    "duration": 71,
    "start_time": "2023-05-17T18:42:34.774Z"
   },
   {
    "duration": 40,
    "start_time": "2023-05-17T18:42:34.857Z"
   },
   {
    "duration": 361743,
    "start_time": "2023-05-17T18:42:34.902Z"
   },
   {
    "duration": 46,
    "start_time": "2023-05-17T18:48:36.647Z"
   },
   {
    "duration": 5,
    "start_time": "2023-05-17T18:48:36.695Z"
   },
   {
    "duration": 120499,
    "start_time": "2023-05-17T18:48:36.706Z"
   },
   {
    "duration": 106,
    "start_time": "2023-05-17T18:50:37.234Z"
   },
   {
    "duration": 48,
    "start_time": "2023-05-17T18:50:37.373Z"
   },
   {
    "duration": 15407,
    "start_time": "2023-05-17T18:50:37.445Z"
   },
   {
    "duration": 144,
    "start_time": "2023-05-17T18:50:52.857Z"
   },
   {
    "duration": 18,
    "start_time": "2023-05-17T18:50:53.018Z"
   },
   {
    "duration": 633071,
    "start_time": "2023-05-17T18:50:53.042Z"
   },
   {
    "duration": 45,
    "start_time": "2023-05-17T19:01:26.132Z"
   },
   {
    "duration": 16,
    "start_time": "2023-05-17T19:01:26.187Z"
   },
   {
    "duration": 444023,
    "start_time": "2023-05-17T19:01:26.211Z"
   },
   {
    "duration": 6,
    "start_time": "2023-05-17T19:08:50.239Z"
   },
   {
    "duration": 286007,
    "start_time": "2023-05-17T19:08:50.250Z"
   },
   {
    "duration": 46,
    "start_time": "2023-05-17T19:13:36.266Z"
   },
   {
    "duration": 0,
    "start_time": "2023-05-17T19:13:36.316Z"
   },
   {
    "duration": 0,
    "start_time": "2023-05-17T19:13:36.320Z"
   },
   {
    "duration": 0,
    "start_time": "2023-05-17T19:13:36.325Z"
   },
   {
    "duration": 27,
    "start_time": "2023-05-17T19:18:55.257Z"
   },
   {
    "duration": 461923,
    "start_time": "2023-05-17T19:19:02.758Z"
   },
   {
    "duration": 31,
    "start_time": "2023-05-17T19:28:17.797Z"
   },
   {
    "duration": 142,
    "start_time": "2023-05-17T19:32:11.046Z"
   },
   {
    "duration": 163,
    "start_time": "2023-05-17T19:32:19.462Z"
   },
   {
    "duration": 33,
    "start_time": "2023-05-17T19:33:39.400Z"
   },
   {
    "duration": 157,
    "start_time": "2023-05-17T19:42:21.602Z"
   },
   {
    "duration": 103,
    "start_time": "2023-05-17T19:43:06.803Z"
   },
   {
    "duration": 127,
    "start_time": "2023-05-17T19:52:48.318Z"
   },
   {
    "duration": 124,
    "start_time": "2023-05-17T19:52:52.220Z"
   },
   {
    "duration": 129,
    "start_time": "2023-05-17T19:53:09.819Z"
   },
   {
    "duration": 11,
    "start_time": "2023-05-17T19:53:40.949Z"
   },
   {
    "duration": 44355,
    "start_time": "2023-05-17T19:53:57.848Z"
   },
   {
    "duration": 19,
    "start_time": "2023-05-17T19:55:14.902Z"
   },
   {
    "duration": 21,
    "start_time": "2023-05-17T19:55:26.508Z"
   },
   {
    "duration": 151041,
    "start_time": "2023-05-17T19:59:36.708Z"
   },
   {
    "duration": 0,
    "start_time": "2023-05-17T20:02:07.752Z"
   },
   {
    "duration": 8,
    "start_time": "2023-05-17T20:02:13.614Z"
   },
   {
    "duration": 207972,
    "start_time": "2023-05-17T20:02:20.016Z"
   },
   {
    "duration": 8,
    "start_time": "2023-05-17T20:07:25.611Z"
   },
   {
    "duration": 29117,
    "start_time": "2023-05-17T20:07:31.002Z"
   },
   {
    "duration": 17,
    "start_time": "2023-05-17T20:08:08.116Z"
   },
   {
    "duration": 29665,
    "start_time": "2023-05-17T20:08:42.625Z"
   },
   {
    "duration": 23,
    "start_time": "2023-05-17T20:09:32.214Z"
   },
   {
    "duration": 28276,
    "start_time": "2023-05-17T20:09:59.006Z"
   },
   {
    "duration": 30548,
    "start_time": "2023-05-17T20:11:17.610Z"
   },
   {
    "duration": 13,
    "start_time": "2023-05-17T20:12:09.955Z"
   },
   {
    "duration": 30578,
    "start_time": "2023-05-17T20:12:43.210Z"
   },
   {
    "duration": 17,
    "start_time": "2023-05-17T20:13:20.639Z"
   },
   {
    "duration": 5,
    "start_time": "2023-05-17T20:14:28.537Z"
   },
   {
    "duration": 386138,
    "start_time": "2023-05-17T20:14:34.515Z"
   },
   {
    "duration": 35,
    "start_time": "2023-05-17T20:21:31.132Z"
   },
   {
    "duration": 42,
    "start_time": "2023-05-17T20:22:05.008Z"
   },
   {
    "duration": 6,
    "start_time": "2023-05-17T20:23:37.310Z"
   },
   {
    "duration": 53,
    "start_time": "2023-05-17T20:23:42.102Z"
   },
   {
    "duration": 11,
    "start_time": "2023-05-17T20:23:47.915Z"
   },
   {
    "duration": 115074,
    "start_time": "2023-05-17T20:30:35.204Z"
   },
   {
    "duration": 19,
    "start_time": "2023-05-17T20:32:55.293Z"
   },
   {
    "duration": 4,
    "start_time": "2023-05-17T20:33:19.359Z"
   },
   {
    "duration": 13210,
    "start_time": "2023-05-17T20:33:22.792Z"
   },
   {
    "duration": 18,
    "start_time": "2023-05-17T20:34:31.110Z"
   },
   {
    "duration": 4,
    "start_time": "2023-05-17T20:35:11.218Z"
   },
   {
    "duration": 923061,
    "start_time": "2023-05-17T20:35:16.435Z"
   },
   {
    "duration": 315359,
    "start_time": "2023-05-17T20:51:14.657Z"
   },
   {
    "duration": 16,
    "start_time": "2023-05-17T20:57:17.894Z"
   },
   {
    "duration": 4,
    "start_time": "2023-05-17T20:58:16.817Z"
   },
   {
    "duration": 436898,
    "start_time": "2023-05-17T20:58:22.892Z"
   },
   {
    "duration": 4,
    "start_time": "2023-05-17T21:08:22.952Z"
   },
   {
    "duration": 284800,
    "start_time": "2023-05-17T21:08:28.331Z"
   },
   {
    "duration": 3414,
    "start_time": "2023-05-18T08:01:40.876Z"
   },
   {
    "duration": 845,
    "start_time": "2023-05-18T08:01:44.293Z"
   },
   {
    "duration": 37,
    "start_time": "2023-05-18T08:01:45.155Z"
   },
   {
    "duration": 111,
    "start_time": "2023-05-18T08:01:45.210Z"
   },
   {
    "duration": 41,
    "start_time": "2023-05-18T08:01:45.327Z"
   },
   {
    "duration": 24,
    "start_time": "2023-05-18T08:01:45.374Z"
   },
   {
    "duration": 20,
    "start_time": "2023-05-18T08:01:45.406Z"
   },
   {
    "duration": 66,
    "start_time": "2023-05-18T08:01:45.436Z"
   },
   {
    "duration": 27,
    "start_time": "2023-05-18T08:01:45.507Z"
   },
   {
    "duration": 24,
    "start_time": "2023-05-18T08:01:45.541Z"
   },
   {
    "duration": 18,
    "start_time": "2023-05-18T08:01:45.572Z"
   },
   {
    "duration": 4249,
    "start_time": "2023-05-18T08:01:55.585Z"
   },
   {
    "duration": 47,
    "start_time": "2023-05-18T08:02:09.975Z"
   },
   {
    "duration": 11,
    "start_time": "2023-05-18T08:06:42.887Z"
   },
   {
    "duration": 178,
    "start_time": "2023-05-18T08:06:42.908Z"
   },
   {
    "duration": 17,
    "start_time": "2023-05-18T08:06:43.089Z"
   },
   {
    "duration": 202,
    "start_time": "2023-05-18T08:06:43.108Z"
   },
   {
    "duration": 58,
    "start_time": "2023-05-18T08:06:43.316Z"
   },
   {
    "duration": 23,
    "start_time": "2023-05-18T08:06:43.387Z"
   },
   {
    "duration": 32,
    "start_time": "2023-05-18T08:06:43.426Z"
   },
   {
    "duration": 98,
    "start_time": "2023-05-18T08:06:43.476Z"
   },
   {
    "duration": 34,
    "start_time": "2023-05-18T08:06:43.584Z"
   },
   {
    "duration": 34,
    "start_time": "2023-05-18T08:06:43.636Z"
   },
   {
    "duration": 22,
    "start_time": "2023-05-18T08:06:43.684Z"
   },
   {
    "duration": 16805,
    "start_time": "2023-05-18T08:06:48.537Z"
   },
   {
    "duration": 26,
    "start_time": "2023-05-18T08:07:28.973Z"
   },
   {
    "duration": 11766,
    "start_time": "2023-05-18T08:11:44.783Z"
   },
   {
    "duration": 10622,
    "start_time": "2023-05-18T08:12:49.208Z"
   },
   {
    "duration": 17047,
    "start_time": "2023-05-18T08:13:32.731Z"
   },
   {
    "duration": 45,
    "start_time": "2023-05-18T08:17:11.723Z"
   },
   {
    "duration": 19,
    "start_time": "2023-05-18T08:18:08.779Z"
   },
   {
    "duration": 82,
    "start_time": "2023-05-18T08:18:08.808Z"
   },
   {
    "duration": 17,
    "start_time": "2023-05-18T08:18:08.900Z"
   },
   {
    "duration": 84,
    "start_time": "2023-05-18T08:18:08.922Z"
   },
   {
    "duration": 22,
    "start_time": "2023-05-18T08:18:09.009Z"
   },
   {
    "duration": 32,
    "start_time": "2023-05-18T08:18:09.034Z"
   },
   {
    "duration": 20,
    "start_time": "2023-05-18T08:18:09.072Z"
   },
   {
    "duration": 50,
    "start_time": "2023-05-18T08:18:09.095Z"
   },
   {
    "duration": 23,
    "start_time": "2023-05-18T08:18:09.147Z"
   },
   {
    "duration": 42,
    "start_time": "2023-05-18T08:18:15.425Z"
   },
   {
    "duration": 10,
    "start_time": "2023-05-18T08:18:18.620Z"
   },
   {
    "duration": 7,
    "start_time": "2023-05-18T08:18:43.800Z"
   },
   {
    "duration": 135,
    "start_time": "2023-05-18T08:19:30.214Z"
   },
   {
    "duration": 13097,
    "start_time": "2023-05-18T08:19:40.991Z"
   },
   {
    "duration": 9050,
    "start_time": "2023-05-18T08:20:11.596Z"
   },
   {
    "duration": 12,
    "start_time": "2023-05-18T08:20:28.428Z"
   },
   {
    "duration": 11142,
    "start_time": "2023-05-18T08:20:43.422Z"
   },
   {
    "duration": 21,
    "start_time": "2023-05-18T08:21:16.114Z"
   },
   {
    "duration": 11680,
    "start_time": "2023-05-18T08:22:14.729Z"
   },
   {
    "duration": 23,
    "start_time": "2023-05-18T08:22:36.992Z"
   },
   {
    "duration": 6,
    "start_time": "2023-05-18T08:23:40.420Z"
   },
   {
    "duration": 81945,
    "start_time": "2023-05-18T08:24:39.509Z"
   },
   {
    "duration": 84898,
    "start_time": "2023-05-18T08:27:12.595Z"
   },
   {
    "duration": 94637,
    "start_time": "2023-05-18T08:29:12.600Z"
   },
   {
    "duration": 78167,
    "start_time": "2023-05-18T08:35:50.031Z"
   },
   {
    "duration": 261379,
    "start_time": "2023-05-18T08:37:25.401Z"
   },
   {
    "duration": 140,
    "start_time": "2023-05-18T08:51:46.684Z"
   },
   {
    "duration": 6,
    "start_time": "2023-05-18T08:52:53.440Z"
   },
   {
    "duration": 78,
    "start_time": "2023-05-18T08:52:56.795Z"
   },
   {
    "duration": 14,
    "start_time": "2023-05-18T08:53:04.028Z"
   },
   {
    "duration": 17225,
    "start_time": "2023-05-18T08:53:49.262Z"
   },
   {
    "duration": 12226,
    "start_time": "2023-05-18T09:16:33.000Z"
   },
   {
    "duration": 14484,
    "start_time": "2023-05-18T09:16:56.092Z"
   },
   {
    "duration": 62,
    "start_time": "2023-05-18T09:17:20.204Z"
   },
   {
    "duration": 38,
    "start_time": "2023-05-18T09:17:34.228Z"
   },
   {
    "duration": 47,
    "start_time": "2023-05-18T09:17:40.674Z"
   },
   {
    "duration": 11,
    "start_time": "2023-05-18T09:22:41.723Z"
   },
   {
    "duration": 132,
    "start_time": "2023-05-18T09:22:41.738Z"
   },
   {
    "duration": 30,
    "start_time": "2023-05-18T09:22:41.876Z"
   },
   {
    "duration": 154,
    "start_time": "2023-05-18T09:22:41.908Z"
   },
   {
    "duration": 36,
    "start_time": "2023-05-18T09:22:42.065Z"
   },
   {
    "duration": 24,
    "start_time": "2023-05-18T09:22:42.108Z"
   },
   {
    "duration": 17,
    "start_time": "2023-05-18T09:22:42.139Z"
   },
   {
    "duration": 41,
    "start_time": "2023-05-18T09:22:42.159Z"
   },
   {
    "duration": 3367,
    "start_time": "2023-05-18T09:22:46.111Z"
   },
   {
    "duration": 3637,
    "start_time": "2023-05-18T09:23:31.662Z"
   },
   {
    "duration": 4165,
    "start_time": "2023-05-18T09:23:59.791Z"
   },
   {
    "duration": 30,
    "start_time": "2023-05-18T09:24:09.688Z"
   },
   {
    "duration": 150,
    "start_time": "2023-05-18T09:24:09.720Z"
   },
   {
    "duration": 22,
    "start_time": "2023-05-18T09:24:09.872Z"
   },
   {
    "duration": 186,
    "start_time": "2023-05-18T09:24:09.897Z"
   },
   {
    "duration": 44,
    "start_time": "2023-05-18T09:24:10.087Z"
   },
   {
    "duration": 41,
    "start_time": "2023-05-18T09:24:10.133Z"
   },
   {
    "duration": 31,
    "start_time": "2023-05-18T09:24:10.176Z"
   },
   {
    "duration": 93,
    "start_time": "2023-05-18T09:24:10.210Z"
   },
   {
    "duration": 12,
    "start_time": "2023-05-18T09:24:10.306Z"
   },
   {
    "duration": 27,
    "start_time": "2023-05-18T09:24:10.327Z"
   },
   {
    "duration": 38,
    "start_time": "2023-05-18T09:24:10.356Z"
   },
   {
    "duration": 17,
    "start_time": "2023-05-18T09:24:10.396Z"
   },
   {
    "duration": 9,
    "start_time": "2023-05-18T09:24:10.417Z"
   },
   {
    "duration": 1546,
    "start_time": "2023-05-18T09:24:10.428Z"
   },
   {
    "duration": 0,
    "start_time": "2023-05-18T09:24:11.977Z"
   },
   {
    "duration": 0,
    "start_time": "2023-05-18T09:24:11.981Z"
   },
   {
    "duration": 0,
    "start_time": "2023-05-18T09:24:11.982Z"
   },
   {
    "duration": 0,
    "start_time": "2023-05-18T09:24:11.983Z"
   },
   {
    "duration": 0,
    "start_time": "2023-05-18T09:24:11.985Z"
   },
   {
    "duration": 0,
    "start_time": "2023-05-18T09:24:11.988Z"
   },
   {
    "duration": 0,
    "start_time": "2023-05-18T09:24:11.989Z"
   },
   {
    "duration": 0,
    "start_time": "2023-05-18T09:24:11.990Z"
   },
   {
    "duration": 0,
    "start_time": "2023-05-18T09:24:11.992Z"
   },
   {
    "duration": 0,
    "start_time": "2023-05-18T09:24:11.993Z"
   },
   {
    "duration": 0,
    "start_time": "2023-05-18T09:24:11.995Z"
   },
   {
    "duration": 0,
    "start_time": "2023-05-18T09:24:11.996Z"
   },
   {
    "duration": 0,
    "start_time": "2023-05-18T09:24:11.997Z"
   },
   {
    "duration": 0,
    "start_time": "2023-05-18T09:24:12.000Z"
   },
   {
    "duration": 0,
    "start_time": "2023-05-18T09:24:12.001Z"
   },
   {
    "duration": 0,
    "start_time": "2023-05-18T09:24:12.003Z"
   },
   {
    "duration": 0,
    "start_time": "2023-05-18T09:24:12.004Z"
   },
   {
    "duration": 0,
    "start_time": "2023-05-18T09:24:12.005Z"
   },
   {
    "duration": 0,
    "start_time": "2023-05-18T09:24:12.007Z"
   },
   {
    "duration": 0,
    "start_time": "2023-05-18T09:24:12.008Z"
   },
   {
    "duration": 0,
    "start_time": "2023-05-18T09:24:12.009Z"
   },
   {
    "duration": 0,
    "start_time": "2023-05-18T09:24:12.014Z"
   },
   {
    "duration": 0,
    "start_time": "2023-05-18T09:24:12.016Z"
   },
   {
    "duration": 0,
    "start_time": "2023-05-18T09:24:12.017Z"
   },
   {
    "duration": 0,
    "start_time": "2023-05-18T09:24:12.024Z"
   },
   {
    "duration": 0,
    "start_time": "2023-05-18T09:24:12.025Z"
   },
   {
    "duration": 0,
    "start_time": "2023-05-18T09:24:12.027Z"
   },
   {
    "duration": 14,
    "start_time": "2023-05-18T09:24:53.900Z"
   },
   {
    "duration": 197,
    "start_time": "2023-05-18T09:24:53.917Z"
   },
   {
    "duration": 33,
    "start_time": "2023-05-18T09:24:54.117Z"
   },
   {
    "duration": 193,
    "start_time": "2023-05-18T09:24:54.153Z"
   },
   {
    "duration": 35,
    "start_time": "2023-05-18T09:24:54.354Z"
   },
   {
    "duration": 18,
    "start_time": "2023-05-18T09:24:54.392Z"
   },
   {
    "duration": 53,
    "start_time": "2023-05-18T09:24:54.413Z"
   },
   {
    "duration": 90,
    "start_time": "2023-05-18T09:24:54.468Z"
   },
   {
    "duration": 14,
    "start_time": "2023-05-18T09:24:58.933Z"
   },
   {
    "duration": 38,
    "start_time": "2023-05-18T09:25:02.936Z"
   },
   {
    "duration": 35,
    "start_time": "2023-05-18T09:25:07.299Z"
   },
   {
    "duration": 3207,
    "start_time": "2023-05-18T09:25:34.106Z"
   },
   {
    "duration": 3426,
    "start_time": "2023-05-18T09:25:44.932Z"
   },
   {
    "duration": 3445,
    "start_time": "2023-05-18T09:27:36.548Z"
   },
   {
    "duration": 14,
    "start_time": "2023-05-18T09:27:44.492Z"
   },
   {
    "duration": 179,
    "start_time": "2023-05-18T09:27:44.515Z"
   },
   {
    "duration": 49,
    "start_time": "2023-05-18T09:27:44.711Z"
   },
   {
    "duration": 167,
    "start_time": "2023-05-18T09:27:44.763Z"
   },
   {
    "duration": 46,
    "start_time": "2023-05-18T09:27:44.932Z"
   },
   {
    "duration": 22,
    "start_time": "2023-05-18T09:27:44.980Z"
   },
   {
    "duration": 42,
    "start_time": "2023-05-18T09:27:45.004Z"
   },
   {
    "duration": 108,
    "start_time": "2023-05-18T09:27:47.414Z"
   },
   {
    "duration": 16,
    "start_time": "2023-05-18T09:27:53.626Z"
   },
   {
    "duration": 46,
    "start_time": "2023-05-18T09:27:58.556Z"
   },
   {
    "duration": 11,
    "start_time": "2023-05-18T09:28:02.567Z"
   },
   {
    "duration": 7,
    "start_time": "2023-05-18T09:28:11.439Z"
   },
   {
    "duration": 14803,
    "start_time": "2023-05-18T09:28:18.184Z"
   },
   {
    "duration": 19255,
    "start_time": "2023-05-18T09:28:46.192Z"
   },
   {
    "duration": 48,
    "start_time": "2023-05-18T09:29:27.982Z"
   },
   {
    "duration": 11,
    "start_time": "2023-05-18T09:31:06.203Z"
   },
   {
    "duration": 150,
    "start_time": "2023-05-18T09:31:06.216Z"
   },
   {
    "duration": 32,
    "start_time": "2023-05-18T09:31:06.382Z"
   },
   {
    "duration": 106,
    "start_time": "2023-05-18T09:31:06.420Z"
   },
   {
    "duration": 45,
    "start_time": "2023-05-18T09:31:06.533Z"
   },
   {
    "duration": 25,
    "start_time": "2023-05-18T09:31:06.585Z"
   },
   {
    "duration": 26,
    "start_time": "2023-05-18T09:31:06.616Z"
   },
   {
    "duration": 2840,
    "start_time": "2023-05-18T09:31:25.328Z"
   },
   {
    "duration": 54,
    "start_time": "2023-05-18T09:31:36.878Z"
   },
   {
    "duration": 264,
    "start_time": "2023-05-18T09:32:15.183Z"
   },
   {
    "duration": 69,
    "start_time": "2023-05-18T09:32:21.672Z"
   },
   {
    "duration": 11,
    "start_time": "2023-05-18T09:32:50.583Z"
   },
   {
    "duration": 11,
    "start_time": "2023-05-18T09:32:56.130Z"
   },
   {
    "duration": 30,
    "start_time": "2023-05-18T09:33:05.513Z"
   },
   {
    "duration": 24,
    "start_time": "2023-05-18T09:33:10.389Z"
   },
   {
    "duration": 11,
    "start_time": "2023-05-18T09:33:17.871Z"
   },
   {
    "duration": 13260,
    "start_time": "2023-05-18T09:33:22.289Z"
   },
   {
    "duration": 16234,
    "start_time": "2023-05-18T09:33:44.706Z"
   },
   {
    "duration": 7,
    "start_time": "2023-05-18T09:39:30.016Z"
   },
   {
    "duration": 83,
    "start_time": "2023-05-18T09:39:30.029Z"
   },
   {
    "duration": 14,
    "start_time": "2023-05-18T09:39:30.118Z"
   },
   {
    "duration": 97,
    "start_time": "2023-05-18T09:39:30.139Z"
   },
   {
    "duration": 25,
    "start_time": "2023-05-18T09:39:30.242Z"
   },
   {
    "duration": 29,
    "start_time": "2023-05-18T09:39:30.274Z"
   },
   {
    "duration": 28,
    "start_time": "2023-05-18T09:39:34.476Z"
   },
   {
    "duration": 28,
    "start_time": "2023-05-18T09:39:59.187Z"
   },
   {
    "duration": 51,
    "start_time": "2023-05-18T09:40:05.666Z"
   },
   {
    "duration": 15,
    "start_time": "2023-05-18T09:40:11.255Z"
   },
   {
    "duration": 17,
    "start_time": "2023-05-18T09:40:24.454Z"
   },
   {
    "duration": 12,
    "start_time": "2023-05-18T09:40:38.668Z"
   },
   {
    "duration": 5,
    "start_time": "2023-05-18T09:40:50.209Z"
   },
   {
    "duration": 11202,
    "start_time": "2023-05-18T09:40:58.897Z"
   },
   {
    "duration": 23770,
    "start_time": "2023-05-18T09:41:48.778Z"
   },
   {
    "duration": 37,
    "start_time": "2023-05-18T09:42:44.250Z"
   },
   {
    "duration": 40,
    "start_time": "2023-05-18T09:43:09.697Z"
   },
   {
    "duration": 16,
    "start_time": "2023-05-18T09:43:46.148Z"
   },
   {
    "duration": 85753,
    "start_time": "2023-05-18T09:43:59.813Z"
   },
   {
    "duration": 207608,
    "start_time": "2023-05-18T09:55:02.375Z"
   },
   {
    "duration": 127,
    "start_time": "2023-05-18T10:00:16.670Z"
   },
   {
    "duration": 100,
    "start_time": "2023-05-18T10:00:49.471Z"
   },
   {
    "duration": 7,
    "start_time": "2023-05-18T10:03:24.671Z"
   },
   {
    "duration": 90,
    "start_time": "2023-05-18T10:04:30.320Z"
   },
   {
    "duration": 14,
    "start_time": "2023-05-18T10:04:41.571Z"
   },
   {
    "duration": 4,
    "start_time": "2023-05-18T10:10:05.247Z"
   },
   {
    "duration": 25889,
    "start_time": "2023-05-18T10:10:08.978Z"
   },
   {
    "duration": 50522,
    "start_time": "2023-05-18T10:10:45.767Z"
   },
   {
    "duration": 205,
    "start_time": "2023-05-18T10:15:33.563Z"
   },
   {
    "duration": 329,
    "start_time": "2023-05-18T10:16:08.249Z"
   },
   {
    "duration": 12375,
    "start_time": "2023-05-18T10:17:13.011Z"
   },
   {
    "duration": 22710,
    "start_time": "2023-05-18T10:17:48.295Z"
   },
   {
    "duration": 10322,
    "start_time": "2023-05-18T10:18:29.477Z"
   },
   {
    "duration": 275,
    "start_time": "2023-05-18T10:20:40.687Z"
   },
   {
    "duration": 4,
    "start_time": "2023-05-18T10:21:25.693Z"
   },
   {
    "duration": 8961,
    "start_time": "2023-05-18T10:21:43.114Z"
   },
   {
    "duration": 18775,
    "start_time": "2023-05-18T10:21:59.439Z"
   },
   {
    "duration": 62,
    "start_time": "2023-05-18T10:22:33.001Z"
   },
   {
    "duration": 7,
    "start_time": "2023-05-18T10:27:14.696Z"
   },
   {
    "duration": 255243,
    "start_time": "2023-05-18T10:28:11.291Z"
   },
   {
    "duration": 104781,
    "start_time": "2023-05-18T10:32:33.102Z"
   },
   {
    "duration": 9600,
    "start_time": "2023-05-18T10:37:29.993Z"
   },
   {
    "duration": 22664,
    "start_time": "2023-05-18T10:40:03.513Z"
   },
   {
    "duration": 22336,
    "start_time": "2023-05-18T10:41:54.300Z"
   },
   {
    "duration": 22043,
    "start_time": "2023-05-18T10:42:59.517Z"
   },
   {
    "duration": 502,
    "start_time": "2023-05-18T10:45:04.701Z"
   },
   {
    "duration": 522,
    "start_time": "2023-05-18T10:45:18.308Z"
   },
   {
    "duration": 12,
    "start_time": "2023-05-18T10:49:27.101Z"
   },
   {
    "duration": 8,
    "start_time": "2023-05-18T10:49:38.777Z"
   },
   {
    "duration": 107041,
    "start_time": "2023-05-18T10:49:42.768Z"
   },
   {
    "duration": 22,
    "start_time": "2023-05-18T10:57:07.659Z"
   },
   {
    "duration": 13,
    "start_time": "2023-05-18T10:57:23.450Z"
   },
   {
    "duration": 107744,
    "start_time": "2023-05-18T10:57:31.161Z"
   },
   {
    "duration": 28688,
    "start_time": "2023-05-18T11:00:34.797Z"
   },
   {
    "duration": 51,
    "start_time": "2023-05-18T11:05:25.928Z"
   },
   {
    "duration": 132295,
    "start_time": "2023-05-18T11:06:31.887Z"
   },
   {
    "duration": 11586,
    "start_time": "2023-05-18T11:08:44.185Z"
   },
   {
    "duration": 17980,
    "start_time": "2023-05-18T11:09:41.263Z"
   },
   {
    "duration": 127823,
    "start_time": "2023-05-18T11:10:27.369Z"
   },
   {
    "duration": 46,
    "start_time": "2023-05-18T11:17:37.169Z"
   },
   {
    "duration": 39600,
    "start_time": "2023-05-18T11:19:31.208Z"
   },
   {
    "duration": 41978,
    "start_time": "2023-05-18T11:22:07.245Z"
   },
   {
    "duration": 42,
    "start_time": "2023-05-18T11:23:22.293Z"
   },
   {
    "duration": 6,
    "start_time": "2023-05-18T11:23:51.604Z"
   },
   {
    "duration": 89348,
    "start_time": "2023-05-18T11:24:00.877Z"
   },
   {
    "duration": 347798,
    "start_time": "2023-05-18T11:27:10.295Z"
   },
   {
    "duration": 205824,
    "start_time": "2023-05-18T11:33:22.162Z"
   },
   {
    "duration": 122,
    "start_time": "2023-05-18T11:38:19.491Z"
   },
   {
    "duration": 186,
    "start_time": "2023-05-18T11:38:32.863Z"
   },
   {
    "duration": 121,
    "start_time": "2023-05-18T11:39:25.911Z"
   },
   {
    "duration": 121,
    "start_time": "2023-05-18T11:39:41.603Z"
   },
   {
    "duration": 5,
    "start_time": "2023-05-18T11:40:17.812Z"
   },
   {
    "duration": 87,
    "start_time": "2023-05-18T11:40:17.819Z"
   },
   {
    "duration": 8,
    "start_time": "2023-05-18T11:40:17.907Z"
   },
   {
    "duration": 54,
    "start_time": "2023-05-18T11:40:17.917Z"
   },
   {
    "duration": 16,
    "start_time": "2023-05-18T11:40:17.973Z"
   },
   {
    "duration": 8,
    "start_time": "2023-05-18T11:40:17.992Z"
   },
   {
    "duration": 14,
    "start_time": "2023-05-18T11:40:18.002Z"
   },
   {
    "duration": 45,
    "start_time": "2023-05-18T11:40:18.018Z"
   },
   {
    "duration": 40,
    "start_time": "2023-05-18T11:40:18.065Z"
   },
   {
    "duration": 5,
    "start_time": "2023-05-18T11:40:18.107Z"
   },
   {
    "duration": 15,
    "start_time": "2023-05-18T11:40:18.113Z"
   },
   {
    "duration": 23,
    "start_time": "2023-05-18T11:40:18.130Z"
   },
   {
    "duration": 9,
    "start_time": "2023-05-18T11:40:18.160Z"
   },
   {
    "duration": 9946,
    "start_time": "2023-05-18T11:40:18.171Z"
   },
   {
    "duration": 38111,
    "start_time": "2023-05-18T11:40:28.119Z"
   },
   {
    "duration": 67,
    "start_time": "2023-05-18T11:41:06.232Z"
   },
   {
    "duration": 8,
    "start_time": "2023-05-18T11:41:06.316Z"
   },
   {
    "duration": 78211,
    "start_time": "2023-05-18T11:41:06.326Z"
   },
   {
    "duration": 138,
    "start_time": "2023-05-18T11:42:24.539Z"
   },
   {
    "duration": 191,
    "start_time": "2023-05-18T11:43:07.897Z"
   },
   {
    "duration": 438918,
    "start_time": "2023-05-18T11:43:52.489Z"
   },
   {
    "duration": 683675,
    "start_time": "2023-05-18T11:54:14.360Z"
   },
   {
    "duration": 215392,
    "start_time": "2023-05-18T12:07:25.907Z"
   },
   {
    "duration": 0,
    "start_time": "2023-05-18T12:14:25.288Z"
   },
   {
    "duration": 0,
    "start_time": "2023-05-18T12:14:25.291Z"
   },
   {
    "duration": 0,
    "start_time": "2023-05-18T12:14:25.292Z"
   },
   {
    "duration": 0,
    "start_time": "2023-05-18T12:14:25.293Z"
   },
   {
    "duration": 0,
    "start_time": "2023-05-18T12:14:25.295Z"
   },
   {
    "duration": 0,
    "start_time": "2023-05-18T12:14:25.297Z"
   },
   {
    "duration": 0,
    "start_time": "2023-05-18T12:14:25.299Z"
   },
   {
    "duration": 0,
    "start_time": "2023-05-18T12:14:25.300Z"
   },
   {
    "duration": 0,
    "start_time": "2023-05-18T12:14:25.303Z"
   },
   {
    "duration": 0,
    "start_time": "2023-05-18T12:14:25.304Z"
   },
   {
    "duration": 0,
    "start_time": "2023-05-18T12:14:25.307Z"
   },
   {
    "duration": 0,
    "start_time": "2023-05-18T12:14:25.308Z"
   },
   {
    "duration": 0,
    "start_time": "2023-05-18T12:14:25.310Z"
   },
   {
    "duration": 0,
    "start_time": "2023-05-18T12:14:25.311Z"
   },
   {
    "duration": 0,
    "start_time": "2023-05-18T12:14:25.312Z"
   },
   {
    "duration": 0,
    "start_time": "2023-05-18T12:14:25.313Z"
   },
   {
    "duration": 0,
    "start_time": "2023-05-18T12:14:25.316Z"
   },
   {
    "duration": 0,
    "start_time": "2023-05-18T12:14:25.317Z"
   },
   {
    "duration": 0,
    "start_time": "2023-05-18T12:14:25.319Z"
   },
   {
    "duration": 0,
    "start_time": "2023-05-18T12:14:25.321Z"
   },
   {
    "duration": 1,
    "start_time": "2023-05-18T12:14:25.322Z"
   },
   {
    "duration": 0,
    "start_time": "2023-05-18T12:14:25.324Z"
   },
   {
    "duration": 0,
    "start_time": "2023-05-18T12:14:25.325Z"
   },
   {
    "duration": 0,
    "start_time": "2023-05-18T12:14:25.327Z"
   },
   {
    "duration": 0,
    "start_time": "2023-05-18T12:14:25.329Z"
   },
   {
    "duration": 0,
    "start_time": "2023-05-18T12:14:25.331Z"
   },
   {
    "duration": 0,
    "start_time": "2023-05-18T12:14:25.332Z"
   },
   {
    "duration": 0,
    "start_time": "2023-05-18T12:14:25.334Z"
   },
   {
    "duration": 0,
    "start_time": "2023-05-18T12:14:25.336Z"
   },
   {
    "duration": 0,
    "start_time": "2023-05-18T12:14:25.338Z"
   },
   {
    "duration": 0,
    "start_time": "2023-05-18T12:14:25.340Z"
   },
   {
    "duration": 0,
    "start_time": "2023-05-18T12:14:25.342Z"
   },
   {
    "duration": 0,
    "start_time": "2023-05-18T12:14:25.343Z"
   },
   {
    "duration": 0,
    "start_time": "2023-05-18T12:14:25.345Z"
   },
   {
    "duration": 0,
    "start_time": "2023-05-18T12:14:25.346Z"
   },
   {
    "duration": 0,
    "start_time": "2023-05-18T12:14:25.349Z"
   },
   {
    "duration": 0,
    "start_time": "2023-05-18T12:14:25.350Z"
   },
   {
    "duration": 0,
    "start_time": "2023-05-18T12:14:25.355Z"
   },
   {
    "duration": 0,
    "start_time": "2023-05-18T12:14:25.356Z"
   },
   {
    "duration": 0,
    "start_time": "2023-05-18T12:14:25.356Z"
   },
   {
    "duration": 0,
    "start_time": "2023-05-18T12:14:25.357Z"
   },
   {
    "duration": 0,
    "start_time": "2023-05-18T12:14:25.358Z"
   },
   {
    "duration": 0,
    "start_time": "2023-05-18T12:14:25.360Z"
   },
   {
    "duration": 0,
    "start_time": "2023-05-18T12:14:25.361Z"
   },
   {
    "duration": 0,
    "start_time": "2023-05-18T12:14:25.363Z"
   },
   {
    "duration": 0,
    "start_time": "2023-05-18T12:14:25.364Z"
   },
   {
    "duration": 29033,
    "start_time": "2023-05-18T12:18:00.003Z"
   },
   {
    "duration": 10,
    "start_time": "2023-05-18T12:18:34.756Z"
   },
   {
    "duration": 5,
    "start_time": "2023-05-18T12:43:41.620Z"
   },
   {
    "duration": 69,
    "start_time": "2023-05-18T12:43:41.629Z"
   },
   {
    "duration": 8,
    "start_time": "2023-05-18T12:43:41.728Z"
   },
   {
    "duration": 59,
    "start_time": "2023-05-18T12:43:41.739Z"
   },
   {
    "duration": 19,
    "start_time": "2023-05-18T12:43:41.799Z"
   },
   {
    "duration": 6,
    "start_time": "2023-05-18T12:43:41.821Z"
   },
   {
    "duration": 9,
    "start_time": "2023-05-18T12:43:41.884Z"
   },
   {
    "duration": 26,
    "start_time": "2023-05-18T12:43:41.895Z"
   },
   {
    "duration": 39,
    "start_time": "2023-05-18T12:43:41.923Z"
   },
   {
    "duration": 14,
    "start_time": "2023-05-18T12:43:41.966Z"
   },
   {
    "duration": 12,
    "start_time": "2023-05-18T12:43:41.986Z"
   },
   {
    "duration": 8,
    "start_time": "2023-05-18T12:43:42.000Z"
   },
   {
    "duration": 11,
    "start_time": "2023-05-18T12:43:42.009Z"
   },
   {
    "duration": 508360,
    "start_time": "2023-05-18T12:43:42.079Z"
   },
   {
    "duration": 0,
    "start_time": "2023-05-18T12:52:10.443Z"
   },
   {
    "duration": 0,
    "start_time": "2023-05-18T12:52:10.445Z"
   },
   {
    "duration": 0,
    "start_time": "2023-05-18T12:52:10.447Z"
   },
   {
    "duration": 0,
    "start_time": "2023-05-18T12:52:10.448Z"
   },
   {
    "duration": 0,
    "start_time": "2023-05-18T12:52:10.450Z"
   },
   {
    "duration": 0,
    "start_time": "2023-05-18T12:52:10.459Z"
   },
   {
    "duration": 0,
    "start_time": "2023-05-18T12:52:10.463Z"
   },
   {
    "duration": 0,
    "start_time": "2023-05-18T12:52:10.463Z"
   },
   {
    "duration": 0,
    "start_time": "2023-05-18T12:52:10.464Z"
   },
   {
    "duration": 0,
    "start_time": "2023-05-18T12:52:10.465Z"
   },
   {
    "duration": 0,
    "start_time": "2023-05-18T12:52:10.466Z"
   },
   {
    "duration": 0,
    "start_time": "2023-05-18T12:52:10.470Z"
   },
   {
    "duration": 0,
    "start_time": "2023-05-18T12:52:10.471Z"
   },
   {
    "duration": 7,
    "start_time": "2023-05-18T12:55:11.176Z"
   },
   {
    "duration": 193701,
    "start_time": "2023-05-18T12:55:11.189Z"
   },
   {
    "duration": 5,
    "start_time": "2023-05-18T12:58:24.892Z"
   },
   {
    "duration": 48922,
    "start_time": "2023-05-18T12:58:24.901Z"
   },
   {
    "duration": 0,
    "start_time": "2023-05-18T12:59:13.825Z"
   },
   {
    "duration": 0,
    "start_time": "2023-05-18T12:59:13.826Z"
   },
   {
    "duration": 0,
    "start_time": "2023-05-18T12:59:13.828Z"
   },
   {
    "duration": 0,
    "start_time": "2023-05-18T12:59:13.830Z"
   },
   {
    "duration": 0,
    "start_time": "2023-05-18T12:59:13.854Z"
   },
   {
    "duration": 0,
    "start_time": "2023-05-18T12:59:13.855Z"
   },
   {
    "duration": 0,
    "start_time": "2023-05-18T12:59:13.861Z"
   },
   {
    "duration": 0,
    "start_time": "2023-05-18T12:59:13.863Z"
   },
   {
    "duration": 0,
    "start_time": "2023-05-18T12:59:13.865Z"
   },
   {
    "duration": 0,
    "start_time": "2023-05-18T12:59:13.867Z"
   },
   {
    "duration": 0,
    "start_time": "2023-05-18T12:59:13.867Z"
   },
   {
    "duration": 0,
    "start_time": "2023-05-18T12:59:13.868Z"
   },
   {
    "duration": 0,
    "start_time": "2023-05-18T12:59:13.874Z"
   },
   {
    "duration": 0,
    "start_time": "2023-05-18T12:59:13.875Z"
   },
   {
    "duration": 0,
    "start_time": "2023-05-18T12:59:13.876Z"
   },
   {
    "duration": 0,
    "start_time": "2023-05-18T12:59:13.876Z"
   },
   {
    "duration": 36440,
    "start_time": "2023-05-18T13:01:36.776Z"
   },
   {
    "duration": 23329,
    "start_time": "2023-05-18T13:02:21.303Z"
   },
   {
    "duration": 7,
    "start_time": "2023-05-18T13:03:26.279Z"
   },
   {
    "duration": 12,
    "start_time": "2023-05-18T13:03:40.681Z"
   },
   {
    "duration": 217368,
    "start_time": "2023-05-18T13:03:40.763Z"
   },
   {
    "duration": 5,
    "start_time": "2023-05-18T13:07:18.133Z"
   },
   {
    "duration": 84,
    "start_time": "2023-05-18T13:07:18.150Z"
   },
   {
    "duration": 26,
    "start_time": "2023-05-18T13:07:18.238Z"
   },
   {
    "duration": 13,
    "start_time": "2023-05-18T13:07:18.266Z"
   },
   {
    "duration": 336918,
    "start_time": "2023-05-18T13:07:18.281Z"
   },
   {
    "duration": 11,
    "start_time": "2023-05-18T13:12:55.253Z"
   },
   {
    "duration": 18416,
    "start_time": "2023-05-18T13:12:55.268Z"
   },
   {
    "duration": 164,
    "start_time": "2023-05-18T13:13:13.694Z"
   },
   {
    "duration": 16,
    "start_time": "2023-05-18T13:13:13.866Z"
   },
   {
    "duration": 144,
    "start_time": "2023-05-18T13:13:13.953Z"
   },
   {
    "duration": 1,
    "start_time": "2023-05-18T13:13:14.099Z"
   },
   {
    "duration": 0,
    "start_time": "2023-05-18T13:13:14.101Z"
   },
   {
    "duration": 0,
    "start_time": "2023-05-18T13:13:14.103Z"
   },
   {
    "duration": 0,
    "start_time": "2023-05-18T13:13:14.104Z"
   },
   {
    "duration": 0,
    "start_time": "2023-05-18T13:13:14.105Z"
   },
   {
    "duration": 0,
    "start_time": "2023-05-18T13:13:14.107Z"
   },
   {
    "duration": 172,
    "start_time": "2023-05-18T13:14:04.320Z"
   },
   {
    "duration": 796321,
    "start_time": "2023-05-18T13:14:12.904Z"
   },
   {
    "duration": 7,
    "start_time": "2023-05-18T13:35:17.506Z"
   },
   {
    "duration": 203229,
    "start_time": "2023-05-18T13:35:26.301Z"
   },
   {
    "duration": 34698,
    "start_time": "2023-05-18T13:39:02.315Z"
   },
   {
    "duration": 192856,
    "start_time": "2023-05-18T13:39:43.844Z"
   },
   {
    "duration": 0,
    "start_time": "2023-05-18T13:42:56.702Z"
   },
   {
    "duration": 0,
    "start_time": "2023-05-18T13:42:56.704Z"
   },
   {
    "duration": 0,
    "start_time": "2023-05-18T13:42:56.705Z"
   },
   {
    "duration": 0,
    "start_time": "2023-05-18T13:42:56.707Z"
   },
   {
    "duration": 0,
    "start_time": "2023-05-18T13:42:56.709Z"
   },
   {
    "duration": 5,
    "start_time": "2023-05-18T13:44:09.740Z"
   },
   {
    "duration": 491853,
    "start_time": "2023-05-18T13:44:09.747Z"
   },
   {
    "duration": 0,
    "start_time": "2023-05-18T15:03:26.606Z"
   },
   {
    "duration": 0,
    "start_time": "2023-05-18T15:03:26.608Z"
   },
   {
    "duration": 0,
    "start_time": "2023-05-18T15:03:26.609Z"
   },
   {
    "duration": 0,
    "start_time": "2023-05-18T15:03:26.610Z"
   },
   {
    "duration": 0,
    "start_time": "2023-05-18T15:03:26.612Z"
   },
   {
    "duration": 0,
    "start_time": "2023-05-18T15:03:26.613Z"
   },
   {
    "duration": 422187,
    "start_time": "2023-05-18T15:27:31.515Z"
   },
   {
    "duration": 87,
    "start_time": "2023-05-18T15:40:33.814Z"
   },
   {
    "duration": 35233,
    "start_time": "2023-05-18T15:41:01.188Z"
   },
   {
    "duration": 39524,
    "start_time": "2023-05-18T15:42:34.101Z"
   },
   {
    "duration": 25235,
    "start_time": "2023-05-18T15:43:38.591Z"
   },
   {
    "duration": 4740,
    "start_time": "2023-05-18T15:44:32.694Z"
   },
   {
    "duration": 429170,
    "start_time": "2023-05-18T15:44:44.319Z"
   },
   {
    "duration": 4661424,
    "start_time": "2023-05-18T15:54:16.016Z"
   },
   {
    "duration": 122,
    "start_time": "2023-05-18T17:14:45.607Z"
   },
   {
    "duration": 150,
    "start_time": "2023-05-18T17:15:14.149Z"
   },
   {
    "duration": 30,
    "start_time": "2023-05-18T17:15:27.411Z"
   },
   {
    "duration": 47,
    "start_time": "2023-05-18T17:15:39.785Z"
   },
   {
    "duration": 31,
    "start_time": "2023-05-18T17:18:06.712Z"
   },
   {
    "duration": 116,
    "start_time": "2023-05-18T17:18:39.905Z"
   },
   {
    "duration": 61,
    "start_time": "2023-05-18T17:19:50.007Z"
   },
   {
    "duration": 67,
    "start_time": "2023-05-18T17:20:07.048Z"
   },
   {
    "duration": 63,
    "start_time": "2023-05-18T17:20:15.756Z"
   },
   {
    "duration": 71,
    "start_time": "2023-05-18T17:20:19.970Z"
   },
   {
    "duration": 68,
    "start_time": "2023-05-18T17:20:25.967Z"
   },
   {
    "duration": 61,
    "start_time": "2023-05-18T17:20:34.692Z"
   },
   {
    "duration": 56,
    "start_time": "2023-05-18T17:20:39.578Z"
   },
   {
    "duration": 45,
    "start_time": "2023-05-18T17:20:43.903Z"
   },
   {
    "duration": 90,
    "start_time": "2023-05-18T17:20:49.050Z"
   },
   {
    "duration": 59,
    "start_time": "2023-05-18T17:20:56.182Z"
   },
   {
    "duration": 66,
    "start_time": "2023-05-18T17:21:01.621Z"
   },
   {
    "duration": 69,
    "start_time": "2023-05-18T17:21:05.999Z"
   },
   {
    "duration": 87,
    "start_time": "2023-05-18T17:21:10.117Z"
   },
   {
    "duration": 82,
    "start_time": "2023-05-18T17:21:16.057Z"
   },
   {
    "duration": 84,
    "start_time": "2023-05-18T17:21:20.756Z"
   },
   {
    "duration": 76,
    "start_time": "2023-05-18T17:21:25.687Z"
   },
   {
    "duration": 63,
    "start_time": "2023-05-18T17:21:30.170Z"
   },
   {
    "duration": 60,
    "start_time": "2023-05-18T17:21:36.579Z"
   },
   {
    "duration": 367,
    "start_time": "2023-05-18T17:22:48.174Z"
   },
   {
    "duration": 175,
    "start_time": "2023-05-18T17:23:20.209Z"
   },
   {
    "duration": 400,
    "start_time": "2023-05-18T17:30:50.356Z"
   },
   {
    "duration": 378,
    "start_time": "2023-05-18T17:31:49.893Z"
   },
   {
    "duration": 3415897,
    "start_time": "2023-05-18T17:48:01.973Z"
   },
   {
    "duration": 553,
    "start_time": "2023-05-18T18:46:22.529Z"
   },
   {
    "duration": 481,
    "start_time": "2023-05-18T18:47:14.234Z"
   },
   {
    "duration": 384,
    "start_time": "2023-05-18T18:47:38.435Z"
   },
   {
    "duration": 394,
    "start_time": "2023-05-18T18:48:02.533Z"
   },
   {
    "duration": 50,
    "start_time": "2023-05-25T06:01:01.002Z"
   },
   {
    "duration": 84,
    "start_time": "2023-05-25T06:08:10.441Z"
   },
   {
    "duration": 9,
    "start_time": "2023-05-25T06:16:33.782Z"
   },
   {
    "duration": 1833,
    "start_time": "2023-05-25T06:34:56.298Z"
   },
   {
    "duration": 105,
    "start_time": "2023-05-25T06:34:58.133Z"
   },
   {
    "duration": 8,
    "start_time": "2023-05-25T06:34:58.240Z"
   },
   {
    "duration": 60,
    "start_time": "2023-05-25T06:34:58.250Z"
   },
   {
    "duration": 14,
    "start_time": "2023-05-25T06:34:58.312Z"
   },
   {
    "duration": 17,
    "start_time": "2023-05-25T06:34:58.327Z"
   },
   {
    "duration": 0,
    "start_time": "2023-05-25T06:34:58.346Z"
   },
   {
    "duration": 0,
    "start_time": "2023-05-25T06:34:58.348Z"
   },
   {
    "duration": 0,
    "start_time": "2023-05-25T06:34:58.349Z"
   },
   {
    "duration": 0,
    "start_time": "2023-05-25T06:34:58.350Z"
   },
   {
    "duration": 0,
    "start_time": "2023-05-25T06:34:58.374Z"
   },
   {
    "duration": 0,
    "start_time": "2023-05-25T06:34:58.376Z"
   },
   {
    "duration": 0,
    "start_time": "2023-05-25T06:34:58.379Z"
   },
   {
    "duration": 95,
    "start_time": "2023-05-25T06:35:57.955Z"
   },
   {
    "duration": 9,
    "start_time": "2023-05-25T06:36:56.330Z"
   },
   {
    "duration": 14,
    "start_time": "2023-05-25T06:37:17.261Z"
   },
   {
    "duration": 44,
    "start_time": "2023-05-25T06:37:23.455Z"
   },
   {
    "duration": 16,
    "start_time": "2023-05-25T06:37:32.213Z"
   },
   {
    "duration": 5,
    "start_time": "2023-05-25T06:37:44.288Z"
   },
   {
    "duration": 8,
    "start_time": "2023-05-25T06:39:11.882Z"
   },
   {
    "duration": 15,
    "start_time": "2023-05-25T06:39:13.644Z"
   },
   {
    "duration": 28,
    "start_time": "2023-05-25T06:39:43.983Z"
   },
   {
    "duration": 7,
    "start_time": "2023-05-25T06:39:49.485Z"
   },
   {
    "duration": 5,
    "start_time": "2023-05-25T06:40:01.363Z"
   },
   {
    "duration": 27214,
    "start_time": "2023-05-25T06:40:09.153Z"
   },
   {
    "duration": 6,
    "start_time": "2023-05-25T06:56:34.871Z"
   },
   {
    "duration": 200196,
    "start_time": "2023-05-25T06:57:58.171Z"
   },
   {
    "duration": 11,
    "start_time": "2023-05-25T07:10:13.493Z"
   },
   {
    "duration": 74,
    "start_time": "2023-05-25T07:11:52.466Z"
   },
   {
    "duration": 9,
    "start_time": "2023-05-25T07:12:06.265Z"
   },
   {
    "duration": 14,
    "start_time": "2023-05-25T07:12:26.548Z"
   },
   {
    "duration": 11,
    "start_time": "2023-05-25T07:13:18.516Z"
   },
   {
    "duration": 5,
    "start_time": "2023-05-25T07:20:03.821Z"
   },
   {
    "duration": 63,
    "start_time": "2023-05-25T07:20:28.267Z"
   },
   {
    "duration": 9,
    "start_time": "2023-05-25T07:20:34.640Z"
   },
   {
    "duration": 63,
    "start_time": "2023-05-25T07:20:39.547Z"
   },
   {
    "duration": 15,
    "start_time": "2023-05-25T07:20:44.612Z"
   },
   {
    "duration": 8,
    "start_time": "2023-05-25T07:20:54.099Z"
   },
   {
    "duration": 14,
    "start_time": "2023-05-25T07:21:02.072Z"
   },
   {
    "duration": 38,
    "start_time": "2023-05-25T07:21:10.311Z"
   },
   {
    "duration": 6,
    "start_time": "2023-05-25T07:21:23.560Z"
   },
   {
    "duration": 28,
    "start_time": "2023-05-25T07:21:28.771Z"
   },
   {
    "duration": 48,
    "start_time": "2023-05-25T07:21:33.859Z"
   },
   {
    "duration": 7,
    "start_time": "2023-05-25T07:21:45.342Z"
   },
   {
    "duration": 4,
    "start_time": "2023-05-25T07:21:59.565Z"
   },
   {
    "duration": 26639,
    "start_time": "2023-05-25T07:22:04.266Z"
   },
   {
    "duration": 5,
    "start_time": "2023-05-25T07:22:54.546Z"
   },
   {
    "duration": 219494,
    "start_time": "2023-05-25T07:23:02.739Z"
   },
   {
    "duration": 5,
    "start_time": "2023-05-25T07:28:53.652Z"
   },
   {
    "duration": 301377,
    "start_time": "2023-05-25T07:30:42.941Z"
   },
   {
    "duration": 34,
    "start_time": "2023-05-25T08:23:16.796Z"
   },
   {
    "duration": 6,
    "start_time": "2023-05-25T08:28:10.497Z"
   },
   {
    "duration": 11,
    "start_time": "2023-05-25T08:31:55.646Z"
   },
   {
    "duration": 163,
    "start_time": "2023-05-25T08:32:45.252Z"
   },
   {
    "duration": 78,
    "start_time": "2023-05-25T08:33:11.197Z"
   },
   {
    "duration": 14,
    "start_time": "2023-05-25T08:33:37.822Z"
   },
   {
    "duration": 25,
    "start_time": "2023-05-25T08:37:34.166Z"
   },
   {
    "duration": 66,
    "start_time": "2023-05-25T08:37:47.028Z"
   },
   {
    "duration": 6,
    "start_time": "2023-05-25T08:38:00.164Z"
   },
   {
    "duration": 12,
    "start_time": "2023-05-25T08:42:27.826Z"
   },
   {
    "duration": 5,
    "start_time": "2023-05-25T08:44:26.017Z"
   },
   {
    "duration": 61,
    "start_time": "2023-05-25T08:44:29.218Z"
   },
   {
    "duration": 9,
    "start_time": "2023-05-25T08:44:33.805Z"
   },
   {
    "duration": 61,
    "start_time": "2023-05-25T08:44:37.842Z"
   },
   {
    "duration": 14,
    "start_time": "2023-05-25T08:44:42.243Z"
   },
   {
    "duration": 8,
    "start_time": "2023-05-25T08:44:47.833Z"
   },
   {
    "duration": 10,
    "start_time": "2023-05-25T08:45:09.847Z"
   },
   {
    "duration": 67,
    "start_time": "2023-05-25T08:45:17.747Z"
   },
   {
    "duration": 7,
    "start_time": "2023-05-25T08:45:30.314Z"
   },
   {
    "duration": 22,
    "start_time": "2023-05-25T08:46:57.364Z"
   },
   {
    "duration": 24,
    "start_time": "2023-05-25T08:47:01.644Z"
   },
   {
    "duration": 15,
    "start_time": "2023-05-25T08:47:07.798Z"
   },
   {
    "duration": 18,
    "start_time": "2023-05-25T08:47:24.909Z"
   },
   {
    "duration": 44,
    "start_time": "2023-05-25T08:47:57.558Z"
   },
   {
    "duration": 17,
    "start_time": "2023-05-25T08:48:08.149Z"
   },
   {
    "duration": 113,
    "start_time": "2023-05-25T08:48:55.842Z"
   },
   {
    "duration": 3,
    "start_time": "2023-05-25T08:49:23.636Z"
   },
   {
    "duration": 19,
    "start_time": "2023-05-25T08:49:31.706Z"
   },
   {
    "duration": 44166,
    "start_time": "2023-05-25T08:50:13.241Z"
   },
   {
    "duration": 5,
    "start_time": "2023-05-25T08:54:43.765Z"
   },
   {
    "duration": 4,
    "start_time": "2023-05-25T08:56:15.222Z"
   },
   {
    "duration": 4,
    "start_time": "2023-05-25T08:56:22.638Z"
   },
   {
    "duration": 45893,
    "start_time": "2023-05-25T08:56:30.261Z"
   },
   {
    "duration": 5,
    "start_time": "2023-05-25T09:02:09.147Z"
   },
   {
    "duration": 355428,
    "start_time": "2023-05-25T09:03:20.539Z"
   },
   {
    "duration": 4,
    "start_time": "2023-05-25T09:21:01.761Z"
   },
   {
    "duration": 103,
    "start_time": "2023-05-25T09:21:13.507Z"
   },
   {
    "duration": 13,
    "start_time": "2023-05-25T09:21:24.344Z"
   },
   {
    "duration": 4,
    "start_time": "2023-05-25T09:22:30.256Z"
   },
   {
    "duration": 607373,
    "start_time": "2023-05-25T09:22:48.119Z"
   },
   {
    "duration": 7,
    "start_time": "2023-05-25T09:44:46.509Z"
   },
   {
    "duration": 4,
    "start_time": "2023-05-25T09:45:54.443Z"
   },
   {
    "duration": 4,
    "start_time": "2023-05-25T09:49:29.298Z"
   },
   {
    "duration": 32,
    "start_time": "2023-05-25T09:50:47.552Z"
   },
   {
    "duration": 32,
    "start_time": "2023-05-25T09:53:52.972Z"
   },
   {
    "duration": 13,
    "start_time": "2023-05-25T09:55:20.725Z"
   },
   {
    "duration": 23,
    "start_time": "2023-05-25T09:56:30.413Z"
   },
   {
    "duration": 31,
    "start_time": "2023-05-25T09:57:49.315Z"
   },
   {
    "duration": 31,
    "start_time": "2023-05-25T10:00:19.017Z"
   },
   {
    "duration": 33,
    "start_time": "2023-05-25T10:02:14.362Z"
   },
   {
    "duration": 5,
    "start_time": "2023-05-25T10:03:41.534Z"
   },
   {
    "duration": 35,
    "start_time": "2023-05-25T10:03:53.692Z"
   },
   {
    "duration": 13,
    "start_time": "2023-05-25T10:13:03.807Z"
   },
   {
    "duration": 20,
    "start_time": "2023-05-25T10:16:44.508Z"
   },
   {
    "duration": 51711,
    "start_time": "2023-05-25T10:19:51.075Z"
   },
   {
    "duration": 445811,
    "start_time": "2023-05-25T10:27:12.414Z"
   },
   {
    "duration": 8,
    "start_time": "2023-05-25T10:38:27.571Z"
   },
   {
    "duration": 23,
    "start_time": "2023-05-25T10:39:05.300Z"
   },
   {
    "duration": 14,
    "start_time": "2023-05-25T10:39:29.741Z"
   },
   {
    "duration": 13,
    "start_time": "2023-05-25T10:39:40.534Z"
   },
   {
    "duration": 19,
    "start_time": "2023-05-25T10:39:56.390Z"
   },
   {
    "duration": 27336,
    "start_time": "2023-05-25T10:40:41.066Z"
   },
   {
    "duration": 215349,
    "start_time": "2023-05-25T10:45:15.772Z"
   },
   {
    "duration": 16,
    "start_time": "2023-05-25T11:24:44.357Z"
   },
   {
    "duration": 16,
    "start_time": "2023-05-25T11:24:52.390Z"
   },
   {
    "duration": 8399,
    "start_time": "2023-05-25T11:25:36.882Z"
   },
   {
    "duration": 8392,
    "start_time": "2023-05-25T11:26:24.416Z"
   },
   {
    "duration": 8407,
    "start_time": "2023-05-25T11:27:29.101Z"
   },
   {
    "duration": 46,
    "start_time": "2023-05-25T11:37:01.567Z"
   },
   {
    "duration": 408019,
    "start_time": "2023-05-25T11:37:54.265Z"
   },
   {
    "duration": 24592,
    "start_time": "2023-05-25T11:56:06.802Z"
   },
   {
    "duration": 75,
    "start_time": "2023-05-25T11:58:51.493Z"
   },
   {
    "duration": 3856,
    "start_time": "2023-05-25T12:00:02.782Z"
   },
   {
    "duration": 13061,
    "start_time": "2023-05-25T12:02:03.797Z"
   },
   {
    "duration": 13,
    "start_time": "2023-05-25T12:11:16.424Z"
   },
   {
    "duration": 16,
    "start_time": "2023-05-25T12:12:53.041Z"
   },
   {
    "duration": 7,
    "start_time": "2023-05-25T12:13:53.954Z"
   },
   {
    "duration": 16,
    "start_time": "2023-05-25T12:15:11.703Z"
   },
   {
    "duration": 33220,
    "start_time": "2023-05-25T12:18:29.022Z"
   },
   {
    "duration": 113,
    "start_time": "2023-05-25T12:28:40.230Z"
   },
   {
    "duration": 88,
    "start_time": "2023-05-25T12:28:51.352Z"
   },
   {
    "duration": 56,
    "start_time": "2023-05-25T12:29:07.688Z"
   },
   {
    "duration": 181,
    "start_time": "2023-05-25T12:30:41.986Z"
   },
   {
    "duration": 10430,
    "start_time": "2023-05-25T12:31:04.274Z"
   },
   {
    "duration": 13281,
    "start_time": "2023-05-25T12:31:44.695Z"
   },
   {
    "duration": 25139,
    "start_time": "2023-05-25T12:34:45.474Z"
   },
   {
    "duration": 234,
    "start_time": "2023-05-25T12:40:35.873Z"
   },
   {
    "duration": 208,
    "start_time": "2023-05-25T12:41:05.417Z"
   },
   {
    "duration": 213,
    "start_time": "2023-05-25T12:41:34.031Z"
   },
   {
    "duration": 207,
    "start_time": "2023-05-25T12:42:00.968Z"
   },
   {
    "duration": 24935,
    "start_time": "2023-05-25T12:43:08.145Z"
   },
   {
    "duration": 25160,
    "start_time": "2023-05-25T12:44:00.129Z"
   },
   {
    "duration": 305,
    "start_time": "2023-05-25T12:44:39.056Z"
   },
   {
    "duration": 310,
    "start_time": "2023-05-25T12:47:20.036Z"
   },
   {
    "duration": 309,
    "start_time": "2023-05-25T12:47:28.440Z"
   },
   {
    "duration": 440,
    "start_time": "2023-05-25T12:47:51.161Z"
   },
   {
    "duration": 503,
    "start_time": "2023-05-25T12:48:15.971Z"
   },
   {
    "duration": 514,
    "start_time": "2023-05-25T12:49:44.175Z"
   },
   {
    "duration": 5,
    "start_time": "2023-05-25T12:50:49.899Z"
   },
   {
    "duration": 101,
    "start_time": "2023-05-25T12:50:49.917Z"
   },
   {
    "duration": 9,
    "start_time": "2023-05-25T12:50:50.020Z"
   },
   {
    "duration": 107,
    "start_time": "2023-05-25T12:50:50.030Z"
   },
   {
    "duration": 14,
    "start_time": "2023-05-25T12:50:50.139Z"
   },
   {
    "duration": 7,
    "start_time": "2023-05-25T12:50:50.155Z"
   },
   {
    "duration": 15,
    "start_time": "2023-05-25T12:50:50.164Z"
   },
   {
    "duration": 36,
    "start_time": "2023-05-25T12:50:50.181Z"
   },
   {
    "duration": 7,
    "start_time": "2023-05-25T12:50:50.219Z"
   },
   {
    "duration": 16,
    "start_time": "2023-05-25T12:50:50.227Z"
   },
   {
    "duration": 26,
    "start_time": "2023-05-25T12:50:50.272Z"
   },
   {
    "duration": 9,
    "start_time": "2023-05-25T12:50:50.300Z"
   },
   {
    "duration": 14,
    "start_time": "2023-05-25T12:50:50.311Z"
   },
   {
    "duration": 11,
    "start_time": "2023-05-25T12:50:50.327Z"
   },
   {
    "duration": 38218,
    "start_time": "2023-05-25T12:50:50.341Z"
   },
   {
    "duration": 12,
    "start_time": "2023-05-25T12:51:28.561Z"
   },
   {
    "duration": 405306,
    "start_time": "2023-05-25T12:51:28.574Z"
   },
   {
    "duration": 5,
    "start_time": "2023-05-25T12:58:13.882Z"
   },
   {
    "duration": 137,
    "start_time": "2023-05-25T12:58:13.889Z"
   },
   {
    "duration": 12,
    "start_time": "2023-05-25T12:58:14.028Z"
   },
   {
    "duration": 25,
    "start_time": "2023-05-25T12:58:14.043Z"
   },
   {
    "duration": 360012,
    "start_time": "2023-05-25T12:58:14.070Z"
   },
   {
    "duration": 88,
    "start_time": "2023-05-25T13:04:14.084Z"
   },
   {
    "duration": 55,
    "start_time": "2023-05-25T13:04:14.177Z"
   },
   {
    "duration": 1,
    "start_time": "2023-05-25T13:04:14.234Z"
   },
   {
    "duration": 0,
    "start_time": "2023-05-25T13:04:14.235Z"
   },
   {
    "duration": 0,
    "start_time": "2023-05-25T13:04:14.237Z"
   },
   {
    "duration": 0,
    "start_time": "2023-05-25T13:04:14.238Z"
   },
   {
    "duration": 0,
    "start_time": "2023-05-25T13:04:14.239Z"
   },
   {
    "duration": 0,
    "start_time": "2023-05-25T13:04:14.241Z"
   },
   {
    "duration": 0,
    "start_time": "2023-05-25T13:04:14.242Z"
   },
   {
    "duration": 199537,
    "start_time": "2023-05-25T13:04:47.656Z"
   },
   {
    "duration": 16,
    "start_time": "2023-05-25T13:10:09.892Z"
   },
   {
    "duration": 8614,
    "start_time": "2023-05-25T13:10:28.408Z"
   },
   {
    "duration": 8313,
    "start_time": "2023-05-25T13:11:52.662Z"
   },
   {
    "duration": 8289,
    "start_time": "2023-05-25T13:13:55.912Z"
   },
   {
    "duration": 8680,
    "start_time": "2023-05-25T13:15:16.572Z"
   },
   {
    "duration": 8328,
    "start_time": "2023-05-25T13:16:18.541Z"
   },
   {
    "duration": 29024,
    "start_time": "2023-05-25T13:17:49.495Z"
   },
   {
    "duration": 29215,
    "start_time": "2023-05-25T13:18:43.194Z"
   },
   {
    "duration": 28476,
    "start_time": "2023-05-25T13:19:49.430Z"
   },
   {
    "duration": 28761,
    "start_time": "2023-05-25T13:20:22.677Z"
   },
   {
    "duration": 135589,
    "start_time": "2023-05-25T13:22:48.795Z"
   },
   {
    "duration": 136023,
    "start_time": "2023-05-25T13:25:27.818Z"
   },
   {
    "duration": 12647,
    "start_time": "2023-05-25T13:28:11.319Z"
   },
   {
    "duration": 135408,
    "start_time": "2023-05-25T13:28:41.288Z"
   },
   {
    "duration": 13,
    "start_time": "2023-05-25T13:31:12.582Z"
   },
   {
    "duration": 6860,
    "start_time": "2023-05-25T13:31:20.868Z"
   },
   {
    "duration": 67082,
    "start_time": "2023-05-25T13:32:17.338Z"
   },
   {
    "duration": 7010,
    "start_time": "2023-05-25T13:34:16.069Z"
   },
   {
    "duration": 66866,
    "start_time": "2023-05-25T13:35:00.574Z"
   },
   {
    "duration": 5,
    "start_time": "2023-05-25T13:37:24.205Z"
   },
   {
    "duration": 18,
    "start_time": "2023-05-25T13:45:22.416Z"
   },
   {
    "duration": 316,
    "start_time": "2023-05-25T13:45:33.811Z"
   },
   {
    "duration": 18,
    "start_time": "2023-05-25T13:57:44.734Z"
   },
   {
    "duration": 585,
    "start_time": "2023-05-25T13:58:01.431Z"
   },
   {
    "duration": 530,
    "start_time": "2023-05-25T14:00:24.848Z"
   },
   {
    "duration": 7,
    "start_time": "2023-05-25T14:20:03.682Z"
   },
   {
    "duration": 123,
    "start_time": "2023-05-25T14:20:03.698Z"
   },
   {
    "duration": 11,
    "start_time": "2023-05-25T14:20:03.824Z"
   },
   {
    "duration": 102,
    "start_time": "2023-05-25T14:20:03.838Z"
   },
   {
    "duration": 39,
    "start_time": "2023-05-25T14:20:03.944Z"
   },
   {
    "duration": 20,
    "start_time": "2023-05-25T14:20:03.986Z"
   },
   {
    "duration": 61,
    "start_time": "2023-05-25T14:20:04.009Z"
   },
   {
    "duration": 84,
    "start_time": "2023-05-25T14:20:04.073Z"
   },
   {
    "duration": 16,
    "start_time": "2023-05-25T14:20:04.160Z"
   },
   {
    "duration": 27,
    "start_time": "2023-05-25T14:20:04.184Z"
   },
   {
    "duration": 64,
    "start_time": "2023-05-25T14:20:04.216Z"
   },
   {
    "duration": 13,
    "start_time": "2023-05-25T14:20:04.282Z"
   },
   {
    "duration": 10,
    "start_time": "2023-05-25T14:20:04.300Z"
   },
   {
    "duration": 63,
    "start_time": "2023-05-25T14:20:04.313Z"
   },
   {
    "duration": 54896,
    "start_time": "2023-05-25T14:20:04.378Z"
   },
   {
    "duration": 19,
    "start_time": "2023-05-25T14:20:59.280Z"
   },
   {
    "duration": 478472,
    "start_time": "2023-05-25T14:20:59.307Z"
   },
   {
    "duration": 5,
    "start_time": "2023-05-25T14:28:57.781Z"
   },
   {
    "duration": 139,
    "start_time": "2023-05-25T14:28:57.788Z"
   },
   {
    "duration": 13,
    "start_time": "2023-05-25T14:28:57.930Z"
   },
   {
    "duration": 60,
    "start_time": "2023-05-25T14:28:57.946Z"
   },
   {
    "duration": 194297,
    "start_time": "2023-05-25T14:28:58.008Z"
   },
   {
    "duration": 73,
    "start_time": "2023-05-25T14:32:12.320Z"
   },
   {
    "duration": 24,
    "start_time": "2023-05-25T14:32:12.412Z"
   },
   {
    "duration": 14123,
    "start_time": "2023-05-25T14:32:12.438Z"
   },
   {
    "duration": 136700,
    "start_time": "2023-05-25T14:32:26.564Z"
   },
   {
    "duration": 25,
    "start_time": "2023-05-25T14:34:43.266Z"
   },
   {
    "duration": 7047,
    "start_time": "2023-05-25T14:34:43.294Z"
   },
   {
    "duration": 70719,
    "start_time": "2023-05-25T14:34:50.343Z"
   },
   {
    "duration": 9,
    "start_time": "2023-05-25T14:36:01.065Z"
   },
   {
    "duration": 91,
    "start_time": "2023-05-25T14:36:01.083Z"
   },
   {
    "duration": 800,
    "start_time": "2023-05-25T14:36:01.176Z"
   },
   {
    "duration": 1507,
    "start_time": "2023-05-26T11:19:35.199Z"
   },
   {
    "duration": 89,
    "start_time": "2023-05-26T11:19:44.043Z"
   },
   {
    "duration": 7,
    "start_time": "2023-05-26T11:19:57.035Z"
   },
   {
    "duration": 37,
    "start_time": "2023-05-26T11:20:08.816Z"
   },
   {
    "duration": 16,
    "start_time": "2023-05-26T11:20:16.989Z"
   },
   {
    "duration": 7,
    "start_time": "2023-05-26T11:20:26.584Z"
   },
   {
    "duration": 7,
    "start_time": "2023-05-26T11:20:39.474Z"
   },
   {
    "duration": 30,
    "start_time": "2023-05-26T11:21:17.276Z"
   },
   {
    "duration": 834,
    "start_time": "2023-05-26T11:21:34.929Z"
   },
   {
    "duration": 696,
    "start_time": "2023-05-26T11:22:12.742Z"
   },
   {
    "duration": 752,
    "start_time": "2023-05-26T11:22:18.922Z"
   },
   {
    "duration": 4,
    "start_time": "2023-05-26T11:22:49.414Z"
   },
   {
    "duration": 60,
    "start_time": "2023-05-26T11:22:49.421Z"
   },
   {
    "duration": 5,
    "start_time": "2023-05-26T11:22:49.483Z"
   },
   {
    "duration": 59,
    "start_time": "2023-05-26T11:22:49.490Z"
   },
   {
    "duration": 10,
    "start_time": "2023-05-26T11:22:49.552Z"
   },
   {
    "duration": 5,
    "start_time": "2023-05-26T11:22:49.563Z"
   },
   {
    "duration": 31,
    "start_time": "2023-05-26T11:22:49.569Z"
   },
   {
    "duration": 21,
    "start_time": "2023-05-26T11:22:58.842Z"
   },
   {
    "duration": 5,
    "start_time": "2023-05-26T11:23:31.298Z"
   },
   {
    "duration": 13,
    "start_time": "2023-05-26T11:23:37.565Z"
   },
   {
    "duration": 20,
    "start_time": "2023-05-26T11:25:00.700Z"
   },
   {
    "duration": 5,
    "start_time": "2023-05-26T11:28:10.694Z"
   },
   {
    "duration": 3,
    "start_time": "2023-05-26T11:28:51.800Z"
   },
   {
    "duration": 4,
    "start_time": "2023-05-26T11:29:58.520Z"
   },
   {
    "duration": 32064,
    "start_time": "2023-05-26T11:30:17.717Z"
   },
   {
    "duration": 4,
    "start_time": "2023-05-26T11:43:23.597Z"
   },
   {
    "duration": 317525,
    "start_time": "2023-05-26T11:43:36.419Z"
   },
   {
    "duration": 4,
    "start_time": "2023-05-26T12:18:02.781Z"
   },
   {
    "duration": 63,
    "start_time": "2023-05-26T12:18:21.330Z"
   },
   {
    "duration": 8,
    "start_time": "2023-05-26T12:18:26.610Z"
   },
   {
    "duration": 4,
    "start_time": "2023-05-26T12:18:56.087Z"
   },
   {
    "duration": 54247,
    "start_time": "2023-05-26T12:19:11.070Z"
   },
   {
    "duration": 5,
    "start_time": "2023-05-26T12:22:21.171Z"
   },
   {
    "duration": 9,
    "start_time": "2023-05-26T12:22:29.971Z"
   },
   {
    "duration": 10375,
    "start_time": "2023-05-26T12:22:49.783Z"
   },
   {
    "duration": 104204,
    "start_time": "2023-05-26T12:23:23.153Z"
   },
   {
    "duration": 10,
    "start_time": "2023-05-26T12:25:30.771Z"
   },
   {
    "duration": 5064,
    "start_time": "2023-05-26T12:25:38.369Z"
   },
   {
    "duration": 50884,
    "start_time": "2023-05-26T12:26:11.270Z"
   },
   {
    "duration": 4,
    "start_time": "2023-05-26T12:30:46.542Z"
   },
   {
    "duration": 14,
    "start_time": "2023-05-26T12:31:23.728Z"
   },
   {
    "duration": 484,
    "start_time": "2023-05-26T12:31:46.095Z"
   },
   {
    "duration": 21,
    "start_time": "2023-05-26T12:36:18.838Z"
   },
   {
    "duration": 25,
    "start_time": "2023-05-26T12:36:59.099Z"
   },
   {
    "duration": 10,
    "start_time": "2023-05-26T12:37:34.506Z"
   },
   {
    "duration": 471,
    "start_time": "2023-05-26T12:37:40.837Z"
   },
   {
    "duration": 4,
    "start_time": "2023-05-26T12:38:33.092Z"
   },
   {
    "duration": 51,
    "start_time": "2023-05-26T12:38:33.101Z"
   },
   {
    "duration": 6,
    "start_time": "2023-05-26T12:38:33.154Z"
   },
   {
    "duration": 47,
    "start_time": "2023-05-26T12:38:33.161Z"
   },
   {
    "duration": 10,
    "start_time": "2023-05-26T12:38:33.209Z"
   },
   {
    "duration": 7,
    "start_time": "2023-05-26T12:38:33.220Z"
   },
   {
    "duration": 8,
    "start_time": "2023-05-26T12:38:33.228Z"
   },
   {
    "duration": 32,
    "start_time": "2023-05-26T12:38:33.237Z"
   },
   {
    "duration": 4,
    "start_time": "2023-05-26T12:38:33.864Z"
   },
   {
    "duration": 13,
    "start_time": "2023-05-26T12:38:33.886Z"
   },
   {
    "duration": 32,
    "start_time": "2023-05-26T12:38:33.900Z"
   },
   {
    "duration": 5,
    "start_time": "2023-05-26T12:38:33.936Z"
   },
   {
    "duration": 27,
    "start_time": "2023-05-26T12:38:33.945Z"
   },
   {
    "duration": 16,
    "start_time": "2023-05-26T12:38:33.974Z"
   },
   {
    "duration": 33166,
    "start_time": "2023-05-26T12:38:33.992Z"
   },
   {
    "duration": 4,
    "start_time": "2023-05-26T12:39:07.159Z"
   },
   {
    "duration": 324603,
    "start_time": "2023-05-26T12:39:07.164Z"
   },
   {
    "duration": 4,
    "start_time": "2023-05-26T12:44:31.768Z"
   },
   {
    "duration": 90,
    "start_time": "2023-05-26T12:44:31.774Z"
   },
   {
    "duration": 8,
    "start_time": "2023-05-26T12:44:31.865Z"
   },
   {
    "duration": 25,
    "start_time": "2023-05-26T12:44:31.874Z"
   },
   {
    "duration": 55415,
    "start_time": "2023-05-26T12:44:31.901Z"
   },
   {
    "duration": 7,
    "start_time": "2023-05-26T12:45:27.317Z"
   },
   {
    "duration": 113,
    "start_time": "2023-05-26T12:45:27.325Z"
   },
   {
    "duration": 10619,
    "start_time": "2023-05-26T12:45:27.440Z"
   },
   {
    "duration": 102681,
    "start_time": "2023-05-26T12:45:38.061Z"
   },
   {
    "duration": 8,
    "start_time": "2023-05-26T12:47:20.744Z"
   },
   {
    "duration": 5769,
    "start_time": "2023-05-26T12:47:20.753Z"
   },
   {
    "duration": 50203,
    "start_time": "2023-05-26T12:47:26.524Z"
   },
   {
    "duration": 4,
    "start_time": "2023-05-26T12:48:16.728Z"
   },
   {
    "duration": 42,
    "start_time": "2023-05-26T12:48:16.734Z"
   },
   {
    "duration": 506,
    "start_time": "2023-05-26T12:48:16.778Z"
   },
   {
    "duration": 123,
    "start_time": "2023-06-01T10:12:06.031Z"
   },
   {
    "duration": 1627,
    "start_time": "2023-06-01T10:13:19.836Z"
   },
   {
    "duration": 4,
    "start_time": "2023-06-01T10:14:36.286Z"
   },
   {
    "duration": 88,
    "start_time": "2023-06-01T10:14:45.457Z"
   },
   {
    "duration": 6,
    "start_time": "2023-06-01T10:14:50.879Z"
   },
   {
    "duration": 44,
    "start_time": "2023-06-01T10:14:55.396Z"
   },
   {
    "duration": 11,
    "start_time": "2023-06-01T10:15:04.563Z"
   },
   {
    "duration": 84,
    "start_time": "2023-06-01T10:15:16.597Z"
   },
   {
    "duration": 3,
    "start_time": "2023-06-01T10:15:30.348Z"
   },
   {
    "duration": 2,
    "start_time": "2023-06-01T10:15:57.690Z"
   },
   {
    "duration": 4,
    "start_time": "2023-06-01T10:16:08.247Z"
   },
   {
    "duration": 13,
    "start_time": "2023-06-01T10:16:12.739Z"
   },
   {
    "duration": 56,
    "start_time": "2023-06-01T10:16:22.209Z"
   },
   {
    "duration": 114,
    "start_time": "2023-06-01T10:16:50.302Z"
   },
   {
    "duration": 21,
    "start_time": "2023-06-01T10:18:26.203Z"
   },
   {
    "duration": 15,
    "start_time": "2023-06-01T10:20:49.410Z"
   },
   {
    "duration": 14,
    "start_time": "2023-06-01T10:21:18.358Z"
   },
   {
    "duration": 4,
    "start_time": "2023-06-01T10:21:25.421Z"
   },
   {
    "duration": 11,
    "start_time": "2023-06-01T10:21:28.917Z"
   },
   {
    "duration": 19,
    "start_time": "2023-06-01T10:21:31.576Z"
   },
   {
    "duration": 28,
    "start_time": "2023-06-01T10:21:39.309Z"
   },
   {
    "duration": 7,
    "start_time": "2023-06-01T10:21:51.683Z"
   },
   {
    "duration": 3,
    "start_time": "2023-06-01T10:22:11.182Z"
   },
   {
    "duration": 3,
    "start_time": "2023-06-01T10:22:16.678Z"
   },
   {
    "duration": 26692,
    "start_time": "2023-06-01T10:22:40.958Z"
   },
   {
    "duration": 4,
    "start_time": "2023-06-01T10:27:31.800Z"
   },
   {
    "duration": 12,
    "start_time": "2023-06-01T10:27:37.592Z"
   },
   {
    "duration": 26,
    "start_time": "2023-06-01T10:27:44.013Z"
   },
   {
    "duration": 30,
    "start_time": "2023-06-01T10:27:48.076Z"
   },
   {
    "duration": 5,
    "start_time": "2023-06-01T10:27:52.352Z"
   },
   {
    "duration": 2,
    "start_time": "2023-06-01T10:28:09.948Z"
   },
   {
    "duration": 5,
    "start_time": "2023-06-01T10:28:13.700Z"
   },
   {
    "duration": 26855,
    "start_time": "2023-06-01T10:28:17.713Z"
   },
   {
    "duration": 31620,
    "start_time": "2023-06-01T10:29:46.836Z"
   },
   {
    "duration": 4,
    "start_time": "2023-06-01T10:31:37.735Z"
   },
   {
    "duration": 383542,
    "start_time": "2023-06-01T10:32:20.980Z"
   },
   {
    "duration": 0,
    "start_time": "2023-06-01T10:38:44.524Z"
   },
   {
    "duration": 4,
    "start_time": "2023-06-01T10:38:54.983Z"
   },
   {
    "duration": 11,
    "start_time": "2023-06-01T10:38:59.325Z"
   },
   {
    "duration": 37,
    "start_time": "2023-06-01T10:39:04.554Z"
   },
   {
    "duration": 30,
    "start_time": "2023-06-01T10:39:10.651Z"
   },
   {
    "duration": 7,
    "start_time": "2023-06-01T10:39:15.395Z"
   },
   {
    "duration": 3,
    "start_time": "2023-06-01T10:39:39.231Z"
   },
   {
    "duration": 3,
    "start_time": "2023-06-01T10:39:42.255Z"
   },
   {
    "duration": 36782,
    "start_time": "2023-06-01T10:39:47.094Z"
   },
   {
    "duration": 4,
    "start_time": "2023-06-01T10:41:32.831Z"
   },
   {
    "duration": 413427,
    "start_time": "2023-06-01T10:41:39.114Z"
   },
   {
    "duration": 4,
    "start_time": "2023-06-01T10:51:36.603Z"
   },
   {
    "duration": 63,
    "start_time": "2023-06-01T10:51:43.288Z"
   },
   {
    "duration": 8,
    "start_time": "2023-06-01T10:51:51.013Z"
   },
   {
    "duration": 4,
    "start_time": "2023-06-01T10:52:00.722Z"
   },
   {
    "duration": 15525,
    "start_time": "2023-06-01T10:52:11.930Z"
   },
   {
    "duration": 76558,
    "start_time": "2023-06-01T10:52:42.364Z"
   },
   {
    "duration": 4,
    "start_time": "2023-06-01T10:55:06.027Z"
   },
   {
    "duration": 10,
    "start_time": "2023-06-01T10:55:24.791Z"
   },
   {
    "duration": 13597,
    "start_time": "2023-06-01T10:55:42.619Z"
   },
   {
    "duration": 66682,
    "start_time": "2023-06-01T10:56:24.082Z"
   },
   {
    "duration": 13718,
    "start_time": "2023-06-01T10:57:39.274Z"
   },
   {
    "duration": 142621,
    "start_time": "2023-06-01T10:58:13.411Z"
   },
   {
    "duration": 9,
    "start_time": "2023-06-01T11:01:03.831Z"
   },
   {
    "duration": 5643,
    "start_time": "2023-06-01T11:01:09.435Z"
   },
   {
    "duration": 56985,
    "start_time": "2023-06-01T11:01:25.653Z"
   },
   {
    "duration": 5,
    "start_time": "2023-06-01T11:02:47.852Z"
   },
   {
    "duration": 15,
    "start_time": "2023-06-01T11:03:05.472Z"
   },
   {
    "duration": 482,
    "start_time": "2023-06-01T11:03:17.513Z"
   }
  ],
  "kernelspec": {
   "display_name": "Python 3 (ipykernel)",
   "language": "python",
   "name": "python3"
  },
  "language_info": {
   "codemirror_mode": {
    "name": "ipython",
    "version": 3
   },
   "file_extension": ".py",
   "mimetype": "text/x-python",
   "name": "python",
   "nbconvert_exporter": "python",
   "pygments_lexer": "ipython3",
   "version": "3.10.9"
  },
  "toc": {
   "base_numbering": 1,
   "nav_menu": {},
   "number_sections": true,
   "sideBar": true,
   "skip_h1_title": true,
   "title_cell": "Содержание",
   "title_sidebar": "Contents",
   "toc_cell": true,
   "toc_position": {
    "height": "calc(100% - 180px)",
    "left": "10px",
    "top": "150px",
    "width": "165px"
   },
   "toc_section_display": true,
   "toc_window_display": true
  }
 },
 "nbformat": 4,
 "nbformat_minor": 2
}
